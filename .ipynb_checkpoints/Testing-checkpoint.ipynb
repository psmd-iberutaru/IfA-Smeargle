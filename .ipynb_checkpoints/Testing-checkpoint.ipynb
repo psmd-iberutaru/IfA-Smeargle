{
 "cells": [
  {
   "cell_type": "code",
   "execution_count": 1,
   "metadata": {},
   "outputs": [],
   "source": [
    "import astropy as ap\n",
    "import astropy.io.fits as ap_fits\n",
    "import astropy.modeling as ap_mod\n",
    "import copy\n",
    "import glob\n",
    "import inspect\n",
    "import matplotlib as mpl\n",
    "import matplotlib.pyplot as plt\n",
    "import numpy as np\n",
    "import numpy.ma as np_ma\n",
    "import pandas as pd\n",
    "import scipy as sp\n",
    "import scipy.optimize as sp_opt\n",
    "import scipy.stats as sp_stat\n",
    "import warnings as warn\n",
    "\n",
    "import IfA_Smeargle as ifas"
   ]
  },
  {
   "cell_type": "code",
   "execution_count": 2,
   "metadata": {
    "scrolled": true
   },
   "outputs": [
    {
     "name": "stdout",
     "output_type": "stream",
     "text": [
      "\n",
      "< Configuration Class --- SmeargleConfig > \n",
      "╓ SmeargleConfig Parameters:\n",
      "╟  BravoConfig ↴ \n",
      "< Configuration Class --- BravoConfig > \n",
      "╓ BravoConfig Parameters:\n",
      "╟  detector_name ⇀ {'name': 'SAPHIRA-MK20-M12145-12_20191106_T60K'}\n",
      "╟  voltpat_rename_config ⇀ {'voltage_pattern': [2.5, 4.5, 6.5, 8.5, 9.5, 10.5, 11.5, 11.5, 10.5, 9.5, 8.5, 6.5, 4.5, 2.5], 'begin_garbage': 1, 'archive_data': False}\n",
      "╟  avg_endpts_persec_config ⇀ {'start_chunk': None, 'end_chunk': None, 'frame_exposure_time': None}\n",
      "╟  avg_endpts_perksec_config ⇀ {'start_chunk': None, 'end_chunk': None, 'frame_exposure_time': None}\n",
      "╙------------------------------------------\n",
      "</ Configuration Class --- BravoConfig >\n",
      "╟  EchoConfig ↴ \n",
      "< Configuration Class --- EchoConfig > \n",
      "╓ EchoConfig Parameters:\n",
      "╟  echo010_config ⇀ {'run': False}\n",
      "╟  echo120_config ⇀ {'run': False, 'x_range': None, 'y_range': None}\n",
      "╟  echo170_config ⇀ {'run': True, 'sigma_multiple': 5, 'bin_size': 5}\n",
      "╟  echo270_config ⇀ {'run': False, 'minimum_value': None}\n",
      "╟  echo271_config ⇀ {'run': False, 'maximum_value': None}\n",
      "╟  echo275_config ⇀ {'run': False, 'top_count': None, 'bottom_count': None}\n",
      "╟  echo276_config ⇀ {'run': False, 'kept_range': None}\n",
      "╟  echo277_config ⇀ {'run': False, 'sigma_limits': None}\n",
      "╟  echo380_config ⇀ {'run': False, 'pixel_list': None}\n",
      "╟  echo381_config ⇀ {'run': False, 'x_ranges': None, 'y_ranges': None}\n",
      "╟  echo382_config ⇀ {'run': False, 'column_list': None}\n",
      "╟  echo383_config ⇀ {'run': False, 'row_list': None}\n",
      "╟  echo398_config ⇀ {'run': False}\n",
      "╟  echo399_config ⇀ {'run': False}\n",
      "╙------------------------------------------\n",
      "</ Configuration Class --- EchoConfig >\n",
      "╟  OscarConfig ↴ \n",
      "< Configuration Class --- OscarConfig > \n",
      "╓ OscarConfig Parameters:\n",
      "╟  general_heatmap_config ⇀ {'plot': True, 'data_array': None, 'heatmap_plot_parameters': {}, 'colorbar_plot_paramters': {}}\n",
      "╟  general_histogram_config ⇀ {'plot': True, 'data_array': None, 'bin_width': 5, 'histogram_plot_paramters': {}}\n",
      "╙------------------------------------------\n",
      "</ Configuration Class --- OscarConfig >\n",
      "╟  YankeeConfig ↴ \n",
      "< Configuration Class --- YankeeConfig > \n",
      "╓ YankeeConfig Parameters:\n",
      "╙------------------------------------------\n",
      "</ Configuration Class --- YankeeConfig >\n",
      "╟  ZuluConfig ↴ \n",
      "< Configuration Class --- ZuluConfig > \n",
      "╓ ZuluConfig Parameters:\n",
      "╟  SA201907281826 ⇀ {'early_frame': 3, 'ref_frame': array([17, 32]), 'sub_avg_frames': array([[ 257,  272],\n",
      "       [ 513,  528],\n",
      "       [1025, 1040]]), 'frame_exposure': 5, 'early_sigma': 5}\n",
      "╙------------------------------------------\n",
      "</ Configuration Class --- ZuluConfig >\n",
      "╟  BaseConfig ↴ \n",
      "< Configuration Class --- BaseConfig > \n",
      "╓ BaseConfig Parameters:\n",
      "╙------------------------------------------\n",
      "</ Configuration Class --- BaseConfig >\n",
      "╙------------------------------------------\n",
      "</ Configuration Class --- SmeargleConfig >\n"
     ]
    }
   ],
   "source": [
    "first_run = ifas.yankee.SmeargleConfig('FirstRun.ifaspkl')\n",
    "\n",
    "first_run.BravoConfig.voltpat_rename_config['archive_data'] = False\n",
    "first_run.BravoConfig.detector_name = {'name': 'SAPHIRA-MK20-M12145-12_20191106_T60K'}\n",
    "\n",
    "print(first_run)"
   ]
  },
  {
   "cell_type": "code",
   "execution_count": 3,
   "metadata": {
    "scrolled": false
   },
   "outputs": [
    {
     "name": "stdout",
     "output_type": "stream",
     "text": [
      "0.0 53458.0 10\n"
     ]
    },
    {
     "name": "stderr",
     "output_type": "stream",
     "text": [
      "C:\\Users\\Tripp\\Desktop\\PROGRAM\\IfA_Smeargle\\meta\\fits_and_arrays.py:90: DataWarning: This a 3D data frame with nan/null values. Frames with nan/null values have been completely nulled. \n",
      "File name: ./Data\\SAPHIRA-MK20-M12145-12_20191106_T60K__num;10__detBias;10.5Vdown.fits    Null frames: [59].\n",
      "  .format(f_name=file_name, fr_list=nan_frames)))\n",
      "C:\\Users\\Tripp\\Desktop\\PROGRAM\\IfA_Smeargle\\meta\\fits_and_arrays.py:90: DataWarning: This a 3D data frame with nan/null values. Frames with nan/null values have been completely nulled. \n",
      "File name: ./Data\\SAPHIRA-MK20-M12145-12_20191106_T60K__num;10__detBias;10.5Vdown.fits    Null frames: [59].\n",
      "  .format(f_name=file_name, fr_list=nan_frames)))\n",
      "C:\\Users\\Tripp\\Desktop\\PROGRAM\\IfA_Smeargle\\meta\\fits_and_arrays.py:90: DataWarning: This a 3D data frame with nan/null values. Frames with nan/null values have been completely nulled. \n",
      "File name: ./Data\\SAPHIRA-MK20-M12145-12_20191106_T60K__num;10__detBias;10.5Vdown.fits    Null frames: [59].\n",
      "  .format(f_name=file_name, fr_list=nan_frames)))\n"
     ]
    },
    {
     "name": "stdout",
     "output_type": "stream",
     "text": [
      "0.0 53556.0 10\n"
     ]
    },
    {
     "name": "stderr",
     "output_type": "stream",
     "text": [
      "C:\\Users\\Tripp\\Desktop\\PROGRAM\\IfA_Smeargle\\meta\\fits_and_arrays.py:90: DataWarning: This a 3D data frame with nan/null values. Frames with nan/null values have been completely nulled. \n",
      "File name: ./Data\\SAPHIRA-MK20-M12145-12_20191106_T60K__num;11__detBias;9.5Vdown.fits    Null frames: [157 205].\n",
      "  .format(f_name=file_name, fr_list=nan_frames)))\n",
      "C:\\Users\\Tripp\\Desktop\\PROGRAM\\IfA_Smeargle\\meta\\fits_and_arrays.py:90: DataWarning: This a 3D data frame with nan/null values. Frames with nan/null values have been completely nulled. \n",
      "File name: ./Data\\SAPHIRA-MK20-M12145-12_20191106_T60K__num;11__detBias;9.5Vdown.fits    Null frames: [157 205].\n",
      "  .format(f_name=file_name, fr_list=nan_frames)))\n",
      "C:\\Users\\Tripp\\Desktop\\PROGRAM\\IfA_Smeargle\\meta\\fits_and_arrays.py:90: DataWarning: This a 3D data frame with nan/null values. Frames with nan/null values have been completely nulled. \n",
      "File name: ./Data\\SAPHIRA-MK20-M12145-12_20191106_T60K__num;11__detBias;9.5Vdown.fits    Null frames: [157 205].\n",
      "  .format(f_name=file_name, fr_list=nan_frames)))\n"
     ]
    },
    {
     "name": "stdout",
     "output_type": "stream",
     "text": [
      "0.0 54350.0 10\n",
      "0.0 53990.0 10\n",
      "8192.0 54118.0 10\n",
      "21824.0 54209.0 10\n",
      "22912.0 54915.0 10\n",
      "8192.0 54064.0 10\n",
      "0.0 54013.0 10\n",
      "0.0 54454.0 10\n",
      "23008.0 55225.0 10\n",
      "0.0 54313.0 10\n",
      "0.0 54102.0 10\n",
      "0.0 53959.0 10\n",
      "0.0 53251.0 10\n",
      "0.0 53410.0 10\n",
      "0.0 54218.0 10\n",
      "0.0 54383.0 10\n",
      "0.0 54633.0 10\n",
      "0.0 54776.0 10\n",
      "0.0 54217.0 10\n",
      "23040.0 54888.0 10\n"
     ]
    },
    {
     "name": "stderr",
     "output_type": "stream",
     "text": [
      "C:\\Users\\Tripp\\Desktop\\PROGRAM\\IfA_Smeargle\\meta\\fits_and_arrays.py:90: DataWarning: This a 3D data frame with nan/null values. Frames with nan/null values have been completely nulled. \n",
      "File name: ./Data\\SAPHIRA-MK20-M12145-12_20191106_T60K__num;2__detBias;2.5Vup.fits    Null frames: [1083 1149 1306].\n",
      "  .format(f_name=file_name, fr_list=nan_frames)))\n",
      "C:\\Users\\Tripp\\Desktop\\PROGRAM\\IfA_Smeargle\\meta\\fits_and_arrays.py:90: DataWarning: This a 3D data frame with nan/null values. Frames with nan/null values have been completely nulled. \n",
      "File name: ./Data\\SAPHIRA-MK20-M12145-12_20191106_T60K__num;2__detBias;2.5Vup.fits    Null frames: [1083 1149 1306].\n",
      "  .format(f_name=file_name, fr_list=nan_frames)))\n",
      "C:\\Users\\Tripp\\Desktop\\PROGRAM\\IfA_Smeargle\\meta\\fits_and_arrays.py:90: DataWarning: This a 3D data frame with nan/null values. Frames with nan/null values have been completely nulled. \n",
      "File name: ./Data\\SAPHIRA-MK20-M12145-12_20191106_T60K__num;2__detBias;2.5Vup.fits    Null frames: [1083 1149 1306].\n",
      "  .format(f_name=file_name, fr_list=nan_frames)))\n"
     ]
    },
    {
     "name": "stdout",
     "output_type": "stream",
     "text": [
      "4096.0 54117.0 10\n",
      "0.0 54661.0 10\n"
     ]
    },
    {
     "name": "stderr",
     "output_type": "stream",
     "text": [
      "C:\\Users\\Tripp\\Desktop\\PROGRAM\\IfA_Smeargle\\meta\\fits_and_arrays.py:90: DataWarning: This a 3D data frame with nan/null values. Frames with nan/null values have been completely nulled. \n",
      "File name: ./Data\\SAPHIRA-MK20-M12145-12_20191106_T60K__num;4__detBias;6.5Vup.fits    Null frames: [22 56].\n",
      "  .format(f_name=file_name, fr_list=nan_frames)))\n",
      "C:\\Users\\Tripp\\Desktop\\PROGRAM\\IfA_Smeargle\\meta\\fits_and_arrays.py:90: DataWarning: This a 3D data frame with nan/null values. Frames with nan/null values have been completely nulled. \n",
      "File name: ./Data\\SAPHIRA-MK20-M12145-12_20191106_T60K__num;4__detBias;6.5Vup.fits    Null frames: [22 56].\n",
      "  .format(f_name=file_name, fr_list=nan_frames)))\n",
      "C:\\Users\\Tripp\\Desktop\\PROGRAM\\IfA_Smeargle\\meta\\fits_and_arrays.py:90: DataWarning: This a 3D data frame with nan/null values. Frames with nan/null values have been completely nulled. \n",
      "File name: ./Data\\SAPHIRA-MK20-M12145-12_20191106_T60K__num;4__detBias;6.5Vup.fits    Null frames: [22 56].\n",
      "  .format(f_name=file_name, fr_list=nan_frames)))\n"
     ]
    },
    {
     "name": "stdout",
     "output_type": "stream",
     "text": [
      "0.0 54374.0 10\n",
      "0.0 54256.0 10\n",
      "0.0 54154.0 10\n"
     ]
    },
    {
     "name": "stderr",
     "output_type": "stream",
     "text": [
      "C:\\Users\\Tripp\\Desktop\\PROGRAM\\IfA_Smeargle\\meta\\fits_and_arrays.py:90: DataWarning: This a 3D data frame with nan/null values. Frames with nan/null values have been completely nulled. \n",
      "File name: ./Data\\SAPHIRA-MK20-M12145-12_20191106_T60K__num;7__detBias;10.5Vup.fits    Null frames: [52].\n",
      "  .format(f_name=file_name, fr_list=nan_frames)))\n",
      "C:\\Users\\Tripp\\Desktop\\PROGRAM\\IfA_Smeargle\\meta\\fits_and_arrays.py:90: DataWarning: This a 3D data frame with nan/null values. Frames with nan/null values have been completely nulled. \n",
      "File name: ./Data\\SAPHIRA-MK20-M12145-12_20191106_T60K__num;7__detBias;10.5Vup.fits    Null frames: [52].\n",
      "  .format(f_name=file_name, fr_list=nan_frames)))\n",
      "C:\\Users\\Tripp\\Desktop\\PROGRAM\\IfA_Smeargle\\meta\\fits_and_arrays.py:90: DataWarning: This a 3D data frame with nan/null values. Frames with nan/null values have been completely nulled. \n",
      "File name: ./Data\\SAPHIRA-MK20-M12145-12_20191106_T60K__num;7__detBias;10.5Vup.fits    Null frames: [52].\n",
      "  .format(f_name=file_name, fr_list=nan_frames)))\n"
     ]
    },
    {
     "name": "stdout",
     "output_type": "stream",
     "text": [
      "0.0 53310.0 10\n"
     ]
    },
    {
     "name": "stderr",
     "output_type": "stream",
     "text": [
      "C:\\Users\\Tripp\\Desktop\\PROGRAM\\IfA_Smeargle\\meta\\fits_and_arrays.py:90: DataWarning: This a 3D data frame with nan/null values. Frames with nan/null values have been completely nulled. \n",
      "File name: ./Data\\SAPHIRA-MK20-M12145-12_20191106_T60K__num;8__detBias;11.5Vup.fits    Null frames: [53].\n",
      "  .format(f_name=file_name, fr_list=nan_frames)))\n",
      "C:\\Users\\Tripp\\Desktop\\PROGRAM\\IfA_Smeargle\\meta\\fits_and_arrays.py:90: DataWarning: This a 3D data frame with nan/null values. Frames with nan/null values have been completely nulled. \n",
      "File name: ./Data\\SAPHIRA-MK20-M12145-12_20191106_T60K__num;8__detBias;11.5Vup.fits    Null frames: [53].\n",
      "  .format(f_name=file_name, fr_list=nan_frames)))\n",
      "C:\\Users\\Tripp\\Desktop\\PROGRAM\\IfA_Smeargle\\meta\\fits_and_arrays.py:90: DataWarning: This a 3D data frame with nan/null values. Frames with nan/null values have been completely nulled. \n",
      "File name: ./Data\\SAPHIRA-MK20-M12145-12_20191106_T60K__num;8__detBias;11.5Vup.fits    Null frames: [53].\n",
      "  .format(f_name=file_name, fr_list=nan_frames)))\n"
     ]
    },
    {
     "name": "stdout",
     "output_type": "stream",
     "text": [
      "0.0 53287.0 10\n",
      "./Data\\SAPHIRA-MK20-M12145-12_20191106_T60K__num;10__detBias;10.5Vdown.fits\n",
      "-2.5344945e-11 54177.0 5\n",
      "./Data\\SAPHIRA-MK20-M12145-12_20191106_T60K__num;10__detBias;10.5Vdown__slice;1025-1040.fits\n",
      "-36864.0 -121.0 5\n",
      "./Data\\SAPHIRA-MK20-M12145-12_20191106_T60K__num;10__detBias;10.5Vdown__slice;257-272.fits\n",
      "-36866.0 -48.0 5\n",
      "./Data\\SAPHIRA-MK20-M12145-12_20191106_T60K__num;10__detBias;10.5Vdown__slice;513-528.fits\n",
      "-36873.0 -80.0 5\n",
      "./Data\\SAPHIRA-MK20-M12145-12_20191106_T60K__num;11__detBias;9.5Vdown.fits\n",
      "-2.5344945e-11 54153.0 5\n",
      "./Data\\SAPHIRA-MK20-M12145-12_20191106_T60K__num;11__detBias;9.5Vdown__slice;1025-1040.fits\n",
      "-36913.0 -49.0 5\n",
      "./Data\\SAPHIRA-MK20-M12145-12_20191106_T60K__num;11__detBias;9.5Vdown__slice;257-272.fits\n",
      "-36904.0 1069.0 5\n",
      "./Data\\SAPHIRA-MK20-M12145-12_20191106_T60K__num;11__detBias;9.5Vdown__slice;513-528.fits\n",
      "-36905.0 -41.0 5\n",
      "./Data\\SAPHIRA-MK20-M12145-12_20191106_T60K__num;12__detBias;8.5Vdown.fits\n",
      "-2.5344945e-11 65484.0 5\n",
      "./Data\\SAPHIRA-MK20-M12145-12_20191106_T60K__num;12__detBias;8.5Vdown__slice;1025-1040.fits\n",
      "-37557.0 1234.0 5\n",
      "./Data\\SAPHIRA-MK20-M12145-12_20191106_T60K__num;12__detBias;8.5Vdown__slice;257-272.fits\n",
      "-32273.0 0.0 5\n",
      "./Data\\SAPHIRA-MK20-M12145-12_20191106_T60K__num;12__detBias;8.5Vdown__slice;513-528.fits\n",
      "-37521.0 -23.0 5\n",
      "./Data\\SAPHIRA-MK20-M12145-12_20191106_T60K__num;13__detBias;6.5Vdown.fits\n",
      "0.0 54275.0 5\n",
      "./Data\\SAPHIRA-MK20-M12145-12_20191106_T60K__num;13__detBias;6.5Vdown__slice;1025-1040.fits\n",
      "-37322.0 580.0 5\n",
      "./Data\\SAPHIRA-MK20-M12145-12_20191106_T60K__num;13__detBias;6.5Vdown__slice;257-272.fits\n",
      "-36403.0 4.0 5\n",
      "./Data\\SAPHIRA-MK20-M12145-12_20191106_T60K__num;13__detBias;6.5Vdown__slice;513-528.fits\n",
      "-36401.0 576.0 5\n",
      "./Data\\SAPHIRA-MK20-M12145-12_20191106_T60K__num;14__detBias;4.5Vdown.fits\n",
      "0.0 54348.0 5\n",
      "./Data\\SAPHIRA-MK20-M12145-12_20191106_T60K__num;14__detBias;4.5Vdown__slice;1025-1040.fits\n",
      "-36949.0 1615.0 5\n",
      "./Data\\SAPHIRA-MK20-M12145-12_20191106_T60K__num;14__detBias;4.5Vdown__slice;257-272.fits\n",
      "-36774.0 38.0 5\n",
      "./Data\\SAPHIRA-MK20-M12145-12_20191106_T60K__num;14__detBias;4.5Vdown__slice;513-528.fits\n",
      "-36767.0 27.0 5\n",
      "./Data\\SAPHIRA-MK20-M12145-12_20191106_T60K__num;15__detBias;2.5Vdown.fits\n",
      "0.0 54454.0 5\n",
      "./Data\\SAPHIRA-MK20-M12145-12_20191106_T60K__num;15__detBias;2.5Vdown__slice;1025-1040.fits\n",
      "-34892.0 1014.0 5\n",
      "./Data\\SAPHIRA-MK20-M12145-12_20191106_T60K__num;15__detBias;2.5Vdown__slice;257-272.fits\n",
      "-30155.0 1122.0 5\n",
      "./Data\\SAPHIRA-MK20-M12145-12_20191106_T60K__num;15__detBias;2.5Vdown__slice;513-528.fits\n",
      "-31465.0 1106.0 5\n",
      "./Data\\SAPHIRA-MK20-M12145-12_20191106_T60K__num;16__detBias;2.5Vup.fits\n",
      "0.0 55124.0 5\n",
      "./Data\\SAPHIRA-MK20-M12145-12_20191106_T60K__num;16__detBias;2.5Vup__slice;1025-1040.fits\n",
      "-37369.0 77.0 5\n",
      "./Data\\SAPHIRA-MK20-M12145-12_20191106_T60K__num;16__detBias;2.5Vup__slice;257-272.fits\n",
      "-36794.0 4.0 5\n",
      "./Data\\SAPHIRA-MK20-M12145-12_20191106_T60K__num;16__detBias;2.5Vup__slice;513-528.fits\n",
      "-36792.0 -6.0 5\n",
      "./Data\\SAPHIRA-MK20-M12145-12_20191106_T60K__num;17__detBias;4.5Vup.fits\n",
      "0.0 54271.0 5\n",
      "./Data\\SAPHIRA-MK20-M12145-12_20191106_T60K__num;17__detBias;4.5Vup__slice;1025-1040.fits\n",
      "-36876.0 135.0 5\n",
      "./Data\\SAPHIRA-MK20-M12145-12_20191106_T60K__num;17__detBias;4.5Vup__slice;257-272.fits\n",
      "-31185.0 10.0 5\n",
      "./Data\\SAPHIRA-MK20-M12145-12_20191106_T60K__num;17__detBias;4.5Vup__slice;513-528.fits\n",
      "-35127.0 138.0 5\n",
      "./Data\\SAPHIRA-MK20-M12145-12_20191106_T60K__num;18__detBias;6.5Vup.fits\n",
      "0.0 54277.0 5\n",
      "./Data\\SAPHIRA-MK20-M12145-12_20191106_T60K__num;18__detBias;6.5Vup__slice;1025-1040.fits\n",
      "-38297.0 100.0 5\n",
      "./Data\\SAPHIRA-MK20-M12145-12_20191106_T60K__num;18__detBias;6.5Vup__slice;257-272.fits\n",
      "-32242.0 7.0 5\n",
      "./Data\\SAPHIRA-MK20-M12145-12_20191106_T60K__num;18__detBias;6.5Vup__slice;513-528.fits\n",
      "-38310.0 -1.0 5\n",
      "./Data\\SAPHIRA-MK20-M12145-12_20191106_T60K__num;19__detBias;8.5Vup.fits\n",
      "0.0 54937.0 5\n",
      "./Data\\SAPHIRA-MK20-M12145-12_20191106_T60K__num;19__detBias;8.5Vup__slice;1025-1040.fits\n",
      "-37331.0 80.0 5\n",
      "./Data\\SAPHIRA-MK20-M12145-12_20191106_T60K__num;19__detBias;8.5Vup__slice;257-272.fits\n",
      "-35908.0 7.0 5\n",
      "./Data\\SAPHIRA-MK20-M12145-12_20191106_T60K__num;19__detBias;8.5Vup__slice;513-528.fits\n",
      "-35906.0 504.0 5\n",
      "./Data\\SAPHIRA-MK20-M12145-12_20191106_T60K__num;1__Garbage001.fits\n",
      "0.0 55502.0 5\n",
      "./Data\\SAPHIRA-MK20-M12145-12_20191106_T60K__num;1__Garbage001__slice;1025-1040.fits\n",
      "-37230.0 529.0 5\n",
      "./Data\\SAPHIRA-MK20-M12145-12_20191106_T60K__num;1__Garbage001__slice;257-272.fits\n",
      "-30373.0 -66.0 5\n",
      "./Data\\SAPHIRA-MK20-M12145-12_20191106_T60K__num;1__Garbage001__slice;513-528.fits\n",
      "-32200.0 -179.0 5\n",
      "./Data\\SAPHIRA-MK20-M12145-12_20191106_T60K__num;20__detBias;9.5Vup.fits\n",
      "0.0 54907.0 5\n",
      "./Data\\SAPHIRA-MK20-M12145-12_20191106_T60K__num;20__detBias;9.5Vup__slice;1025-1040.fits\n",
      "-37121.0 -82.0 5\n",
      "./Data\\SAPHIRA-MK20-M12145-12_20191106_T60K__num;20__detBias;9.5Vup__slice;257-272.fits\n",
      "-33322.0 60.0 5\n",
      "./Data\\SAPHIRA-MK20-M12145-12_20191106_T60K__num;20__detBias;9.5Vup__slice;513-528.fits\n",
      "-35628.0 -51.0 5\n",
      "./Data\\SAPHIRA-MK20-M12145-12_20191106_T60K__num;21__detBias;10.5Vup.fits\n",
      "-2.5344945e-11 54869.0 5\n",
      "./Data\\SAPHIRA-MK20-M12145-12_20191106_T60K__num;21__detBias;10.5Vup__slice;1025-1040.fits\n",
      "-37842.0 -127.0 5\n",
      "./Data\\SAPHIRA-MK20-M12145-12_20191106_T60K__num;21__detBias;10.5Vup__slice;257-272.fits\n",
      "-36809.0 -50.0 5\n",
      "./Data\\SAPHIRA-MK20-M12145-12_20191106_T60K__num;21__detBias;10.5Vup__slice;513-528.fits\n",
      "-36943.0 -87.0 5\n",
      "./Data\\SAPHIRA-MK20-M12145-12_20191106_T60K__num;22__detBias;11.5Vup.fits\n",
      "0.0 54848.0 5\n",
      "./Data\\SAPHIRA-MK20-M12145-12_20191106_T60K__num;22__detBias;11.5Vup__slice;1025-1040.fits\n",
      "-37986.0 -344.0 5\n",
      "./Data\\SAPHIRA-MK20-M12145-12_20191106_T60K__num;22__detBias;11.5Vup__slice;257-272.fits\n",
      "-37602.0 -152.0 5\n",
      "./Data\\SAPHIRA-MK20-M12145-12_20191106_T60K__num;22__detBias;11.5Vup__slice;513-528.fits\n",
      "-37595.0 3196.0 5\n",
      "./Data\\SAPHIRA-MK20-M12145-12_20191106_T60K__num;23__detBias;11.5Vdown.fits\n",
      "0.0 54155.0 5\n",
      "./Data\\SAPHIRA-MK20-M12145-12_20191106_T60K__num;23__detBias;11.5Vdown__slice;1025-1040.fits\n",
      "-37375.0 -319.0 5\n",
      "./Data\\SAPHIRA-MK20-M12145-12_20191106_T60K__num;23__detBias;11.5Vdown__slice;257-272.fits\n",
      "-36566.0 -139.0 5\n",
      "./Data\\SAPHIRA-MK20-M12145-12_20191106_T60K__num;23__detBias;11.5Vdown__slice;513-528.fits\n",
      "-36561.0 -211.0 5\n",
      "./Data\\SAPHIRA-MK20-M12145-12_20191106_T60K__num;24__detBias;10.5Vdown.fits\n",
      "0.0 54116.0 5\n",
      "./Data\\SAPHIRA-MK20-M12145-12_20191106_T60K__num;24__detBias;10.5Vdown__slice;1025-1040.fits\n",
      "-37381.0 -133.0 5\n",
      "./Data\\SAPHIRA-MK20-M12145-12_20191106_T60K__num;24__detBias;10.5Vdown__slice;257-272.fits\n",
      "-36064.0 -58.0 5\n",
      "./Data\\SAPHIRA-MK20-M12145-12_20191106_T60K__num;24__detBias;10.5Vdown__slice;513-528.fits\n",
      "-37364.0 -97.0 5\n",
      "./Data\\SAPHIRA-MK20-M12145-12_20191106_T60K__num;25__detBias;9.5Vdown.fits\n",
      "0.0 54784.0 5\n",
      "./Data\\SAPHIRA-MK20-M12145-12_20191106_T60K__num;25__detBias;9.5Vdown__slice;1025-1040.fits\n",
      "-38053.0 0.0 5\n",
      "./Data\\SAPHIRA-MK20-M12145-12_20191106_T60K__num;25__detBias;9.5Vdown__slice;257-272.fits\n",
      "-38037.0 0.0 5\n",
      "./Data\\SAPHIRA-MK20-M12145-12_20191106_T60K__num;25__detBias;9.5Vdown__slice;513-528.fits\n",
      "-38059.0 3.0 5\n",
      "./Data\\SAPHIRA-MK20-M12145-12_20191106_T60K__num;26__detBias;8.5Vdown.fits\n",
      "-2.5344945e-11 54883.0 5\n",
      "./Data\\SAPHIRA-MK20-M12145-12_20191106_T60K__num;26__detBias;8.5Vdown__slice;1025-1040.fits\n",
      "-37642.0 -38.0 5\n",
      "./Data\\SAPHIRA-MK20-M12145-12_20191106_T60K__num;26__detBias;8.5Vdown__slice;257-272.fits\n",
      "-36636.0 -7.0 5\n",
      "./Data\\SAPHIRA-MK20-M12145-12_20191106_T60K__num;26__detBias;8.5Vdown__slice;513-528.fits\n",
      "-36858.0 -17.0 5\n",
      "./Data\\SAPHIRA-MK20-M12145-12_20191106_T60K__num;27__detBias;6.5Vdown.fits\n",
      "0.0 54948.0 5\n",
      "./Data\\SAPHIRA-MK20-M12145-12_20191106_T60K__num;27__detBias;6.5Vdown__slice;1025-1040.fits\n",
      "-37609.0 65.0 5\n",
      "./Data\\SAPHIRA-MK20-M12145-12_20191106_T60K__num;27__detBias;6.5Vdown__slice;257-272.fits\n",
      "-36951.0 26.0 5\n",
      "./Data\\SAPHIRA-MK20-M12145-12_20191106_T60K__num;27__detBias;6.5Vdown__slice;513-528.fits\n",
      "-37005.0 71.0 5\n",
      "./Data\\SAPHIRA-MK20-M12145-12_20191106_T60K__num;28__detBias;4.5Vdown.fits\n",
      "0.0 55058.0 5\n",
      "./Data\\SAPHIRA-MK20-M12145-12_20191106_T60K__num;28__detBias;4.5Vdown__slice;1025-1040.fits\n",
      "-37645.0 434.0 5\n",
      "./Data\\SAPHIRA-MK20-M12145-12_20191106_T60K__num;28__detBias;4.5Vdown__slice;257-272.fits\n",
      "-30946.0 469.0 5\n",
      "./Data\\SAPHIRA-MK20-M12145-12_20191106_T60K__num;28__detBias;4.5Vdown__slice;513-528.fits\n",
      "-35450.0 448.0 5\n"
     ]
    },
    {
     "name": "stdout",
     "output_type": "stream",
     "text": [
      "./Data\\SAPHIRA-MK20-M12145-12_20191106_T60K__num;29__detBias;2.5Vdown.fits\n",
      "0.0 54455.0 5\n",
      "./Data\\SAPHIRA-MK20-M12145-12_20191106_T60K__num;29__detBias;2.5Vdown__slice;1025-1040.fits\n",
      "-35544.0 134.0 5\n",
      "./Data\\SAPHIRA-MK20-M12145-12_20191106_T60K__num;29__detBias;2.5Vdown__slice;257-272.fits\n",
      "-30320.0 12.0 5\n",
      "./Data\\SAPHIRA-MK20-M12145-12_20191106_T60K__num;29__detBias;2.5Vdown__slice;513-528.fits\n",
      "-31114.0 64.0 5\n",
      "./Data\\SAPHIRA-MK20-M12145-12_20191106_T60K__num;2__detBias;2.5Vup.fits\n",
      "0.0 55109.0 5\n",
      "./Data\\SAPHIRA-MK20-M12145-12_20191106_T60K__num;2__detBias;2.5Vup__slice;1025-1040.fits\n",
      "-36854.0 619.0 5\n",
      "./Data\\SAPHIRA-MK20-M12145-12_20191106_T60K__num;2__detBias;2.5Vup__slice;257-272.fits\n",
      "-29906.0 621.0 5\n",
      "./Data\\SAPHIRA-MK20-M12145-12_20191106_T60K__num;2__detBias;2.5Vup__slice;513-528.fits\n",
      "-32342.0 622.0 5\n",
      "./Data\\SAPHIRA-MK20-M12145-12_20191106_T60K__num;3__detBias;4.5Vup.fits\n",
      "0.0 54371.0 5\n",
      "./Data\\SAPHIRA-MK20-M12145-12_20191106_T60K__num;3__detBias;4.5Vup__slice;1025-1040.fits\n",
      "-36488.0 619.0 5\n",
      "./Data\\SAPHIRA-MK20-M12145-12_20191106_T60K__num;3__detBias;4.5Vup__slice;257-272.fits\n",
      "-31061.0 11.0 5\n",
      "./Data\\SAPHIRA-MK20-M12145-12_20191106_T60K__num;3__detBias;4.5Vup__slice;513-528.fits\n",
      "-35635.0 901.0 5\n",
      "./Data\\SAPHIRA-MK20-M12145-12_20191106_T60K__num;4__detBias;6.5Vup.fits\n",
      "0.0 54964.0 5\n",
      "./Data\\SAPHIRA-MK20-M12145-12_20191106_T60K__num;4__detBias;6.5Vup__slice;1025-1040.fits\n",
      "-37866.5 186.5 5\n",
      "./Data\\SAPHIRA-MK20-M12145-12_20191106_T60K__num;4__detBias;6.5Vup__slice;257-272.fits\n",
      "-32901.0 790.0 5\n",
      "./Data\\SAPHIRA-MK20-M12145-12_20191106_T60K__num;4__detBias;6.5Vup__slice;513-528.fits\n",
      "-34865.0 95.0 5\n",
      "./Data\\SAPHIRA-MK20-M12145-12_20191106_T60K__num;5__detBias;8.5Vup.fits\n",
      "0.0 54867.0 5\n",
      "./Data\\SAPHIRA-MK20-M12145-12_20191106_T60K__num;5__detBias;8.5Vup__slice;1025-1040.fits\n",
      "-37298.0 113.0 5\n",
      "./Data\\SAPHIRA-MK20-M12145-12_20191106_T60K__num;5__detBias;8.5Vup__slice;257-272.fits\n",
      "-32190.0 27.0 5\n",
      "./Data\\SAPHIRA-MK20-M12145-12_20191106_T60K__num;5__detBias;8.5Vup__slice;513-528.fits\n",
      "-37218.0 -8.0 5\n",
      "./Data\\SAPHIRA-MK20-M12145-12_20191106_T60K__num;6__detBias;9.5Vup.fits\n",
      "-2.5344945e-11 65481.0 5\n",
      "./Data\\SAPHIRA-MK20-M12145-12_20191106_T60K__num;6__detBias;9.5Vup__slice;1025-1040.fits\n",
      "-38148.0 -72.0 5\n",
      "./Data\\SAPHIRA-MK20-M12145-12_20191106_T60K__num;6__detBias;9.5Vup__slice;257-272.fits\n",
      "-33447.0 958.0 5\n",
      "./Data\\SAPHIRA-MK20-M12145-12_20191106_T60K__num;6__detBias;9.5Vup__slice;513-528.fits\n",
      "-35493.0 -50.0 5\n",
      "./Data\\SAPHIRA-MK20-M12145-12_20191106_T60K__num;7__detBias;10.5Vup.fits\n",
      "0.0 54861.0 5\n",
      "./Data\\SAPHIRA-MK20-M12145-12_20191106_T60K__num;7__detBias;10.5Vup__slice;1025-1040.fits\n",
      "-37677.0 -139.0 5\n",
      "./Data\\SAPHIRA-MK20-M12145-12_20191106_T60K__num;7__detBias;10.5Vup__slice;257-272.fits\n",
      "-36305.0 -55.0 5\n",
      "./Data\\SAPHIRA-MK20-M12145-12_20191106_T60K__num;7__detBias;10.5Vup__slice;513-528.fits\n",
      "-37677.0 391.0 5\n",
      "./Data\\SAPHIRA-MK20-M12145-12_20191106_T60K__num;8__detBias;11.5Vup.fits\n",
      "0.0 54139.0 5\n",
      "./Data\\SAPHIRA-MK20-M12145-12_20191106_T60K__num;8__detBias;11.5Vup__slice;1025-1040.fits\n",
      "-37971.0 -326.0 5\n",
      "./Data\\SAPHIRA-MK20-M12145-12_20191106_T60K__num;8__detBias;11.5Vup__slice;257-272.fits\n",
      "-37958.0 -140.0 5\n",
      "./Data\\SAPHIRA-MK20-M12145-12_20191106_T60K__num;8__detBias;11.5Vup__slice;513-528.fits\n",
      "-37961.0 -206.0 5\n",
      "./Data\\SAPHIRA-MK20-M12145-12_20191106_T60K__num;9__detBias;11.5Vdown.fits\n",
      "0.0 54138.0 5\n",
      "./Data\\SAPHIRA-MK20-M12145-12_20191106_T60K__num;9__detBias;11.5Vdown__slice;1025-1040.fits\n",
      "-37421.0 -334.0 5\n",
      "./Data\\SAPHIRA-MK20-M12145-12_20191106_T60K__num;9__detBias;11.5Vdown__slice;257-272.fits\n",
      "-36983.0 -132.0 5\n",
      "./Data\\SAPHIRA-MK20-M12145-12_20191106_T60K__num;9__detBias;11.5Vdown__slice;513-528.fits\n",
      "-37267.0 -225.0 5\n"
     ]
    },
    {
     "name": "stderr",
     "output_type": "stream",
     "text": [
      "C:\\Users\\Tripp\\Desktop\\PROGRAM\\IfA_Smeargle\\meta\\fits_and_arrays.py:142: InputWarning: The fits file contains an <IFASMASK> extension, a pixel mask created by this program. It will be applied to the data. The output data will be a Numpy Masked Array.\n",
      "  smeargle_warning(InputWarning,(\"The fits file contains an <IFASMASK> extension, \"\n"
     ]
    },
    {
     "name": "stdout",
     "output_type": "stream",
     "text": [
      "-9160.0 -121.0 5\n",
      "-9160.0 -121.0 5\n"
     ]
    },
    {
     "name": "stderr",
     "output_type": "stream",
     "text": [
      "WARNING: The fit may be unsuccessful; check fit_info['message'] for more information. [astropy.modeling.fitting]\n",
      "C:\\Users\\Tripp\\Desktop\\PROGRAM\\IfA_Smeargle\\meta\\fits_and_arrays.py:142: InputWarning: The fits file contains an <IFASMASK> extension, a pixel mask created by this program. It will be applied to the data. The output data will be a Numpy Masked Array.\n",
      "  smeargle_warning(InputWarning,(\"The fits file contains an <IFASMASK> extension, \"\n"
     ]
    },
    {
     "name": "stdout",
     "output_type": "stream",
     "text": [
      "-2385.0 -48.0 5\n",
      "-2385.0 -48.0 5\n"
     ]
    },
    {
     "name": "stderr",
     "output_type": "stream",
     "text": [
      "C:\\Users\\Tripp\\Desktop\\PROGRAM\\IfA_Smeargle\\meta\\fits_and_arrays.py:142: InputWarning: The fits file contains an <IFASMASK> extension, a pixel mask created by this program. It will be applied to the data. The output data will be a Numpy Masked Array.\n",
      "  smeargle_warning(InputWarning,(\"The fits file contains an <IFASMASK> extension, \"\n"
     ]
    },
    {
     "name": "stdout",
     "output_type": "stream",
     "text": [
      "-5218.0 -80.0 5\n",
      "-5218.0 -80.0 5\n"
     ]
    },
    {
     "name": "stderr",
     "output_type": "stream",
     "text": [
      "WARNING: The fit may be unsuccessful; check fit_info['message'] for more information. [astropy.modeling.fitting]\n",
      "C:\\Users\\Tripp\\Desktop\\PROGRAM\\IfA_Smeargle\\meta\\fits_and_arrays.py:142: InputWarning: The fits file contains an <IFASMASK> extension, a pixel mask created by this program. It will be applied to the data. The output data will be a Numpy Masked Array.\n",
      "  smeargle_warning(InputWarning,(\"The fits file contains an <IFASMASK> extension, \"\n"
     ]
    },
    {
     "name": "stdout",
     "output_type": "stream",
     "text": [
      "-1132.0 -49.0 5\n",
      "-1132.0 -49.0 5\n"
     ]
    },
    {
     "name": "stderr",
     "output_type": "stream",
     "text": [
      "C:\\Users\\Tripp\\Desktop\\PROGRAM\\IfA_Smeargle\\meta\\fits_and_arrays.py:142: InputWarning: The fits file contains an <IFASMASK> extension, a pixel mask created by this program. It will be applied to the data. The output data will be a Numpy Masked Array.\n",
      "  smeargle_warning(InputWarning,(\"The fits file contains an <IFASMASK> extension, \"\n"
     ]
    },
    {
     "name": "stdout",
     "output_type": "stream",
     "text": [
      "-307.0 -28.0 5\n",
      "-307.0 -28.0 5\n"
     ]
    },
    {
     "name": "stderr",
     "output_type": "stream",
     "text": [
      "C:\\Users\\Tripp\\Desktop\\PROGRAM\\IfA_Smeargle\\meta\\fits_and_arrays.py:142: InputWarning: The fits file contains an <IFASMASK> extension, a pixel mask created by this program. It will be applied to the data. The output data will be a Numpy Masked Array.\n",
      "  smeargle_warning(InputWarning,(\"The fits file contains an <IFASMASK> extension, \"\n"
     ]
    },
    {
     "name": "stdout",
     "output_type": "stream",
     "text": [
      "-595.0 -41.0 5\n",
      "-595.0 -41.0 5\n"
     ]
    },
    {
     "name": "stderr",
     "output_type": "stream",
     "text": [
      "C:\\Users\\Tripp\\Desktop\\PROGRAM\\IfA_Smeargle\\meta\\fits_and_arrays.py:142: InputWarning: The fits file contains an <IFASMASK> extension, a pixel mask created by this program. It will be applied to the data. The output data will be a Numpy Masked Array.\n",
      "  smeargle_warning(InputWarning,(\"The fits file contains an <IFASMASK> extension, \"\n"
     ]
    },
    {
     "name": "stdout",
     "output_type": "stream",
     "text": [
      "-433.0 30.0 5\n",
      "-433.0 30.0 5\n"
     ]
    },
    {
     "name": "stderr",
     "output_type": "stream",
     "text": [
      "C:\\Users\\Tripp\\Desktop\\PROGRAM\\IfA_Smeargle\\meta\\fits_and_arrays.py:142: InputWarning: The fits file contains an <IFASMASK> extension, a pixel mask created by this program. It will be applied to the data. The output data will be a Numpy Masked Array.\n",
      "  smeargle_warning(InputWarning,(\"The fits file contains an <IFASMASK> extension, \"\n",
      "C:\\Users\\Tripp\\Desktop\\PROGRAM\\IfA_Smeargle\\meta\\fits_and_arrays.py:142: InputWarning: The fits file contains an <IFASMASK> extension, a pixel mask created by this program. It will be applied to the data. The output data will be a Numpy Masked Array.\n",
      "  smeargle_warning(InputWarning,(\"The fits file contains an <IFASMASK> extension, \"\n"
     ]
    },
    {
     "name": "stdout",
     "output_type": "stream",
     "text": [
      "-146.0 0.0 5\n",
      "-146.0 0.0 5\n",
      "-238.0 -23.0 5\n",
      "-238.0 -23.0 5\n"
     ]
    },
    {
     "name": "stderr",
     "output_type": "stream",
     "text": [
      "C:\\Users\\Tripp\\Desktop\\PROGRAM\\IfA_Smeargle\\meta\\fits_and_arrays.py:142: InputWarning: The fits file contains an <IFASMASK> extension, a pixel mask created by this program. It will be applied to the data. The output data will be a Numpy Masked Array.\n",
      "  smeargle_warning(InputWarning,(\"The fits file contains an <IFASMASK> extension, \"\n",
      "C:\\Users\\Tripp\\Desktop\\PROGRAM\\IfA_Smeargle\\meta\\fits_and_arrays.py:142: InputWarning: The fits file contains an <IFASMASK> extension, a pixel mask created by this program. It will be applied to the data. The output data will be a Numpy Masked Array.\n",
      "  smeargle_warning(InputWarning,(\"The fits file contains an <IFASMASK> extension, \"\n"
     ]
    },
    {
     "name": "stdout",
     "output_type": "stream",
     "text": [
      "-132.0 1.0 5\n",
      "-132.0 1.0 5\n",
      "-80.0 -6.0 5\n",
      "-80.0 -6.0 5\n",
      "-102.0 -5.0 5\n",
      "-102.0 -5.0 5\n"
     ]
    },
    {
     "name": "stderr",
     "output_type": "stream",
     "text": [
      "C:\\Users\\Tripp\\Desktop\\PROGRAM\\IfA_Smeargle\\meta\\fits_and_arrays.py:142: InputWarning: The fits file contains an <IFASMASK> extension, a pixel mask created by this program. It will be applied to the data. The output data will be a Numpy Masked Array.\n",
      "  smeargle_warning(InputWarning,(\"The fits file contains an <IFASMASK> extension, \"\n",
      "C:\\Users\\Tripp\\Desktop\\PROGRAM\\IfA_Smeargle\\meta\\fits_and_arrays.py:142: InputWarning: The fits file contains an <IFASMASK> extension, a pixel mask created by this program. It will be applied to the data. The output data will be a Numpy Masked Array.\n",
      "  smeargle_warning(InputWarning,(\"The fits file contains an <IFASMASK> extension, \"\n",
      "C:\\Users\\Tripp\\Desktop\\PROGRAM\\IfA_Smeargle\\meta\\fits_and_arrays.py:142: InputWarning: The fits file contains an <IFASMASK> extension, a pixel mask created by this program. It will be applied to the data. The output data will be a Numpy Masked Array.\n",
      "  smeargle_warning(InputWarning,(\"The fits file contains an <IFASMASK> extension, \"\n"
     ]
    },
    {
     "name": "stdout",
     "output_type": "stream",
     "text": [
      "-105.0 -13.0 5\n",
      "-105.0 -13.0 5\n",
      "-63.0 -6.0 5\n",
      "-63.0 -6.0 5\n",
      "-79.0 -8.0 5\n",
      "-79.0 -8.0 5\n"
     ]
    },
    {
     "name": "stderr",
     "output_type": "stream",
     "text": [
      "C:\\Users\\Tripp\\Desktop\\PROGRAM\\IfA_Smeargle\\meta\\fits_and_arrays.py:142: InputWarning: The fits file contains an <IFASMASK> extension, a pixel mask created by this program. It will be applied to the data. The output data will be a Numpy Masked Array.\n",
      "  smeargle_warning(InputWarning,(\"The fits file contains an <IFASMASK> extension, \"\n",
      "C:\\Users\\Tripp\\Desktop\\PROGRAM\\IfA_Smeargle\\meta\\fits_and_arrays.py:142: InputWarning: The fits file contains an <IFASMASK> extension, a pixel mask created by this program. It will be applied to the data. The output data will be a Numpy Masked Array.\n",
      "  smeargle_warning(InputWarning,(\"The fits file contains an <IFASMASK> extension, \"\n",
      "C:\\Users\\Tripp\\Desktop\\PROGRAM\\IfA_Smeargle\\meta\\fits_and_arrays.py:142: InputWarning: The fits file contains an <IFASMASK> extension, a pixel mask created by this program. It will be applied to the data. The output data will be a Numpy Masked Array.\n",
      "  smeargle_warning(InputWarning,(\"The fits file contains an <IFASMASK> extension, \"\n"
     ]
    },
    {
     "name": "stdout",
     "output_type": "stream",
     "text": [
      "-79.0 3.0 5\n",
      "-79.0 3.0 5\n",
      "-61.0 -9.0 5\n",
      "-61.0 -9.0 5\n",
      "-68.0 -8.0 5\n"
     ]
    },
    {
     "name": "stderr",
     "output_type": "stream",
     "text": [
      "C:\\Users\\Tripp\\Desktop\\PROGRAM\\IfA_Smeargle\\meta\\fits_and_arrays.py:142: InputWarning: The fits file contains an <IFASMASK> extension, a pixel mask created by this program. It will be applied to the data. The output data will be a Numpy Masked Array.\n",
      "  smeargle_warning(InputWarning,(\"The fits file contains an <IFASMASK> extension, \"\n"
     ]
    },
    {
     "name": "stdout",
     "output_type": "stream",
     "text": [
      "-68.0 -8.0 5\n"
     ]
    },
    {
     "name": "stderr",
     "output_type": "stream",
     "text": [
      "C:\\Users\\Tripp\\Desktop\\PROGRAM\\IfA_Smeargle\\meta\\fits_and_arrays.py:142: InputWarning: The fits file contains an <IFASMASK> extension, a pixel mask created by this program. It will be applied to the data. The output data will be a Numpy Masked Array.\n",
      "  smeargle_warning(InputWarning,(\"The fits file contains an <IFASMASK> extension, \"\n",
      "C:\\Users\\Tripp\\Desktop\\PROGRAM\\IfA_Smeargle\\meta\\fits_and_arrays.py:142: InputWarning: The fits file contains an <IFASMASK> extension, a pixel mask created by this program. It will be applied to the data. The output data will be a Numpy Masked Array.\n",
      "  smeargle_warning(InputWarning,(\"The fits file contains an <IFASMASK> extension, \"\n"
     ]
    },
    {
     "name": "stdout",
     "output_type": "stream",
     "text": [
      "-96.0 -19.0 5\n",
      "-96.0 -19.0 5\n",
      "-62.0 -10.0 5\n",
      "-62.0 -10.0 5\n",
      "-76.0 -15.0 5\n",
      "-76.0 -15.0 5\n"
     ]
    },
    {
     "name": "stderr",
     "output_type": "stream",
     "text": [
      "C:\\Users\\Tripp\\Desktop\\PROGRAM\\IfA_Smeargle\\meta\\fits_and_arrays.py:142: InputWarning: The fits file contains an <IFASMASK> extension, a pixel mask created by this program. It will be applied to the data. The output data will be a Numpy Masked Array.\n",
      "  smeargle_warning(InputWarning,(\"The fits file contains an <IFASMASK> extension, \"\n",
      "C:\\Users\\Tripp\\Desktop\\PROGRAM\\IfA_Smeargle\\meta\\fits_and_arrays.py:142: InputWarning: The fits file contains an <IFASMASK> extension, a pixel mask created by this program. It will be applied to the data. The output data will be a Numpy Masked Array.\n",
      "  smeargle_warning(InputWarning,(\"The fits file contains an <IFASMASK> extension, \"\n",
      "C:\\Users\\Tripp\\Desktop\\PROGRAM\\IfA_Smeargle\\meta\\fits_and_arrays.py:142: InputWarning: The fits file contains an <IFASMASK> extension, a pixel mask created by this program. It will be applied to the data. The output data will be a Numpy Masked Array.\n",
      "  smeargle_warning(InputWarning,(\"The fits file contains an <IFASMASK> extension, \"\n"
     ]
    },
    {
     "name": "stdout",
     "output_type": "stream",
     "text": [
      "-104.0 -10.0 5\n",
      "-104.0 -10.0 5\n",
      "-65.0 -10.0 5\n",
      "-65.0 -10.0 5\n",
      "-82.0 -12.0 5\n",
      "-82.0 -12.0 5\n"
     ]
    },
    {
     "name": "stderr",
     "output_type": "stream",
     "text": [
      "C:\\Users\\Tripp\\Desktop\\PROGRAM\\IfA_Smeargle\\meta\\fits_and_arrays.py:142: InputWarning: The fits file contains an <IFASMASK> extension, a pixel mask created by this program. It will be applied to the data. The output data will be a Numpy Masked Array.\n",
      "  smeargle_warning(InputWarning,(\"The fits file contains an <IFASMASK> extension, \"\n",
      "C:\\Users\\Tripp\\Desktop\\PROGRAM\\IfA_Smeargle\\meta\\fits_and_arrays.py:142: InputWarning: The fits file contains an <IFASMASK> extension, a pixel mask created by this program. It will be applied to the data. The output data will be a Numpy Masked Array.\n",
      "  smeargle_warning(InputWarning,(\"The fits file contains an <IFASMASK> extension, \"\n"
     ]
    },
    {
     "name": "stdout",
     "output_type": "stream",
     "text": [
      "-153.0 -17.0 5\n",
      "-153.0 -17.0 5\n"
     ]
    },
    {
     "name": "stderr",
     "output_type": "stream",
     "text": [
      "C:\\Users\\Tripp\\Desktop\\PROGRAM\\IfA_Smeargle\\meta\\fits_and_arrays.py:142: InputWarning: The fits file contains an <IFASMASK> extension, a pixel mask created by this program. It will be applied to the data. The output data will be a Numpy Masked Array.\n",
      "  smeargle_warning(InputWarning,(\"The fits file contains an <IFASMASK> extension, \"\n",
      "C:\\Users\\Tripp\\Desktop\\PROGRAM\\IfA_Smeargle\\meta\\fits_and_arrays.py:142: InputWarning: The fits file contains an <IFASMASK> extension, a pixel mask created by this program. It will be applied to the data. The output data will be a Numpy Masked Array.\n",
      "  smeargle_warning(InputWarning,(\"The fits file contains an <IFASMASK> extension, \"\n"
     ]
    },
    {
     "name": "stdout",
     "output_type": "stream",
     "text": [
      "-81.0 -5.0 5\n",
      "-81.0 -5.0 5\n",
      "-109.0 -7.0 5\n",
      "-109.0 -7.0 5\n"
     ]
    },
    {
     "name": "stderr",
     "output_type": "stream",
     "text": [
      "C:\\Users\\Tripp\\Desktop\\PROGRAM\\IfA_Smeargle\\meta\\fits_and_arrays.py:142: InputWarning: The fits file contains an <IFASMASK> extension, a pixel mask created by this program. It will be applied to the data. The output data will be a Numpy Masked Array.\n",
      "  smeargle_warning(InputWarning,(\"The fits file contains an <IFASMASK> extension, \"\n"
     ]
    },
    {
     "name": "stdout",
     "output_type": "stream",
     "text": [
      "-428.0 80.0 5\n",
      "-428.0 80.0 5\n"
     ]
    },
    {
     "name": "stderr",
     "output_type": "stream",
     "text": [
      "C:\\Users\\Tripp\\Desktop\\PROGRAM\\IfA_Smeargle\\meta\\fits_and_arrays.py:142: InputWarning: The fits file contains an <IFASMASK> extension, a pixel mask created by this program. It will be applied to the data. The output data will be a Numpy Masked Array.\n",
      "  smeargle_warning(InputWarning,(\"The fits file contains an <IFASMASK> extension, \"\n",
      "C:\\Users\\Tripp\\Desktop\\PROGRAM\\IfA_Smeargle\\meta\\fits_and_arrays.py:142: InputWarning: The fits file contains an <IFASMASK> extension, a pixel mask created by this program. It will be applied to the data. The output data will be a Numpy Masked Array.\n",
      "  smeargle_warning(InputWarning,(\"The fits file contains an <IFASMASK> extension, \"\n"
     ]
    },
    {
     "name": "stdout",
     "output_type": "stream",
     "text": [
      "-148.0 7.0 5\n",
      "-148.0 7.0 5\n",
      "-237.0 -28.0 5\n",
      "-237.0 -28.0 5\n"
     ]
    },
    {
     "name": "stderr",
     "output_type": "stream",
     "text": [
      "C:\\Users\\Tripp\\Desktop\\PROGRAM\\IfA_Smeargle\\meta\\fits_and_arrays.py:142: InputWarning: The fits file contains an <IFASMASK> extension, a pixel mask created by this program. It will be applied to the data. The output data will be a Numpy Masked Array.\n",
      "  smeargle_warning(InputWarning,(\"The fits file contains an <IFASMASK> extension, \"\n"
     ]
    },
    {
     "name": "stdout",
     "output_type": "stream",
     "text": [
      "-572.0 -412.0 5\n",
      "-572.0 -412.0 5\n"
     ]
    },
    {
     "name": "stderr",
     "output_type": "stream",
     "text": [
      "C:\\Users\\Tripp\\Desktop\\PROGRAM\\IfA_Smeargle\\meta\\fits_and_arrays.py:142: InputWarning: The fits file contains an <IFASMASK> extension, a pixel mask created by this program. It will be applied to the data. The output data will be a Numpy Masked Array.\n",
      "  smeargle_warning(InputWarning,(\"The fits file contains an <IFASMASK> extension, \"\n"
     ]
    },
    {
     "name": "stdout",
     "output_type": "stream",
     "text": [
      "-363.0 -262.0 5\n",
      "-363.0 -262.0 5\n"
     ]
    },
    {
     "name": "stderr",
     "output_type": "stream",
     "text": [
      "C:\\Users\\Tripp\\Desktop\\PROGRAM\\IfA_Smeargle\\meta\\fits_and_arrays.py:142: InputWarning: The fits file contains an <IFASMASK> extension, a pixel mask created by this program. It will be applied to the data. The output data will be a Numpy Masked Array.\n",
      "  smeargle_warning(InputWarning,(\"The fits file contains an <IFASMASK> extension, \"\n"
     ]
    },
    {
     "name": "stdout",
     "output_type": "stream",
     "text": [
      "-499.0 -375.0 5\n",
      "-499.0 -375.0 5\n"
     ]
    },
    {
     "name": "stderr",
     "output_type": "stream",
     "text": [
      "C:\\Users\\Tripp\\Desktop\\PROGRAM\\IfA_Smeargle\\meta\\fits_and_arrays.py:142: InputWarning: The fits file contains an <IFASMASK> extension, a pixel mask created by this program. It will be applied to the data. The output data will be a Numpy Masked Array.\n",
      "  smeargle_warning(InputWarning,(\"The fits file contains an <IFASMASK> extension, \"\n"
     ]
    },
    {
     "name": "stdout",
     "output_type": "stream",
     "text": [
      "-1164.0 -82.0 5\n",
      "-1164.0 -82.0 5\n"
     ]
    },
    {
     "name": "stderr",
     "output_type": "stream",
     "text": [
      "C:\\Users\\Tripp\\Desktop\\PROGRAM\\IfA_Smeargle\\meta\\fits_and_arrays.py:142: InputWarning: The fits file contains an <IFASMASK> extension, a pixel mask created by this program. It will be applied to the data. The output data will be a Numpy Masked Array.\n",
      "  smeargle_warning(InputWarning,(\"The fits file contains an <IFASMASK> extension, \"\n"
     ]
    },
    {
     "name": "stdout",
     "output_type": "stream",
     "text": [
      "-304.0 60.0 5\n",
      "-304.0 60.0 5\n"
     ]
    },
    {
     "name": "stderr",
     "output_type": "stream",
     "text": [
      "C:\\Users\\Tripp\\Desktop\\PROGRAM\\IfA_Smeargle\\meta\\fits_and_arrays.py:142: InputWarning: The fits file contains an <IFASMASK> extension, a pixel mask created by this program. It will be applied to the data. The output data will be a Numpy Masked Array.\n",
      "  smeargle_warning(InputWarning,(\"The fits file contains an <IFASMASK> extension, \"\n"
     ]
    },
    {
     "name": "stdout",
     "output_type": "stream",
     "text": [
      "-589.0 -51.0 5\n",
      "-589.0 -51.0 5\n"
     ]
    },
    {
     "name": "stderr",
     "output_type": "stream",
     "text": [
      "C:\\Users\\Tripp\\Desktop\\PROGRAM\\IfA_Smeargle\\meta\\fits_and_arrays.py:142: InputWarning: The fits file contains an <IFASMASK> extension, a pixel mask created by this program. It will be applied to the data. The output data will be a Numpy Masked Array.\n",
      "  smeargle_warning(InputWarning,(\"The fits file contains an <IFASMASK> extension, \"\n"
     ]
    },
    {
     "name": "stdout",
     "output_type": "stream",
     "text": [
      "-8877.0 -127.0 5\n",
      "-8877.0 -127.0 5\n"
     ]
    },
    {
     "name": "stderr",
     "output_type": "stream",
     "text": [
      "WARNING: The fit may be unsuccessful; check fit_info['message'] for more information. [astropy.modeling.fitting]\n",
      "C:\\Users\\Tripp\\Desktop\\PROGRAM\\IfA_Smeargle\\meta\\fits_and_arrays.py:142: InputWarning: The fits file contains an <IFASMASK> extension, a pixel mask created by this program. It will be applied to the data. The output data will be a Numpy Masked Array.\n",
      "  smeargle_warning(InputWarning,(\"The fits file contains an <IFASMASK> extension, \"\n"
     ]
    },
    {
     "name": "stdout",
     "output_type": "stream",
     "text": [
      "-3498.0 -50.0 5\n",
      "-3498.0 -50.0 5\n"
     ]
    },
    {
     "name": "stderr",
     "output_type": "stream",
     "text": [
      "C:\\Users\\Tripp\\Desktop\\PROGRAM\\IfA_Smeargle\\meta\\fits_and_arrays.py:142: InputWarning: The fits file contains an <IFASMASK> extension, a pixel mask created by this program. It will be applied to the data. The output data will be a Numpy Masked Array.\n",
      "  smeargle_warning(InputWarning,(\"The fits file contains an <IFASMASK> extension, \"\n"
     ]
    },
    {
     "name": "stdout",
     "output_type": "stream",
     "text": [
      "-5205.0 -87.0 5\n",
      "-5205.0 -87.0 5\n"
     ]
    },
    {
     "name": "stderr",
     "output_type": "stream",
     "text": [
      "WARNING: The fit may be unsuccessful; check fit_info['message'] for more information. [astropy.modeling.fitting]\n",
      "C:\\Users\\Tripp\\Desktop\\PROGRAM\\IfA_Smeargle\\meta\\fits_and_arrays.py:142: InputWarning: The fits file contains an <IFASMASK> extension, a pixel mask created by this program. It will be applied to the data. The output data will be a Numpy Masked Array.\n",
      "  smeargle_warning(InputWarning,(\"The fits file contains an <IFASMASK> extension, \"\n"
     ]
    },
    {
     "name": "stdout",
     "output_type": "stream",
     "text": [
      "-37986.0 -344.0 5\n",
      "-37986.0 -344.0 5\n"
     ]
    },
    {
     "name": "stderr",
     "output_type": "stream",
     "text": [
      "WARNING: The fit may be unsuccessful; check fit_info['message'] for more information. [astropy.modeling.fitting]\n",
      "C:\\Users\\Tripp\\Desktop\\PROGRAM\\IfA_Smeargle\\meta\\fits_and_arrays.py:142: InputWarning: The fits file contains an <IFASMASK> extension, a pixel mask created by this program. It will be applied to the data. The output data will be a Numpy Masked Array.\n",
      "  smeargle_warning(InputWarning,(\"The fits file contains an <IFASMASK> extension, \"\n"
     ]
    },
    {
     "name": "stdout",
     "output_type": "stream",
     "text": [
      "-11313.0 -152.0 5\n",
      "-11313.0 -152.0 5\n"
     ]
    },
    {
     "name": "stderr",
     "output_type": "stream",
     "text": [
      "WARNING: The fit may be unsuccessful; check fit_info['message'] for more information. [astropy.modeling.fitting]\n",
      "C:\\Users\\Tripp\\Desktop\\PROGRAM\\IfA_Smeargle\\meta\\fits_and_arrays.py:142: InputWarning: The fits file contains an <IFASMASK> extension, a pixel mask created by this program. It will be applied to the data. The output data will be a Numpy Masked Array.\n",
      "  smeargle_warning(InputWarning,(\"The fits file contains an <IFASMASK> extension, \"\n"
     ]
    },
    {
     "name": "stdout",
     "output_type": "stream",
     "text": [
      "-16104.0 3196.0 5\n",
      "-16104.0 3196.0 5\n"
     ]
    },
    {
     "name": "stderr",
     "output_type": "stream",
     "text": [
      "WARNING: The fit may be unsuccessful; check fit_info['message'] for more information. [astropy.modeling.fitting]\n",
      "C:\\Users\\Tripp\\Desktop\\PROGRAM\\IfA_Smeargle\\meta\\fits_and_arrays.py:142: InputWarning: The fits file contains an <IFASMASK> extension, a pixel mask created by this program. It will be applied to the data. The output data will be a Numpy Masked Array.\n",
      "  smeargle_warning(InputWarning,(\"The fits file contains an <IFASMASK> extension, \"\n"
     ]
    },
    {
     "name": "stdout",
     "output_type": "stream",
     "text": [
      "-37375.0 -319.0 5\n",
      "-37375.0 -319.0 5\n"
     ]
    },
    {
     "name": "stderr",
     "output_type": "stream",
     "text": [
      "WARNING: The fit may be unsuccessful; check fit_info['message'] for more information. [astropy.modeling.fitting]\n",
      "C:\\Users\\Tripp\\Desktop\\PROGRAM\\IfA_Smeargle\\meta\\fits_and_arrays.py:142: InputWarning: The fits file contains an <IFASMASK> extension, a pixel mask created by this program. It will be applied to the data. The output data will be a Numpy Masked Array.\n",
      "  smeargle_warning(InputWarning,(\"The fits file contains an <IFASMASK> extension, \"\n"
     ]
    },
    {
     "name": "stdout",
     "output_type": "stream",
     "text": [
      "-12662.0 -139.0 5\n",
      "-12662.0 -139.0 5\n"
     ]
    },
    {
     "name": "stderr",
     "output_type": "stream",
     "text": [
      "WARNING: The fit may be unsuccessful; check fit_info['message'] for more information. [astropy.modeling.fitting]\n",
      "C:\\Users\\Tripp\\Desktop\\PROGRAM\\IfA_Smeargle\\meta\\fits_and_arrays.py:142: InputWarning: The fits file contains an <IFASMASK> extension, a pixel mask created by this program. It will be applied to the data. The output data will be a Numpy Masked Array.\n",
      "  smeargle_warning(InputWarning,(\"The fits file contains an <IFASMASK> extension, \"\n"
     ]
    },
    {
     "name": "stdout",
     "output_type": "stream",
     "text": [
      "-18301.0 -211.0 5\n",
      "-18301.0 -211.0 5\n"
     ]
    },
    {
     "name": "stderr",
     "output_type": "stream",
     "text": [
      "WARNING: The fit may be unsuccessful; check fit_info['message'] for more information. [astropy.modeling.fitting]\n",
      "C:\\Users\\Tripp\\Desktop\\PROGRAM\\IfA_Smeargle\\meta\\fits_and_arrays.py:142: InputWarning: The fits file contains an <IFASMASK> extension, a pixel mask created by this program. It will be applied to the data. The output data will be a Numpy Masked Array.\n",
      "  smeargle_warning(InputWarning,(\"The fits file contains an <IFASMASK> extension, \"\n"
     ]
    },
    {
     "name": "stdout",
     "output_type": "stream",
     "text": [
      "-8920.0 -133.0 5\n",
      "-8920.0 -133.0 5\n"
     ]
    },
    {
     "name": "stderr",
     "output_type": "stream",
     "text": [
      "WARNING: The fit may be unsuccessful; check fit_info['message'] for more information. [astropy.modeling.fitting]\n",
      "C:\\Users\\Tripp\\Desktop\\PROGRAM\\IfA_Smeargle\\meta\\fits_and_arrays.py:142: InputWarning: The fits file contains an <IFASMASK> extension, a pixel mask created by this program. It will be applied to the data. The output data will be a Numpy Masked Array.\n",
      "  smeargle_warning(InputWarning,(\"The fits file contains an <IFASMASK> extension, \"\n"
     ]
    },
    {
     "name": "stdout",
     "output_type": "stream",
     "text": [
      "-3654.0 -58.0 5\n",
      "-3654.0 -58.0 5\n"
     ]
    },
    {
     "name": "stderr",
     "output_type": "stream",
     "text": [
      "C:\\Users\\Tripp\\Desktop\\PROGRAM\\IfA_Smeargle\\meta\\fits_and_arrays.py:142: InputWarning: The fits file contains an <IFASMASK> extension, a pixel mask created by this program. It will be applied to the data. The output data will be a Numpy Masked Array.\n",
      "  smeargle_warning(InputWarning,(\"The fits file contains an <IFASMASK> extension, \"\n"
     ]
    },
    {
     "name": "stdout",
     "output_type": "stream",
     "text": [
      "-5494.0 -97.0 5\n",
      "-5494.0 -97.0 5\n"
     ]
    },
    {
     "name": "stderr",
     "output_type": "stream",
     "text": [
      "WARNING: The fit may be unsuccessful; check fit_info['message'] for more information. [astropy.modeling.fitting]\n",
      "C:\\Users\\Tripp\\Desktop\\PROGRAM\\IfA_Smeargle\\meta\\fits_and_arrays.py:142: InputWarning: The fits file contains an <IFASMASK> extension, a pixel mask created by this program. It will be applied to the data. The output data will be a Numpy Masked Array.\n",
      "  smeargle_warning(InputWarning,(\"The fits file contains an <IFASMASK> extension, \"\n"
     ]
    },
    {
     "name": "stdout",
     "output_type": "stream",
     "text": [
      "-1070.0 0.0 5\n",
      "-1070.0 0.0 5\n"
     ]
    },
    {
     "name": "stderr",
     "output_type": "stream",
     "text": [
      "C:\\Users\\Tripp\\Desktop\\PROGRAM\\IfA_Smeargle\\meta\\fits_and_arrays.py:142: InputWarning: The fits file contains an <IFASMASK> extension, a pixel mask created by this program. It will be applied to the data. The output data will be a Numpy Masked Array.\n",
      "  smeargle_warning(InputWarning,(\"The fits file contains an <IFASMASK> extension, \"\n"
     ]
    },
    {
     "name": "stdout",
     "output_type": "stream",
     "text": [
      "-295.0 0.0 5\n",
      "-295.0 0.0 5\n"
     ]
    },
    {
     "name": "stderr",
     "output_type": "stream",
     "text": [
      "C:\\Users\\Tripp\\Desktop\\PROGRAM\\IfA_Smeargle\\meta\\fits_and_arrays.py:142: InputWarning: The fits file contains an <IFASMASK> extension, a pixel mask created by this program. It will be applied to the data. The output data will be a Numpy Masked Array.\n",
      "  smeargle_warning(InputWarning,(\"The fits file contains an <IFASMASK> extension, \"\n"
     ]
    },
    {
     "name": "stdout",
     "output_type": "stream",
     "text": [
      "-535.0 3.0 5\n",
      "-535.0 3.0 5\n"
     ]
    },
    {
     "name": "stderr",
     "output_type": "stream",
     "text": [
      "C:\\Users\\Tripp\\Desktop\\PROGRAM\\IfA_Smeargle\\meta\\fits_and_arrays.py:142: InputWarning: The fits file contains an <IFASMASK> extension, a pixel mask created by this program. It will be applied to the data. The output data will be a Numpy Masked Array.\n",
      "  smeargle_warning(InputWarning,(\"The fits file contains an <IFASMASK> extension, \"\n"
     ]
    },
    {
     "name": "stdout",
     "output_type": "stream",
     "text": [
      "-418.0 -38.0 5\n",
      "-418.0 -38.0 5\n"
     ]
    },
    {
     "name": "stderr",
     "output_type": "stream",
     "text": [
      "C:\\Users\\Tripp\\Desktop\\PROGRAM\\IfA_Smeargle\\meta\\fits_and_arrays.py:142: InputWarning: The fits file contains an <IFASMASK> extension, a pixel mask created by this program. It will be applied to the data. The output data will be a Numpy Masked Array.\n",
      "  smeargle_warning(InputWarning,(\"The fits file contains an <IFASMASK> extension, \"\n",
      "C:\\Users\\Tripp\\Desktop\\PROGRAM\\IfA_Smeargle\\meta\\fits_and_arrays.py:142: InputWarning: The fits file contains an <IFASMASK> extension, a pixel mask created by this program. It will be applied to the data. The output data will be a Numpy Masked Array.\n",
      "  smeargle_warning(InputWarning,(\"The fits file contains an <IFASMASK> extension, \"\n"
     ]
    },
    {
     "name": "stdout",
     "output_type": "stream",
     "text": [
      "-144.0 -7.0 5\n",
      "-144.0 -7.0 5\n",
      "-230.0 -17.0 5\n",
      "-230.0 -17.0 5\n"
     ]
    },
    {
     "name": "stderr",
     "output_type": "stream",
     "text": [
      "C:\\Users\\Tripp\\Desktop\\PROGRAM\\IfA_Smeargle\\meta\\fits_and_arrays.py:142: InputWarning: The fits file contains an <IFASMASK> extension, a pixel mask created by this program. It will be applied to the data. The output data will be a Numpy Masked Array.\n",
      "  smeargle_warning(InputWarning,(\"The fits file contains an <IFASMASK> extension, \"\n"
     ]
    },
    {
     "name": "stdout",
     "output_type": "stream",
     "text": [
      "-150.0 30.0 5\n",
      "-150.0 30.0 5\n"
     ]
    },
    {
     "name": "stderr",
     "output_type": "stream",
     "text": [
      "C:\\Users\\Tripp\\Desktop\\PROGRAM\\IfA_Smeargle\\meta\\fits_and_arrays.py:142: InputWarning: The fits file contains an <IFASMASK> extension, a pixel mask created by this program. It will be applied to the data. The output data will be a Numpy Masked Array.\n",
      "  smeargle_warning(InputWarning,(\"The fits file contains an <IFASMASK> extension, \"\n",
      "C:\\Users\\Tripp\\Desktop\\PROGRAM\\IfA_Smeargle\\meta\\fits_and_arrays.py:142: InputWarning: The fits file contains an <IFASMASK> extension, a pixel mask created by this program. It will be applied to the data. The output data will be a Numpy Masked Array.\n",
      "  smeargle_warning(InputWarning,(\"The fits file contains an <IFASMASK> extension, \"\n"
     ]
    },
    {
     "name": "stdout",
     "output_type": "stream",
     "text": [
      "-74.0 6.0 5\n",
      "-74.0 6.0 5\n",
      "-110.0 7.0 5\n",
      "-110.0 7.0 5\n"
     ]
    },
    {
     "name": "stderr",
     "output_type": "stream",
     "text": [
      "C:\\Users\\Tripp\\Desktop\\PROGRAM\\IfA_Smeargle\\meta\\fits_and_arrays.py:142: InputWarning: The fits file contains an <IFASMASK> extension, a pixel mask created by this program. It will be applied to the data. The output data will be a Numpy Masked Array.\n",
      "  smeargle_warning(InputWarning,(\"The fits file contains an <IFASMASK> extension, \"\n"
     ]
    },
    {
     "name": "stdout",
     "output_type": "stream",
     "text": [
      "-114.0 -13.0 5\n",
      "-114.0 -13.0 5\n"
     ]
    },
    {
     "name": "stderr",
     "output_type": "stream",
     "text": [
      "C:\\Users\\Tripp\\Desktop\\PROGRAM\\IfA_Smeargle\\meta\\fits_and_arrays.py:142: InputWarning: The fits file contains an <IFASMASK> extension, a pixel mask created by this program. It will be applied to the data. The output data will be a Numpy Masked Array.\n",
      "  smeargle_warning(InputWarning,(\"The fits file contains an <IFASMASK> extension, \"\n",
      "C:\\Users\\Tripp\\Desktop\\PROGRAM\\IfA_Smeargle\\meta\\fits_and_arrays.py:142: InputWarning: The fits file contains an <IFASMASK> extension, a pixel mask created by this program. It will be applied to the data. The output data will be a Numpy Masked Array.\n",
      "  smeargle_warning(InputWarning,(\"The fits file contains an <IFASMASK> extension, \"\n"
     ]
    },
    {
     "name": "stdout",
     "output_type": "stream",
     "text": [
      "-66.0 -6.0 5\n",
      "-66.0 -6.0 5\n",
      "-88.0 -12.0 5\n",
      "-88.0 -12.0 5\n"
     ]
    },
    {
     "name": "stderr",
     "output_type": "stream",
     "text": [
      "C:\\Users\\Tripp\\Desktop\\PROGRAM\\IfA_Smeargle\\meta\\fits_and_arrays.py:142: InputWarning: The fits file contains an <IFASMASK> extension, a pixel mask created by this program. It will be applied to the data. The output data will be a Numpy Masked Array.\n",
      "  smeargle_warning(InputWarning,(\"The fits file contains an <IFASMASK> extension, \"\n",
      "C:\\Users\\Tripp\\Desktop\\PROGRAM\\IfA_Smeargle\\meta\\fits_and_arrays.py:142: InputWarning: The fits file contains an <IFASMASK> extension, a pixel mask created by this program. It will be applied to the data. The output data will be a Numpy Masked Array.\n",
      "  smeargle_warning(InputWarning,(\"The fits file contains an <IFASMASK> extension, \"\n"
     ]
    },
    {
     "name": "stdout",
     "output_type": "stream",
     "text": [
      "-95.0 -5.0 5\n",
      "-95.0 -5.0 5\n",
      "-61.0 -4.0 5\n",
      "-61.0 -4.0 5\n"
     ]
    },
    {
     "name": "stderr",
     "output_type": "stream",
     "text": [
      "C:\\Users\\Tripp\\Desktop\\PROGRAM\\IfA_Smeargle\\meta\\fits_and_arrays.py:142: InputWarning: The fits file contains an <IFASMASK> extension, a pixel mask created by this program. It will be applied to the data. The output data will be a Numpy Masked Array.\n",
      "  smeargle_warning(InputWarning,(\"The fits file contains an <IFASMASK> extension, \"\n"
     ]
    },
    {
     "name": "stdout",
     "output_type": "stream",
     "text": [
      "-76.0 -7.0 5\n",
      "-76.0 -7.0 5\n"
     ]
    },
    {
     "name": "stderr",
     "output_type": "stream",
     "text": [
      "C:\\Users\\Tripp\\Desktop\\PROGRAM\\IfA_Smeargle\\meta\\fits_and_arrays.py:142: InputWarning: The fits file contains an <IFASMASK> extension, a pixel mask created by this program. It will be applied to the data. The output data will be a Numpy Masked Array.\n",
      "  smeargle_warning(InputWarning,(\"The fits file contains an <IFASMASK> extension, \"\n"
     ]
    },
    {
     "name": "stdout",
     "output_type": "stream",
     "text": [
      "-64.0 9.0 5\n",
      "-64.0 9.0 5\n"
     ]
    },
    {
     "name": "stderr",
     "output_type": "stream",
     "text": [
      "C:\\Users\\Tripp\\Desktop\\PROGRAM\\IfA_Smeargle\\meta\\fits_and_arrays.py:142: InputWarning: The fits file contains an <IFASMASK> extension, a pixel mask created by this program. It will be applied to the data. The output data will be a Numpy Masked Array.\n",
      "  smeargle_warning(InputWarning,(\"The fits file contains an <IFASMASK> extension, \"\n"
     ]
    },
    {
     "name": "stdout",
     "output_type": "stream",
     "text": [
      "-43.0 6.0 5\n",
      "-43.0 6.0 5\n"
     ]
    },
    {
     "name": "stderr",
     "output_type": "stream",
     "text": [
      "C:\\Users\\Tripp\\Desktop\\PROGRAM\\IfA_Smeargle\\meta\\fits_and_arrays.py:142: InputWarning: The fits file contains an <IFASMASK> extension, a pixel mask created by this program. It will be applied to the data. The output data will be a Numpy Masked Array.\n",
      "  smeargle_warning(InputWarning,(\"The fits file contains an <IFASMASK> extension, \"\n"
     ]
    },
    {
     "name": "stdout",
     "output_type": "stream",
     "text": [
      "-52.0 5.0 5\n",
      "-52.0 5.0 5\n"
     ]
    },
    {
     "name": "stderr",
     "output_type": "stream",
     "text": [
      "C:\\Users\\Tripp\\Desktop\\PROGRAM\\IfA_Smeargle\\meta\\fits_and_arrays.py:142: InputWarning: The fits file contains an <IFASMASK> extension, a pixel mask created by this program. It will be applied to the data. The output data will be a Numpy Masked Array.\n",
      "  smeargle_warning(InputWarning,(\"The fits file contains an <IFASMASK> extension, \"\n",
      "C:\\Users\\Tripp\\Desktop\\PROGRAM\\IfA_Smeargle\\meta\\fits_and_arrays.py:142: InputWarning: The fits file contains an <IFASMASK> extension, a pixel mask created by this program. It will be applied to the data. The output data will be a Numpy Masked Array.\n",
      "  smeargle_warning(InputWarning,(\"The fits file contains an <IFASMASK> extension, \"\n"
     ]
    },
    {
     "name": "stdout",
     "output_type": "stream",
     "text": [
      "-98.0 -9.0 5\n",
      "-98.0 -9.0 5\n",
      "-71.0 -12.0 5\n",
      "-71.0 -12.0 5\n",
      "-91.0 -16.0 5\n"
     ]
    },
    {
     "name": "stderr",
     "output_type": "stream",
     "text": [
      "C:\\Users\\Tripp\\Desktop\\PROGRAM\\IfA_Smeargle\\meta\\fits_and_arrays.py:142: InputWarning: The fits file contains an <IFASMASK> extension, a pixel mask created by this program. It will be applied to the data. The output data will be a Numpy Masked Array.\n",
      "  smeargle_warning(InputWarning,(\"The fits file contains an <IFASMASK> extension, \"\n"
     ]
    },
    {
     "name": "stdout",
     "output_type": "stream",
     "text": [
      "-91.0 -16.0 5\n"
     ]
    },
    {
     "name": "stderr",
     "output_type": "stream",
     "text": [
      "C:\\Users\\Tripp\\Desktop\\PROGRAM\\IfA_Smeargle\\meta\\fits_and_arrays.py:142: InputWarning: The fits file contains an <IFASMASK> extension, a pixel mask created by this program. It will be applied to the data. The output data will be a Numpy Masked Array.\n",
      "  smeargle_warning(InputWarning,(\"The fits file contains an <IFASMASK> extension, \"\n"
     ]
    },
    {
     "name": "stdout",
     "output_type": "stream",
     "text": [
      "-150.0 -2.5 5\n",
      "-150.0 -2.5 5\n"
     ]
    },
    {
     "name": "stderr",
     "output_type": "stream",
     "text": [
      "C:\\Users\\Tripp\\Desktop\\PROGRAM\\IfA_Smeargle\\meta\\fits_and_arrays.py:142: InputWarning: The fits file contains an <IFASMASK> extension, a pixel mask created by this program. It will be applied to the data. The output data will be a Numpy Masked Array.\n",
      "  smeargle_warning(InputWarning,(\"The fits file contains an <IFASMASK> extension, \"\n",
      "C:\\Users\\Tripp\\Desktop\\PROGRAM\\IfA_Smeargle\\meta\\fits_and_arrays.py:142: InputWarning: The fits file contains an <IFASMASK> extension, a pixel mask created by this program. It will be applied to the data. The output data will be a Numpy Masked Array.\n",
      "  smeargle_warning(InputWarning,(\"The fits file contains an <IFASMASK> extension, \"\n"
     ]
    },
    {
     "name": "stdout",
     "output_type": "stream",
     "text": [
      "-78.5 -4.0 5\n",
      "-78.5 -4.0 5\n",
      "-107.0 -4.0 5\n",
      "-107.0 -4.0 5\n"
     ]
    },
    {
     "name": "stderr",
     "output_type": "stream",
     "text": [
      "C:\\Users\\Tripp\\Desktop\\PROGRAM\\IfA_Smeargle\\meta\\fits_and_arrays.py:142: InputWarning: The fits file contains an <IFASMASK> extension, a pixel mask created by this program. It will be applied to the data. The output data will be a Numpy Masked Array.\n",
      "  smeargle_warning(InputWarning,(\"The fits file contains an <IFASMASK> extension, \"\n"
     ]
    },
    {
     "name": "stdout",
     "output_type": "stream",
     "text": [
      "-407.0 113.0 5\n",
      "-407.0 113.0 5\n"
     ]
    },
    {
     "name": "stderr",
     "output_type": "stream",
     "text": [
      "C:\\Users\\Tripp\\Desktop\\PROGRAM\\IfA_Smeargle\\meta\\fits_and_arrays.py:142: InputWarning: The fits file contains an <IFASMASK> extension, a pixel mask created by this program. It will be applied to the data. The output data will be a Numpy Masked Array.\n",
      "  smeargle_warning(InputWarning,(\"The fits file contains an <IFASMASK> extension, \"\n"
     ]
    },
    {
     "name": "stdout",
     "output_type": "stream",
     "text": [
      "-147.0 -5.0 5\n",
      "-147.0 -5.0 5\n"
     ]
    },
    {
     "name": "stderr",
     "output_type": "stream",
     "text": [
      "C:\\Users\\Tripp\\Desktop\\PROGRAM\\IfA_Smeargle\\meta\\fits_and_arrays.py:142: InputWarning: The fits file contains an <IFASMASK> extension, a pixel mask created by this program. It will be applied to the data. The output data will be a Numpy Masked Array.\n",
      "  smeargle_warning(InputWarning,(\"The fits file contains an <IFASMASK> extension, \"\n"
     ]
    },
    {
     "name": "stdout",
     "output_type": "stream",
     "text": [
      "-240.0 -8.0 5\n",
      "-240.0 -8.0 5\n"
     ]
    },
    {
     "name": "stderr",
     "output_type": "stream",
     "text": [
      "C:\\Users\\Tripp\\Desktop\\PROGRAM\\IfA_Smeargle\\meta\\fits_and_arrays.py:142: InputWarning: The fits file contains an <IFASMASK> extension, a pixel mask created by this program. It will be applied to the data. The output data will be a Numpy Masked Array.\n",
      "  smeargle_warning(InputWarning,(\"The fits file contains an <IFASMASK> extension, \"\n"
     ]
    },
    {
     "name": "stdout",
     "output_type": "stream",
     "text": [
      "-1162.0 -72.0 5\n",
      "-1162.0 -72.0 5\n"
     ]
    },
    {
     "name": "stderr",
     "output_type": "stream",
     "text": [
      "C:\\Users\\Tripp\\Desktop\\PROGRAM\\IfA_Smeargle\\meta\\fits_and_arrays.py:142: InputWarning: The fits file contains an <IFASMASK> extension, a pixel mask created by this program. It will be applied to the data. The output data will be a Numpy Masked Array.\n",
      "  smeargle_warning(InputWarning,(\"The fits file contains an <IFASMASK> extension, \"\n"
     ]
    },
    {
     "name": "stdout",
     "output_type": "stream",
     "text": [
      "-299.0 -14.0 5\n",
      "-299.0 -14.0 5\n",
      "-555.0 -50.0 5\n"
     ]
    },
    {
     "name": "stderr",
     "output_type": "stream",
     "text": [
      "C:\\Users\\Tripp\\Desktop\\PROGRAM\\IfA_Smeargle\\meta\\fits_and_arrays.py:142: InputWarning: The fits file contains an <IFASMASK> extension, a pixel mask created by this program. It will be applied to the data. The output data will be a Numpy Masked Array.\n",
      "  smeargle_warning(InputWarning,(\"The fits file contains an <IFASMASK> extension, \"\n"
     ]
    },
    {
     "name": "stdout",
     "output_type": "stream",
     "text": [
      "-555.0 -50.0 5\n"
     ]
    },
    {
     "name": "stderr",
     "output_type": "stream",
     "text": [
      "C:\\Users\\Tripp\\Desktop\\PROGRAM\\IfA_Smeargle\\meta\\fits_and_arrays.py:142: InputWarning: The fits file contains an <IFASMASK> extension, a pixel mask created by this program. It will be applied to the data. The output data will be a Numpy Masked Array.\n",
      "  smeargle_warning(InputWarning,(\"The fits file contains an <IFASMASK> extension, \"\n"
     ]
    },
    {
     "name": "stdout",
     "output_type": "stream",
     "text": [
      "-9268.0 -139.0 5\n",
      "-9268.0 -139.0 5\n"
     ]
    },
    {
     "name": "stderr",
     "output_type": "stream",
     "text": [
      "WARNING: The fit may be unsuccessful; check fit_info['message'] for more information. [astropy.modeling.fitting]\n",
      "C:\\Users\\Tripp\\Desktop\\PROGRAM\\IfA_Smeargle\\meta\\fits_and_arrays.py:142: InputWarning: The fits file contains an <IFASMASK> extension, a pixel mask created by this program. It will be applied to the data. The output data will be a Numpy Masked Array.\n",
      "  smeargle_warning(InputWarning,(\"The fits file contains an <IFASMASK> extension, \"\n"
     ]
    },
    {
     "name": "stdout",
     "output_type": "stream",
     "text": [
      "-2292.0 -55.0 5\n",
      "-2292.0 -55.0 5\n"
     ]
    },
    {
     "name": "stderr",
     "output_type": "stream",
     "text": [
      "C:\\Users\\Tripp\\Desktop\\PROGRAM\\IfA_Smeargle\\meta\\fits_and_arrays.py:142: InputWarning: The fits file contains an <IFASMASK> extension, a pixel mask created by this program. It will be applied to the data. The output data will be a Numpy Masked Array.\n",
      "  smeargle_warning(InputWarning,(\"The fits file contains an <IFASMASK> extension, \"\n"
     ]
    },
    {
     "name": "stdout",
     "output_type": "stream",
     "text": [
      "-5640.0 391.0 5\n",
      "-5640.0 391.0 5\n"
     ]
    },
    {
     "name": "stderr",
     "output_type": "stream",
     "text": [
      "WARNING: The fit may be unsuccessful; check fit_info['message'] for more information. [astropy.modeling.fitting]\n",
      "C:\\Users\\Tripp\\Desktop\\PROGRAM\\IfA_Smeargle\\meta\\fits_and_arrays.py:142: InputWarning: The fits file contains an <IFASMASK> extension, a pixel mask created by this program. It will be applied to the data. The output data will be a Numpy Masked Array.\n",
      "  smeargle_warning(InputWarning,(\"The fits file contains an <IFASMASK> extension, \"\n"
     ]
    },
    {
     "name": "stdout",
     "output_type": "stream",
     "text": [
      "-37971.0 -326.0 5\n",
      "-37971.0 -326.0 5\n"
     ]
    },
    {
     "name": "stderr",
     "output_type": "stream",
     "text": [
      "WARNING: The fit may be unsuccessful; check fit_info['message'] for more information. [astropy.modeling.fitting]\n",
      "C:\\Users\\Tripp\\Desktop\\PROGRAM\\IfA_Smeargle\\meta\\fits_and_arrays.py:142: InputWarning: The fits file contains an <IFASMASK> extension, a pixel mask created by this program. It will be applied to the data. The output data will be a Numpy Masked Array.\n",
      "  smeargle_warning(InputWarning,(\"The fits file contains an <IFASMASK> extension, \"\n"
     ]
    },
    {
     "name": "stdout",
     "output_type": "stream",
     "text": [
      "-11619.0 -140.0 5\n",
      "-11619.0 -140.0 5\n"
     ]
    },
    {
     "name": "stderr",
     "output_type": "stream",
     "text": [
      "WARNING: The fit may be unsuccessful; check fit_info['message'] for more information. [astropy.modeling.fitting]\n",
      "C:\\Users\\Tripp\\Desktop\\PROGRAM\\IfA_Smeargle\\meta\\fits_and_arrays.py:142: InputWarning: The fits file contains an <IFASMASK> extension, a pixel mask created by this program. It will be applied to the data. The output data will be a Numpy Masked Array.\n",
      "  smeargle_warning(InputWarning,(\"The fits file contains an <IFASMASK> extension, \"\n"
     ]
    },
    {
     "name": "stdout",
     "output_type": "stream",
     "text": [
      "-11393.0 -206.0 5\n",
      "-11393.0 -206.0 5\n"
     ]
    },
    {
     "name": "stderr",
     "output_type": "stream",
     "text": [
      "C:\\Users\\Tripp\\Desktop\\PROGRAM\\IfA_Smeargle\\meta\\fits_and_arrays.py:142: InputWarning: The fits file contains an <IFASMASK> extension, a pixel mask created by this program. It will be applied to the data. The output data will be a Numpy Masked Array.\n",
      "  smeargle_warning(InputWarning,(\"The fits file contains an <IFASMASK> extension, \"\n"
     ]
    },
    {
     "name": "stdout",
     "output_type": "stream",
     "text": [
      "-37421.0 -334.0 5\n",
      "-37421.0 -334.0 5\n"
     ]
    },
    {
     "name": "stderr",
     "output_type": "stream",
     "text": [
      "WARNING: The fit may be unsuccessful; check fit_info['message'] for more information. [astropy.modeling.fitting]\n",
      "C:\\Users\\Tripp\\Desktop\\PROGRAM\\IfA_Smeargle\\meta\\fits_and_arrays.py:142: InputWarning: The fits file contains an <IFASMASK> extension, a pixel mask created by this program. It will be applied to the data. The output data will be a Numpy Masked Array.\n",
      "  smeargle_warning(InputWarning,(\"The fits file contains an <IFASMASK> extension, \"\n"
     ]
    },
    {
     "name": "stdout",
     "output_type": "stream",
     "text": [
      "-11251.0 -132.0 5\n",
      "-11251.0 -132.0 5\n"
     ]
    },
    {
     "name": "stderr",
     "output_type": "stream",
     "text": [
      "WARNING: The fit may be unsuccessful; check fit_info['message'] for more information. [astropy.modeling.fitting]\n",
      "C:\\Users\\Tripp\\Desktop\\PROGRAM\\IfA_Smeargle\\meta\\fits_and_arrays.py:142: InputWarning: The fits file contains an <IFASMASK> extension, a pixel mask created by this program. It will be applied to the data. The output data will be a Numpy Masked Array.\n",
      "  smeargle_warning(InputWarning,(\"The fits file contains an <IFASMASK> extension, \"\n"
     ]
    },
    {
     "name": "stdout",
     "output_type": "stream",
     "text": [
      "-13829.0 -225.0 5\n",
      "-13829.0 -225.0 5\n"
     ]
    }
   ],
   "source": [
    "ifas.zulu.pipelines.SA201907281826_reduction_pipeline('./Data',first_run)"
   ]
  },
  {
   "cell_type": "code",
   "execution_count": null,
   "metadata": {},
   "outputs": [],
   "source": [
    "__, __, data = ifas.meta.meta_faa.smeargle_open_fits_file(\"./Data/Saphria__num;19__detBias;8.5Vup__1025-1040.fits\")"
   ]
  },
  {
   "cell_type": "code",
   "execution_count": null,
   "metadata": {},
   "outputs": [],
   "source": [
    "data\n",
    "print(np.nanmean(data.data),np.nanstd(data.data))"
   ]
  },
  {
   "cell_type": "code",
   "execution_count": null,
   "metadata": {},
   "outputs": [],
   "source": [
    "first_run.OscarConfig.general_histogram_config['histogram_plot_paramters']['range'] = [-1000,1000]\n",
    "\n",
    "figure = ifas.oscar.multi.plot_single_heatmap_and_histogram(\"./Data\\Saphria__num;14__detBias;4.5Vdown__1025-1040.fits\",first_run)\n",
    "#figure.axes[1].axvline(np.nanmean(data.data))\n",
    "plt.show(figure)"
   ]
  },
  {
   "cell_type": "code",
   "execution_count": null,
   "metadata": {},
   "outputs": [],
   "source": [
    "first_run.OscarConfig.general_histogram_config['fit_gaussian'] = True\n",
    "#first_run.OscarConfig.general_histogram_config['bin_width'] = 5\n",
    "#first_run.OscarConfig.general_histogram_config['histogram_plot_paramters']['range'] = [-250,100]\n",
    "\n",
    "__, __, data = ifas.meta.meta_faa.smeargle_open_fits_file(\"./Data/SAPHIRA-MK12145-02_20190913-40K__num;7__detBias;10.5Vup__slice;513-528.fits\")\n",
    "figure2 = ifas.oscar.multi.plot_single_heatmap_and_histogram(data,first_run)\n",
    "#figure3 = ifas.oscar.multi.plot_single_heatmap_and_histogram(data.data,first_run)\n",
    "#figure.axes[1].axvline(np.nanmean(data.data))\n",
    "plt.show(figure2)\n",
    "plt.show(figure3)\n",
    "\n",
    "# [ 72 120 136 250 294]\n",
    "#[-16074. -14058. -13386.  -8598.  -6750.]\n",
    "ifas.meta.meta_plting.smeargle_save_figure_file(figure2,\"website.png\")\n",
    "print(np.histogram(data.data,bins=10))"
   ]
  },
  {
   "cell_type": "code",
   "execution_count": null,
   "metadata": {},
   "outputs": [],
   "source": [
    "__, __, data = ifas.meta.meta_faa.smeargle_open_fits_file(\"./Data\\Saphria__num;14__detBias;4.5Vdown__257-272.fits\")\n",
    "figure2 = ifas.oscar.histograms.plot_array_histogram(data.data,bin_width=10,fit_gaussian=True)\n",
    "#figure.axes[1].axvline(np.nanmean(data.data))\n",
    "plt.show(figure2)\n",
    "\n",
    "wee, weer = ifas.meta.meta_model.smeargle_fit_histogram_gaussian_function(data.data)\n",
    "\n",
    "print(np.nanstd(data))"
   ]
  },
  {
   "cell_type": "code",
   "execution_count": null,
   "metadata": {},
   "outputs": [],
   "source": [
    "# Extract histogram data from the data.\n",
    "hist_data = np.histogram(data.data, bins=ifa.oscar.oscar_bin_width(data.data, 10))\n",
    "hist_x = (hist_data[1][0:-1] + hist_data[1][1:]) / 2 # Middle of bin.\n",
    "hist_y = hist_data[0]\n",
    "   # Filter out some of the outlier pixels, consider only 75% of the \n",
    "    # meaningful bins and the bins with a value greater than a limiting entry.\n",
    "valuecut_index = np.where(hist_y >= 11)\n",
    "cuthist_x = np.array(hist_x[valuecut_index])\n",
    "cuthist_y = np.array(hist_y[valuecut_index])\n",
    "\n",
    "    # Initial guesses...\n",
    "    # The peak of the data is a good guess for the mean value.\n",
    "guess_mean = hist_x[np.argmax(cuthist_y)]\n",
    "print(np.nanstd(cuthist_y))\n",
    "print(sp_stat.median_absolute_deviation(cuthist_y))\n",
    "print(sp_stat.variation(cuthist_y))"
   ]
  },
  {
   "cell_type": "code",
   "execution_count": null,
   "metadata": {},
   "outputs": [],
   "source": [
    "ifas.bravo.sanitize.same_file_size_sanitization('./Data')"
   ]
  },
  {
   "cell_type": "code",
   "execution_count": null,
   "metadata": {},
   "outputs": [],
   "source": [
    "glob.glob('./Data*.fits')"
   ]
  },
  {
   "cell_type": "code",
   "execution_count": null,
   "metadata": {},
   "outputs": [],
   "source": []
  },
  {
   "cell_type": "code",
   "execution_count": 4,
   "metadata": {},
   "outputs": [
    {
     "ename": "AttributeError",
     "evalue": "module 'IfA_Smeargle.oscar.voltage_plots' has no attribute 'plot_dark_current_over_voltage'",
     "output_type": "error",
     "traceback": [
      "\u001b[1;31m---------------------------------------------------------------------------\u001b[0m",
      "\u001b[1;31mAttributeError\u001b[0m                            Traceback (most recent call last)",
      "\u001b[1;32m<ipython-input-4-1fc16b49d4b6>\u001b[0m in \u001b[0;36m<module>\u001b[1;34m\u001b[0m\n\u001b[0;32m      1\u001b[0m \u001b[0mfig\u001b[0m\u001b[1;33m,\u001b[0m \u001b[0max\u001b[0m \u001b[1;33m=\u001b[0m \u001b[0mplt\u001b[0m\u001b[1;33m.\u001b[0m\u001b[0msubplots\u001b[0m\u001b[1;33m(\u001b[0m\u001b[0mdpi\u001b[0m\u001b[1;33m=\u001b[0m\u001b[1;36m300\u001b[0m\u001b[1;33m)\u001b[0m\u001b[1;33m\u001b[0m\u001b[1;33m\u001b[0m\u001b[0m\n\u001b[1;32m----> 2\u001b[1;33m \u001b[0max\u001b[0m\u001b[1;33m,\u001b[0m \u001b[0mdata_frame\u001b[0m \u001b[1;33m=\u001b[0m \u001b[0mifas\u001b[0m\u001b[1;33m.\u001b[0m\u001b[0moscar\u001b[0m\u001b[1;33m.\u001b[0m\u001b[0mvolt_plot\u001b[0m\u001b[1;33m.\u001b[0m\u001b[0mplot_dark_current_over_voltage\u001b[0m\u001b[1;33m(\u001b[0m\u001b[1;34m'./Data/'\u001b[0m\u001b[1;33m,\u001b[0m \u001b[0mfigure_axes\u001b[0m\u001b[1;33m=\u001b[0m\u001b[0max\u001b[0m\u001b[1;33m)\u001b[0m\u001b[1;33m\u001b[0m\u001b[1;33m\u001b[0m\u001b[0m\n\u001b[0m\u001b[0;32m      3\u001b[0m \u001b[1;33m\u001b[0m\u001b[0m\n\u001b[0;32m      4\u001b[0m \u001b[1;31m#ax.set_yscale('log')\u001b[0m\u001b[1;33m\u001b[0m\u001b[1;33m\u001b[0m\u001b[1;33m\u001b[0m\u001b[0m\n\u001b[0;32m      5\u001b[0m \u001b[0max\u001b[0m\u001b[1;33m.\u001b[0m\u001b[0mset_ylim\u001b[0m\u001b[1;33m(\u001b[0m\u001b[1;33m(\u001b[0m\u001b[1;33m-\u001b[0m\u001b[1;36m250\u001b[0m\u001b[1;33m,\u001b[0m\u001b[1;36m250\u001b[0m\u001b[1;33m)\u001b[0m\u001b[1;33m)\u001b[0m\u001b[1;33m\u001b[0m\u001b[1;33m\u001b[0m\u001b[0m\n",
      "\u001b[1;31mAttributeError\u001b[0m: module 'IfA_Smeargle.oscar.voltage_plots' has no attribute 'plot_dark_current_over_voltage'"
     ]
    },
    {
     "data": {
      "image/png": "[encoded data removed]",
      "text/plain": [
       "<Figure size 1800x1200 with 1 Axes>"
      ]
     },
     "metadata": {
      "needs_background": "light"
     },
     "output_type": "display_data"
    }
   ],
   "source": [
    "fig, ax = plt.subplots(dpi=300)\n",
    "ax, data_frame = ifas.oscar.volt_plot.plotdir_dark_current_over_voltage('./Data/', figure_axes=ax)\n",
    "\n",
    "#ax.set_yscale('log')\n",
    "ax.set_ylim((-250,250))"
   ]
  },
  {
   "cell_type": "code",
   "execution_count": null,
   "metadata": {
    "scrolled": false
   },
   "outputs": [],
   "source": [
    "with pd.option_context('display.max_rows', None, 'display.max_columns', None):  # more options can be specified also\n",
    "    display(file_data)"
   ]
  },
  {
   "cell_type": "code",
   "execution_count": null,
   "metadata": {},
   "outputs": [],
   "source": [
    "voltage_value = 4.5\n",
    "voltage_slope = 'up'\n",
    "file_data.query('volt == @voltage_value and voltslope == @voltage_slope')\n",
    "\n"
   ]
  },
  {
   "cell_type": "code",
   "execution_count": null,
   "metadata": {},
   "outputs": [],
   "source": [
    "file_data['detector'][0]"
   ]
  },
  {
   "cell_type": "code",
   "execution_count": null,
   "metadata": {},
   "outputs": [],
   "source": [
    "dataframe.query('volt == @voltage_value and voltslope == @voltage_slope')['num']"
   ]
  },
  {
   "cell_type": "code",
   "execution_count": null,
   "metadata": {},
   "outputs": [],
   "source": [
    "voltage_list = copy.deepcopy(np.sort(np.unique(file_data.loc[:,'volt'].to_numpy())))\n",
    "\n",
    "set_metadata = []\n",
    "#slope_list = list(set(dataframe.query('volt == @voltage_value')['voltslope']))\n",
    "\n",
    "for voltdex in voltage_list:\n",
    "    slope_list = list(set(file_data.query('volt == @voltdex')['voltslope']))\n",
    "    \n",
    "    for slopedex in slope_list:\n",
    "        query = file_data.query('volt == @voltdex and voltslope == @slopedex')['num']\n",
    "        filenum = np.sort(np.unique(query))\n",
    "        \n",
    "        for numdex, setdex in zip(filenum,np.arange(len(filenum))+1):\n",
    "            temp_dict = {'metavolt':voltdex,'metaslope':slopedex,'metanum':numdex,'metaset':setdex}\n",
    "            set_metadata.append(temp_dict)\n",
    "            \n",
    "set_metadata = pd.DataFrame(set_metadata)"
   ]
  },
  {
   "cell_type": "code",
   "execution_count": null,
   "metadata": {},
   "outputs": [],
   "source": [
    "set_count = np.flip(np.unique(set_metadata['metaset']))[np.flip(np.unique(set_metadata['metaset'],return_counts=True)[1]).argmax()]\n",
    "\n",
    "for setdex in (np.arange(set_count) + 1):\n",
    "    dataset_list = set_metadata.query('metaset == @setdex')\n",
    "    \n",
    "    x_axis_voltage = []\n",
    "    y_axis_data = []\n",
    "    y_axis_error = []\n",
    "    \n",
    "    for voltdex in voltage_list:\n",
    "        fits_file_numbers = list(dataset_list.query('metavolt == @voltdex')['metanum'].to_numpy())\n",
    "        voltset_data = file_data.query('num == @fits_file_numbers')\n",
    "        \n",
    "        x_axis_voltage.append(voltdex)\n",
    "        y_axis_data.append(np.nanmedian(voltset_data['g_mean']))\n",
    "        y_axis_error.append(np.nanmedian(voltset_data['g_stddev']))\n",
    "        \n",
    "    #####\n",
    "    x_axis_voltage = np.array(x_axis_voltage)\n",
    "    y_axis_data = np.array(y_axis_data)\n",
    "    y_axis_error = np.array(y_axis_error)\n",
    "    plt.errorbar(x_axis_voltage, y_axis_data, yerr=y_axis_error)\n"
   ]
  },
  {
   "cell_type": "code",
   "execution_count": null,
   "metadata": {},
   "outputs": [],
   "source": []
  },
  {
   "cell_type": "code",
   "execution_count": null,
   "metadata": {},
   "outputs": [],
   "source": [
    "import importlib\n",
    "\n",
    "complete_oscar_dict = dict(inspect.getmembers(ifas.oscar, inspect.ismodule))\n",
    "\n",
    "source_file_list = [inspect.getsourcefile(complete_oscar_dict[keydex]) for keydex in complete_oscar_dict.keys()]\n",
    "ifa_smeargle_file_list = [filedex for filedex in source_file_list if 'IfA_Smeargle' in filedex]\n",
    "oscar_file_list = [filedex for filedex in ifa_smeargle_file_list if 'oscar' in filedex]\n",
    "\n",
    "oscar_mod_name_list = [inspect.getmodulename(oscardex) for oscardex in ifa_smeargle_file_list if 'oscar' in oscardex]\n",
    "\n",
    "oscar_modspec = [importlib.util.spec_from_file_location(namedex, filedex) for namedex, filedex in zip(oscar_mod_name_list, oscar_file_list)]\n",
    "oscar_modules = [importlib.util.module_from_spec(specdex) for specdex in oscar_modspec]\n",
    "\n",
    "for specdex, moduledex in zip(specifications,oscar_modules):\n",
    "    specdex.loader.exec_module(moduledex)\n",
    "\n",
    "function_dictionaries = [dict(inspect.getmembers(moduledex,inspect.isfunction)) for moduledex in oscar_modules]\n",
    "\n",
    "oscar_plotting_functions = {}\n",
    "for dictionarydex in function_dictionaries: \n",
    "    oscar_plotting_functions = {**oscar_plotting_functions, **dictionarydex}\n",
    "for keydex, valuedex in copy.deepcopy(oscar_plotting_functions).items():\n",
    "    if ('smeargle' in keydex):\n",
    "        oscar_plotting_functions.pop(keydex, None)\n",
    "    \n",
    "print(oscar_plotting_functions)"
   ]
  },
  {
   "cell_type": "code",
   "execution_count": 2,
   "metadata": {},
   "outputs": [
    {
     "name": "stderr",
     "output_type": "stream",
     "text": [
      "C:\\Users\\Tripp\\Desktop\\PROGRAM\\IfA_Smeargle\\meta\\fits_and_arrays.py:118: InputWarning: The fits file contains an <IFASMASK> extension, a pixel mask created by this program. It will be applied to the data. The output data will be a Numpy Masked Array.\n",
      "  smeargle_warning(InputWarning,(\"The fits file contains an <IFASMASK> extension, \"\n"
     ]
    }
   ],
   "source": [
    "data_array = ifas.zulu.IfasDataArray('./Data/SAPHIRA-MK20-M12145-03_20191001_T60K__num;2__detBias;2.5Vup__slice;1025-1040.fits', \n",
    "                                     configuration_class='FirstRun.ifaspkl')"
   ]
  },
  {
   "cell_type": "code",
   "execution_count": 4,
   "metadata": {},
   "outputs": [
    {
     "name": "stdout",
     "output_type": "stream",
     "text": [
      " This data frame class is a wrapper object around a data array image.\n",
      "    For the directory version of this class, see \n",
      "    :class:`IfasDirectoryDataArray`.\n",
      "\n",
      "    The purpose of this class is to make easier the development of pipelines \n",
      "    and the general flow of the manipulations of data arrays. However, because\n",
      "    this is a wrapper function, not all functionality is guaranteed. For \n",
      "    more basic and known reductions, pipelines are still preferred (see \n",
      "    :doc:`ZULU pipelines <IfA_Smeargle.zulu.detector_pipelines>`)\n",
      "    \n",
      "    New pipelines, however, should always be developed using this object\n",
      "    oriented approach. \n",
      "    \n",
      " This allows for the usage of the ECHO line with this class.\n",
      "\n",
      "        ECHO Attributes\n",
      "        ---------------\n",
      "        echo###_filter_name : method\n",
      "            These are methods attached to this class that allows for the \n",
      "            execution of a filter in an object orientated approach. See the\n",
      "            :doc:`ECHO masks <python_docstrings/IfA_Smeargle.echo.masks>`) \n",
      "            documentation for more information.\n",
      "        echo_mask : ndarray\n",
      "            A boolean array that is the overall mask of this data array.\n",
      "            Does not supersedes, but combines nicely with, the data array \n",
      "            masked array.\n",
      "        echo_mask_dictionary : dictionary\n",
      "            The ECHO masking dictionary that is relevant to this data array.\n",
      "        echo_echo_synthesize_mask_dictionary : method\n",
      "            This method takes the masking dictionary and collapses it down \n",
      "            into a single mask and saves it to the ``echo_mask`` attribute.\n",
      "        echo_apply_mask : method\n",
      "            This method takes the current mask stored in ``echo_mask`` and \n",
      "            applies to the data array, storing the resulting masked array in\n",
      "            the ``data`` attribute and the mask itself in ``datamask``.\n",
      "\n",
      "        \n",
      " This allows for the usage of the OSCAR line with this class.\n",
      "\n",
      "        OSCAR Attributes\n",
      "        ----------------\n",
      "        plot_ploting_function_name : method\n",
      "            This is just a simple plotting function that is wrapped and \n",
      "            built in from the OSCAR line. \n",
      "        \n",
      "This allows for the usage of the YANKEE line with this class.\n",
      "\n",
      "        YANKEE Attributes\n",
      "        -----------------\n",
      "        SmeargleConfig : Configuration Class\n",
      "            This is the built in configuration class that goes along with \n",
      "            this data class. \n",
      "        print_configuration : method\n",
      "            This allows for the print visualization of the SmeargleConfig\n",
      "            configuration class.\n",
      "        read_configuration : method\n",
      "            Provided a configuration file name, this method reads it from \n",
      "            the provided file. \n",
      "        write_configuration : method\n",
      "            Provided a configuration file name, this method writes the \n",
      "            current configuration file to the file name provided. \n",
      "        overwrite_configuration : method\n",
      "            Provided a configuration class, all elements in the current\n",
      "            configuration class, where similar, are overwritten using the \n",
      "            provided class. \n",
      "        fast_forward_configuration : method\n",
      "            Fast forwards the current configuration class to the current \n",
      "            version. \n",
      "        \n"
     ]
    }
   ],
   "source": [
    "print(data_array.__doc__)"
   ]
  },
  {
   "cell_type": "code",
   "execution_count": 5,
   "metadata": {},
   "outputs": [
    {
     "name": "stdout",
     "output_type": "stream",
     "text": [
      "\n",
      "< Configuration Class --- SmeargleConfig > \n",
      "╓ SmeargleConfig Parameters:\n",
      "╟  BravoConfig ↴ \n",
      "< Configuration Class --- BravoConfig > \n",
      "╓ BravoConfig Parameters:\n",
      "╟  detector_name ⇀ {'name': 'SAPHIRA'}\n",
      "╟  voltpat_rename_config ⇀ {'voltage_pattern': [2.5, 4.5, 6.5, 8.5, 9.5, 10.5, 11.5, 11.5, 10.5, 9.5, 8.5, 6.5, 4.5, 2.5], 'begin_garbage': 1, 'archive_data': True}\n",
      "╟  avg_endpts_persec_config ⇀ {'start_chunk': None, 'end_chunk': None, 'frame_exposure_time': None}\n",
      "╟  avg_endpts_perksec_config ⇀ {'start_chunk': None, 'end_chunk': None, 'frame_exposure_time': None}\n",
      "╙------------------------------------------\n",
      "</ Configuration Class --- BravoConfig >\n",
      "╟  EchoConfig ↴ \n",
      "< Configuration Class --- EchoConfig > \n",
      "╓ EchoConfig Parameters:\n",
      "╟  echo010_config ⇀ {'run': False}\n",
      "╟  echo120_config ⇀ {'run': False, 'x_range': None, 'y_range': None}\n",
      "╟  echo170_config ⇀ {'run': True, 'sigma_multiple': 5, 'bin_size': 5}\n",
      "╟  echo270_config ⇀ {'run': False, 'minimum_value': None}\n",
      "╟  echo271_config ⇀ {'run': False, 'maximum_value': -50}\n",
      "╟  echo275_config ⇀ {'run': False, 'top_count': None, 'bottom_count': None}\n",
      "╟  echo276_config ⇀ {'run': False, 'kept_range': None}\n",
      "╟  echo277_config ⇀ {'run': False, 'sigma_limits': None}\n",
      "╟  echo380_config ⇀ {'run': False, 'pixel_list': None}\n",
      "╟  echo381_config ⇀ {'run': False, 'x_ranges': None, 'y_ranges': None}\n",
      "╟  echo382_config ⇀ {'run': False, 'column_list': None}\n",
      "╟  echo383_config ⇀ {'run': False, 'row_list': None}\n",
      "╟  echo398_config ⇀ {'run': False}\n",
      "╟  echo399_config ⇀ {'run': False}\n",
      "╙------------------------------------------\n",
      "</ Configuration Class --- EchoConfig >\n",
      "╟  OscarConfig ↴ \n",
      "< Configuration Class --- OscarConfig > \n",
      "╓ OscarConfig Parameters:\n",
      "╟  general_heatmap_config ⇀ {'plot': True, 'data_array': None, 'heatmap_plot_parameters': {}, 'colorbar_plot_paramters': {}}\n",
      "╟  general_histogram_config ⇀ {'plot': True, 'data_array': None, 'bin_width': 5, 'histogram_plot_paramters': {}}\n",
      "╙------------------------------------------\n",
      "</ Configuration Class --- OscarConfig >\n",
      "╟  YankeeConfig ↴ \n",
      "< Configuration Class --- YankeeConfig > \n",
      "╓ YankeeConfig Parameters:\n",
      "╙------------------------------------------\n",
      "</ Configuration Class --- YankeeConfig >\n",
      "╟  ZuluConfig ↴ \n",
      "< Configuration Class --- ZuluConfig > \n",
      "╓ ZuluConfig Parameters:\n",
      "╟  SA201907281826 ⇀ {'early_frame': 3, 'ref_frame': array([17, 32]), 'sub_avg_frames': array([[ 257,  272],\n",
      "       [ 513,  528],\n",
      "       [1025, 1040]]), 'frame_exposure': 5, 'early_sigma': 5}\n",
      "╙------------------------------------------\n",
      "</ Configuration Class --- ZuluConfig >\n",
      "╟  BaseConfig ↴ \n",
      "< Configuration Class --- BaseConfig > \n",
      "╓ BaseConfig Parameters:\n",
      "╙------------------------------------------\n",
      "</ Configuration Class --- BaseConfig >\n",
      "╙------------------------------------------\n",
      "</ Configuration Class --- SmeargleConfig >\n"
     ]
    }
   ],
   "source": [
    "data_array.config.EchoConfig.echo271_config['maximum_value'] = -50\n",
    "print(data_array.config)"
   ]
  },
  {
   "cell_type": "code",
   "execution_count": 10,
   "metadata": {},
   "outputs": [
    {
     "name": "stderr",
     "output_type": "stream",
     "text": [
      "C:\\Users\\Tripp\\Desktop\\PROGRAM\\IfA_Smeargle\\zulu\\zulu_main.py:202: MaskingWarning: The <run> parameter for the masking function < echo271_maximum_cut > is False. The mask shall not be applied nor added to masking dictionary.\n",
      "  .format(filter_name=filter_key)))\n"
     ]
    }
   ],
   "source": [
    "data_array.echo271_maximum_cut(run=False, configuration=True)"
   ]
  },
  {
   "cell_type": "code",
   "execution_count": 7,
   "metadata": {},
   "outputs": [
    {
     "data": {
      "text/plain": [
       "array([[ True, False,  True, ..., False, False, False],\n",
       "       [ True, False,  True, ..., False, False, False],\n",
       "       [False,  True,  True, ..., False, False, False],\n",
       "       ...,\n",
       "       [ True,  True,  True, ..., False, False, False],\n",
       "       [False, False, False, ..., False, False, False],\n",
       "       [ True, False,  True, ...,  True,  True,  True]])"
      ]
     },
     "execution_count": 7,
     "metadata": {},
     "output_type": "execute_result"
    }
   ],
   "source": [
    "data_array.echo_synthesize_mask_dictionary()"
   ]
  },
  {
   "cell_type": "code",
   "execution_count": 8,
   "metadata": {},
   "outputs": [
    {
     "data": {
      "text/plain": [
       "masked_array(\n",
       "  data=[[--, --, --, ..., --, --, --],\n",
       "        [--, --, --, ..., --, --, --],\n",
       "        [-54.0, --, --, ..., --, --, --],\n",
       "        ...,\n",
       "        [--, --, --, ..., -53.0, -60.0, -54.0],\n",
       "        [-51.0, --, -50.0, ..., -55.0, -58.0, -56.0],\n",
       "        [--, --, --, ..., --, --, --]],\n",
       "  mask=[[ True,  True,  True, ...,  True,  True,  True],\n",
       "        [ True,  True,  True, ...,  True,  True,  True],\n",
       "        [False,  True,  True, ...,  True,  True,  True],\n",
       "        ...,\n",
       "        [ True,  True,  True, ..., False, False, False],\n",
       "        [False,  True, False, ..., False, False, False],\n",
       "        [ True,  True,  True, ...,  True,  True,  True]],\n",
       "  fill_value=1e+20,\n",
       "  dtype=float32)"
      ]
     },
     "execution_count": 8,
     "metadata": {},
     "output_type": "execute_result"
    }
   ],
   "source": [
    "data_array.echo_numpy_masked_array()"
   ]
  },
  {
   "cell_type": "code",
   "execution_count": 9,
   "metadata": {},
   "outputs": [
    {
     "data": {
      "text/plain": [
       "<matplotlib.axes._subplots.AxesSubplot at 0x1f5b910ca20>"
      ]
     },
     "execution_count": 9,
     "metadata": {},
     "output_type": "execute_result"
    },
    {
     "data": {
      "image/png": "[encoded data removed]",
      "text/plain": [
       "<Figure size 432x288 with 2 Axes>"
      ]
     },
     "metadata": {
      "needs_background": "light"
     },
     "output_type": "display_data"
    }
   ],
   "source": [
    "data_array.plot_array_heatmap_image()"
   ]
  },
  {
   "cell_type": "code",
   "execution_count": null,
   "metadata": {},
   "outputs": [],
   "source": []
  }
 ],
 "metadata": {
  "kernelspec": {
   "display_name": "Python 3",
   "language": "python",
   "name": "python3"
  },
  "language_info": {
   "codemirror_mode": {
    "name": "ipython",
    "version": 3
   },
   "file_extension": ".py",
   "mimetype": "text/x-python",
   "name": "python",
   "nbconvert_exporter": "python",
   "pygments_lexer": "ipython3",
   "version": "3.7.3"
  }
 },
 "nbformat": 4,
 "nbformat_minor": 2
}
