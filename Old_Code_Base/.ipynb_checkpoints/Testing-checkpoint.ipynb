{
 "cells": [
  {
   "cell_type": "code",
   "execution_count": 2,
   "metadata": {},
   "outputs": [],
   "source": [
    "import astropy as ap\n",
    "import astropy.io.fits as ap_fits\n",
    "import astropy.modeling as ap_mod\n",
    "import copy\n",
    "import glob\n",
    "import inspect\n",
    "import matplotlib as mpl\n",
    "import matplotlib.pyplot as plt\n",
    "import numpy as np\n",
    "import numpy.ma as np_ma\n",
    "import os\n",
    "import pandas as pd\n",
    "import scipy as sp\n",
    "import scipy.optimize as sp_opt\n",
    "import scipy.stats as sp_stat\n",
    "import warnings as warn\n",
    "\n",
    "import IfA_Smeargle as ifas"
   ]
  },
  {
   "cell_type": "code",
   "execution_count": 2,
   "metadata": {
    "scrolled": true
   },
   "outputs": [
    {
     "name": "stdout",
     "output_type": "stream",
     "text": [
      "\n",
      "< Configuration Class --- SmeargleConfig > \n",
      "╓ SmeargleConfig Parameters:\n",
      "╟  BravoConfig ↴ \n",
      "< Configuration Class --- BravoConfig > \n",
      "╓ BravoConfig Parameters:\n",
      "╟  detector_name ⇀ {'name': 'SAPHIRA-MK20-M12145-03_20190927_T40K'}\n",
      "╟  same_file_size_sanitization_config ⇀ {'method': None}\n",
      "╟  number_rename_config ⇀ {'begin_garbage': 1}\n",
      "╟  set_determine_rename_config ⇀ {'set_length': 14, 'begin_garbage': 1}\n",
      "╟  voltpat_rename_config ⇀ {'voltage_pattern': [2.5, 4.5, 6.5, 8.5, 9.5, 10.5, 11.5, 11.5, 10.5, 9.5, 8.5, 6.5, 4.5, 2.5], 'begin_garbage': 1}\n",
      "╟  auto_avg_slicing_config ⇀ {'reference_chunk': None, 'split_chunks': None, 'averaging_function': None}\n",
      "╟  avg_endpoints_config ⇀ {'start_chunk': None, 'end_chunk': None}\n",
      "╟  avg_endpts_persec_config ⇀ {'start_chunk': None, 'end_chunk': None, 'frame_exposure_time': None}\n",
      "╟  avg_endpts_perksec_config ⇀ {'start_chunk': None, 'end_chunk': None, 'frame_exposure_time': None}\n",
      "╙------------------------------------------\n",
      "</ Configuration Class --- BravoConfig >\n",
      "╟  EchoConfig ↴ \n",
      "< Configuration Class --- EchoConfig > \n",
      "╓ EchoConfig Parameters:\n",
      "╟  echo010_config ⇀ {'run': False}\n",
      "╟  echo120_config ⇀ {'run': False, 'x_range': None, 'y_range': None}\n",
      "╟  echo170_config ⇀ {'run': True, 'sigma_multiple': 5, 'bin_width': 5}\n",
      "╟  echo270_config ⇀ {'run': False, 'minimum_value': None}\n",
      "╟  echo271_config ⇀ {'run': False, 'maximum_value': None}\n",
      "╟  echo275_config ⇀ {'run': False, 'top_count': None, 'bottom_count': None}\n",
      "╟  echo276_config ⇀ {'run': False, 'kept_range': None}\n",
      "╟  echo277_config ⇀ {'run': False, 'sigma_limits': None}\n",
      "╟  echo380_config ⇀ {'run': False, 'pixel_list': None}\n",
      "╟  echo381_config ⇀ {'run': False, 'x_ranges': None, 'y_ranges': None}\n",
      "╟  echo382_config ⇀ {'run': False, 'column_list': None}\n",
      "╟  echo383_config ⇀ {'run': False, 'row_list': None}\n",
      "╟  echo398_config ⇀ {'run': False}\n",
      "╟  echo399_config ⇀ {'run': False}\n",
      "╙------------------------------------------\n",
      "</ Configuration Class --- EchoConfig >\n",
      "╟  OscarConfig ↴ \n",
      "< Configuration Class --- OscarConfig > \n",
      "╓ OscarConfig Parameters:\n",
      "╟  general_heatmap_config ⇀ {'plot': True, 'data_array': None, 'heatmap_plot_parameters': {}, 'colorbar_plot_paramters': {}}\n",
      "╟  general_histogram_config ⇀ {'plot': True, 'data_array': None, 'bin_width': 5, 'histogram_plot_paramters': {}}\n",
      "╙------------------------------------------\n",
      "</ Configuration Class --- OscarConfig >\n",
      "╟  YankeeConfig ↴ \n",
      "< Configuration Class --- YankeeConfig > \n",
      "╓ YankeeConfig Parameters:\n",
      "╙------------------------------------------\n",
      "</ Configuration Class --- YankeeConfig >\n",
      "╟  ZuluConfig ↴ \n",
      "< Configuration Class --- ZuluConfig > \n",
      "╓ ZuluConfig Parameters:\n",
      "╟  SA201907281826 ⇀ {'early_frame': 3, 'refrence_frame': array([17, 32]), 'averaging_frames': array([[ 257,  272],\n",
      "       [ 513,  528],\n",
      "       [1025, 1040]]), 'frame_exposure': 5, 'early_sigma': 5, 'early_bin_size': 10}\n",
      "╙------------------------------------------\n",
      "</ Configuration Class --- ZuluConfig >\n",
      "╟  BaseConfig ↴ \n",
      "< Configuration Class --- BaseConfig > \n",
      "╓ BaseConfig Parameters:\n",
      "╙------------------------------------------\n",
      "</ Configuration Class --- BaseConfig >\n",
      "╙------------------------------------------\n",
      "</ Configuration Class --- SmeargleConfig >\n"
     ]
    }
   ],
   "source": [
    "first_run = ifas.yankee.SmeargleConfig('FirstRun.ifaspkl')\n",
    "\n",
    "first_run.BravoConfig.detector_name = {'name': 'SAPHIRA-MK20-M12145-03_20190927_T40K'}\n",
    "\n",
    "if (False):\n",
    "    first_run.BravoConfig.voltpat_rename_config['voltage_pattern'] =  [2.5, 2.5, 2.5, 2.5,\n",
    "                                                                 4.5, 4.5, 4.5, 4.5,\n",
    "                                                                 6.5, 6.5, 6.5, 6.5,\n",
    "                                                                 8.5, 8.5, 8.5, 8.5,\n",
    "                                                                 9.5, 9.5, 9.5, 9.5,\n",
    "                                                                 10.5, 10.5, 10.5, 10.5,\n",
    "                                                                 11.5, 11.5, 11.5, 11.5,\n",
    "                                                                 11.5, 11.5, 11.5, 11.5,\n",
    "                                                                 10.5, 10.5, 10.5, 10.5,\n",
    "                                                                 9.5, 9.5, 9.5, 9.5,\n",
    "                                                                 8.5, 8.5, 8.5, 8.5,\n",
    "                                                                 6.5, 6.5, 6.5, 6.5,\n",
    "                                                                 4.5, 4.5, 4.5, 4.5,\n",
    "                                                                 2.5, 2.5, 2.5, 2.5]\n",
    "    first_run.BravoConfig.voltpat_rename_config['begin_garbage'] = 0\n",
    "\n",
    "print(first_run)"
   ]
  },
  {
   "cell_type": "code",
   "execution_count": 3,
   "metadata": {},
   "outputs": [
    {
     "name": "stderr",
     "output_type": "stream",
     "text": [
      "C:\\Users\\Tripp\\Desktop\\PROGRAM\\IfA_Smeargle\\meta\\io.py:93: DataWarning: This a 3D data frame with nan/null values. Frames with nan/null values have been completely nulled. \n",
      "File name: ./Data\\SAPHIRA-MK20-M12145-03_20190927_T40K__num;10__set;1__detBias;9.5Vdown.fits    Null frames: [ 83 107 113].\n",
      "  .format(f_name=file_name, fr_list=nan_frames)))\n",
      "C:\\Users\\Tripp\\Desktop\\PROGRAM\\IfA_Smeargle\\meta\\io.py:230: OutputWarning: The data array provided has been detected to be a masked array. The mask is saved in the fits extension <IFASMASK>. The primary data is not affected.\n",
      "  smeargle_warning(OutputWarning,(\"The data array provided has been detected to be a \"\n",
      "WARNING: The fit may be unsuccessful; check fit_info['message'] for more information. [astropy.modeling.fitting]\n",
      "C:\\Users\\Tripp\\Desktop\\PROGRAM\\IfA_Smeargle\\meta\\io.py:230: OutputWarning: The data array provided has been detected to be a masked array. The mask is saved in the fits extension <IFASMASK>. The primary data is not affected.\n",
      "  smeargle_warning(OutputWarning,(\"The data array provided has been detected to be a \"\n",
      "WARNING: The fit may be unsuccessful; check fit_info['message'] for more information. [astropy.modeling.fitting]\n",
      "C:\\Users\\Tripp\\Desktop\\PROGRAM\\IfA_Smeargle\\meta\\io.py:230: OutputWarning: The data array provided has been detected to be a masked array. The mask is saved in the fits extension <IFASMASK>. The primary data is not affected.\n",
      "  smeargle_warning(OutputWarning,(\"The data array provided has been detected to be a \"\n",
      "C:\\Users\\Tripp\\Desktop\\PROGRAM\\IfA_Smeargle\\meta\\io.py:93: DataWarning: This a 3D data frame with nan/null values. Frames with nan/null values have been completely nulled. \n",
      "File name: ./Data\\SAPHIRA-MK20-M12145-03_20190927_T40K__num;11__set;1__detBias;8.5Vdown.fits    Null frames: [76].\n",
      "  .format(f_name=file_name, fr_list=nan_frames)))\n",
      "C:\\Users\\Tripp\\Desktop\\PROGRAM\\IfA_Smeargle\\meta\\io.py:230: OutputWarning: The data array provided has been detected to be a masked array. The mask is saved in the fits extension <IFASMASK>. The primary data is not affected.\n",
      "  smeargle_warning(OutputWarning,(\"The data array provided has been detected to be a \"\n",
      "C:\\Users\\Tripp\\Desktop\\PROGRAM\\IfA_Smeargle\\meta\\io.py:230: OutputWarning: The data array provided has been detected to be a masked array. The mask is saved in the fits extension <IFASMASK>. The primary data is not affected.\n",
      "  smeargle_warning(OutputWarning,(\"The data array provided has been detected to be a \"\n",
      "C:\\Users\\Tripp\\Desktop\\PROGRAM\\IfA_Smeargle\\meta\\io.py:230: OutputWarning: The data array provided has been detected to be a masked array. The mask is saved in the fits extension <IFASMASK>. The primary data is not affected.\n",
      "  smeargle_warning(OutputWarning,(\"The data array provided has been detected to be a \"\n",
      "C:\\Users\\Tripp\\Desktop\\PROGRAM\\IfA_Smeargle\\meta\\io.py:230: OutputWarning: The data array provided has been detected to be a masked array. The mask is saved in the fits extension <IFASMASK>. The primary data is not affected.\n",
      "  smeargle_warning(OutputWarning,(\"The data array provided has been detected to be a \"\n",
      "C:\\Users\\Tripp\\Desktop\\PROGRAM\\IfA_Smeargle\\meta\\io.py:230: OutputWarning: The data array provided has been detected to be a masked array. The mask is saved in the fits extension <IFASMASK>. The primary data is not affected.\n",
      "  smeargle_warning(OutputWarning,(\"The data array provided has been detected to be a \"\n",
      "C:\\Users\\Tripp\\Desktop\\PROGRAM\\IfA_Smeargle\\meta\\io.py:230: OutputWarning: The data array provided has been detected to be a masked array. The mask is saved in the fits extension <IFASMASK>. The primary data is not affected.\n",
      "  smeargle_warning(OutputWarning,(\"The data array provided has been detected to be a \"\n",
      "C:\\Users\\Tripp\\Desktop\\PROGRAM\\IfA_Smeargle\\meta\\io.py:230: OutputWarning: The data array provided has been detected to be a masked array. The mask is saved in the fits extension <IFASMASK>. The primary data is not affected.\n",
      "  smeargle_warning(OutputWarning,(\"The data array provided has been detected to be a \"\n",
      "C:\\Users\\Tripp\\Desktop\\PROGRAM\\IfA_Smeargle\\meta\\io.py:230: OutputWarning: The data array provided has been detected to be a masked array. The mask is saved in the fits extension <IFASMASK>. The primary data is not affected.\n",
      "  smeargle_warning(OutputWarning,(\"The data array provided has been detected to be a \"\n",
      "C:\\Users\\Tripp\\Desktop\\PROGRAM\\IfA_Smeargle\\meta\\io.py:230: OutputWarning: The data array provided has been detected to be a masked array. The mask is saved in the fits extension <IFASMASK>. The primary data is not affected.\n",
      "  smeargle_warning(OutputWarning,(\"The data array provided has been detected to be a \"\n",
      "C:\\Users\\Tripp\\Desktop\\PROGRAM\\IfA_Smeargle\\meta\\io.py:93: DataWarning: This a 3D data frame with nan/null values. Frames with nan/null values have been completely nulled. \n",
      "File name: ./Data\\SAPHIRA-MK20-M12145-03_20190927_T40K__num;14__set;1__detBias;2.5Vdown.fits    Null frames: [81].\n",
      "  .format(f_name=file_name, fr_list=nan_frames)))\n",
      "C:\\Users\\Tripp\\Desktop\\PROGRAM\\IfA_Smeargle\\meta\\io.py:230: OutputWarning: The data array provided has been detected to be a masked array. The mask is saved in the fits extension <IFASMASK>. The primary data is not affected.\n",
      "  smeargle_warning(OutputWarning,(\"The data array provided has been detected to be a \"\n",
      "C:\\Users\\Tripp\\Desktop\\PROGRAM\\IfA_Smeargle\\meta\\io.py:230: OutputWarning: The data array provided has been detected to be a masked array. The mask is saved in the fits extension <IFASMASK>. The primary data is not affected.\n",
      "  smeargle_warning(OutputWarning,(\"The data array provided has been detected to be a \"\n",
      "C:\\Users\\Tripp\\Desktop\\PROGRAM\\IfA_Smeargle\\meta\\io.py:230: OutputWarning: The data array provided has been detected to be a masked array. The mask is saved in the fits extension <IFASMASK>. The primary data is not affected.\n",
      "  smeargle_warning(OutputWarning,(\"The data array provided has been detected to be a \"\n",
      "C:\\Users\\Tripp\\Desktop\\PROGRAM\\IfA_Smeargle\\meta\\io.py:230: OutputWarning: The data array provided has been detected to be a masked array. The mask is saved in the fits extension <IFASMASK>. The primary data is not affected.\n",
      "  smeargle_warning(OutputWarning,(\"The data array provided has been detected to be a \"\n",
      "C:\\Users\\Tripp\\Desktop\\PROGRAM\\IfA_Smeargle\\meta\\io.py:230: OutputWarning: The data array provided has been detected to be a masked array. The mask is saved in the fits extension <IFASMASK>. The primary data is not affected.\n",
      "  smeargle_warning(OutputWarning,(\"The data array provided has been detected to be a \"\n",
      "C:\\Users\\Tripp\\Desktop\\PROGRAM\\IfA_Smeargle\\meta\\io.py:230: OutputWarning: The data array provided has been detected to be a masked array. The mask is saved in the fits extension <IFASMASK>. The primary data is not affected.\n",
      "  smeargle_warning(OutputWarning,(\"The data array provided has been detected to be a \"\n",
      "C:\\Users\\Tripp\\Desktop\\PROGRAM\\IfA_Smeargle\\meta\\io.py:230: OutputWarning: The data array provided has been detected to be a masked array. The mask is saved in the fits extension <IFASMASK>. The primary data is not affected.\n",
      "  smeargle_warning(OutputWarning,(\"The data array provided has been detected to be a \"\n",
      "C:\\Users\\Tripp\\Desktop\\PROGRAM\\IfA_Smeargle\\meta\\io.py:230: OutputWarning: The data array provided has been detected to be a masked array. The mask is saved in the fits extension <IFASMASK>. The primary data is not affected.\n",
      "  smeargle_warning(OutputWarning,(\"The data array provided has been detected to be a \"\n",
      "C:\\Users\\Tripp\\Desktop\\PROGRAM\\IfA_Smeargle\\meta\\io.py:230: OutputWarning: The data array provided has been detected to be a masked array. The mask is saved in the fits extension <IFASMASK>. The primary data is not affected.\n",
      "  smeargle_warning(OutputWarning,(\"The data array provided has been detected to be a \"\n",
      "C:\\Users\\Tripp\\Desktop\\PROGRAM\\IfA_Smeargle\\meta\\io.py:230: OutputWarning: The data array provided has been detected to be a masked array. The mask is saved in the fits extension <IFASMASK>. The primary data is not affected.\n",
      "  smeargle_warning(OutputWarning,(\"The data array provided has been detected to be a \"\n",
      "C:\\Users\\Tripp\\Desktop\\PROGRAM\\IfA_Smeargle\\meta\\io.py:230: OutputWarning: The data array provided has been detected to be a masked array. The mask is saved in the fits extension <IFASMASK>. The primary data is not affected.\n",
      "  smeargle_warning(OutputWarning,(\"The data array provided has been detected to be a \"\n"
     ]
    },
    {
     "name": "stderr",
     "output_type": "stream",
     "text": [
      "C:\\Users\\Tripp\\Desktop\\PROGRAM\\IfA_Smeargle\\meta\\io.py:230: OutputWarning: The data array provided has been detected to be a masked array. The mask is saved in the fits extension <IFASMASK>. The primary data is not affected.\n",
      "  smeargle_warning(OutputWarning,(\"The data array provided has been detected to be a \"\n",
      "C:\\Users\\Tripp\\Desktop\\PROGRAM\\IfA_Smeargle\\meta\\io.py:230: OutputWarning: The data array provided has been detected to be a masked array. The mask is saved in the fits extension <IFASMASK>. The primary data is not affected.\n",
      "  smeargle_warning(OutputWarning,(\"The data array provided has been detected to be a \"\n",
      "C:\\Users\\Tripp\\Desktop\\PROGRAM\\IfA_Smeargle\\meta\\io.py:230: OutputWarning: The data array provided has been detected to be a masked array. The mask is saved in the fits extension <IFASMASK>. The primary data is not affected.\n",
      "  smeargle_warning(OutputWarning,(\"The data array provided has been detected to be a \"\n",
      "C:\\Users\\Tripp\\Desktop\\PROGRAM\\IfA_Smeargle\\meta\\io.py:230: OutputWarning: The data array provided has been detected to be a masked array. The mask is saved in the fits extension <IFASMASK>. The primary data is not affected.\n",
      "  smeargle_warning(OutputWarning,(\"The data array provided has been detected to be a \"\n",
      "C:\\Users\\Tripp\\Desktop\\PROGRAM\\IfA_Smeargle\\meta\\io.py:230: OutputWarning: The data array provided has been detected to be a masked array. The mask is saved in the fits extension <IFASMASK>. The primary data is not affected.\n",
      "  smeargle_warning(OutputWarning,(\"The data array provided has been detected to be a \"\n",
      "C:\\Users\\Tripp\\Desktop\\PROGRAM\\IfA_Smeargle\\meta\\io.py:230: OutputWarning: The data array provided has been detected to be a masked array. The mask is saved in the fits extension <IFASMASK>. The primary data is not affected.\n",
      "  smeargle_warning(OutputWarning,(\"The data array provided has been detected to be a \"\n",
      "WARNING: The fit may be unsuccessful; check fit_info['message'] for more information. [astropy.modeling.fitting]\n",
      "C:\\Users\\Tripp\\Desktop\\PROGRAM\\IfA_Smeargle\\meta\\io.py:230: OutputWarning: The data array provided has been detected to be a masked array. The mask is saved in the fits extension <IFASMASK>. The primary data is not affected.\n",
      "  smeargle_warning(OutputWarning,(\"The data array provided has been detected to be a \"\n",
      "C:\\Users\\Tripp\\Desktop\\PROGRAM\\IfA_Smeargle\\meta\\io.py:230: OutputWarning: The data array provided has been detected to be a masked array. The mask is saved in the fits extension <IFASMASK>. The primary data is not affected.\n",
      "  smeargle_warning(OutputWarning,(\"The data array provided has been detected to be a \"\n",
      "C:\\Users\\Tripp\\Desktop\\PROGRAM\\IfA_Smeargle\\meta\\io.py:230: OutputWarning: The data array provided has been detected to be a masked array. The mask is saved in the fits extension <IFASMASK>. The primary data is not affected.\n",
      "  smeargle_warning(OutputWarning,(\"The data array provided has been detected to be a \"\n",
      "C:\\Users\\Tripp\\Desktop\\PROGRAM\\IfA_Smeargle\\meta\\io.py:230: OutputWarning: The data array provided has been detected to be a masked array. The mask is saved in the fits extension <IFASMASK>. The primary data is not affected.\n",
      "  smeargle_warning(OutputWarning,(\"The data array provided has been detected to be a \"\n",
      "WARNING: The fit may be unsuccessful; check fit_info['message'] for more information. [astropy.modeling.fitting]\n",
      "WARNING: The fit may be unsuccessful; check fit_info['message'] for more information. [astropy.modeling.fitting]\n",
      "C:\\Users\\Tripp\\Desktop\\PROGRAM\\IfA_Smeargle\\meta\\io.py:230: OutputWarning: The data array provided has been detected to be a masked array. The mask is saved in the fits extension <IFASMASK>. The primary data is not affected.\n",
      "  smeargle_warning(OutputWarning,(\"The data array provided has been detected to be a \"\n",
      "WARNING: The fit may be unsuccessful; check fit_info['message'] for more information. [astropy.modeling.fitting]\n",
      "WARNING: The fit may be unsuccessful; check fit_info['message'] for more information. [astropy.modeling.fitting]\n",
      "WARNING: The fit may be unsuccessful; check fit_info['message'] for more information. [astropy.modeling.fitting]\n",
      "C:\\Users\\Tripp\\Desktop\\PROGRAM\\IfA_Smeargle\\meta\\io.py:230: OutputWarning: The data array provided has been detected to be a masked array. The mask is saved in the fits extension <IFASMASK>. The primary data is not affected.\n",
      "  smeargle_warning(OutputWarning,(\"The data array provided has been detected to be a \"\n",
      "WARNING: The fit may be unsuccessful; check fit_info['message'] for more information. [astropy.modeling.fitting]\n",
      "C:\\Users\\Tripp\\Desktop\\PROGRAM\\IfA_Smeargle\\echo\\echo_functions.py:107: MaskingWarning: The masking routine < echo170_gaussian_truncation > did not mask any pixels.\n",
      "  .format(msk_rou=filter_name)))\n",
      "WARNING: The fit may be unsuccessful; check fit_info['message'] for more information. [astropy.modeling.fitting]\n",
      "C:\\Users\\Tripp\\Desktop\\PROGRAM\\IfA_Smeargle\\echo\\echo_functions.py:107: MaskingWarning: The masking routine < echo170_gaussian_truncation > did not mask any pixels.\n",
      "  .format(msk_rou=filter_name)))\n",
      "WARNING: The fit may be unsuccessful; check fit_info['message'] for more information. [astropy.modeling.fitting]\n",
      "C:\\Users\\Tripp\\Desktop\\PROGRAM\\IfA_Smeargle\\meta\\io.py:230: OutputWarning: The data array provided has been detected to be a masked array. The mask is saved in the fits extension <IFASMASK>. The primary data is not affected.\n",
      "  smeargle_warning(OutputWarning,(\"The data array provided has been detected to be a \"\n",
      "WARNING: The fit may be unsuccessful; check fit_info['message'] for more information. [astropy.modeling.fitting]\n",
      "C:\\Users\\Tripp\\Desktop\\PROGRAM\\IfA_Smeargle\\echo\\echo_functions.py:107: MaskingWarning: The masking routine < echo170_gaussian_truncation > did not mask any pixels.\n",
      "  .format(msk_rou=filter_name)))\n",
      "WARNING: The fit may be unsuccessful; check fit_info['message'] for more information. [astropy.modeling.fitting]\n",
      "C:\\Users\\Tripp\\Desktop\\PROGRAM\\IfA_Smeargle\\echo\\echo_functions.py:107: MaskingWarning: The masking routine < echo170_gaussian_truncation > did not mask any pixels.\n",
      "  .format(msk_rou=filter_name)))\n",
      "C:\\Users\\Tripp\\Desktop\\PROGRAM\\IfA_Smeargle\\meta\\io.py:230: OutputWarning: The data array provided has been detected to be a masked array. The mask is saved in the fits extension <IFASMASK>. The primary data is not affected.\n",
      "  smeargle_warning(OutputWarning,(\"The data array provided has been detected to be a \"\n",
      "WARNING: The fit may be unsuccessful; check fit_info['message'] for more information. [astropy.modeling.fitting]\n",
      "C:\\Users\\Tripp\\Desktop\\PROGRAM\\IfA_Smeargle\\echo\\echo_functions.py:107: MaskingWarning: The masking routine < echo170_gaussian_truncation > did not mask any pixels.\n",
      "  .format(msk_rou=filter_name)))\n",
      "WARNING: The fit may be unsuccessful; check fit_info['message'] for more information. [astropy.modeling.fitting]\n",
      "C:\\Users\\Tripp\\Desktop\\PROGRAM\\IfA_Smeargle\\echo\\echo_functions.py:107: MaskingWarning: The masking routine < echo170_gaussian_truncation > did not mask any pixels.\n",
      "  .format(msk_rou=filter_name)))\n",
      "C:\\Users\\Tripp\\Desktop\\PROGRAM\\IfA_Smeargle\\meta\\io.py:230: OutputWarning: The data array provided has been detected to be a masked array. The mask is saved in the fits extension <IFASMASK>. The primary data is not affected.\n",
      "  smeargle_warning(OutputWarning,(\"The data array provided has been detected to be a \"\n",
      "WARNING: The fit may be unsuccessful; check fit_info['message'] for more information. [astropy.modeling.fitting]\n",
      "C:\\Users\\Tripp\\Desktop\\PROGRAM\\IfA_Smeargle\\echo\\echo_functions.py:107: MaskingWarning: The masking routine < echo170_gaussian_truncation > did not mask any pixels.\n",
      "  .format(msk_rou=filter_name)))\n",
      "WARNING: The fit may be unsuccessful; check fit_info['message'] for more information. [astropy.modeling.fitting]\n",
      "C:\\Users\\Tripp\\Desktop\\PROGRAM\\IfA_Smeargle\\echo\\echo_functions.py:107: MaskingWarning: The masking routine < echo170_gaussian_truncation > did not mask any pixels.\n",
      "  .format(msk_rou=filter_name)))\n",
      "C:\\Users\\Tripp\\Desktop\\PROGRAM\\IfA_Smeargle\\meta\\io.py:230: OutputWarning: The data array provided has been detected to be a masked array. The mask is saved in the fits extension <IFASMASK>. The primary data is not affected.\n",
      "  smeargle_warning(OutputWarning,(\"The data array provided has been detected to be a \"\n"
     ]
    },
    {
     "name": "stderr",
     "output_type": "stream",
     "text": [
      "WARNING: The fit may be unsuccessful; check fit_info['message'] for more information. [astropy.modeling.fitting]\n",
      "C:\\Users\\Tripp\\Desktop\\PROGRAM\\IfA_Smeargle\\echo\\echo_functions.py:107: MaskingWarning: The masking routine < echo170_gaussian_truncation > did not mask any pixels.\n",
      "  .format(msk_rou=filter_name)))\n",
      "WARNING: The fit may be unsuccessful; check fit_info['message'] for more information. [astropy.modeling.fitting]\n",
      "C:\\Users\\Tripp\\Desktop\\PROGRAM\\IfA_Smeargle\\echo\\echo_functions.py:107: MaskingWarning: The masking routine < echo170_gaussian_truncation > did not mask any pixels.\n",
      "  .format(msk_rou=filter_name)))\n",
      "C:\\Users\\Tripp\\Desktop\\PROGRAM\\IfA_Smeargle\\meta\\io.py:230: OutputWarning: The data array provided has been detected to be a masked array. The mask is saved in the fits extension <IFASMASK>. The primary data is not affected.\n",
      "  smeargle_warning(OutputWarning,(\"The data array provided has been detected to be a \"\n",
      "WARNING: The fit may be unsuccessful; check fit_info['message'] for more information. [astropy.modeling.fitting]\n",
      "C:\\Users\\Tripp\\Desktop\\PROGRAM\\IfA_Smeargle\\echo\\echo_functions.py:107: MaskingWarning: The masking routine < echo170_gaussian_truncation > did not mask any pixels.\n",
      "  .format(msk_rou=filter_name)))\n",
      "WARNING: The fit may be unsuccessful; check fit_info['message'] for more information. [astropy.modeling.fitting]\n",
      "C:\\Users\\Tripp\\Desktop\\PROGRAM\\IfA_Smeargle\\echo\\echo_functions.py:107: MaskingWarning: The masking routine < echo170_gaussian_truncation > did not mask any pixels.\n",
      "  .format(msk_rou=filter_name)))\n",
      "C:\\Users\\Tripp\\Desktop\\PROGRAM\\IfA_Smeargle\\meta\\io.py:230: OutputWarning: The data array provided has been detected to be a masked array. The mask is saved in the fits extension <IFASMASK>. The primary data is not affected.\n",
      "  smeargle_warning(OutputWarning,(\"The data array provided has been detected to be a \"\n",
      "WARNING: The fit may be unsuccessful; check fit_info['message'] for more information. [astropy.modeling.fitting]\n",
      "C:\\Users\\Tripp\\Desktop\\PROGRAM\\IfA_Smeargle\\echo\\echo_functions.py:107: MaskingWarning: The masking routine < echo170_gaussian_truncation > did not mask any pixels.\n",
      "  .format(msk_rou=filter_name)))\n",
      "WARNING: The fit may be unsuccessful; check fit_info['message'] for more information. [astropy.modeling.fitting]\n",
      "C:\\Users\\Tripp\\Desktop\\PROGRAM\\IfA_Smeargle\\echo\\echo_functions.py:107: MaskingWarning: The masking routine < echo170_gaussian_truncation > did not mask any pixels.\n",
      "  .format(msk_rou=filter_name)))\n",
      "C:\\Users\\Tripp\\Desktop\\PROGRAM\\IfA_Smeargle\\meta\\io.py:230: OutputWarning: The data array provided has been detected to be a masked array. The mask is saved in the fits extension <IFASMASK>. The primary data is not affected.\n",
      "  smeargle_warning(OutputWarning,(\"The data array provided has been detected to be a \"\n",
      "WARNING: The fit may be unsuccessful; check fit_info['message'] for more information. [astropy.modeling.fitting]\n",
      "WARNING: The fit may be unsuccessful; check fit_info['message'] for more information. [astropy.modeling.fitting]\n",
      "C:\\Users\\Tripp\\Desktop\\PROGRAM\\IfA_Smeargle\\meta\\io.py:230: OutputWarning: The data array provided has been detected to be a masked array. The mask is saved in the fits extension <IFASMASK>. The primary data is not affected.\n",
      "  smeargle_warning(OutputWarning,(\"The data array provided has been detected to be a \"\n",
      "WARNING: The fit may be unsuccessful; check fit_info['message'] for more information. [astropy.modeling.fitting]\n",
      "WARNING: The fit may be unsuccessful; check fit_info['message'] for more information. [astropy.modeling.fitting]\n",
      "WARNING: The fit may be unsuccessful; check fit_info['message'] for more information. [astropy.modeling.fitting]\n",
      "C:\\Users\\Tripp\\Desktop\\PROGRAM\\IfA_Smeargle\\meta\\io.py:230: OutputWarning: The data array provided has been detected to be a masked array. The mask is saved in the fits extension <IFASMASK>. The primary data is not affected.\n",
      "  smeargle_warning(OutputWarning,(\"The data array provided has been detected to be a \"\n",
      "WARNING: The fit may be unsuccessful; check fit_info['message'] for more information. [astropy.modeling.fitting]\n",
      "C:\\Users\\Tripp\\Desktop\\PROGRAM\\IfA_Smeargle\\echo\\echo_functions.py:107: MaskingWarning: The masking routine < echo170_gaussian_truncation > did not mask any pixels.\n",
      "  .format(msk_rou=filter_name)))\n",
      "WARNING: The fit may be unsuccessful; check fit_info['message'] for more information. [astropy.modeling.fitting]\n",
      "C:\\Users\\Tripp\\Desktop\\PROGRAM\\IfA_Smeargle\\echo\\echo_functions.py:107: MaskingWarning: The masking routine < echo170_gaussian_truncation > did not mask any pixels.\n",
      "  .format(msk_rou=filter_name)))\n",
      "WARNING: The fit may be unsuccessful; check fit_info['message'] for more information. [astropy.modeling.fitting]\n",
      "C:\\Users\\Tripp\\Desktop\\PROGRAM\\IfA_Smeargle\\meta\\io.py:230: OutputWarning: The data array provided has been detected to be a masked array. The mask is saved in the fits extension <IFASMASK>. The primary data is not affected.\n",
      "  smeargle_warning(OutputWarning,(\"The data array provided has been detected to be a \"\n",
      "C:\\Users\\Tripp\\Desktop\\PROGRAM\\IfA_Smeargle\\meta\\io.py:230: OutputWarning: The data array provided has been detected to be a masked array. The mask is saved in the fits extension <IFASMASK>. The primary data is not affected.\n",
      "  smeargle_warning(OutputWarning,(\"The data array provided has been detected to be a \"\n",
      "C:\\Users\\Tripp\\Desktop\\PROGRAM\\IfA_Smeargle\\meta\\io.py:230: OutputWarning: The data array provided has been detected to be a masked array. The mask is saved in the fits extension <IFASMASK>. The primary data is not affected.\n",
      "  smeargle_warning(OutputWarning,(\"The data array provided has been detected to be a \"\n",
      "C:\\Users\\Tripp\\Desktop\\PROGRAM\\IfA_Smeargle\\meta\\io.py:230: OutputWarning: The data array provided has been detected to be a masked array. The mask is saved in the fits extension <IFASMASK>. The primary data is not affected.\n",
      "  smeargle_warning(OutputWarning,(\"The data array provided has been detected to be a \"\n",
      "C:\\Users\\Tripp\\Desktop\\PROGRAM\\IfA_Smeargle\\meta\\io.py:230: OutputWarning: The data array provided has been detected to be a masked array. The mask is saved in the fits extension <IFASMASK>. The primary data is not affected.\n",
      "  smeargle_warning(OutputWarning,(\"The data array provided has been detected to be a \"\n",
      "C:\\Users\\Tripp\\Desktop\\PROGRAM\\IfA_Smeargle\\meta\\io.py:230: OutputWarning: The data array provided has been detected to be a masked array. The mask is saved in the fits extension <IFASMASK>. The primary data is not affected.\n",
      "  smeargle_warning(OutputWarning,(\"The data array provided has been detected to be a \"\n",
      "C:\\Users\\Tripp\\Desktop\\PROGRAM\\IfA_Smeargle\\meta\\io.py:230: OutputWarning: The data array provided has been detected to be a masked array. The mask is saved in the fits extension <IFASMASK>. The primary data is not affected.\n",
      "  smeargle_warning(OutputWarning,(\"The data array provided has been detected to be a \"\n",
      "C:\\Users\\Tripp\\Desktop\\PROGRAM\\IfA_Smeargle\\meta\\io.py:230: OutputWarning: The data array provided has been detected to be a masked array. The mask is saved in the fits extension <IFASMASK>. The primary data is not affected.\n",
      "  smeargle_warning(OutputWarning,(\"The data array provided has been detected to be a \"\n",
      "C:\\Users\\Tripp\\Desktop\\PROGRAM\\IfA_Smeargle\\meta\\io.py:230: OutputWarning: The data array provided has been detected to be a masked array. The mask is saved in the fits extension <IFASMASK>. The primary data is not affected.\n",
      "  smeargle_warning(OutputWarning,(\"The data array provided has been detected to be a \"\n",
      "C:\\Users\\Tripp\\Desktop\\PROGRAM\\IfA_Smeargle\\meta\\io.py:230: OutputWarning: The data array provided has been detected to be a masked array. The mask is saved in the fits extension <IFASMASK>. The primary data is not affected.\n",
      "  smeargle_warning(OutputWarning,(\"The data array provided has been detected to be a \"\n",
      "C:\\Users\\Tripp\\Desktop\\PROGRAM\\IfA_Smeargle\\meta\\io.py:230: OutputWarning: The data array provided has been detected to be a masked array. The mask is saved in the fits extension <IFASMASK>. The primary data is not affected.\n",
      "  smeargle_warning(OutputWarning,(\"The data array provided has been detected to be a \"\n",
      "C:\\Users\\Tripp\\Desktop\\PROGRAM\\IfA_Smeargle\\meta\\io.py:230: OutputWarning: The data array provided has been detected to be a masked array. The mask is saved in the fits extension <IFASMASK>. The primary data is not affected.\n",
      "  smeargle_warning(OutputWarning,(\"The data array provided has been detected to be a \"\n"
     ]
    },
    {
     "name": "stderr",
     "output_type": "stream",
     "text": [
      "C:\\Users\\Tripp\\Desktop\\PROGRAM\\IfA_Smeargle\\meta\\io.py:230: OutputWarning: The data array provided has been detected to be a masked array. The mask is saved in the fits extension <IFASMASK>. The primary data is not affected.\n",
      "  smeargle_warning(OutputWarning,(\"The data array provided has been detected to be a \"\n",
      "C:\\Users\\Tripp\\Desktop\\PROGRAM\\IfA_Smeargle\\meta\\io.py:230: OutputWarning: The data array provided has been detected to be a masked array. The mask is saved in the fits extension <IFASMASK>. The primary data is not affected.\n",
      "  smeargle_warning(OutputWarning,(\"The data array provided has been detected to be a \"\n",
      "C:\\Users\\Tripp\\Desktop\\PROGRAM\\IfA_Smeargle\\meta\\io.py:230: OutputWarning: The data array provided has been detected to be a masked array. The mask is saved in the fits extension <IFASMASK>. The primary data is not affected.\n",
      "  smeargle_warning(OutputWarning,(\"The data array provided has been detected to be a \"\n",
      "C:\\Users\\Tripp\\Desktop\\PROGRAM\\IfA_Smeargle\\meta\\io.py:230: OutputWarning: The data array provided has been detected to be a masked array. The mask is saved in the fits extension <IFASMASK>. The primary data is not affected.\n",
      "  smeargle_warning(OutputWarning,(\"The data array provided has been detected to be a \"\n",
      "C:\\Users\\Tripp\\Desktop\\PROGRAM\\IfA_Smeargle\\meta\\io.py:230: OutputWarning: The data array provided has been detected to be a masked array. The mask is saved in the fits extension <IFASMASK>. The primary data is not affected.\n",
      "  smeargle_warning(OutputWarning,(\"The data array provided has been detected to be a \"\n",
      "C:\\Users\\Tripp\\Desktop\\PROGRAM\\IfA_Smeargle\\meta\\io.py:230: OutputWarning: The data array provided has been detected to be a masked array. The mask is saved in the fits extension <IFASMASK>. The primary data is not affected.\n",
      "  smeargle_warning(OutputWarning,(\"The data array provided has been detected to be a \"\n",
      "C:\\Users\\Tripp\\Desktop\\PROGRAM\\IfA_Smeargle\\meta\\io.py:230: OutputWarning: The data array provided has been detected to be a masked array. The mask is saved in the fits extension <IFASMASK>. The primary data is not affected.\n",
      "  smeargle_warning(OutputWarning,(\"The data array provided has been detected to be a \"\n",
      "C:\\Users\\Tripp\\Desktop\\PROGRAM\\IfA_Smeargle\\meta\\io.py:93: DataWarning: This a 3D data frame with nan/null values. Frames with nan/null values have been completely nulled. \n",
      "File name: ./Data\\SAPHIRA-MK20-M12145-03_20190927_T40K__num;3__set;1__detBias;6.5Vup.fits    Null frames: [740].\n",
      "  .format(f_name=file_name, fr_list=nan_frames)))\n",
      "C:\\Users\\Tripp\\Desktop\\PROGRAM\\IfA_Smeargle\\meta\\io.py:230: OutputWarning: The data array provided has been detected to be a masked array. The mask is saved in the fits extension <IFASMASK>. The primary data is not affected.\n",
      "  smeargle_warning(OutputWarning,(\"The data array provided has been detected to be a \"\n",
      "C:\\Users\\Tripp\\Desktop\\PROGRAM\\IfA_Smeargle\\meta\\io.py:230: OutputWarning: The data array provided has been detected to be a masked array. The mask is saved in the fits extension <IFASMASK>. The primary data is not affected.\n",
      "  smeargle_warning(OutputWarning,(\"The data array provided has been detected to be a \"\n",
      "C:\\Users\\Tripp\\Desktop\\PROGRAM\\IfA_Smeargle\\meta\\io.py:230: OutputWarning: The data array provided has been detected to be a masked array. The mask is saved in the fits extension <IFASMASK>. The primary data is not affected.\n",
      "  smeargle_warning(OutputWarning,(\"The data array provided has been detected to be a \"\n",
      "C:\\Users\\Tripp\\Desktop\\PROGRAM\\IfA_Smeargle\\meta\\io.py:230: OutputWarning: The data array provided has been detected to be a masked array. The mask is saved in the fits extension <IFASMASK>. The primary data is not affected.\n",
      "  smeargle_warning(OutputWarning,(\"The data array provided has been detected to be a \"\n",
      "C:\\Users\\Tripp\\Desktop\\PROGRAM\\IfA_Smeargle\\meta\\io.py:230: OutputWarning: The data array provided has been detected to be a masked array. The mask is saved in the fits extension <IFASMASK>. The primary data is not affected.\n",
      "  smeargle_warning(OutputWarning,(\"The data array provided has been detected to be a \"\n",
      "C:\\Users\\Tripp\\Desktop\\PROGRAM\\IfA_Smeargle\\meta\\io.py:230: OutputWarning: The data array provided has been detected to be a masked array. The mask is saved in the fits extension <IFASMASK>. The primary data is not affected.\n",
      "  smeargle_warning(OutputWarning,(\"The data array provided has been detected to be a \"\n",
      "C:\\Users\\Tripp\\Desktop\\PROGRAM\\IfA_Smeargle\\meta\\io.py:93: DataWarning: This a 3D data frame with nan/null values. Frames with nan/null values have been completely nulled. \n",
      "File name: ./Data\\SAPHIRA-MK20-M12145-03_20190927_T40K__num;5__set;1__detBias;9.5Vup.fits    Null frames: [52 59].\n",
      "  .format(f_name=file_name, fr_list=nan_frames)))\n",
      "C:\\Users\\Tripp\\Desktop\\PROGRAM\\IfA_Smeargle\\meta\\io.py:230: OutputWarning: The data array provided has been detected to be a masked array. The mask is saved in the fits extension <IFASMASK>. The primary data is not affected.\n",
      "  smeargle_warning(OutputWarning,(\"The data array provided has been detected to be a \"\n",
      "C:\\Users\\Tripp\\Desktop\\PROGRAM\\IfA_Smeargle\\meta\\io.py:230: OutputWarning: The data array provided has been detected to be a masked array. The mask is saved in the fits extension <IFASMASK>. The primary data is not affected.\n",
      "  smeargle_warning(OutputWarning,(\"The data array provided has been detected to be a \"\n",
      "WARNING: The fit may be unsuccessful; check fit_info['message'] for more information. [astropy.modeling.fitting]\n",
      "C:\\Users\\Tripp\\Desktop\\PROGRAM\\IfA_Smeargle\\meta\\io.py:230: OutputWarning: The data array provided has been detected to be a masked array. The mask is saved in the fits extension <IFASMASK>. The primary data is not affected.\n",
      "  smeargle_warning(OutputWarning,(\"The data array provided has been detected to be a \"\n",
      "C:\\Users\\Tripp\\Desktop\\PROGRAM\\IfA_Smeargle\\meta\\io.py:93: DataWarning: This a 3D data frame with nan/null values. Frames with nan/null values have been completely nulled. \n",
      "File name: ./Data\\SAPHIRA-MK20-M12145-03_20190927_T40K__num;6__set;1__detBias;10.5Vup.fits    Null frames: [68 79].\n",
      "  .format(f_name=file_name, fr_list=nan_frames)))\n",
      "WARNING: The fit may be unsuccessful; check fit_info['message'] for more information. [astropy.modeling.fitting]\n",
      "WARNING: The fit may be unsuccessful; check fit_info['message'] for more information. [astropy.modeling.fitting]\n",
      "WARNING: The fit may be unsuccessful; check fit_info['message'] for more information. [astropy.modeling.fitting]\n",
      "C:\\Users\\Tripp\\Desktop\\PROGRAM\\IfA_Smeargle\\meta\\io.py:230: OutputWarning: The data array provided has been detected to be a masked array. The mask is saved in the fits extension <IFASMASK>. The primary data is not affected.\n",
      "  smeargle_warning(OutputWarning,(\"The data array provided has been detected to be a \"\n",
      "WARNING: The fit may be unsuccessful; check fit_info['message'] for more information. [astropy.modeling.fitting]\n",
      "WARNING: The fit may be unsuccessful; check fit_info['message'] for more information. [astropy.modeling.fitting]\n",
      "C:\\Users\\Tripp\\Desktop\\PROGRAM\\IfA_Smeargle\\meta\\io.py:230: OutputWarning: The data array provided has been detected to be a masked array. The mask is saved in the fits extension <IFASMASK>. The primary data is not affected.\n",
      "  smeargle_warning(OutputWarning,(\"The data array provided has been detected to be a \"\n",
      "WARNING: The fit may be unsuccessful; check fit_info['message'] for more information. [astropy.modeling.fitting]\n",
      "C:\\Users\\Tripp\\Desktop\\PROGRAM\\IfA_Smeargle\\echo\\echo_functions.py:107: MaskingWarning: The masking routine < echo170_gaussian_truncation > did not mask any pixels.\n",
      "  .format(msk_rou=filter_name)))\n",
      "WARNING: The fit may be unsuccessful; check fit_info['message'] for more information. [astropy.modeling.fitting]\n",
      "C:\\Users\\Tripp\\Desktop\\PROGRAM\\IfA_Smeargle\\echo\\echo_functions.py:107: MaskingWarning: The masking routine < echo170_gaussian_truncation > did not mask any pixels.\n",
      "  .format(msk_rou=filter_name)))\n",
      "WARNING: The fit may be unsuccessful; check fit_info['message'] for more information. [astropy.modeling.fitting]\n",
      "C:\\Users\\Tripp\\Desktop\\PROGRAM\\IfA_Smeargle\\meta\\io.py:230: OutputWarning: The data array provided has been detected to be a masked array. The mask is saved in the fits extension <IFASMASK>. The primary data is not affected.\n",
      "  smeargle_warning(OutputWarning,(\"The data array provided has been detected to be a \"\n"
     ]
    },
    {
     "name": "stderr",
     "output_type": "stream",
     "text": [
      "WARNING: The fit may be unsuccessful; check fit_info['message'] for more information. [astropy.modeling.fitting]\n",
      "C:\\Users\\Tripp\\Desktop\\PROGRAM\\IfA_Smeargle\\echo\\echo_functions.py:107: MaskingWarning: The masking routine < echo170_gaussian_truncation > did not mask any pixels.\n",
      "  .format(msk_rou=filter_name)))\n",
      "WARNING: The fit may be unsuccessful; check fit_info['message'] for more information. [astropy.modeling.fitting]\n",
      "C:\\Users\\Tripp\\Desktop\\PROGRAM\\IfA_Smeargle\\echo\\echo_functions.py:107: MaskingWarning: The masking routine < echo170_gaussian_truncation > did not mask any pixels.\n",
      "  .format(msk_rou=filter_name)))\n",
      "C:\\Users\\Tripp\\Desktop\\PROGRAM\\IfA_Smeargle\\meta\\io.py:230: OutputWarning: The data array provided has been detected to be a masked array. The mask is saved in the fits extension <IFASMASK>. The primary data is not affected.\n",
      "  smeargle_warning(OutputWarning,(\"The data array provided has been detected to be a \"\n",
      "WARNING: The fit may be unsuccessful; check fit_info['message'] for more information. [astropy.modeling.fitting]\n",
      "C:\\Users\\Tripp\\Desktop\\PROGRAM\\IfA_Smeargle\\echo\\echo_functions.py:107: MaskingWarning: The masking routine < echo170_gaussian_truncation > did not mask any pixels.\n",
      "  .format(msk_rou=filter_name)))\n",
      "WARNING: The fit may be unsuccessful; check fit_info['message'] for more information. [astropy.modeling.fitting]\n",
      "C:\\Users\\Tripp\\Desktop\\PROGRAM\\IfA_Smeargle\\echo\\echo_functions.py:107: MaskingWarning: The masking routine < echo170_gaussian_truncation > did not mask any pixels.\n",
      "  .format(msk_rou=filter_name)))\n",
      "C:\\Users\\Tripp\\Desktop\\PROGRAM\\IfA_Smeargle\\meta\\io.py:230: OutputWarning: The data array provided has been detected to be a masked array. The mask is saved in the fits extension <IFASMASK>. The primary data is not affected.\n",
      "  smeargle_warning(OutputWarning,(\"The data array provided has been detected to be a \"\n",
      "WARNING: The fit may be unsuccessful; check fit_info['message'] for more information. [astropy.modeling.fitting]\n",
      "C:\\Users\\Tripp\\Desktop\\PROGRAM\\IfA_Smeargle\\echo\\echo_functions.py:107: MaskingWarning: The masking routine < echo170_gaussian_truncation > did not mask any pixels.\n",
      "  .format(msk_rou=filter_name)))\n",
      "WARNING: The fit may be unsuccessful; check fit_info['message'] for more information. [astropy.modeling.fitting]\n",
      "C:\\Users\\Tripp\\Desktop\\PROGRAM\\IfA_Smeargle\\echo\\echo_functions.py:107: MaskingWarning: The masking routine < echo170_gaussian_truncation > did not mask any pixels.\n",
      "  .format(msk_rou=filter_name)))\n",
      "C:\\Users\\Tripp\\Desktop\\PROGRAM\\IfA_Smeargle\\meta\\io.py:230: OutputWarning: The data array provided has been detected to be a masked array. The mask is saved in the fits extension <IFASMASK>. The primary data is not affected.\n",
      "  smeargle_warning(OutputWarning,(\"The data array provided has been detected to be a \"\n",
      "C:\\Users\\Tripp\\Desktop\\PROGRAM\\IfA_Smeargle\\meta\\io.py:93: DataWarning: This a 3D data frame with nan/null values. Frames with nan/null values have been completely nulled. \n",
      "File name: ./Data\\SAPHIRA-MK20-M12145-03_20190927_T40K__num;8__set;1__detBias;11.5Vdown.fits    Null frames: [ 739  850 1018].\n",
      "  .format(f_name=file_name, fr_list=nan_frames)))\n",
      "WARNING: The fit may be unsuccessful; check fit_info['message'] for more information. [astropy.modeling.fitting]\n",
      "C:\\Users\\Tripp\\Desktop\\PROGRAM\\IfA_Smeargle\\echo\\echo_functions.py:107: MaskingWarning: The masking routine < echo170_gaussian_truncation > did not mask any pixels.\n",
      "  .format(msk_rou=filter_name)))\n",
      "WARNING: The fit may be unsuccessful; check fit_info['message'] for more information. [astropy.modeling.fitting]\n",
      "C:\\Users\\Tripp\\Desktop\\PROGRAM\\IfA_Smeargle\\echo\\echo_functions.py:107: MaskingWarning: The masking routine < echo170_gaussian_truncation > did not mask any pixels.\n",
      "  .format(msk_rou=filter_name)))\n",
      "C:\\Users\\Tripp\\Desktop\\PROGRAM\\IfA_Smeargle\\meta\\io.py:230: OutputWarning: The data array provided has been detected to be a masked array. The mask is saved in the fits extension <IFASMASK>. The primary data is not affected.\n",
      "  smeargle_warning(OutputWarning,(\"The data array provided has been detected to be a \"\n",
      "WARNING: The fit may be unsuccessful; check fit_info['message'] for more information. [astropy.modeling.fitting]\n",
      "C:\\Users\\Tripp\\Desktop\\PROGRAM\\IfA_Smeargle\\echo\\echo_functions.py:107: MaskingWarning: The masking routine < echo170_gaussian_truncation > did not mask any pixels.\n",
      "  .format(msk_rou=filter_name)))\n",
      "WARNING: The fit may be unsuccessful; check fit_info['message'] for more information. [astropy.modeling.fitting]\n",
      "C:\\Users\\Tripp\\Desktop\\PROGRAM\\IfA_Smeargle\\echo\\echo_functions.py:107: MaskingWarning: The masking routine < echo170_gaussian_truncation > did not mask any pixels.\n",
      "  .format(msk_rou=filter_name)))\n",
      "C:\\Users\\Tripp\\Desktop\\PROGRAM\\IfA_Smeargle\\meta\\io.py:230: OutputWarning: The data array provided has been detected to be a masked array. The mask is saved in the fits extension <IFASMASK>. The primary data is not affected.\n",
      "  smeargle_warning(OutputWarning,(\"The data array provided has been detected to be a \"\n",
      "WARNING: The fit may be unsuccessful; check fit_info['message'] for more information. [astropy.modeling.fitting]\n",
      "C:\\Users\\Tripp\\Desktop\\PROGRAM\\IfA_Smeargle\\echo\\echo_functions.py:107: MaskingWarning: The masking routine < echo170_gaussian_truncation > did not mask any pixels.\n",
      "  .format(msk_rou=filter_name)))\n",
      "WARNING: The fit may be unsuccessful; check fit_info['message'] for more information. [astropy.modeling.fitting]\n",
      "C:\\Users\\Tripp\\Desktop\\PROGRAM\\IfA_Smeargle\\echo\\echo_functions.py:107: MaskingWarning: The masking routine < echo170_gaussian_truncation > did not mask any pixels.\n",
      "  .format(msk_rou=filter_name)))\n",
      "C:\\Users\\Tripp\\Desktop\\PROGRAM\\IfA_Smeargle\\meta\\io.py:230: OutputWarning: The data array provided has been detected to be a masked array. The mask is saved in the fits extension <IFASMASK>. The primary data is not affected.\n",
      "  smeargle_warning(OutputWarning,(\"The data array provided has been detected to be a \"\n",
      "WARNING: The fit may be unsuccessful; check fit_info['message'] for more information. [astropy.modeling.fitting]\n",
      "WARNING: The fit may be unsuccessful; check fit_info['message'] for more information. [astropy.modeling.fitting]\n",
      "WARNING: The fit may be unsuccessful; check fit_info['message'] for more information. [astropy.modeling.fitting]\n",
      "C:\\Users\\Tripp\\Desktop\\PROGRAM\\IfA_Smeargle\\meta\\io.py:230: OutputWarning: The data array provided has been detected to be a masked array. The mask is saved in the fits extension <IFASMASK>. The primary data is not affected.\n",
      "  smeargle_warning(OutputWarning,(\"The data array provided has been detected to be a \"\n",
      "WARNING: The fit may be unsuccessful; check fit_info['message'] for more information. [astropy.modeling.fitting]\n",
      "WARNING: The fit may be unsuccessful; check fit_info['message'] for more information. [astropy.modeling.fitting]\n",
      "C:\\Users\\Tripp\\Desktop\\PROGRAM\\IfA_Smeargle\\meta\\io.py:230: OutputWarning: The data array provided has been detected to be a masked array. The mask is saved in the fits extension <IFASMASK>. The primary data is not affected.\n",
      "  smeargle_warning(OutputWarning,(\"The data array provided has been detected to be a \"\n",
      "WARNING: The fit may be unsuccessful; check fit_info['message'] for more information. [astropy.modeling.fitting]\n",
      "C:\\Users\\Tripp\\Desktop\\PROGRAM\\IfA_Smeargle\\echo\\echo_functions.py:107: MaskingWarning: The masking routine < echo170_gaussian_truncation > did not mask any pixels.\n",
      "  .format(msk_rou=filter_name)))\n",
      "WARNING: The fit may be unsuccessful; check fit_info['message'] for more information. [astropy.modeling.fitting]\n",
      "C:\\Users\\Tripp\\Desktop\\PROGRAM\\IfA_Smeargle\\echo\\echo_functions.py:107: MaskingWarning: The masking routine < echo170_gaussian_truncation > did not mask any pixels.\n",
      "  .format(msk_rou=filter_name)))\n",
      "WARNING: The fit may be unsuccessful; check fit_info['message'] for more information. [astropy.modeling.fitting]\n",
      "C:\\Users\\Tripp\\Desktop\\PROGRAM\\IfA_Smeargle\\meta\\io.py:230: OutputWarning: The data array provided has been detected to be a masked array. The mask is saved in the fits extension <IFASMASK>. The primary data is not affected.\n",
      "  smeargle_warning(OutputWarning,(\"The data array provided has been detected to be a \"\n",
      "C:\\Users\\Tripp\\Desktop\\PROGRAM\\IfA_Smeargle\\meta\\io.py:230: OutputWarning: The data array provided has been detected to be a masked array. The mask is saved in the fits extension <IFASMASK>. The primary data is not affected.\n",
      "  smeargle_warning(OutputWarning,(\"The data array provided has been detected to be a \"\n"
     ]
    },
    {
     "name": "stderr",
     "output_type": "stream",
     "text": [
      "C:\\Users\\Tripp\\Desktop\\PROGRAM\\IfA_Smeargle\\meta\\io.py:230: OutputWarning: The data array provided has been detected to be a masked array. The mask is saved in the fits extension <IFASMASK>. The primary data is not affected.\n",
      "  smeargle_warning(OutputWarning,(\"The data array provided has been detected to be a \"\n",
      "C:\\Users\\Tripp\\Desktop\\PROGRAM\\IfA_Smeargle\\meta\\io.py:230: OutputWarning: The data array provided has been detected to be a masked array. The mask is saved in the fits extension <IFASMASK>. The primary data is not affected.\n",
      "  smeargle_warning(OutputWarning,(\"The data array provided has been detected to be a \"\n",
      "C:\\Users\\Tripp\\Desktop\\PROGRAM\\IfA_Smeargle\\bravo\\bravo_functions.py:128: InputWarning: The filename has been marked as garbage. The splitting will yield good or bad information about a bad data set. Nothing will be done.\n",
      "  smeargle_warning(InputWarning,(\"The filename has been marked as garbage. The splitting \"\n",
      "C:\\Users\\Tripp\\Desktop\\PROGRAM\\IfA_Smeargle\\meta\\io.py:145: InputWarning: The fits file contains an <IFASMASK> extension, a pixel mask created by this program. It will be applied to the data. The output data will be a Numpy Masked Array.\n",
      "  smeargle_warning(InputWarning,(\"The fits file contains an <IFASMASK> extension, \"\n",
      "WARNING: The fit may be unsuccessful; check fit_info['message'] for more information. [astropy.modeling.fitting]\n",
      "C:\\Users\\Tripp\\Desktop\\PROGRAM\\IfA_Smeargle\\meta\\modeling_and_fitting.py:162: DataWarning: Nyquist peaks cannot be found, relying on 1-bin wide peaks for estimates. Estimates may be very off.\n",
      "  smeargle_warning(DataWarning,(\"Nyquist peaks cannot be found, relying on 1-bin \"\n"
     ]
    },
    {
     "data": {
      "image/png": "[encoded data removed]",
      "text/plain": [
       "<Figure size 432x288 with 1 Axes>"
      ]
     },
     "metadata": {
      "needs_background": "light"
     },
     "output_type": "display_data"
    }
   ],
   "source": [
    "output = ifas.zulu.pipelines.SA201907281826_reduction_pipeline('./Data',first_run)"
   ]
  },
  {
   "cell_type": "code",
   "execution_count": 7,
   "metadata": {},
   "outputs": [
    {
     "data": {
      "text/plain": [
       "array([[[37489.,  9216., 38308., ..., 39376., 40093., 40118.],\n",
       "        [36945.,  8704., 37778., ..., 40452., 40334., 39105.],\n",
       "        [36733.,  9216., 37518., ..., 38820., 39624., 39103.],\n",
       "        ...,\n",
       "        [36159.,  9216., 37350., ..., 37135., 37914., 37224.],\n",
       "        [35619.,  8192., 36485., ..., 37059., 38449., 37923.],\n",
       "        [36228.,  9216., 36090., ..., 36936., 38672., 37312.]],\n",
       "\n",
       "       [[36866.,  9216., 37659., ..., 38640., 39431., 39372.],\n",
       "        [36300.,  8704., 37148., ..., 39416., 39671., 38469.],\n",
       "        [36073.,  9216., 36851., ..., 38065., 38954., 38434.],\n",
       "        ...,\n",
       "        [34416.,  9216., 37467., ..., 37143., 37931., 37237.],\n",
       "        [35952.,  9216., 36780., ..., 37190., 38456., 38095.],\n",
       "        [36695.,  9216., 36596., ..., 37250., 39002., 37558.]],\n",
       "\n",
       "       [[36611.,  9216., 37416., ..., 38338., 39159., 39011.],\n",
       "        [36022.,  9216., 36872., ..., 38819., 39430., 38216.],\n",
       "        [35807.,  8448., 36582., ..., 37717., 38717., 38176.],\n",
       "        ...,\n",
       "        [32354.,  8192., 37210., ..., 36862., 37646., 36959.],\n",
       "        [35691.,  8448., 36516., ..., 36916., 38019., 37851.],\n",
       "        [36411.,  9216., 36350., ..., 36988., 38743., 37309.]],\n",
       "\n",
       "       ...,\n",
       "\n",
       "       [[34930.,  8192., 33595., ..., 14465., 36197., 15218.],\n",
       "        [28144.,  2048., 34231., ..., 14429., 29723., 34992.],\n",
       "        [31821.,     0., 34440., ..., 14438., 35833., 19898.],\n",
       "        ...,\n",
       "        [13972.,  2048., 35866., ..., 35686., 36522., 35169.],\n",
       "        [33440.,  8704., 33757., ..., 20741., 14740., 33859.],\n",
       "        [19354.,  8192., 33667., ..., 35289., 37353., 21059.]],\n",
       "\n",
       "       [[34912.,  8192., 33581., ..., 14487., 36212., 15225.],\n",
       "        [28132.,  2048., 34232., ..., 14504., 29764., 35007.],\n",
       "        [31817.,     0., 34433., ..., 14456., 35845., 19920.],\n",
       "        ...,\n",
       "        [13960.,  2048., 35870., ..., 35705., 36530., 35184.],\n",
       "        [33440.,  8256., 33750., ..., 20750., 14763., 33866.],\n",
       "        [19337.,  8192., 33669., ..., 35304., 37373., 21081.]],\n",
       "\n",
       "       [[34922.,  8192., 33568., ..., 14467., 36217., 15198.],\n",
       "        [28149.,  2048., 34250., ..., 14501., 29758., 35008.],\n",
       "        [31821.,     0., 34438., ..., 14457., 35848., 19909.],\n",
       "        ...,\n",
       "        [13967.,  2048., 35856., ..., 35687., 36503., 35157.],\n",
       "        [33446.,  8192., 33763., ..., 20722., 14736., 33852.],\n",
       "        [19344.,  8704., 33670., ..., 35304., 37358., 21046.]]],\n",
       "      dtype=float32)"
      ]
     },
     "execution_count": 7,
     "metadata": {},
     "output_type": "execute_result"
    }
   ],
   "source": [
    "output.fits_data"
   ]
  },
  {
   "cell_type": "code",
   "execution_count": 14,
   "metadata": {},
   "outputs": [
    {
     "data": {
      "text/plain": [
       "775.9999752044678"
      ]
     },
     "execution_count": 14,
     "metadata": {},
     "output_type": "execute_result"
    }
   ],
   "source": [
    "0.6466666460037231  *1200"
   ]
  },
  {
   "cell_type": "code",
   "execution_count": 17,
   "metadata": {},
   "outputs": [
    {
     "name": "stdout",
     "output_type": "stream",
     "text": [
      "[[-4.3400e+02  0.0000e+00 -7.7600e+02 ... -1.2327e+04 -5.9900e+02\n",
      "  -1.4801e+04]\n",
      " [-1.4960e+03 -5.1200e+02 -5.8700e+02 ... -1.6010e+04 -1.9570e+03\n",
      "  -6.1600e+02]\n",
      " [-8.1100e+02  0.0000e+00 -5.1800e+02 ... -1.4155e+04 -6.2500e+02\n",
      "  -4.1950e+03]\n",
      " ...\n",
      " [-1.1000e+01  0.0000e+00 -3.3600e+02 ... -3.3600e+02 -3.1000e+02\n",
      "  -4.3000e+02]\n",
      " [-5.2500e+02  0.0000e+00 -5.7900e+02 ... -3.8400e+03 -1.7564e+04\n",
      "  -7.8200e+02]\n",
      " [-4.2680e+03  0.0000e+00 -5.8800e+02 ... -3.9800e+02 -3.3400e+02\n",
      "  -3.8850e+03]]\n"
     ]
    },
    {
     "data": {
      "text/plain": [
       "False"
      ]
     },
     "execution_count": 17,
     "metadata": {},
     "output_type": "execute_result"
    }
   ],
   "source": [
    "test_fits = ap_fits.open('C:/Users/Tripp/Desktop/RawData/MK20-M12145-34_20191116_T40K/191117_070346.fits')[0]\n",
    "#test_fits.data = output.fits_data\n",
    "first, second = [17,32],[257,272]\n",
    "\n",
    "test_out = np.median(test_fits.data[second[0]:second[-1]],axis=0) - np.median(test_fits.data[first[0]:first[-1]],axis=0)\n",
    "test_out2 = np.median((test_fits.data[second[0]:second[-1]] - test_fits.data[first[0]:first[-1]]), axis=0)\n",
    "print(test_out)\n",
    "\n",
    "np.all(test_out == test_out2)"
   ]
  },
  {
   "cell_type": "code",
   "execution_count": 53,
   "metadata": {},
   "outputs": [
    {
     "name": "stdout",
     "output_type": "stream",
     "text": [
      "dict_keys(['__doc__', 'filename', 'filedirectory', 'fileextension', 'filepathname', 'fits_file', 'fits_header', 'fits_data', 'fits_rawdata', 'fits_datamask', '_raw_configuration_class', '_mutable_header', '_mutable_data', '_mutable_datamask', '_mutable_config', '_mutable_echo_mask', '_mutable_echo_mask_dictionary', '_proper_blank', 'SmeargleConfig'])\n"
     ]
    }
   ],
   "source": [
    "object_list = vars(output['orig'])\n",
    "second_list = copy.deepcopy(object_list)\n",
    "\n",
    "for keydex, valuedex in object_list.items():\n",
    "    if (callable(valuedex)):\n",
    "        second_list.pop(keydex)\n",
    "        \n",
    "print(second_list.keys())"
   ]
  },
  {
   "cell_type": "code",
   "execution_count": null,
   "metadata": {},
   "outputs": [],
   "source": [
    "first_run.OscarConfig.general_histogram_config['histogram_plot_paramters']['range'] = [-1000,1000]\n",
    "\n",
    "figure = ifas.oscar.multi.plot_single_heatmap_and_histogram(\"./Data\\Saphria__num;14__detBias;4.5Vdown__1025-1040.fits\",first_run)\n",
    "#figure.axes[1].axvline(np.nanmean(data.data))\n",
    "plt.show(figure)"
   ]
  },
  {
   "cell_type": "code",
   "execution_count": null,
   "metadata": {},
   "outputs": [],
   "source": [
    "first_run.OscarConfig.general_histogram_config['fit_gaussian'] = True\n",
    "#first_run.OscarConfig.general_histogram_config['bin_width'] = 5\n",
    "#first_run.OscarConfig.general_histogram_config['histogram_plot_paramters']['range'] = [-250,100]\n",
    "\n",
    "__, __, data = ifas.meta.meta_faa.smeargle_open_fits_file(\"./Data/SAPHIRA-MK12145-02_20190913-40K__num;7__detBias;10.5Vup__slice;513-528.fits\")\n",
    "figure2 = ifas.oscar.multi.plot_single_heatmap_and_histogram(data,first_run)\n",
    "#figure3 = ifas.oscar.multi.plot_single_heatmap_and_histogram(data.data,first_run)\n",
    "#figure.axes[1].axvline(np.nanmean(data.data))\n",
    "plt.show(figure2)\n",
    "plt.show(figure3)\n",
    "\n",
    "# [ 72 120 136 250 294]\n",
    "#[-16074. -14058. -13386.  -8598.  -6750.]\n",
    "ifas.meta.meta_plting.smeargle_save_figure_file(figure2,\"website.png\")\n",
    "print(np.histogram(data.data,bins=10))"
   ]
  },
  {
   "cell_type": "code",
   "execution_count": null,
   "metadata": {},
   "outputs": [],
   "source": [
    "__, __, data = ifas.meta.meta_faa.smeargle_open_fits_file(\"./Data\\Saphria__num;14__detBias;4.5Vdown__257-272.fits\")\n",
    "figure2 = ifas.oscar.histograms.plot_array_histogram(data.data,bin_width=10,fit_gaussian=True)\n",
    "#figure.axes[1].axvline(np.nanmean(data.data))\n",
    "plt.show(figure2)\n",
    "\n",
    "wee, weer = ifas.meta.meta_model.smeargle_fit_histogram_gaussian_function(data.data)\n",
    "\n",
    "print(np.nanstd(data))"
   ]
  },
  {
   "cell_type": "code",
   "execution_count": null,
   "metadata": {},
   "outputs": [],
   "source": [
    "# Extract histogram data from the data.\n",
    "hist_data = np.histogram(data.data, bins=ifa.oscar.oscar_bin_width(data.data, 10))\n",
    "hist_x = (hist_data[1][0:-1] + hist_data[1][1:]) / 2 # Middle of bin.\n",
    "hist_y = hist_data[0]\n",
    "   # Filter out some of the outlier pixels, consider only 75% of the \n",
    "    # meaningful bins and the bins with a value greater than a limiting entry.\n",
    "valuecut_index = np.where(hist_y >= 11)\n",
    "cuthist_x = np.array(hist_x[valuecut_index])\n",
    "cuthist_y = np.array(hist_y[valuecut_index])\n",
    "\n",
    "    # Initial guesses...\n",
    "    # The peak of the data is a good guess for the mean value.\n",
    "guess_mean = hist_x[np.argmax(cuthist_y)]\n",
    "print(np.nanstd(cuthist_y))\n",
    "print(sp_stat.median_absolute_deviation(cuthist_y))\n",
    "print(sp_stat.variation(cuthist_y))"
   ]
  },
  {
   "cell_type": "code",
   "execution_count": null,
   "metadata": {},
   "outputs": [],
   "source": [
    "ifas.bravo.sanitize.same_file_size_sanitization('./Data')"
   ]
  },
  {
   "cell_type": "code",
   "execution_count": null,
   "metadata": {},
   "outputs": [],
   "source": [
    "glob.glob('./Data*.fits')"
   ]
  },
  {
   "cell_type": "code",
   "execution_count": null,
   "metadata": {},
   "outputs": [],
   "source": []
  },
  {
   "cell_type": "code",
   "execution_count": null,
   "metadata": {},
   "outputs": [],
   "source": [
    "fig, ax = plt.subplots(dpi=300)\n",
    "ax, data_table, data_frame = ifas.oscar.volt_plot.plotdir_dark_current_over_voltage('./Data/', figure_axes=ax)\n",
    "\n",
    "#ax.set_yscale('log')\n",
    "ax.set_ylim((-250,250))\n",
    "\n",
    "plt.show()"
   ]
  },
  {
   "cell_type": "code",
   "execution_count": null,
   "metadata": {
    "scrolled": false
   },
   "outputs": [],
   "source": [
    "data_table"
   ]
  },
  {
   "cell_type": "code",
   "execution_count": null,
   "metadata": {
    "scrolled": false
   },
   "outputs": [],
   "source": [
    "fig2, ax2 = plt.subplots(dpi=300)\n",
    "\n",
    "ax2.errorbar(data_table['voltage_set1'][0:5], data_table['value_set1'][0:5], yerr=data_table['error_set1'][0:5],\n",
    "                    fmt='.-', elinewidth=0.25, capsize=3, capthick=0.25,\n",
    "                    label=('Set ' + str(1)))\n",
    "ax2.errorbar(data_table['voltage_set2'][0:5], data_table['value_set2'][0:5], yerr=data_table['error_set2'][0:5],\n",
    "                    fmt='.-', elinewidth=0.25, capsize=3, capthick=0.25,\n",
    "                    label=('Set ' + str(2)))\n",
    "\n",
    "title=first_run.BravoConfig.detector_name['name']\n",
    "ax2.set_title(title)\n",
    "ax2.legend(loc='upper left')\n",
    "ax2.set_xticks(np.append(data_table['voltage_set1'][0:5], 0))\n",
    "ax2.set_xlabel('Detector Bias Voltage (V)')\n",
    "ax2.set_ylabel('Average Dark Current (ADU)')\n",
    "\n",
    "plt.show()\n"
   ]
  },
  {
   "cell_type": "code",
   "execution_count": null,
   "metadata": {},
   "outputs": [],
   "source": [
    "np.append(data_table['voltage_set1'][0:5], 0)"
   ]
  },
  {
   "cell_type": "code",
   "execution_count": null,
   "metadata": {},
   "outputs": [],
   "source": [
    "dataframe.query('volt == @voltage_value and voltslope == @voltage_slope')['num']"
   ]
  },
  {
   "cell_type": "code",
   "execution_count": null,
   "metadata": {},
   "outputs": [],
   "source": [
    "voltage_list = copy.deepcopy(np.sort(np.unique(file_data.loc[:,'volt'].to_numpy())))\n",
    "\n",
    "set_metadata = []\n",
    "#slope_list = list(set(dataframe.query('volt == @voltage_value')['voltslope']))\n",
    "\n",
    "for voltdex in voltage_list:\n",
    "    slope_list = list(set(file_data.query('volt == @voltdex')['voltslope']))\n",
    "    \n",
    "    for slopedex in slope_list:\n",
    "        query = file_data.query('volt == @voltdex and voltslope == @slopedex')['num']\n",
    "        filenum = np.sort(np.unique(query))\n",
    "        \n",
    "        for numdex, setdex in zip(filenum,np.arange(len(filenum))+1):\n",
    "            temp_dict = {'metavolt':voltdex,'metaslope':slopedex,'metanum':numdex,'metaset':setdex}\n",
    "            set_metadata.append(temp_dict)\n",
    "            \n",
    "set_metadata = pd.DataFrame(set_metadata)"
   ]
  },
  {
   "cell_type": "code",
   "execution_count": null,
   "metadata": {},
   "outputs": [],
   "source": [
    "set_count = np.flip(np.unique(set_metadata['metaset']))[np.flip(np.unique(set_metadata['metaset'],return_counts=True)[1]).argmax()]\n",
    "\n",
    "for setdex in (np.arange(set_count) + 1):\n",
    "    dataset_list = set_metadata.query('metaset == @setdex')\n",
    "    \n",
    "    x_axis_voltage = []\n",
    "    y_axis_data = []\n",
    "    y_axis_error = []\n",
    "    \n",
    "    for voltdex in voltage_list:\n",
    "        fits_file_numbers = list(dataset_list.query('metavolt == @voltdex')['metanum'].to_numpy())\n",
    "        voltset_data = file_data.query('num == @fits_file_numbers')\n",
    "        \n",
    "        x_axis_voltage.append(voltdex)\n",
    "        y_axis_data.append(np.nanmedian(voltset_data['g_mean']))\n",
    "        y_axis_error.append(np.nanmedian(voltset_data['g_stddev']))\n",
    "        \n",
    "    #####\n",
    "    x_axis_voltage = np.array(x_axis_voltage)\n",
    "    y_axis_data = np.array(y_axis_data)\n",
    "    y_axis_error = np.array(y_axis_error)\n",
    "    plt.errorbar(x_axis_voltage, y_axis_data, yerr=y_axis_error)\n"
   ]
  },
  {
   "cell_type": "code",
   "execution_count": null,
   "metadata": {},
   "outputs": [],
   "source": []
  },
  {
   "cell_type": "code",
   "execution_count": null,
   "metadata": {},
   "outputs": [],
   "source": [
    "import importlib\n",
    "\n",
    "complete_oscar_dict = dict(inspect.getmembers(ifas.oscar, inspect.ismodule))\n",
    "\n",
    "source_file_list = [inspect.getsourcefile(complete_oscar_dict[keydex]) for keydex in complete_oscar_dict.keys()]\n",
    "ifa_smeargle_file_list = [filedex for filedex in source_file_list if 'IfA_Smeargle' in filedex]\n",
    "oscar_file_list = [filedex for filedex in ifa_smeargle_file_list if 'oscar' in filedex]\n",
    "\n",
    "oscar_mod_name_list = [inspect.getmodulename(oscardex) for oscardex in ifa_smeargle_file_list if 'oscar' in oscardex]\n",
    "\n",
    "oscar_modspec = [importlib.util.spec_from_file_location(namedex, filedex) for namedex, filedex in zip(oscar_mod_name_list, oscar_file_list)]\n",
    "oscar_modules = [importlib.util.module_from_spec(specdex) for specdex in oscar_modspec]\n",
    "\n",
    "for specdex, moduledex in zip(specifications,oscar_modules):\n",
    "    specdex.loader.exec_module(moduledex)\n",
    "\n",
    "function_dictionaries = [dict(inspect.getmembers(moduledex,inspect.isfunction)) for moduledex in oscar_modules]\n",
    "\n",
    "oscar_plotting_functions = {}\n",
    "for dictionarydex in function_dictionaries: \n",
    "    oscar_plotting_functions = {**oscar_plotting_functions, **dictionarydex}\n",
    "for keydex, valuedex in copy.deepcopy(oscar_plotting_functions).items():\n",
    "    if ('smeargle' in keydex):\n",
    "        oscar_plotting_functions.pop(keydex, None)\n",
    "    \n",
    "print(oscar_plotting_functions)"
   ]
  },
  {
   "cell_type": "code",
   "execution_count": null,
   "metadata": {},
   "outputs": [],
   "source": [
    "data_array = ifas.zulu.IfasDataArray('./Data/SAPHIRA-MK20-M12145-03_20191001_T60K__num;2__detBias;2.5Vup__slice;1025-1040.fits', \n",
    "                                     configuration_class='FirstRun.ifaspkl')"
   ]
  },
  {
   "cell_type": "code",
   "execution_count": null,
   "metadata": {},
   "outputs": [],
   "source": [
    "print(data_array.__doc__)"
   ]
  },
  {
   "cell_type": "code",
   "execution_count": null,
   "metadata": {},
   "outputs": [],
   "source": [
    "data_array.config.EchoConfig.echo271_config['maximum_value'] = -50\n",
    "print(data_array.config)"
   ]
  },
  {
   "cell_type": "code",
   "execution_count": null,
   "metadata": {},
   "outputs": [],
   "source": [
    "data_array.echo271_maximum_cut(run=False, configuration=True)"
   ]
  },
  {
   "cell_type": "code",
   "execution_count": null,
   "metadata": {},
   "outputs": [],
   "source": []
  },
  {
   "cell_type": "code",
   "execution_count": null,
   "metadata": {},
   "outputs": [],
   "source": [
    "__, __, ifas_data = ifas.meta.meta_faa.smeargle_open_fits_file('./Data/' + \n",
    "                        'SAPHIRA-MK20-M12145-03_20190927_T40K__num;14__set;1__detBias;2.5Vdown__slice;221-228'\n",
    "                                                               +'.fits')\n",
    "__, __, shane_data = ifas.meta.meta_faa.smeargle_open_fits_file('/Users/Tripp/Downloads/190927_T40K_2hrdark_set1/' +\n",
    "                        '190927_T40K_2hrdark_2.5VdetBias_down_16avg_CDS'\n",
    "                                                                + '.fits')\n",
    "if (False):\n",
    "    magnitude = np.ma.divide(ifas_data, shane_data)\n",
    "    inv_mag = np.ma.divide(1, magnitude)\n",
    "else:\n",
    "    magnitude = (ifas_data / shane_data)\n",
    "    inv_mag = (1 / magnitude)\n",
    "\n",
    "plt.hist(inv_mag.flatten(), bins=int(inv_mag.flatten().ptp()), log=True)\n",
    "plt.xlim([-100,100])\n",
    "plt.show()\n",
    "\n",
    "plt.imshow(inv_mag)\n",
    "plt.colorbar()\n",
    "plt.show()\n",
    "\n",
    "print('Mean   ' + str(np.nanmean(inv_mag)))\n",
    "print('Median   ' + str(np.ma.median(inv_mag)))\n",
    "print('Std   ' + str(np.std(inv_mag)))\n",
    "print('Var   ' + str(np.var(inv_mag)))\n",
    "\n",
    "print('x̄' + str(round(np.nanmean(inv_mag),2)) + ', μ' + str(round(np.ma.median(inv_mag),2)) + ', σ' \n",
    "      + str(round(np.std(inv_mag),2)) + ', σ*' + str(round(np.var(inv_mag),2)))"
   ]
  },
  {
   "cell_type": "code",
   "execution_count": null,
   "metadata": {},
   "outputs": [],
   "source": [
    "ifas.meta.meta_math.smeargle_mean(ifas_data)"
   ]
  },
  {
   "cell_type": "code",
   "execution_count": null,
   "metadata": {},
   "outputs": [],
   "source": [
    "first_run.OscarConfig.general_histogram_config['histogram_plot_paramters']['range'] = [-100,100]\n",
    "\n",
    "figure = ifas.oscar.multi.plot_single_heatmap_and_histogram(shane_data,first_run)\n",
    "#figure.axes[1].axvline(np.nanmean(data.data))\n",
    "plt.show(figure)"
   ]
  },
  {
   "cell_type": "code",
   "execution_count": null,
   "metadata": {},
   "outputs": [],
   "source": [
    "__, __, ifas_data = ifas.meta.meta_faa.smeargle_open_fits_file('./Data/' + \n",
    "                        'SAPHIRA-MK20-M12145-03_20190927_T40K__num;13__set;1__detBias;4.5Vdown__slice;221-228'\n",
    "                                                               +'.fits')\n",
    "ifas_data"
   ]
  },
  {
   "cell_type": "code",
   "execution_count": null,
   "metadata": {},
   "outputs": [],
   "source": [
    "__, __, true_data = ifas.meta.meta_faa.smeargle_open_fits_file('/Users/Tripp/Desktop/RawData/MK20-M12145-03_20190927_T40K/' + \n",
    "                        '190928_203649'\n",
    "                                                               +'.fits')"
   ]
  },
  {
   "cell_type": "code",
   "execution_count": null,
   "metadata": {},
   "outputs": [],
   "source": [
    "first_chunk = true_data[161:192,:,:]\n",
    "second_chunk = true_data[221:228,:,:]\n",
    "\n",
    "first_chunk_median = np.nanmedian(first_chunk, axis=0)\n",
    "second_chunk_median = np.nanmedian(second_chunk, axis=0)\n",
    "\n",
    "diff = second_chunk_median - first_chunk_median"
   ]
  },
  {
   "cell_type": "code",
   "execution_count": null,
   "metadata": {},
   "outputs": [],
   "source": [
    "test = ifas.zulu.IfasDataArray(None, blank=True)"
   ]
  },
  {
   "cell_type": "code",
   "execution_count": null,
   "metadata": {},
   "outputs": [],
   "source": [
    "[method_name for method_name in dir(test)\n",
    "                  if callable(getattr(test, method_name))]"
   ]
  },
  {
   "cell_type": "code",
   "execution_count": 5,
   "metadata": {},
   "outputs": [
    {
     "ename": "ValueError",
     "evalue": "Empty filename: ''",
     "output_type": "error",
     "traceback": [
      "\u001b[1;31m---------------------------------------------------------------------------\u001b[0m",
      "\u001b[1;31mValueError\u001b[0m                                Traceback (most recent call last)",
      "\u001b[1;32m<ipython-input-5-6977032e9df5>\u001b[0m in \u001b[0;36m<module>\u001b[1;34m\u001b[0m\n\u001b[1;32m----> 1\u001b[1;33m \u001b[0mtest\u001b[0m \u001b[1;33m=\u001b[0m \u001b[0mifas\u001b[0m\u001b[1;33m.\u001b[0m\u001b[0mzulu\u001b[0m\u001b[1;33m.\u001b[0m\u001b[0mIfasDataArray\u001b[0m\u001b[1;33m(\u001b[0m\u001b[1;34m''\u001b[0m\u001b[1;33m,\u001b[0m \u001b[0mblank\u001b[0m\u001b[1;33m=\u001b[0m\u001b[1;32mFalse\u001b[0m\u001b[1;33m)\u001b[0m\u001b[1;33m\u001b[0m\u001b[1;33m\u001b[0m\u001b[0m\n\u001b[0m",
      "\u001b[1;32m~\\Desktop\\PROGRAM\\IfA_Smeargle\\zulu\\zulu_main.py\u001b[0m in \u001b[0;36m__init__\u001b[1;34m(self, pathname, configuration_class, blank, silent)\u001b[0m\n\u001b[0;32m    148\u001b[0m         \u001b[1;32melse\u001b[0m\u001b[1;33m:\u001b[0m\u001b[1;33m\u001b[0m\u001b[1;33m\u001b[0m\u001b[0m\n\u001b[0;32m    149\u001b[0m             _initalization(pathname=pathname, configuration_class=configuration_class,\n\u001b[1;32m--> 150\u001b[1;33m                                blank=blank)\n\u001b[0m\u001b[0;32m    151\u001b[0m \u001b[1;33m\u001b[0m\u001b[0m\n\u001b[0;32m    152\u001b[0m         \u001b[1;32mreturn\u001b[0m \u001b[1;32mNone\u001b[0m\u001b[1;33m\u001b[0m\u001b[1;33m\u001b[0m\u001b[0m\n",
      "\u001b[1;32m~\\Desktop\\PROGRAM\\IfA_Smeargle\\zulu\\zulu_main.py\u001b[0m in \u001b[0;36m_initalization\u001b[1;34m(pathname, configuration_class, blank)\u001b[0m\n\u001b[0;32m     96\u001b[0m                 \u001b[1;31m# Read the fits file data.\u001b[0m\u001b[1;33m\u001b[0m\u001b[1;33m\u001b[0m\u001b[1;33m\u001b[0m\u001b[0m\n\u001b[0;32m     97\u001b[0m                 hdul_file, hdu_header, hdu_data = meta_io.smeargle_open_fits_file(\n\u001b[1;32m---> 98\u001b[1;33m                     self._original_pathname, silent=True)\n\u001b[0m\u001b[0;32m     99\u001b[0m                 \u001b[0mself\u001b[0m\u001b[1;33m.\u001b[0m\u001b[0mfits_file\u001b[0m \u001b[1;33m=\u001b[0m \u001b[0mhdul_file\u001b[0m\u001b[1;33m\u001b[0m\u001b[1;33m\u001b[0m\u001b[0m\n\u001b[0;32m    100\u001b[0m                 \u001b[0mself\u001b[0m\u001b[1;33m.\u001b[0m\u001b[0mfits_header\u001b[0m \u001b[1;33m=\u001b[0m \u001b[0mhdu_header\u001b[0m\u001b[1;33m\u001b[0m\u001b[1;33m\u001b[0m\u001b[0m\n",
      "\u001b[1;32m~\\Desktop\\PROGRAM\\IfA_Smeargle\\meta\\io.py\u001b[0m in \u001b[0;36msmeargle_open_fits_file\u001b[1;34m(file_name, extension, null_min, null_max, silent)\u001b[0m\n\u001b[0;32m     59\u001b[0m     \u001b[1;32mif\u001b[0m \u001b[1;33m(\u001b[0m\u001b[0msilent\u001b[0m\u001b[1;33m)\u001b[0m\u001b[1;33m:\u001b[0m\u001b[1;33m\u001b[0m\u001b[1;33m\u001b[0m\u001b[0m\n\u001b[0;32m     60\u001b[0m         \u001b[1;32mwith\u001b[0m \u001b[0msmeargle_absolute_silence\u001b[0m\u001b[1;33m(\u001b[0m\u001b[1;33m)\u001b[0m\u001b[1;33m:\u001b[0m\u001b[1;33m\u001b[0m\u001b[1;33m\u001b[0m\u001b[0m\n\u001b[1;32m---> 61\u001b[1;33m             \u001b[1;32mreturn\u001b[0m \u001b[0msmeargle_open_fits_file\u001b[0m\u001b[1;33m(\u001b[0m\u001b[0mfile_name\u001b[0m\u001b[1;33m,\u001b[0m \u001b[0mextension\u001b[0m\u001b[1;33m=\u001b[0m\u001b[0mextension\u001b[0m\u001b[1;33m)\u001b[0m\u001b[1;33m\u001b[0m\u001b[1;33m\u001b[0m\u001b[0m\n\u001b[0m\u001b[0;32m     62\u001b[0m \u001b[1;33m\u001b[0m\u001b[0m\n\u001b[0;32m     63\u001b[0m     \u001b[1;32mwith\u001b[0m \u001b[0map_fits\u001b[0m\u001b[1;33m.\u001b[0m\u001b[0mopen\u001b[0m\u001b[1;33m(\u001b[0m\u001b[0mfile_name\u001b[0m\u001b[1;33m)\u001b[0m \u001b[1;32mas\u001b[0m \u001b[0mhdul\u001b[0m\u001b[1;33m:\u001b[0m\u001b[1;33m\u001b[0m\u001b[1;33m\u001b[0m\u001b[0m\n",
      "\u001b[1;32m~\\Desktop\\PROGRAM\\IfA_Smeargle\\meta\\io.py\u001b[0m in \u001b[0;36msmeargle_open_fits_file\u001b[1;34m(file_name, extension, null_min, null_max, silent)\u001b[0m\n\u001b[0;32m     61\u001b[0m             \u001b[1;32mreturn\u001b[0m \u001b[0msmeargle_open_fits_file\u001b[0m\u001b[1;33m(\u001b[0m\u001b[0mfile_name\u001b[0m\u001b[1;33m,\u001b[0m \u001b[0mextension\u001b[0m\u001b[1;33m=\u001b[0m\u001b[0mextension\u001b[0m\u001b[1;33m)\u001b[0m\u001b[1;33m\u001b[0m\u001b[1;33m\u001b[0m\u001b[0m\n\u001b[0;32m     62\u001b[0m \u001b[1;33m\u001b[0m\u001b[0m\n\u001b[1;32m---> 63\u001b[1;33m     \u001b[1;32mwith\u001b[0m \u001b[0map_fits\u001b[0m\u001b[1;33m.\u001b[0m\u001b[0mopen\u001b[0m\u001b[1;33m(\u001b[0m\u001b[0mfile_name\u001b[0m\u001b[1;33m)\u001b[0m \u001b[1;32mas\u001b[0m \u001b[0mhdul\u001b[0m\u001b[1;33m:\u001b[0m\u001b[1;33m\u001b[0m\u001b[1;33m\u001b[0m\u001b[0m\n\u001b[0m\u001b[0;32m     64\u001b[0m         \u001b[0mhdul_file\u001b[0m \u001b[1;33m=\u001b[0m \u001b[0mcopy\u001b[0m\u001b[1;33m.\u001b[0m\u001b[0mdeepcopy\u001b[0m\u001b[1;33m(\u001b[0m\u001b[0mhdul\u001b[0m\u001b[1;33m)\u001b[0m\u001b[1;33m\u001b[0m\u001b[1;33m\u001b[0m\u001b[0m\n\u001b[0;32m     65\u001b[0m \u001b[1;33m\u001b[0m\u001b[0m\n",
      "\u001b[1;32m~\\.conda\\envs\\Anaconda\\lib\\site-packages\\astropy\\io\\fits\\hdu\\hdulist.py\u001b[0m in \u001b[0;36mfitsopen\u001b[1;34m(name, mode, memmap, save_backup, cache, lazy_load_hdus, **kwargs)\u001b[0m\n\u001b[0;32m    146\u001b[0m \u001b[1;33m\u001b[0m\u001b[0m\n\u001b[0;32m    147\u001b[0m     \u001b[1;32mif\u001b[0m \u001b[1;32mnot\u001b[0m \u001b[0mname\u001b[0m\u001b[1;33m:\u001b[0m\u001b[1;33m\u001b[0m\u001b[1;33m\u001b[0m\u001b[0m\n\u001b[1;32m--> 148\u001b[1;33m         \u001b[1;32mraise\u001b[0m \u001b[0mValueError\u001b[0m\u001b[1;33m(\u001b[0m\u001b[1;34m'Empty filename: {!r}'\u001b[0m\u001b[1;33m.\u001b[0m\u001b[0mformat\u001b[0m\u001b[1;33m(\u001b[0m\u001b[0mname\u001b[0m\u001b[1;33m)\u001b[0m\u001b[1;33m)\u001b[0m\u001b[1;33m\u001b[0m\u001b[1;33m\u001b[0m\u001b[0m\n\u001b[0m\u001b[0;32m    149\u001b[0m \u001b[1;33m\u001b[0m\u001b[0m\n\u001b[0;32m    150\u001b[0m     return HDUList.fromfile(name, mode, memmap, save_backup, cache,\n",
      "\u001b[1;31mValueError\u001b[0m: Empty filename: ''"
     ]
    }
   ],
   "source": [
    "test = ifas.zulu.IfasDataArray('C:/Users/Tripp/Desktop/RawData/MK20-M12145-34_20191116_T40K/191117_070346.fits', blank=False)"
   ]
  },
  {
   "cell_type": "code",
   "execution_count": null,
   "metadata": {},
   "outputs": [],
   "source": [
    "test.median_endpoints(start_chunk=[161,192], end_chunk=[221,228])"
   ]
  },
  {
   "cell_type": "code",
   "execution_count": null,
   "metadata": {},
   "outputs": [],
   "source": [
    "test.plot_array_heatmap_image()"
   ]
  },
  {
   "cell_type": "code",
   "execution_count": null,
   "metadata": {},
   "outputs": [],
   "source": [
    "test.echo170_gaussian_truncation(sigma_multiple=5,bin_size=100)"
   ]
  },
  {
   "cell_type": "code",
   "execution_count": null,
   "metadata": {},
   "outputs": [],
   "source": [
    "test.echo_synthesize_mask_dictionary()\n",
    "test.echo_create_masked_array()"
   ]
  },
  {
   "cell_type": "code",
   "execution_count": null,
   "metadata": {},
   "outputs": [],
   "source": [
    "test.plot_single_heatmap_and_histogram(bin_width=10)"
   ]
  },
  {
   "cell_type": "code",
   "execution_count": null,
   "metadata": {},
   "outputs": [],
   "source": [
    "test.get_data()"
   ]
  },
  {
   "cell_type": "code",
   "execution_count": null,
   "metadata": {},
   "outputs": [],
   "source": []
  },
  {
   "cell_type": "code",
   "execution_count": null,
   "metadata": {},
   "outputs": [],
   "source": []
  },
  {
   "cell_type": "code",
   "execution_count": null,
   "metadata": {},
   "outputs": [],
   "source": [
    "# Just a inner function to store the new naming routine. \n",
    "# Be adaptive as to which configuration class is given.\n",
    "provided_config = yankee.yankee_extract_proper_configuration_class(configuration_class,\n",
    "                                                                   yankee.BravoConfig)\n",
    "# Determine the detector's name.\n",
    "if (isinstance(provided_config.detector_name,str)):\n",
    "    detector_name = provided_config.detector_name\n",
    "elif (isinstance(provided_config.detector_name,dict)):\n",
    "    try:\n",
    "        detector_name = provided_config.detector_name['name']\n",
    "    except KeyError:\n",
    "        raise ConfigurationError(\"The detector name cannot be found in the \"\n",
    "                                 \"configuration file. It must either be a string or a \"\n",
    "                                 \"dictionary with the name value referenced by the key \"\n",
    "                                 \"<name>.\")\n",
    "else:\n",
    "    raise ConfigurationError(\"The detector name cannot be found in the configuration \"\n",
    "                             \"file. It must either be a string or a dictionary with \"\n",
    "                             \"the name value referenced by the key <name>.\")\n",
    "\n",
    "# Getting the voltage renames\n",
    "number_names = bravo.rename.number_renaming(data_directory,\n",
    "                                            **provided_config.number_rename_config)\n",
    "set_names = bravo.rename.set_determinization_renaming(data_directory,\n",
    "                                                      **provided_config.set_determine_rename_config)\n",
    "voltage_names = bravo.rename.voltage_pattern_renaming(data_directory,\n",
    "                                                      **provided_config.voltpat_rename_config)\n",
    "n_files = len(number_names)\n",
    "\n",
    "\n",
    "# Rename all of the files. The directory structure seems fine.\n",
    "final_names = []\n",
    "for numdex, setdex, detectdex, voltdex in zip(number_names,\n",
    "                                              set_names,\n",
    "                                              [detector_name for index in range(n_files)],\n",
    "                                              voltage_names):\n",
    "final_names.append(detectdex\n",
    "                   + '__' + numdex\n",
    "                   + '__' + setdex\n",
    "                   + '__' + voltdex \n",
    "                   # + '__'\n",
    "                   + '.fits')\n",
    "\n",
    "bravo.bravo_rename_parallel(None, final_names, data_directory, file_extensions='.fits')"
   ]
  }
 ],
 "metadata": {
  "kernelspec": {
   "display_name": "Python 3",
   "language": "python",
   "name": "python3"
  },
  "language_info": {
   "codemirror_mode": {
    "name": "ipython",
    "version": 3
   },
   "file_extension": ".py",
   "mimetype": "text/x-python",
   "name": "python",
   "nbconvert_exporter": "python",
   "pygments_lexer": "ipython3",
   "version": "3.7.3"
  }
 },
 "nbformat": 4,
 "nbformat_minor": 2
}
