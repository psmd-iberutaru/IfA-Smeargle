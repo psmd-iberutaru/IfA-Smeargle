{
 "cells": [
  {
   "cell_type": "code",
   "execution_count": 1,
   "metadata": {},
   "outputs": [],
   "source": [
    "import astropy as ap\n",
    "import astropy.io.fits as ap_fits\n",
    "import astropy.modeling as ap_mod\n",
    "import copy\n",
    "import glob\n",
    "import inspect\n",
    "import matplotlib as mpl\n",
    "import matplotlib.pyplot as plt\n",
    "import numpy as np\n",
    "import numpy.ma as np_ma\n",
    "import scipy as sp\n",
    "import scipy.optimize as sp_opt\n",
    "import scipy.stats as sp_stat\n",
    "\n",
    "import IfA_Smeargle as ifa"
   ]
  },
  {
   "cell_type": "code",
   "execution_count": null,
   "metadata": {},
   "outputs": [],
   "source": [
    "fits,header,data = ifa.meta.fits_and_arrays.smeargle_open_fits_file(\"190510_T40K_2hrdark_2.5VdetBias_up_16avg_GN_CDS_ADU_per_ksec.fits\")"
   ]
  },
  {
   "cell_type": "code",
   "execution_count": null,
   "metadata": {},
   "outputs": [],
   "source": [
    "fig, ax = plt.subplots(1, 1)\n",
    "ifa.hotel.plot_array_heatmap_image(data,figure_axes=ax)\n",
    "\n",
    "#plt.imshow(data, cmap='hot')\n",
    "#plt.colorbar()\n",
    "#plt.show()"
   ]
  },
  {
   "cell_type": "code",
   "execution_count": null,
   "metadata": {},
   "outputs": [],
   "source": [
    "mask = np.full_like(data,False)\n",
    "mask[10:,:] = True\n",
    "masking_data = np_ma.array(data,mask=mask)\n",
    "\n",
    "ifa.hotel.plot_array_heatmap_image(masking_data)"
   ]
  },
  {
   "cell_type": "code",
   "execution_count": null,
   "metadata": {},
   "outputs": [],
   "source": [
    "y_bounds = [50,250]\n",
    "x_bounds = [100,150]\n",
    "\n",
    "sub_data = ifa.meta.smeargle_extract_subarray(data,x_bounds,y_bounds)\n",
    "\n",
    "fig2, ax2 = plt.subplots(1, 1)\n",
    "ifa.hotel.plot_array_heatmap_image(sub_data,figure_axes=ax2)"
   ]
  },
  {
   "cell_type": "code",
   "execution_count": null,
   "metadata": {},
   "outputs": [],
   "source": [
    "hist_data = plt.hist(data.flatten(),bins=50,range=None,log=8)\n",
    "\n",
    "# Define the x-axis values, that is, the center of each bar.\n",
    "hist_x = (hist_data[1][0:-1] + hist_data[1][1:])/2\n",
    "hist_y = hist_data[0]\n",
    "plt.plot(hist_x,hist_y)\n",
    "\n",
    "plt.show()"
   ]
  },
  {
   "cell_type": "code",
   "execution_count": null,
   "metadata": {},
   "outputs": [],
   "source": [
    "fig2, ax2 = plt.subplots(1, 1,figsize=(15,15))\n",
    "ax2 = ifa.hotel.plot_array_histogram(data.flatten(),figure_axes=ax2,\n",
    "                                    histogram_plot_paramters={'bins':50, 'range':None,'log':False})[1]\n",
    "print(ax2)"
   ]
  },
  {
   "cell_type": "code",
   "execution_count": null,
   "metadata": {},
   "outputs": [],
   "source": [
    "fig3, ax3 = plt.subplots(3, 4,figsize=(10,6),dpi=100)\n",
    "\n",
    "ax3[:,0]\n",
    "\n",
    "# y , x\n",
    "for axesdex in ax3[:,0]:\n",
    "    ifa.hotel.plot_array_heatmap_image(sub_data,figure_axes=axesdex)\n",
    "for axesdex in ax3[:,2]:\n",
    "    ifa.hotel.plot_array_heatmap_image(sub_data,figure_axes=axesdex)\n",
    "    \n",
    "# Hist\n",
    "for axesdex in ax3[:,1]:\n",
    "    ifa.hotel.plot_array_histogram(data.flatten(),figure_axes=axesdex)\n",
    "    axesdex.set_aspect(1/(axesdex.get_data_ratio() * 2))\n",
    "for axesdex in ax3[:,3]:\n",
    "    ifa.hotel.plot_array_histogram(data.flatten(),figure_axes=axesdex)\n",
    "    axesdex.set_aspect(1/(axesdex.get_data_ratio() * 2))\n",
    "    \n",
    "fig3.tight_layout()\n",
    "fig3.subplots_adjust(right=0.9)\n",
    "plt.show(fig3)\n"
   ]
  },
  {
   "cell_type": "code",
   "execution_count": null,
   "metadata": {},
   "outputs": [],
   "source": [
    "#fig4, ax4 = plt.subplots(1, 2,figsize=(9,3.5),dpi=100)\n",
    "\n",
    "figure = ifa.hotel.plot_single_heatmap_and_histogram(data)\n",
    "    \n",
    "plt.show(figure)"
   ]
  },
  {
   "cell_type": "code",
   "execution_count": null,
   "metadata": {},
   "outputs": [],
   "source": [
    "fig5, ax5 = plt.subplots(3, 4,figsize=(12,6),dpi=200)\n",
    "\n",
    "temp_data = sub_data\n",
    "\n",
    "def double_axes(temp_data,axes_1,axes_2):\n",
    "    ifa.hotel.plot_array_heatmap_image(temp_data,figure_axes=axes_1)\n",
    "\n",
    "    ifa.hotel.plot_array_histogram(temp_data.flatten(),figure_axes=axes_2)\n",
    "    axes_2.set_aspect(1/(axes_2.get_data_ratio() * 1.5))\n",
    "    #print(axes_2.get_data_ratio())\n",
    "\n",
    "    \n",
    "for axes1dex,axes2dex in zip(ax5[:,0],ax5[:,1]):\n",
    "    double_axes(temp_data,axes1dex,axes2dex)\n",
    "    \n",
    "\n",
    "#for axes1dex,axes2dex in zip(ax5[:,2],ax5[:,3]):\n",
    "#    double_axes(temp_data,axes1dex,axes2dex)\n",
    "    \n",
    "    \n",
    "fig5.tight_layout()\n",
    "plt.show(fig5)"
   ]
  },
  {
   "cell_type": "code",
   "execution_count": null,
   "metadata": {},
   "outputs": [],
   "source": [
    "fig6, ax6 = plt.subplots(3, 6,figsize=(12,6),dpi=200)\n",
    "\n",
    "ax6[0,0] = plt.subplot2grid((3, 6), (0, 0))\n",
    "ax6[0,1] = plt.subplot2grid((3, 6), (0, 1), colspan=2)\n",
    "ax6[1,0] = plt.subplot2grid((3, 6), (1, 0))\n",
    "ax6[1,1] = plt.subplot2grid((3, 6), (1, 1), colspan=2)\n",
    "ax6[2,0] = plt.subplot2grid((3, 6), (2, 0))\n",
    "ax6[2,1] = plt.subplot2grid((3, 6), (2, 1), colspan=2)\n",
    "\n",
    "ax6[0,3] = plt.subplot2grid((3, 6), (0, 3))\n",
    "ax6[0,4] = plt.subplot2grid((3, 6), (0, 4), colspan=2)\n",
    "ax6[1,3] = plt.subplot2grid((3, 6), (1, 3))\n",
    "ax6[1,4] = plt.subplot2grid((3, 6), (1, 4), colspan=2)\n",
    "ax6[2,3] = plt.subplot2grid((3, 6), (2, 3))\n",
    "ax6[2,4] = plt.subplot2grid((3, 6), (2, 4), colspan=2)\n",
    "\n",
    "#print(ax6)\n",
    "\n",
    "lol_data = sub_data\n",
    "# y , x\n",
    "for axesdex in ax6[:,0]:\n",
    "    ifa.hotel.plot_array_heatmap_image(lol_data,figure_axes=axesdex)\n",
    "for axesdex in ax6[:,3]:\n",
    "    ifa.hotel.plot_array_heatmap_image(lol_data,figure_axes=axesdex)\n",
    "    \n",
    "# Hist\n",
    "for axesdex in ax6[:,1]:\n",
    "    ifa.hotel.plot_array_histogram(lol_data.flatten(),figure_axes=axesdex)\n",
    "    axesdex.set_aspect(1/(axesdex.get_data_ratio() * 1.5))\n",
    "for axesdex in ax6[:,4]:\n",
    "    ifa.hotel.plot_array_histogram(lol_data.flatten(),figure_axes=axesdex)\n",
    "    axesdex.set_aspect(1/(axesdex.get_data_ratio() * 1.5))\n",
    "    \n",
    "fig6.tight_layout()\n",
    "plt.show(fig6)"
   ]
  },
  {
   "cell_type": "code",
   "execution_count": null,
   "metadata": {},
   "outputs": [],
   "source": [
    "config = ifa.yankee.SmeargleConfig()\n",
    "function_000_list = dict(inspect.getmembers(ifa.echo.masks_echo000,inspect.isfunction))\n",
    "function_100_list = dict(inspect.getmembers(ifa.echo.masks_echo100,inspect.isfunction))\n",
    "function_200_list = dict(inspect.getmembers(ifa.echo.masks_echo200,inspect.isfunction))\n",
    "function_300_list = dict(inspect.getmembers(ifa.echo.masks_echo300,inspect.isfunction))\n",
    "\n",
    "function_list = {**{**function_000_list,**function_100_list},**{**function_200_list,**function_300_list}}\n",
    "\n",
    "filter_list = copy.deepcopy(function_list)\n",
    "for keydex,valuedex in function_list.items():\n",
    "    if (not 'echo' in keydex):\n",
    "        del filter_list[keydex]\n",
    "\n",
    "print(filter_list)"
   ]
  },
  {
   "cell_type": "code",
   "execution_count": null,
   "metadata": {},
   "outputs": [],
   "source": [
    "param_list = dict(inspect.getmembers(config.EchoConfig))\n",
    "new_param = copy.deepcopy(param_list)\n",
    "for keydex,valuedex in param_list.items():\n",
    "    if (not 'echo' in keydex):\n",
    "        del new_param[keydex]"
   ]
  },
  {
   "cell_type": "code",
   "execution_count": null,
   "metadata": {},
   "outputs": [],
   "source": [
    "new_param['echo010_config']['run']"
   ]
  },
  {
   "cell_type": "code",
   "execution_count": null,
   "metadata": {},
   "outputs": [],
   "source": []
  },
  {
   "cell_type": "code",
   "execution_count": null,
   "metadata": {},
   "outputs": [],
   "source": [
    "ifa.bravo.rename.voltage_pattern_rename_fits('./Data/',[1,2,3,4,5,6,7,8,9],\n",
    "                                             common_prefix='190510_T40K_2hrdark',common_suffix='blew.fits')"
   ]
  },
  {
   "cell_type": "code",
   "execution_count": null,
   "metadata": {},
   "outputs": [],
   "source": [
    "original_names = glob.glob('./Data' + '/*.fits')\n",
    "#print(original_names)\n",
    "\n",
    "hdu_file, header, data = ifa.meta.meta_faa.smeargle_open_fits_file(original_names[1])\n",
    "data"
   ]
  },
  {
   "cell_type": "code",
   "execution_count": null,
   "metadata": {},
   "outputs": [],
   "source": [
    "median_data = np.median(data,axis=0)\n",
    "median_data.shape"
   ]
  },
  {
   "cell_type": "code",
   "execution_count": null,
   "metadata": {},
   "outputs": [],
   "source": []
  },
  {
   "cell_type": "code",
   "execution_count": null,
   "metadata": {},
   "outputs": [],
   "source": []
  },
  {
   "cell_type": "code",
   "execution_count": null,
   "metadata": {},
   "outputs": [],
   "source": []
  },
  {
   "cell_type": "code",
   "execution_count": null,
   "metadata": {},
   "outputs": [],
   "source": []
  },
  {
   "cell_type": "code",
   "execution_count": null,
   "metadata": {},
   "outputs": [],
   "source": [
    "config_file = ifa.yankee.SmeargleConfig(config_file_name='trial.ifaspkl')"
   ]
  },
  {
   "cell_type": "code",
   "execution_count": null,
   "metadata": {},
   "outputs": [],
   "source": [
    "ifa.bravo.bravo_execution_saphria('./Data',config_file)"
   ]
  },
  {
   "cell_type": "code",
   "execution_count": null,
   "metadata": {},
   "outputs": [],
   "source": []
  },
  {
   "cell_type": "code",
   "execution_count": null,
   "metadata": {},
   "outputs": [],
   "source": []
  },
  {
   "cell_type": "code",
   "execution_count": null,
   "metadata": {},
   "outputs": [],
   "source": []
  },
  {
   "cell_type": "code",
   "execution_count": null,
   "metadata": {},
   "outputs": [],
   "source": []
  },
  {
   "cell_type": "code",
   "execution_count": 7,
   "metadata": {},
   "outputs": [],
   "source": [
    "newconfig = ifa.yankee.SmeargleConfig('test.ifaspkl')"
   ]
  },
  {
   "cell_type": "code",
   "execution_count": null,
   "metadata": {},
   "outputs": [],
   "source": [
    "newconfig.BravoConfig.detector_name"
   ]
  },
  {
   "cell_type": "code",
   "execution_count": null,
   "metadata": {},
   "outputs": [],
   "source": [
    "newconfig.BravoConfig.voltpat_rename_config['archive_data'] = False"
   ]
  },
  {
   "cell_type": "code",
   "execution_count": null,
   "metadata": {},
   "outputs": [],
   "source": [
    "newconfig.BravoConfig.voltpat_rename_config['begin_garbage'] = 1"
   ]
  },
  {
   "cell_type": "code",
   "execution_count": 8,
   "metadata": {},
   "outputs": [
    {
     "name": "stdout",
     "output_type": "stream",
     "text": [
      "\n",
      "< Configuration Class --- SmeargleConfig > \n",
      "╓ SmeargleConfig Parameters:\n",
      "╟  BravoConfig ↴ \n",
      "< Configuration Class --- BravoConfig > \n",
      "╓ BravoConfig Parameters:\n",
      "╟  detector_name ⇀ {'name': 'TestArray'}\n",
      "╟  voltpat_rename_config ⇀ {'voltage_pattern': [2.5, 4.5, 6.5, 8.5, 9.5, 10.5, 11.5, 11.5, 10.5, 9.5, 8.5, 6.5, 4.5, 2.5]}\n",
      "╟  avg_endpts_persec_config ⇀ {'start_chunk': 32, 'end_chunk': 32, 'frame_exposure_time': 5}\n",
      "╟  avg_endpts_perksec_config ⇀ {'start_chunk': 32, 'end_chunk': 32, 'frame_exposure_time': 5}\n",
      "╙------------------------------------------\n",
      "</ Configuration Class --- BravoConfig >\n",
      "╟  EchoConfig ↴ \n",
      "< Configuration Class --- EchoConfig > \n",
      "╓ EchoConfig Parameters:\n",
      "╟  echo010_config ⇀ {'run': False}\n",
      "╟  echo120_config ⇀ {'run': True, 'x_range': [100, 200], 'y_range': [150, 300]}\n",
      "╟  echo270_config ⇀ {'run': False, 'minimum_value': None}\n",
      "╟  echo271_config ⇀ {'run': False, 'maximum_value': None}\n",
      "╟  echo275_config ⇀ {'run': False, 'top_count': None, 'bottom_count': None}\n",
      "╟  echo276_config ⇀ {'run': False, 'kept_range': None}\n",
      "╟  echo380_config ⇀ {'run': False, 'pixel_list': None}\n",
      "╟  echo381_config ⇀ {'run': False, 'x_ranges': None, 'y_ranges': None}\n",
      "╟  echo382_config ⇀ {'run': False, 'column_list': None}\n",
      "╟  echo383_config ⇀ {'run': False, 'row_list': None}\n",
      "╟  echo398_config ⇀ {'run': False}\n",
      "╟  echo399_config ⇀ {'run': False}\n",
      "╙------------------------------------------\n",
      "</ Configuration Class --- EchoConfig >\n",
      "╟  OscarConfig ↴ \n",
      "< Configuration Class --- OscarConfig > \n",
      "╓ OscarConfig Parameters:\n",
      "╟  general_heatmap_config ⇀ {'plot': False, 'data_array': None, 'heatmap_plot_parameters': {}, 'colorbar_plot_paramters': {}}\n",
      "╟  general_histogram_config ⇀ {'plot': False, 'data_array': None, 'histogram_plot_paramters': {}}\n",
      "╟  heathist_config ⇀ {'plot': False, 'data_array': None}\n",
      "╙------------------------------------------\n",
      "</ Configuration Class --- OscarConfig >\n",
      "╟  YankeeConfig ↴ \n",
      "< Configuration Class --- YankeeConfig > \n",
      "╓ YankeeConfig Parameters:\n",
      "╙------------------------------------------\n",
      "</ Configuration Class --- YankeeConfig >\n",
      "╙------------------------------------------\n",
      "</ Configuration Class --- SmeargleConfig >\n"
     ]
    }
   ],
   "source": [
    "print(newconfig)"
   ]
  },
  {
   "cell_type": "code",
   "execution_count": null,
   "metadata": {},
   "outputs": [],
   "source": [
    "ifa.bravo.bravo_execution_saphria('./Data',newconfig)"
   ]
  },
  {
   "cell_type": "code",
   "execution_count": null,
   "metadata": {},
   "outputs": [],
   "source": [
    "ifa.zulu.pipelines.saphria_reduction_pipeline('./Data',newconfig)"
   ]
  },
  {
   "cell_type": "code",
   "execution_count": 10,
   "metadata": {},
   "outputs": [
    {
     "data": {
      "image/png": "[encoded data removed]",
      "text/plain": [
       "<Figure size 900x350 with 3 Axes>"
      ]
     },
     "metadata": {
      "needs_background": "light"
     },
     "output_type": "display_data"
    }
   ],
   "source": [
    "wee = ifa.oscar.multi.plot_single_heatmap_and_histogram('./Data\\\\TestArray__detBias;11.5Vup,007__.fits',configuration_class=None)"
   ]
  },
  {
   "cell_type": "code",
   "execution_count": null,
   "metadata": {},
   "outputs": [],
   "source": [
    "newconfig.BravoConfig.voltpat_rename_config['begin_garbage'] = 1"
   ]
  },
  {
   "cell_type": "code",
   "execution_count": null,
   "metadata": {},
   "outputs": [],
   "source": [
    "glob.glob('./Data//*', recursive=True)"
   ]
  },
  {
   "cell_type": "code",
   "execution_count": null,
   "metadata": {},
   "outputs": [],
   "source": []
  },
  {
   "cell_type": "code",
   "execution_count": null,
   "metadata": {},
   "outputs": [],
   "source": [
    "issubclass(ifa.yankee.BaseConfig,ifa.yankee.BaseConfig)"
   ]
  },
  {
   "cell_type": "code",
   "execution_count": null,
   "metadata": {},
   "outputs": [],
   "source": []
  }
 ],
 "metadata": {
  "kernelspec": {
   "display_name": "Python 3",
   "language": "python",
   "name": "python3"
  },
  "language_info": {
   "codemirror_mode": {
    "name": "ipython",
    "version": 3
   },
   "file_extension": ".py",
   "mimetype": "text/x-python",
   "name": "python",
   "nbconvert_exporter": "python",
   "pygments_lexer": "ipython3",
   "version": "3.7.3"
  }
 },
 "nbformat": 4,
 "nbformat_minor": 2
}
