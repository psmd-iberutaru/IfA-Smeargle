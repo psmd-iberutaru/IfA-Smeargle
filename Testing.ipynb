{
 "cells": [
  {
   "cell_type": "code",
   "execution_count": 1,
   "metadata": {},
   "outputs": [],
   "source": [
    "import astropy as ap\n",
    "import astropy.io.fits as ap_fits\n",
    "import astropy.modeling as ap_mod\n",
    "import copy\n",
    "import glob\n",
    "import inspect\n",
    "import matplotlib as mpl\n",
    "import matplotlib.pyplot as plt\n",
    "import numpy as np\n",
    "import numpy.ma as np_ma\n",
    "import pandas as pd\n",
    "import scipy as sp\n",
    "import scipy.optimize as sp_opt\n",
    "import scipy.stats as sp_stat\n",
    "import warnings as warn\n",
    "\n",
    "import IfA_Smeargle as ifas"
   ]
  },
  {
   "cell_type": "code",
   "execution_count": 2,
   "metadata": {
    "scrolled": true
   },
   "outputs": [
    {
     "name": "stdout",
     "output_type": "stream",
     "text": [
      "\n",
      "< Configuration Class --- SmeargleConfig > \n",
      "╓ SmeargleConfig Parameters:\n",
      "╟  BravoConfig ↴ \n",
      "< Configuration Class --- BravoConfig > \n",
      "╓ BravoConfig Parameters:\n",
      "╟  detector_name ⇀ {'name': 'SAPHIRA-MK20-M12145-40_20190416_T60K'}\n",
      "╟  same_file_size_sanitization_config ⇀ {'method': None}\n",
      "╟  number_rename_config ⇀ {'begin_garbage': 1, 'archive_data': False}\n",
      "╟  set_determine_rename_config ⇀ {'set_length': 14, 'begin_garbage': 1, 'archive_data': False}\n",
      "╟  voltpat_rename_config ⇀ {'voltage_pattern': [2.5, 4.5, 6.5, 8.5, 9.5, 10.5, 11.5, 11.5, 10.5, 9.5, 8.5, 6.5, 4.5, 2.5], 'begin_garbage': 1, 'archive_data': False}\n",
      "╟  auto_avg_slicing_config ⇀ {'reference_chunk': None, 'split_chunks': None, 'averaging_function': None}\n",
      "╟  avg_endpoints_config ⇀ {'start_chunk': None, 'end_chunk': None}\n",
      "╟  avg_endpts_persec_config ⇀ {'start_chunk': None, 'end_chunk': None, 'frame_exposure_time': None}\n",
      "╟  avg_endpts_perksec_config ⇀ {'start_chunk': None, 'end_chunk': None, 'frame_exposure_time': None}\n",
      "╙------------------------------------------\n",
      "</ Configuration Class --- BravoConfig >\n",
      "╟  EchoConfig ↴ \n",
      "< Configuration Class --- EchoConfig > \n",
      "╓ EchoConfig Parameters:\n",
      "╟  echo010_config ⇀ {'run': False}\n",
      "╟  echo120_config ⇀ {'run': False, 'x_range': None, 'y_range': None}\n",
      "╟  echo170_config ⇀ {'run': True, 'sigma_multiple': 5, 'bin_size': 5}\n",
      "╟  echo270_config ⇀ {'run': False, 'minimum_value': None}\n",
      "╟  echo271_config ⇀ {'run': False, 'maximum_value': None}\n",
      "╟  echo275_config ⇀ {'run': False, 'top_count': None, 'bottom_count': None}\n",
      "╟  echo276_config ⇀ {'run': False, 'kept_range': None}\n",
      "╟  echo277_config ⇀ {'run': False, 'sigma_limits': None}\n",
      "╟  echo380_config ⇀ {'run': False, 'pixel_list': None}\n",
      "╟  echo381_config ⇀ {'run': False, 'x_ranges': None, 'y_ranges': None}\n",
      "╟  echo382_config ⇀ {'run': False, 'column_list': None}\n",
      "╟  echo383_config ⇀ {'run': False, 'row_list': None}\n",
      "╟  echo398_config ⇀ {'run': False}\n",
      "╟  echo399_config ⇀ {'run': False}\n",
      "╙------------------------------------------\n",
      "</ Configuration Class --- EchoConfig >\n",
      "╟  OscarConfig ↴ \n",
      "< Configuration Class --- OscarConfig > \n",
      "╓ OscarConfig Parameters:\n",
      "╟  general_heatmap_config ⇀ {'plot': True, 'data_array': None, 'heatmap_plot_parameters': {}, 'colorbar_plot_paramters': {}}\n",
      "╟  general_histogram_config ⇀ {'plot': True, 'data_array': None, 'bin_width': 5, 'histogram_plot_paramters': {}}\n",
      "╙------------------------------------------\n",
      "</ Configuration Class --- OscarConfig >\n",
      "╟  YankeeConfig ↴ \n",
      "< Configuration Class --- YankeeConfig > \n",
      "╓ YankeeConfig Parameters:\n",
      "╙------------------------------------------\n",
      "</ Configuration Class --- YankeeConfig >\n",
      "╟  ZuluConfig ↴ \n",
      "< Configuration Class --- ZuluConfig > \n",
      "╓ ZuluConfig Parameters:\n",
      "╟  SA201907281826 ⇀ {'early_frame': 3, 'ref_frame': array([17, 32]), 'sub_avg_frames': array([[ 257,  272],\n",
      "       [ 513,  528],\n",
      "       [1025, 1040]]), 'frame_exposure': 5, 'early_sigma': 5}\n",
      "╙------------------------------------------\n",
      "</ Configuration Class --- ZuluConfig >\n",
      "╟  BaseConfig ↴ \n",
      "< Configuration Class --- BaseConfig > \n",
      "╓ BaseConfig Parameters:\n",
      "╙------------------------------------------\n",
      "</ Configuration Class --- BaseConfig >\n",
      "╙------------------------------------------\n",
      "</ Configuration Class --- SmeargleConfig >\n"
     ]
    }
   ],
   "source": [
    "first_run = ifas.yankee.SmeargleConfig('FirstRun.ifaspkl')\n",
    "\n",
    "first_run.BravoConfig.voltpat_rename_config['archive_data'] = False\n",
    "first_run.BravoConfig.number_rename_config['archive_data'] = False\n",
    "first_run.BravoConfig.set_determine_rename_config['archive_data'] = False\n",
    "first_run.BravoConfig.detector_name = {'name': 'SAPHIRA-MK20-M12145-40_20190416_T60K'}\n",
    "\n",
    "if (False):\n",
    "    first_run.BravoConfig.voltpat_rename_config['voltage_pattern'] = [2.5, 2.5, 2.5, 2.5,\n",
    "                                                                 4.5, 4.5, 4.5, 4.5,\n",
    "                                                                 6.5, 6.5, 6.5, 6.5,\n",
    "                                                                 8.5, 8.5, 8.5, 8.5,\n",
    "                                                                 9.5, 9.5, 9.5, 9.5,\n",
    "                                                                 10.5, 10.5, 10.5, 10.5,\n",
    "                                                                 11.5, 11.5, 11.5, 11.5,\n",
    "                                                                 11.5, 11.5, 11.5, 11.5,\n",
    "                                                                 10.5, 10.5, 10.5, 10.5,\n",
    "                                                                 9.5, 9.5, 9.5, 9.5,\n",
    "                                                                 8.5, 8.5, 8.5, 8.5,\n",
    "                                                                 6.5, 6.5, 6.5, 6.5,\n",
    "                                                                 4.5, 4.5, 4.5, 4.5,\n",
    "                                                                 2.5, 2.5, 2.5, 2.5]\n",
    "    first_run.BravoConfig.voltpat_rename_config['begin_garbage'] = 0\n",
    "\n",
    "print(first_run)"
   ]
  },
  {
   "cell_type": "code",
   "execution_count": 3,
   "metadata": {
    "scrolled": false
   },
   "outputs": [
    {
     "name": "stderr",
     "output_type": "stream",
     "text": [
      "C:\\Users\\Tripp\\Desktop\\PROGRAM\\IfA_Smeargle\\meta\\fits_and_arrays.py:142: InputWarning: The fits file contains an <IFASMASK> extension, a pixel mask created by this program. It will be applied to the data. The output data will be a Numpy Masked Array.\n",
      "  smeargle_warning(InputWarning,(\"The fits file contains an <IFASMASK> extension, \"\n",
      "C:\\Users\\Tripp\\Desktop\\PROGRAM\\IfA_Smeargle\\meta\\fits_and_arrays.py:142: InputWarning: The fits file contains an <IFASMASK> extension, a pixel mask created by this program. It will be applied to the data. The output data will be a Numpy Masked Array.\n",
      "  smeargle_warning(InputWarning,(\"The fits file contains an <IFASMASK> extension, \"\n",
      "C:\\Users\\Tripp\\Desktop\\PROGRAM\\IfA_Smeargle\\meta\\fits_and_arrays.py:142: InputWarning: The fits file contains an <IFASMASK> extension, a pixel mask created by this program. It will be applied to the data. The output data will be a Numpy Masked Array.\n",
      "  smeargle_warning(InputWarning,(\"The fits file contains an <IFASMASK> extension, \"\n",
      "C:\\Users\\Tripp\\Desktop\\PROGRAM\\IfA_Smeargle\\meta\\fits_and_arrays.py:142: InputWarning: The fits file contains an <IFASMASK> extension, a pixel mask created by this program. It will be applied to the data. The output data will be a Numpy Masked Array.\n",
      "  smeargle_warning(InputWarning,(\"The fits file contains an <IFASMASK> extension, \"\n",
      "C:\\Users\\Tripp\\Desktop\\PROGRAM\\IfA_Smeargle\\meta\\fits_and_arrays.py:142: InputWarning: The fits file contains an <IFASMASK> extension, a pixel mask created by this program. It will be applied to the data. The output data will be a Numpy Masked Array.\n",
      "  smeargle_warning(InputWarning,(\"The fits file contains an <IFASMASK> extension, \"\n",
      "C:\\Users\\Tripp\\Desktop\\PROGRAM\\IfA_Smeargle\\meta\\fits_and_arrays.py:142: InputWarning: The fits file contains an <IFASMASK> extension, a pixel mask created by this program. It will be applied to the data. The output data will be a Numpy Masked Array.\n",
      "  smeargle_warning(InputWarning,(\"The fits file contains an <IFASMASK> extension, \"\n",
      "C:\\Users\\Tripp\\Desktop\\PROGRAM\\IfA_Smeargle\\meta\\fits_and_arrays.py:142: InputWarning: The fits file contains an <IFASMASK> extension, a pixel mask created by this program. It will be applied to the data. The output data will be a Numpy Masked Array.\n",
      "  smeargle_warning(InputWarning,(\"The fits file contains an <IFASMASK> extension, \"\n",
      "C:\\Users\\Tripp\\Desktop\\PROGRAM\\IfA_Smeargle\\meta\\fits_and_arrays.py:142: InputWarning: The fits file contains an <IFASMASK> extension, a pixel mask created by this program. It will be applied to the data. The output data will be a Numpy Masked Array.\n",
      "  smeargle_warning(InputWarning,(\"The fits file contains an <IFASMASK> extension, \"\n",
      "C:\\Users\\Tripp\\Desktop\\PROGRAM\\IfA_Smeargle\\meta\\fits_and_arrays.py:142: InputWarning: The fits file contains an <IFASMASK> extension, a pixel mask created by this program. It will be applied to the data. The output data will be a Numpy Masked Array.\n",
      "  smeargle_warning(InputWarning,(\"The fits file contains an <IFASMASK> extension, \"\n",
      "C:\\Users\\Tripp\\Desktop\\PROGRAM\\IfA_Smeargle\\meta\\fits_and_arrays.py:142: InputWarning: The fits file contains an <IFASMASK> extension, a pixel mask created by this program. It will be applied to the data. The output data will be a Numpy Masked Array.\n",
      "  smeargle_warning(InputWarning,(\"The fits file contains an <IFASMASK> extension, \"\n",
      "C:\\Users\\Tripp\\Desktop\\PROGRAM\\IfA_Smeargle\\meta\\fits_and_arrays.py:142: InputWarning: The fits file contains an <IFASMASK> extension, a pixel mask created by this program. It will be applied to the data. The output data will be a Numpy Masked Array.\n",
      "  smeargle_warning(InputWarning,(\"The fits file contains an <IFASMASK> extension, \"\n",
      "C:\\Users\\Tripp\\Desktop\\PROGRAM\\IfA_Smeargle\\meta\\fits_and_arrays.py:142: InputWarning: The fits file contains an <IFASMASK> extension, a pixel mask created by this program. It will be applied to the data. The output data will be a Numpy Masked Array.\n",
      "  smeargle_warning(InputWarning,(\"The fits file contains an <IFASMASK> extension, \"\n",
      "C:\\Users\\Tripp\\Desktop\\PROGRAM\\IfA_Smeargle\\meta\\fits_and_arrays.py:142: InputWarning: The fits file contains an <IFASMASK> extension, a pixel mask created by this program. It will be applied to the data. The output data will be a Numpy Masked Array.\n",
      "  smeargle_warning(InputWarning,(\"The fits file contains an <IFASMASK> extension, \"\n",
      "C:\\Users\\Tripp\\Desktop\\PROGRAM\\IfA_Smeargle\\meta\\fits_and_arrays.py:142: InputWarning: The fits file contains an <IFASMASK> extension, a pixel mask created by this program. It will be applied to the data. The output data will be a Numpy Masked Array.\n",
      "  smeargle_warning(InputWarning,(\"The fits file contains an <IFASMASK> extension, \"\n",
      "C:\\Users\\Tripp\\Desktop\\PROGRAM\\IfA_Smeargle\\meta\\fits_and_arrays.py:142: InputWarning: The fits file contains an <IFASMASK> extension, a pixel mask created by this program. It will be applied to the data. The output data will be a Numpy Masked Array.\n",
      "  smeargle_warning(InputWarning,(\"The fits file contains an <IFASMASK> extension, \"\n",
      "C:\\Users\\Tripp\\Desktop\\PROGRAM\\IfA_Smeargle\\meta\\fits_and_arrays.py:142: InputWarning: The fits file contains an <IFASMASK> extension, a pixel mask created by this program. It will be applied to the data. The output data will be a Numpy Masked Array.\n",
      "  smeargle_warning(InputWarning,(\"The fits file contains an <IFASMASK> extension, \"\n",
      "C:\\Users\\Tripp\\Desktop\\PROGRAM\\IfA_Smeargle\\meta\\fits_and_arrays.py:142: InputWarning: The fits file contains an <IFASMASK> extension, a pixel mask created by this program. It will be applied to the data. The output data will be a Numpy Masked Array.\n",
      "  smeargle_warning(InputWarning,(\"The fits file contains an <IFASMASK> extension, \"\n",
      "C:\\Users\\Tripp\\Desktop\\PROGRAM\\IfA_Smeargle\\meta\\fits_and_arrays.py:142: InputWarning: The fits file contains an <IFASMASK> extension, a pixel mask created by this program. It will be applied to the data. The output data will be a Numpy Masked Array.\n",
      "  smeargle_warning(InputWarning,(\"The fits file contains an <IFASMASK> extension, \"\n",
      "C:\\Users\\Tripp\\Desktop\\PROGRAM\\IfA_Smeargle\\meta\\fits_and_arrays.py:142: InputWarning: The fits file contains an <IFASMASK> extension, a pixel mask created by this program. It will be applied to the data. The output data will be a Numpy Masked Array.\n",
      "  smeargle_warning(InputWarning,(\"The fits file contains an <IFASMASK> extension, \"\n",
      "C:\\Users\\Tripp\\Desktop\\PROGRAM\\IfA_Smeargle\\meta\\fits_and_arrays.py:142: InputWarning: The fits file contains an <IFASMASK> extension, a pixel mask created by this program. It will be applied to the data. The output data will be a Numpy Masked Array.\n",
      "  smeargle_warning(InputWarning,(\"The fits file contains an <IFASMASK> extension, \"\n",
      "C:\\Users\\Tripp\\Desktop\\PROGRAM\\IfA_Smeargle\\meta\\fits_and_arrays.py:142: InputWarning: The fits file contains an <IFASMASK> extension, a pixel mask created by this program. It will be applied to the data. The output data will be a Numpy Masked Array.\n",
      "  smeargle_warning(InputWarning,(\"The fits file contains an <IFASMASK> extension, \"\n",
      "C:\\Users\\Tripp\\Desktop\\PROGRAM\\IfA_Smeargle\\meta\\fits_and_arrays.py:142: InputWarning: The fits file contains an <IFASMASK> extension, a pixel mask created by this program. It will be applied to the data. The output data will be a Numpy Masked Array.\n",
      "  smeargle_warning(InputWarning,(\"The fits file contains an <IFASMASK> extension, \"\n",
      "C:\\Users\\Tripp\\Desktop\\PROGRAM\\IfA_Smeargle\\meta\\fits_and_arrays.py:142: InputWarning: The fits file contains an <IFASMASK> extension, a pixel mask created by this program. It will be applied to the data. The output data will be a Numpy Masked Array.\n",
      "  smeargle_warning(InputWarning,(\"The fits file contains an <IFASMASK> extension, \"\n",
      "C:\\Users\\Tripp\\Desktop\\PROGRAM\\IfA_Smeargle\\meta\\fits_and_arrays.py:142: InputWarning: The fits file contains an <IFASMASK> extension, a pixel mask created by this program. It will be applied to the data. The output data will be a Numpy Masked Array.\n",
      "  smeargle_warning(InputWarning,(\"The fits file contains an <IFASMASK> extension, \"\n",
      "C:\\Users\\Tripp\\Desktop\\PROGRAM\\IfA_Smeargle\\meta\\fits_and_arrays.py:142: InputWarning: The fits file contains an <IFASMASK> extension, a pixel mask created by this program. It will be applied to the data. The output data will be a Numpy Masked Array.\n",
      "  smeargle_warning(InputWarning,(\"The fits file contains an <IFASMASK> extension, \"\n"
     ]
    },
    {
     "name": "stderr",
     "output_type": "stream",
     "text": [
      "C:\\Users\\Tripp\\Desktop\\PROGRAM\\IfA_Smeargle\\meta\\fits_and_arrays.py:142: InputWarning: The fits file contains an <IFASMASK> extension, a pixel mask created by this program. It will be applied to the data. The output data will be a Numpy Masked Array.\n",
      "  smeargle_warning(InputWarning,(\"The fits file contains an <IFASMASK> extension, \"\n",
      "C:\\Users\\Tripp\\Desktop\\PROGRAM\\IfA_Smeargle\\meta\\fits_and_arrays.py:142: InputWarning: The fits file contains an <IFASMASK> extension, a pixel mask created by this program. It will be applied to the data. The output data will be a Numpy Masked Array.\n",
      "  smeargle_warning(InputWarning,(\"The fits file contains an <IFASMASK> extension, \"\n",
      "C:\\Users\\Tripp\\Desktop\\PROGRAM\\IfA_Smeargle\\meta\\fits_and_arrays.py:142: InputWarning: The fits file contains an <IFASMASK> extension, a pixel mask created by this program. It will be applied to the data. The output data will be a Numpy Masked Array.\n",
      "  smeargle_warning(InputWarning,(\"The fits file contains an <IFASMASK> extension, \"\n",
      "C:\\Users\\Tripp\\Desktop\\PROGRAM\\IfA_Smeargle\\meta\\fits_and_arrays.py:142: InputWarning: The fits file contains an <IFASMASK> extension, a pixel mask created by this program. It will be applied to the data. The output data will be a Numpy Masked Array.\n",
      "  smeargle_warning(InputWarning,(\"The fits file contains an <IFASMASK> extension, \"\n",
      "C:\\Users\\Tripp\\Desktop\\PROGRAM\\IfA_Smeargle\\meta\\fits_and_arrays.py:142: InputWarning: The fits file contains an <IFASMASK> extension, a pixel mask created by this program. It will be applied to the data. The output data will be a Numpy Masked Array.\n",
      "  smeargle_warning(InputWarning,(\"The fits file contains an <IFASMASK> extension, \"\n",
      "C:\\Users\\Tripp\\Desktop\\PROGRAM\\IfA_Smeargle\\meta\\fits_and_arrays.py:142: InputWarning: The fits file contains an <IFASMASK> extension, a pixel mask created by this program. It will be applied to the data. The output data will be a Numpy Masked Array.\n",
      "  smeargle_warning(InputWarning,(\"The fits file contains an <IFASMASK> extension, \"\n",
      "C:\\Users\\Tripp\\Desktop\\PROGRAM\\IfA_Smeargle\\meta\\fits_and_arrays.py:142: InputWarning: The fits file contains an <IFASMASK> extension, a pixel mask created by this program. It will be applied to the data. The output data will be a Numpy Masked Array.\n",
      "  smeargle_warning(InputWarning,(\"The fits file contains an <IFASMASK> extension, \"\n",
      "C:\\Users\\Tripp\\Desktop\\PROGRAM\\IfA_Smeargle\\meta\\fits_and_arrays.py:142: InputWarning: The fits file contains an <IFASMASK> extension, a pixel mask created by this program. It will be applied to the data. The output data will be a Numpy Masked Array.\n",
      "  smeargle_warning(InputWarning,(\"The fits file contains an <IFASMASK> extension, \"\n",
      "C:\\Users\\Tripp\\Desktop\\PROGRAM\\IfA_Smeargle\\meta\\fits_and_arrays.py:142: InputWarning: The fits file contains an <IFASMASK> extension, a pixel mask created by this program. It will be applied to the data. The output data will be a Numpy Masked Array.\n",
      "  smeargle_warning(InputWarning,(\"The fits file contains an <IFASMASK> extension, \"\n",
      "WARNING: The fit may be unsuccessful; check fit_info['message'] for more information. [astropy.modeling.fitting]\n",
      "C:\\Users\\Tripp\\Desktop\\PROGRAM\\IfA_Smeargle\\meta\\fits_and_arrays.py:142: InputWarning: The fits file contains an <IFASMASK> extension, a pixel mask created by this program. It will be applied to the data. The output data will be a Numpy Masked Array.\n",
      "  smeargle_warning(InputWarning,(\"The fits file contains an <IFASMASK> extension, \"\n",
      "C:\\Users\\Tripp\\Desktop\\PROGRAM\\IfA_Smeargle\\meta\\fits_and_arrays.py:142: InputWarning: The fits file contains an <IFASMASK> extension, a pixel mask created by this program. It will be applied to the data. The output data will be a Numpy Masked Array.\n",
      "  smeargle_warning(InputWarning,(\"The fits file contains an <IFASMASK> extension, \"\n",
      "WARNING: The fit may be unsuccessful; check fit_info['message'] for more information. [astropy.modeling.fitting]\n",
      "C:\\Users\\Tripp\\Desktop\\PROGRAM\\IfA_Smeargle\\meta\\fits_and_arrays.py:142: InputWarning: The fits file contains an <IFASMASK> extension, a pixel mask created by this program. It will be applied to the data. The output data will be a Numpy Masked Array.\n",
      "  smeargle_warning(InputWarning,(\"The fits file contains an <IFASMASK> extension, \"\n",
      "WARNING: The fit may be unsuccessful; check fit_info['message'] for more information. [astropy.modeling.fitting]\n",
      "C:\\Users\\Tripp\\Desktop\\PROGRAM\\IfA_Smeargle\\meta\\fits_and_arrays.py:142: InputWarning: The fits file contains an <IFASMASK> extension, a pixel mask created by this program. It will be applied to the data. The output data will be a Numpy Masked Array.\n",
      "  smeargle_warning(InputWarning,(\"The fits file contains an <IFASMASK> extension, \"\n",
      "WARNING: The fit may be unsuccessful; check fit_info['message'] for more information. [astropy.modeling.fitting]\n",
      "C:\\Users\\Tripp\\Desktop\\PROGRAM\\IfA_Smeargle\\meta\\fits_and_arrays.py:142: InputWarning: The fits file contains an <IFASMASK> extension, a pixel mask created by this program. It will be applied to the data. The output data will be a Numpy Masked Array.\n",
      "  smeargle_warning(InputWarning,(\"The fits file contains an <IFASMASK> extension, \"\n",
      "WARNING: The fit may be unsuccessful; check fit_info['message'] for more information. [astropy.modeling.fitting]\n",
      "C:\\Users\\Tripp\\Desktop\\PROGRAM\\IfA_Smeargle\\meta\\fits_and_arrays.py:142: InputWarning: The fits file contains an <IFASMASK> extension, a pixel mask created by this program. It will be applied to the data. The output data will be a Numpy Masked Array.\n",
      "  smeargle_warning(InputWarning,(\"The fits file contains an <IFASMASK> extension, \"\n",
      "WARNING: The fit may be unsuccessful; check fit_info['message'] for more information. [astropy.modeling.fitting]\n",
      "C:\\Users\\Tripp\\Desktop\\PROGRAM\\IfA_Smeargle\\meta\\fits_and_arrays.py:142: InputWarning: The fits file contains an <IFASMASK> extension, a pixel mask created by this program. It will be applied to the data. The output data will be a Numpy Masked Array.\n",
      "  smeargle_warning(InputWarning,(\"The fits file contains an <IFASMASK> extension, \"\n",
      "WARNING: The fit may be unsuccessful; check fit_info['message'] for more information. [astropy.modeling.fitting]\n",
      "C:\\Users\\Tripp\\Desktop\\PROGRAM\\IfA_Smeargle\\meta\\fits_and_arrays.py:142: InputWarning: The fits file contains an <IFASMASK> extension, a pixel mask created by this program. It will be applied to the data. The output data will be a Numpy Masked Array.\n",
      "  smeargle_warning(InputWarning,(\"The fits file contains an <IFASMASK> extension, \"\n",
      "WARNING: The fit may be unsuccessful; check fit_info['message'] for more information. [astropy.modeling.fitting]\n",
      "C:\\Users\\Tripp\\Desktop\\PROGRAM\\IfA_Smeargle\\meta\\fits_and_arrays.py:142: InputWarning: The fits file contains an <IFASMASK> extension, a pixel mask created by this program. It will be applied to the data. The output data will be a Numpy Masked Array.\n",
      "  smeargle_warning(InputWarning,(\"The fits file contains an <IFASMASK> extension, \"\n",
      "WARNING: The fit may be unsuccessful; check fit_info['message'] for more information. [astropy.modeling.fitting]\n",
      "C:\\Users\\Tripp\\Desktop\\PROGRAM\\IfA_Smeargle\\meta\\fits_and_arrays.py:142: InputWarning: The fits file contains an <IFASMASK> extension, a pixel mask created by this program. It will be applied to the data. The output data will be a Numpy Masked Array.\n",
      "  smeargle_warning(InputWarning,(\"The fits file contains an <IFASMASK> extension, \"\n",
      "C:\\Users\\Tripp\\Desktop\\PROGRAM\\IfA_Smeargle\\meta\\fits_and_arrays.py:142: InputWarning: The fits file contains an <IFASMASK> extension, a pixel mask created by this program. It will be applied to the data. The output data will be a Numpy Masked Array.\n",
      "  smeargle_warning(InputWarning,(\"The fits file contains an <IFASMASK> extension, \"\n",
      "WARNING: The fit may be unsuccessful; check fit_info['message'] for more information. [astropy.modeling.fitting]\n",
      "C:\\Users\\Tripp\\Desktop\\PROGRAM\\IfA_Smeargle\\meta\\fits_and_arrays.py:142: InputWarning: The fits file contains an <IFASMASK> extension, a pixel mask created by this program. It will be applied to the data. The output data will be a Numpy Masked Array.\n",
      "  smeargle_warning(InputWarning,(\"The fits file contains an <IFASMASK> extension, \"\n",
      "C:\\Users\\Tripp\\Desktop\\PROGRAM\\IfA_Smeargle\\meta\\fits_and_arrays.py:142: InputWarning: The fits file contains an <IFASMASK> extension, a pixel mask created by this program. It will be applied to the data. The output data will be a Numpy Masked Array.\n",
      "  smeargle_warning(InputWarning,(\"The fits file contains an <IFASMASK> extension, \"\n"
     ]
    },
    {
     "name": "stderr",
     "output_type": "stream",
     "text": [
      "C:\\Users\\Tripp\\Desktop\\PROGRAM\\IfA_Smeargle\\meta\\fits_and_arrays.py:142: InputWarning: The fits file contains an <IFASMASK> extension, a pixel mask created by this program. It will be applied to the data. The output data will be a Numpy Masked Array.\n",
      "  smeargle_warning(InputWarning,(\"The fits file contains an <IFASMASK> extension, \"\n",
      "C:\\Users\\Tripp\\Desktop\\PROGRAM\\IfA_Smeargle\\meta\\fits_and_arrays.py:142: InputWarning: The fits file contains an <IFASMASK> extension, a pixel mask created by this program. It will be applied to the data. The output data will be a Numpy Masked Array.\n",
      "  smeargle_warning(InputWarning,(\"The fits file contains an <IFASMASK> extension, \"\n",
      "C:\\Users\\Tripp\\Desktop\\PROGRAM\\IfA_Smeargle\\meta\\fits_and_arrays.py:142: InputWarning: The fits file contains an <IFASMASK> extension, a pixel mask created by this program. It will be applied to the data. The output data will be a Numpy Masked Array.\n",
      "  smeargle_warning(InputWarning,(\"The fits file contains an <IFASMASK> extension, \"\n",
      "C:\\Users\\Tripp\\Desktop\\PROGRAM\\IfA_Smeargle\\meta\\fits_and_arrays.py:142: InputWarning: The fits file contains an <IFASMASK> extension, a pixel mask created by this program. It will be applied to the data. The output data will be a Numpy Masked Array.\n",
      "  smeargle_warning(InputWarning,(\"The fits file contains an <IFASMASK> extension, \"\n",
      "C:\\Users\\Tripp\\Desktop\\PROGRAM\\IfA_Smeargle\\meta\\fits_and_arrays.py:142: InputWarning: The fits file contains an <IFASMASK> extension, a pixel mask created by this program. It will be applied to the data. The output data will be a Numpy Masked Array.\n",
      "  smeargle_warning(InputWarning,(\"The fits file contains an <IFASMASK> extension, \"\n",
      "C:\\Users\\Tripp\\Desktop\\PROGRAM\\IfA_Smeargle\\meta\\fits_and_arrays.py:142: InputWarning: The fits file contains an <IFASMASK> extension, a pixel mask created by this program. It will be applied to the data. The output data will be a Numpy Masked Array.\n",
      "  smeargle_warning(InputWarning,(\"The fits file contains an <IFASMASK> extension, \"\n",
      "C:\\Users\\Tripp\\Desktop\\PROGRAM\\IfA_Smeargle\\meta\\fits_and_arrays.py:142: InputWarning: The fits file contains an <IFASMASK> extension, a pixel mask created by this program. It will be applied to the data. The output data will be a Numpy Masked Array.\n",
      "  smeargle_warning(InputWarning,(\"The fits file contains an <IFASMASK> extension, \"\n",
      "C:\\Users\\Tripp\\Desktop\\PROGRAM\\IfA_Smeargle\\meta\\fits_and_arrays.py:142: InputWarning: The fits file contains an <IFASMASK> extension, a pixel mask created by this program. It will be applied to the data. The output data will be a Numpy Masked Array.\n",
      "  smeargle_warning(InputWarning,(\"The fits file contains an <IFASMASK> extension, \"\n",
      "C:\\Users\\Tripp\\Desktop\\PROGRAM\\IfA_Smeargle\\meta\\fits_and_arrays.py:142: InputWarning: The fits file contains an <IFASMASK> extension, a pixel mask created by this program. It will be applied to the data. The output data will be a Numpy Masked Array.\n",
      "  smeargle_warning(InputWarning,(\"The fits file contains an <IFASMASK> extension, \"\n",
      "C:\\Users\\Tripp\\Desktop\\PROGRAM\\IfA_Smeargle\\meta\\fits_and_arrays.py:142: InputWarning: The fits file contains an <IFASMASK> extension, a pixel mask created by this program. It will be applied to the data. The output data will be a Numpy Masked Array.\n",
      "  smeargle_warning(InputWarning,(\"The fits file contains an <IFASMASK> extension, \"\n",
      "C:\\Users\\Tripp\\Desktop\\PROGRAM\\IfA_Smeargle\\meta\\fits_and_arrays.py:142: InputWarning: The fits file contains an <IFASMASK> extension, a pixel mask created by this program. It will be applied to the data. The output data will be a Numpy Masked Array.\n",
      "  smeargle_warning(InputWarning,(\"The fits file contains an <IFASMASK> extension, \"\n",
      "C:\\Users\\Tripp\\Desktop\\PROGRAM\\IfA_Smeargle\\meta\\fits_and_arrays.py:142: InputWarning: The fits file contains an <IFASMASK> extension, a pixel mask created by this program. It will be applied to the data. The output data will be a Numpy Masked Array.\n",
      "  smeargle_warning(InputWarning,(\"The fits file contains an <IFASMASK> extension, \"\n",
      "C:\\Users\\Tripp\\Desktop\\PROGRAM\\IfA_Smeargle\\meta\\fits_and_arrays.py:142: InputWarning: The fits file contains an <IFASMASK> extension, a pixel mask created by this program. It will be applied to the data. The output data will be a Numpy Masked Array.\n",
      "  smeargle_warning(InputWarning,(\"The fits file contains an <IFASMASK> extension, \"\n",
      "C:\\Users\\Tripp\\Desktop\\PROGRAM\\IfA_Smeargle\\meta\\fits_and_arrays.py:142: InputWarning: The fits file contains an <IFASMASK> extension, a pixel mask created by this program. It will be applied to the data. The output data will be a Numpy Masked Array.\n",
      "  smeargle_warning(InputWarning,(\"The fits file contains an <IFASMASK> extension, \"\n",
      "C:\\Users\\Tripp\\Desktop\\PROGRAM\\IfA_Smeargle\\meta\\fits_and_arrays.py:142: InputWarning: The fits file contains an <IFASMASK> extension, a pixel mask created by this program. It will be applied to the data. The output data will be a Numpy Masked Array.\n",
      "  smeargle_warning(InputWarning,(\"The fits file contains an <IFASMASK> extension, \"\n",
      "C:\\Users\\Tripp\\Desktop\\PROGRAM\\IfA_Smeargle\\meta\\fits_and_arrays.py:142: InputWarning: The fits file contains an <IFASMASK> extension, a pixel mask created by this program. It will be applied to the data. The output data will be a Numpy Masked Array.\n",
      "  smeargle_warning(InputWarning,(\"The fits file contains an <IFASMASK> extension, \"\n",
      "C:\\Users\\Tripp\\Desktop\\PROGRAM\\IfA_Smeargle\\meta\\fits_and_arrays.py:142: InputWarning: The fits file contains an <IFASMASK> extension, a pixel mask created by this program. It will be applied to the data. The output data will be a Numpy Masked Array.\n",
      "  smeargle_warning(InputWarning,(\"The fits file contains an <IFASMASK> extension, \"\n",
      "C:\\Users\\Tripp\\Desktop\\PROGRAM\\IfA_Smeargle\\meta\\fits_and_arrays.py:142: InputWarning: The fits file contains an <IFASMASK> extension, a pixel mask created by this program. It will be applied to the data. The output data will be a Numpy Masked Array.\n",
      "  smeargle_warning(InputWarning,(\"The fits file contains an <IFASMASK> extension, \"\n",
      "C:\\Users\\Tripp\\Desktop\\PROGRAM\\IfA_Smeargle\\meta\\fits_and_arrays.py:142: InputWarning: The fits file contains an <IFASMASK> extension, a pixel mask created by this program. It will be applied to the data. The output data will be a Numpy Masked Array.\n",
      "  smeargle_warning(InputWarning,(\"The fits file contains an <IFASMASK> extension, \"\n",
      "C:\\Users\\Tripp\\Desktop\\PROGRAM\\IfA_Smeargle\\meta\\fits_and_arrays.py:142: InputWarning: The fits file contains an <IFASMASK> extension, a pixel mask created by this program. It will be applied to the data. The output data will be a Numpy Masked Array.\n",
      "  smeargle_warning(InputWarning,(\"The fits file contains an <IFASMASK> extension, \"\n",
      "C:\\Users\\Tripp\\Desktop\\PROGRAM\\IfA_Smeargle\\meta\\fits_and_arrays.py:142: InputWarning: The fits file contains an <IFASMASK> extension, a pixel mask created by this program. It will be applied to the data. The output data will be a Numpy Masked Array.\n",
      "  smeargle_warning(InputWarning,(\"The fits file contains an <IFASMASK> extension, \"\n",
      "C:\\Users\\Tripp\\Desktop\\PROGRAM\\IfA_Smeargle\\meta\\fits_and_arrays.py:142: InputWarning: The fits file contains an <IFASMASK> extension, a pixel mask created by this program. It will be applied to the data. The output data will be a Numpy Masked Array.\n",
      "  smeargle_warning(InputWarning,(\"The fits file contains an <IFASMASK> extension, \"\n",
      "C:\\Users\\Tripp\\Desktop\\PROGRAM\\IfA_Smeargle\\meta\\fits_and_arrays.py:142: InputWarning: The fits file contains an <IFASMASK> extension, a pixel mask created by this program. It will be applied to the data. The output data will be a Numpy Masked Array.\n",
      "  smeargle_warning(InputWarning,(\"The fits file contains an <IFASMASK> extension, \"\n",
      "C:\\Users\\Tripp\\Desktop\\PROGRAM\\IfA_Smeargle\\meta\\fits_and_arrays.py:142: InputWarning: The fits file contains an <IFASMASK> extension, a pixel mask created by this program. It will be applied to the data. The output data will be a Numpy Masked Array.\n",
      "  smeargle_warning(InputWarning,(\"The fits file contains an <IFASMASK> extension, \"\n",
      "C:\\Users\\Tripp\\Desktop\\PROGRAM\\IfA_Smeargle\\meta\\fits_and_arrays.py:142: InputWarning: The fits file contains an <IFASMASK> extension, a pixel mask created by this program. It will be applied to the data. The output data will be a Numpy Masked Array.\n",
      "  smeargle_warning(InputWarning,(\"The fits file contains an <IFASMASK> extension, \"\n"
     ]
    },
    {
     "name": "stderr",
     "output_type": "stream",
     "text": [
      "C:\\Users\\Tripp\\Desktop\\PROGRAM\\IfA_Smeargle\\meta\\fits_and_arrays.py:142: InputWarning: The fits file contains an <IFASMASK> extension, a pixel mask created by this program. It will be applied to the data. The output data will be a Numpy Masked Array.\n",
      "  smeargle_warning(InputWarning,(\"The fits file contains an <IFASMASK> extension, \"\n",
      "WARNING: The fit may be unsuccessful; check fit_info['message'] for more information. [astropy.modeling.fitting]\n",
      "C:\\Users\\Tripp\\Desktop\\PROGRAM\\IfA_Smeargle\\meta\\fits_and_arrays.py:142: InputWarning: The fits file contains an <IFASMASK> extension, a pixel mask created by this program. It will be applied to the data. The output data will be a Numpy Masked Array.\n",
      "  smeargle_warning(InputWarning,(\"The fits file contains an <IFASMASK> extension, \"\n",
      "C:\\Users\\Tripp\\Desktop\\PROGRAM\\IfA_Smeargle\\meta\\fits_and_arrays.py:142: InputWarning: The fits file contains an <IFASMASK> extension, a pixel mask created by this program. It will be applied to the data. The output data will be a Numpy Masked Array.\n",
      "  smeargle_warning(InputWarning,(\"The fits file contains an <IFASMASK> extension, \"\n",
      "WARNING: The fit may be unsuccessful; check fit_info['message'] for more information. [astropy.modeling.fitting]\n",
      "C:\\Users\\Tripp\\Desktop\\PROGRAM\\IfA_Smeargle\\meta\\fits_and_arrays.py:142: InputWarning: The fits file contains an <IFASMASK> extension, a pixel mask created by this program. It will be applied to the data. The output data will be a Numpy Masked Array.\n",
      "  smeargle_warning(InputWarning,(\"The fits file contains an <IFASMASK> extension, \"\n",
      "WARNING: The fit may be unsuccessful; check fit_info['message'] for more information. [astropy.modeling.fitting]\n",
      "C:\\Users\\Tripp\\Desktop\\PROGRAM\\IfA_Smeargle\\meta\\fits_and_arrays.py:142: InputWarning: The fits file contains an <IFASMASK> extension, a pixel mask created by this program. It will be applied to the data. The output data will be a Numpy Masked Array.\n",
      "  smeargle_warning(InputWarning,(\"The fits file contains an <IFASMASK> extension, \"\n",
      "WARNING: The fit may be unsuccessful; check fit_info['message'] for more information. [astropy.modeling.fitting]\n",
      "C:\\Users\\Tripp\\Desktop\\PROGRAM\\IfA_Smeargle\\meta\\fits_and_arrays.py:142: InputWarning: The fits file contains an <IFASMASK> extension, a pixel mask created by this program. It will be applied to the data. The output data will be a Numpy Masked Array.\n",
      "  smeargle_warning(InputWarning,(\"The fits file contains an <IFASMASK> extension, \"\n",
      "WARNING: The fit may be unsuccessful; check fit_info['message'] for more information. [astropy.modeling.fitting]\n",
      "C:\\Users\\Tripp\\Desktop\\PROGRAM\\IfA_Smeargle\\meta\\fits_and_arrays.py:142: InputWarning: The fits file contains an <IFASMASK> extension, a pixel mask created by this program. It will be applied to the data. The output data will be a Numpy Masked Array.\n",
      "  smeargle_warning(InputWarning,(\"The fits file contains an <IFASMASK> extension, \"\n",
      "WARNING: The fit may be unsuccessful; check fit_info['message'] for more information. [astropy.modeling.fitting]\n",
      "C:\\Users\\Tripp\\Desktop\\PROGRAM\\IfA_Smeargle\\meta\\fits_and_arrays.py:142: InputWarning: The fits file contains an <IFASMASK> extension, a pixel mask created by this program. It will be applied to the data. The output data will be a Numpy Masked Array.\n",
      "  smeargle_warning(InputWarning,(\"The fits file contains an <IFASMASK> extension, \"\n",
      "WARNING: The fit may be unsuccessful; check fit_info['message'] for more information. [astropy.modeling.fitting]\n",
      "C:\\Users\\Tripp\\Desktop\\PROGRAM\\IfA_Smeargle\\meta\\fits_and_arrays.py:142: InputWarning: The fits file contains an <IFASMASK> extension, a pixel mask created by this program. It will be applied to the data. The output data will be a Numpy Masked Array.\n",
      "  smeargle_warning(InputWarning,(\"The fits file contains an <IFASMASK> extension, \"\n",
      "WARNING: The fit may be unsuccessful; check fit_info['message'] for more information. [astropy.modeling.fitting]\n",
      "C:\\Users\\Tripp\\Desktop\\PROGRAM\\IfA_Smeargle\\meta\\fits_and_arrays.py:142: InputWarning: The fits file contains an <IFASMASK> extension, a pixel mask created by this program. It will be applied to the data. The output data will be a Numpy Masked Array.\n",
      "  smeargle_warning(InputWarning,(\"The fits file contains an <IFASMASK> extension, \"\n",
      "WARNING: The fit may be unsuccessful; check fit_info['message'] for more information. [astropy.modeling.fitting]\n",
      "C:\\Users\\Tripp\\Desktop\\PROGRAM\\IfA_Smeargle\\meta\\fits_and_arrays.py:142: InputWarning: The fits file contains an <IFASMASK> extension, a pixel mask created by this program. It will be applied to the data. The output data will be a Numpy Masked Array.\n",
      "  smeargle_warning(InputWarning,(\"The fits file contains an <IFASMASK> extension, \"\n",
      "C:\\Users\\Tripp\\Desktop\\PROGRAM\\IfA_Smeargle\\meta\\fits_and_arrays.py:142: InputWarning: The fits file contains an <IFASMASK> extension, a pixel mask created by this program. It will be applied to the data. The output data will be a Numpy Masked Array.\n",
      "  smeargle_warning(InputWarning,(\"The fits file contains an <IFASMASK> extension, \"\n",
      "WARNING: The fit may be unsuccessful; check fit_info['message'] for more information. [astropy.modeling.fitting]\n",
      "C:\\Users\\Tripp\\Desktop\\PROGRAM\\IfA_Smeargle\\meta\\fits_and_arrays.py:142: InputWarning: The fits file contains an <IFASMASK> extension, a pixel mask created by this program. It will be applied to the data. The output data will be a Numpy Masked Array.\n",
      "  smeargle_warning(InputWarning,(\"The fits file contains an <IFASMASK> extension, \"\n",
      "C:\\Users\\Tripp\\Desktop\\PROGRAM\\IfA_Smeargle\\meta\\fits_and_arrays.py:142: InputWarning: The fits file contains an <IFASMASK> extension, a pixel mask created by this program. It will be applied to the data. The output data will be a Numpy Masked Array.\n",
      "  smeargle_warning(InputWarning,(\"The fits file contains an <IFASMASK> extension, \"\n",
      "C:\\Users\\Tripp\\Desktop\\PROGRAM\\IfA_Smeargle\\meta\\fits_and_arrays.py:142: InputWarning: The fits file contains an <IFASMASK> extension, a pixel mask created by this program. It will be applied to the data. The output data will be a Numpy Masked Array.\n",
      "  smeargle_warning(InputWarning,(\"The fits file contains an <IFASMASK> extension, \"\n",
      "C:\\Users\\Tripp\\Desktop\\PROGRAM\\IfA_Smeargle\\bravo\\bravo_functions.py:41: InputWarning: The filename has been marked as garbage. The splitting will yield good or bad information about a bad data set. Nothing will be done.\n",
      "  smeargle_warning(InputWarning,(\"The filename has been marked as garbage. The splitting \"\n",
      "C:\\Users\\Tripp\\Desktop\\PROGRAM\\IfA_Smeargle\\meta\\modeling_and_fitting.py:162: DataWarning: Nyquist peaks cannot be found, relying on 1-bin wide peaks for estimates. Estimates may be very off.\n",
      "  smeargle_warning(DataWarning,(\"Nyquist peaks cannot be found, relying on 1-bin \"\n",
      "WARNING: The fit may be unsuccessful; check fit_info['message'] for more information. [astropy.modeling.fitting]\n"
     ]
    }
   ],
   "source": [
    "ifas.zulu.pipelines.SA201907281826_reduction_pipeline('./Data',first_run)"
   ]
  },
  {
   "cell_type": "code",
   "execution_count": 1,
   "metadata": {},
   "outputs": [
    {
     "ename": "NameError",
     "evalue": "name 'ifas' is not defined",
     "output_type": "error",
     "traceback": [
      "\u001b[1;31m---------------------------------------------------------------------------\u001b[0m",
      "\u001b[1;31mNameError\u001b[0m                                 Traceback (most recent call last)",
      "\u001b[1;32m<ipython-input-1-897f6b6f5102>\u001b[0m in \u001b[0;36m<module>\u001b[1;34m\u001b[0m\n\u001b[1;32m----> 1\u001b[1;33m \u001b[0m__\u001b[0m\u001b[1;33m,\u001b[0m \u001b[0m__\u001b[0m\u001b[1;33m,\u001b[0m \u001b[0mdata\u001b[0m \u001b[1;33m=\u001b[0m \u001b[0mifas\u001b[0m\u001b[1;33m.\u001b[0m\u001b[0mmeta\u001b[0m\u001b[1;33m.\u001b[0m\u001b[0mmeta_faa\u001b[0m\u001b[1;33m.\u001b[0m\u001b[0msmeargle_open_fits_file\u001b[0m\u001b[1;33m(\u001b[0m\u001b[1;34m\"./Data/Saphria__num;19__detBias;8.5Vup__1025-1040.fits\"\u001b[0m\u001b[1;33m)\u001b[0m\u001b[1;33m\u001b[0m\u001b[1;33m\u001b[0m\u001b[0m\n\u001b[0m",
      "\u001b[1;31mNameError\u001b[0m: name 'ifas' is not defined"
     ]
    }
   ],
   "source": [
    "__, __, data = ifas.meta.meta_faa.smeargle_open_fits_file(\"./Data/Saphria__num;19__detBias;8.5Vup__1025-1040.fits\")"
   ]
  },
  {
   "cell_type": "code",
   "execution_count": null,
   "metadata": {},
   "outputs": [],
   "source": [
    "data\n",
    "print(np.nanmean(data.data),np.nanstd(data.data))"
   ]
  },
  {
   "cell_type": "code",
   "execution_count": null,
   "metadata": {},
   "outputs": [],
   "source": [
    "first_run.OscarConfig.general_histogram_config['histogram_plot_paramters']['range'] = [-1000,1000]\n",
    "\n",
    "figure = ifas.oscar.multi.plot_single_heatmap_and_histogram(\"./Data\\Saphria__num;14__detBias;4.5Vdown__1025-1040.fits\",first_run)\n",
    "#figure.axes[1].axvline(np.nanmean(data.data))\n",
    "plt.show(figure)"
   ]
  },
  {
   "cell_type": "code",
   "execution_count": null,
   "metadata": {},
   "outputs": [],
   "source": [
    "first_run.OscarConfig.general_histogram_config['fit_gaussian'] = True\n",
    "#first_run.OscarConfig.general_histogram_config['bin_width'] = 5\n",
    "#first_run.OscarConfig.general_histogram_config['histogram_plot_paramters']['range'] = [-250,100]\n",
    "\n",
    "__, __, data = ifas.meta.meta_faa.smeargle_open_fits_file(\"./Data/SAPHIRA-MK12145-02_20190913-40K__num;7__detBias;10.5Vup__slice;513-528.fits\")\n",
    "figure2 = ifas.oscar.multi.plot_single_heatmap_and_histogram(data,first_run)\n",
    "#figure3 = ifas.oscar.multi.plot_single_heatmap_and_histogram(data.data,first_run)\n",
    "#figure.axes[1].axvline(np.nanmean(data.data))\n",
    "plt.show(figure2)\n",
    "plt.show(figure3)\n",
    "\n",
    "# [ 72 120 136 250 294]\n",
    "#[-16074. -14058. -13386.  -8598.  -6750.]\n",
    "ifas.meta.meta_plting.smeargle_save_figure_file(figure2,\"website.png\")\n",
    "print(np.histogram(data.data,bins=10))"
   ]
  },
  {
   "cell_type": "code",
   "execution_count": null,
   "metadata": {},
   "outputs": [],
   "source": [
    "__, __, data = ifas.meta.meta_faa.smeargle_open_fits_file(\"./Data\\Saphria__num;14__detBias;4.5Vdown__257-272.fits\")\n",
    "figure2 = ifas.oscar.histograms.plot_array_histogram(data.data,bin_width=10,fit_gaussian=True)\n",
    "#figure.axes[1].axvline(np.nanmean(data.data))\n",
    "plt.show(figure2)\n",
    "\n",
    "wee, weer = ifas.meta.meta_model.smeargle_fit_histogram_gaussian_function(data.data)\n",
    "\n",
    "print(np.nanstd(data))"
   ]
  },
  {
   "cell_type": "code",
   "execution_count": null,
   "metadata": {},
   "outputs": [],
   "source": [
    "# Extract histogram data from the data.\n",
    "hist_data = np.histogram(data.data, bins=ifa.oscar.oscar_bin_width(data.data, 10))\n",
    "hist_x = (hist_data[1][0:-1] + hist_data[1][1:]) / 2 # Middle of bin.\n",
    "hist_y = hist_data[0]\n",
    "   # Filter out some of the outlier pixels, consider only 75% of the \n",
    "    # meaningful bins and the bins with a value greater than a limiting entry.\n",
    "valuecut_index = np.where(hist_y >= 11)\n",
    "cuthist_x = np.array(hist_x[valuecut_index])\n",
    "cuthist_y = np.array(hist_y[valuecut_index])\n",
    "\n",
    "    # Initial guesses...\n",
    "    # The peak of the data is a good guess for the mean value.\n",
    "guess_mean = hist_x[np.argmax(cuthist_y)]\n",
    "print(np.nanstd(cuthist_y))\n",
    "print(sp_stat.median_absolute_deviation(cuthist_y))\n",
    "print(sp_stat.variation(cuthist_y))"
   ]
  },
  {
   "cell_type": "code",
   "execution_count": null,
   "metadata": {},
   "outputs": [],
   "source": [
    "ifas.bravo.sanitize.same_file_size_sanitization('./Data')"
   ]
  },
  {
   "cell_type": "code",
   "execution_count": null,
   "metadata": {},
   "outputs": [],
   "source": [
    "glob.glob('./Data*.fits')"
   ]
  },
  {
   "cell_type": "code",
   "execution_count": null,
   "metadata": {},
   "outputs": [],
   "source": []
  },
  {
   "cell_type": "code",
   "execution_count": null,
   "metadata": {},
   "outputs": [],
   "source": [
    "fig, ax = plt.subplots(dpi=300)\n",
    "ax, data_table, data_frame = ifas.oscar.volt_plot.plotdir_dark_current_over_voltage('./Data/', figure_axes=ax)\n",
    "\n",
    "#ax.set_yscale('log')\n",
    "ax.set_ylim((-250,250))\n",
    "\n",
    "plt.show()"
   ]
  },
  {
   "cell_type": "code",
   "execution_count": null,
   "metadata": {
    "scrolled": false
   },
   "outputs": [],
   "source": [
    "data_table"
   ]
  },
  {
   "cell_type": "code",
   "execution_count": null,
   "metadata": {
    "scrolled": false
   },
   "outputs": [],
   "source": [
    "fig2, ax2 = plt.subplots(dpi=300)\n",
    "\n",
    "ax2.errorbar(data_table['voltage_set1'][0:5], data_table['value_set1'][0:5], yerr=data_table['error_set1'][0:5],\n",
    "                    fmt='.-', elinewidth=0.25, capsize=3, capthick=0.25,\n",
    "                    label=('Set ' + str(1)))\n",
    "ax2.errorbar(data_table['voltage_set2'][0:5], data_table['value_set2'][0:5], yerr=data_table['error_set2'][0:5],\n",
    "                    fmt='.-', elinewidth=0.25, capsize=3, capthick=0.25,\n",
    "                    label=('Set ' + str(2)))\n",
    "\n",
    "title=first_run.BravoConfig.detector_name['name']\n",
    "ax2.set_title(title)\n",
    "ax2.legend(loc='upper left')\n",
    "ax2.set_xticks(np.append(data_table['voltage_set1'][0:5], 0))\n",
    "ax2.set_xlabel('Detector Bias Voltage (V)')\n",
    "ax2.set_ylabel('Average Dark Current (ADU)')\n",
    "\n",
    "plt.show()\n"
   ]
  },
  {
   "cell_type": "code",
   "execution_count": null,
   "metadata": {},
   "outputs": [],
   "source": [
    "np.append(data_table['voltage_set1'][0:5], 0)"
   ]
  },
  {
   "cell_type": "code",
   "execution_count": null,
   "metadata": {},
   "outputs": [],
   "source": [
    "dataframe.query('volt == @voltage_value and voltslope == @voltage_slope')['num']"
   ]
  },
  {
   "cell_type": "code",
   "execution_count": null,
   "metadata": {},
   "outputs": [],
   "source": [
    "voltage_list = copy.deepcopy(np.sort(np.unique(file_data.loc[:,'volt'].to_numpy())))\n",
    "\n",
    "set_metadata = []\n",
    "#slope_list = list(set(dataframe.query('volt == @voltage_value')['voltslope']))\n",
    "\n",
    "for voltdex in voltage_list:\n",
    "    slope_list = list(set(file_data.query('volt == @voltdex')['voltslope']))\n",
    "    \n",
    "    for slopedex in slope_list:\n",
    "        query = file_data.query('volt == @voltdex and voltslope == @slopedex')['num']\n",
    "        filenum = np.sort(np.unique(query))\n",
    "        \n",
    "        for numdex, setdex in zip(filenum,np.arange(len(filenum))+1):\n",
    "            temp_dict = {'metavolt':voltdex,'metaslope':slopedex,'metanum':numdex,'metaset':setdex}\n",
    "            set_metadata.append(temp_dict)\n",
    "            \n",
    "set_metadata = pd.DataFrame(set_metadata)"
   ]
  },
  {
   "cell_type": "code",
   "execution_count": null,
   "metadata": {},
   "outputs": [],
   "source": [
    "set_count = np.flip(np.unique(set_metadata['metaset']))[np.flip(np.unique(set_metadata['metaset'],return_counts=True)[1]).argmax()]\n",
    "\n",
    "for setdex in (np.arange(set_count) + 1):\n",
    "    dataset_list = set_metadata.query('metaset == @setdex')\n",
    "    \n",
    "    x_axis_voltage = []\n",
    "    y_axis_data = []\n",
    "    y_axis_error = []\n",
    "    \n",
    "    for voltdex in voltage_list:\n",
    "        fits_file_numbers = list(dataset_list.query('metavolt == @voltdex')['metanum'].to_numpy())\n",
    "        voltset_data = file_data.query('num == @fits_file_numbers')\n",
    "        \n",
    "        x_axis_voltage.append(voltdex)\n",
    "        y_axis_data.append(np.nanmedian(voltset_data['g_mean']))\n",
    "        y_axis_error.append(np.nanmedian(voltset_data['g_stddev']))\n",
    "        \n",
    "    #####\n",
    "    x_axis_voltage = np.array(x_axis_voltage)\n",
    "    y_axis_data = np.array(y_axis_data)\n",
    "    y_axis_error = np.array(y_axis_error)\n",
    "    plt.errorbar(x_axis_voltage, y_axis_data, yerr=y_axis_error)\n"
   ]
  },
  {
   "cell_type": "code",
   "execution_count": null,
   "metadata": {},
   "outputs": [],
   "source": []
  },
  {
   "cell_type": "code",
   "execution_count": null,
   "metadata": {},
   "outputs": [],
   "source": [
    "import importlib\n",
    "\n",
    "complete_oscar_dict = dict(inspect.getmembers(ifas.oscar, inspect.ismodule))\n",
    "\n",
    "source_file_list = [inspect.getsourcefile(complete_oscar_dict[keydex]) for keydex in complete_oscar_dict.keys()]\n",
    "ifa_smeargle_file_list = [filedex for filedex in source_file_list if 'IfA_Smeargle' in filedex]\n",
    "oscar_file_list = [filedex for filedex in ifa_smeargle_file_list if 'oscar' in filedex]\n",
    "\n",
    "oscar_mod_name_list = [inspect.getmodulename(oscardex) for oscardex in ifa_smeargle_file_list if 'oscar' in oscardex]\n",
    "\n",
    "oscar_modspec = [importlib.util.spec_from_file_location(namedex, filedex) for namedex, filedex in zip(oscar_mod_name_list, oscar_file_list)]\n",
    "oscar_modules = [importlib.util.module_from_spec(specdex) for specdex in oscar_modspec]\n",
    "\n",
    "for specdex, moduledex in zip(specifications,oscar_modules):\n",
    "    specdex.loader.exec_module(moduledex)\n",
    "\n",
    "function_dictionaries = [dict(inspect.getmembers(moduledex,inspect.isfunction)) for moduledex in oscar_modules]\n",
    "\n",
    "oscar_plotting_functions = {}\n",
    "for dictionarydex in function_dictionaries: \n",
    "    oscar_plotting_functions = {**oscar_plotting_functions, **dictionarydex}\n",
    "for keydex, valuedex in copy.deepcopy(oscar_plotting_functions).items():\n",
    "    if ('smeargle' in keydex):\n",
    "        oscar_plotting_functions.pop(keydex, None)\n",
    "    \n",
    "print(oscar_plotting_functions)"
   ]
  },
  {
   "cell_type": "code",
   "execution_count": null,
   "metadata": {},
   "outputs": [],
   "source": [
    "data_array = ifas.zulu.IfasDataArray('./Data/SAPHIRA-MK20-M12145-03_20191001_T60K__num;2__detBias;2.5Vup__slice;1025-1040.fits', \n",
    "                                     configuration_class='FirstRun.ifaspkl')"
   ]
  },
  {
   "cell_type": "code",
   "execution_count": null,
   "metadata": {},
   "outputs": [],
   "source": [
    "print(data_array.__doc__)"
   ]
  },
  {
   "cell_type": "code",
   "execution_count": null,
   "metadata": {},
   "outputs": [],
   "source": [
    "data_array.config.EchoConfig.echo271_config['maximum_value'] = -50\n",
    "print(data_array.config)"
   ]
  },
  {
   "cell_type": "code",
   "execution_count": null,
   "metadata": {},
   "outputs": [],
   "source": [
    "data_array.echo271_maximum_cut(run=False, configuration=True)"
   ]
  },
  {
   "cell_type": "code",
   "execution_count": null,
   "metadata": {},
   "outputs": [],
   "source": [
    "data_array.echo_synthesize_mask_dictionary()"
   ]
  },
  {
   "cell_type": "code",
   "execution_count": null,
   "metadata": {},
   "outputs": [],
   "source": [
    "data_array.echo_numpy_masked_array()"
   ]
  },
  {
   "cell_type": "code",
   "execution_count": null,
   "metadata": {},
   "outputs": [],
   "source": [
    "data_array.plot_array_heatmap_image()"
   ]
  },
  {
   "cell_type": "code",
   "execution_count": null,
   "metadata": {},
   "outputs": [],
   "source": []
  }
 ],
 "metadata": {
  "kernelspec": {
   "display_name": "Python 3",
   "language": "python",
   "name": "python3"
  },
  "language_info": {
   "codemirror_mode": {
    "name": "ipython",
    "version": 3
   },
   "file_extension": ".py",
   "mimetype": "text/x-python",
   "name": "python",
   "nbconvert_exporter": "python",
   "pygments_lexer": "ipython3",
   "version": "3.7.3"
  }
 },
 "nbformat": 4,
 "nbformat_minor": 2
}
