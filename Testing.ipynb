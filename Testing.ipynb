{
 "cells": [
  {
   "cell_type": "code",
   "execution_count": 5,
   "metadata": {},
   "outputs": [],
   "source": [
    "import astropy as ap\n",
    "import astropy.io.fits as ap_fits\n",
    "import astropy.modeling as ap_mod\n",
    "import copy\n",
    "import matplotlib as mpl\n",
    "import matplotlib.pyplot as plt\n",
    "import numpy as np\n",
    "import numpy.ma as np_ma\n",
    "import scipy as sp\n",
    "import scipy.optimize as sp_opt\n",
    "import scipy.stats as sp_stat\n",
    "\n",
    "import IfA_Smeargle as ifa"
   ]
  },
  {
   "cell_type": "code",
   "execution_count": 2,
   "metadata": {},
   "outputs": [],
   "source": [
    "fits,header,data = ifa.meta.smeargle_open_fits_file(\"190510_T40K_2hrdark_2.5VdetBias_up_16avg_GN_CDS_ADU_per_ksec.fits\")"
   ]
  },
  {
   "cell_type": "code",
   "execution_count": 3,
   "metadata": {},
   "outputs": [
    {
     "data": {
      "text/plain": [
       "<matplotlib.axes._subplots.AxesSubplot at 0x1ed1612e0f0>"
      ]
     },
     "execution_count": 3,
     "metadata": {},
     "output_type": "execute_result"
    },
    {
     "data": {
      "image/png": "[encoded data removed]",
      "text/plain": [
       "<Figure size 432x288 with 2 Axes>"
      ]
     },
     "metadata": {
      "needs_background": "light"
     },
     "output_type": "display_data"
    }
   ],
   "source": [
    "fig, ax = plt.subplots(1, 1)\n",
    "ifa.hotel.plot_array_heatmap_image(data,figure_axes=ax)\n",
    "\n",
    "#plt.imshow(data, cmap='hot')\n",
    "#plt.colorbar()\n",
    "#plt.show()"
   ]
  },
  {
   "cell_type": "code",
   "execution_count": 10,
   "metadata": {},
   "outputs": [
    {
     "data": {
      "text/plain": [
       "<matplotlib.axes._subplots.AxesSubplot at 0x1ed16468d30>"
      ]
     },
     "execution_count": 10,
     "metadata": {},
     "output_type": "execute_result"
    },
    {
     "data": {
      "image/png": "[encoded data removed]",
      "text/plain": [
       "<Figure size 432x288 with 2 Axes>"
      ]
     },
     "metadata": {
      "needs_background": "light"
     },
     "output_type": "display_data"
    }
   ],
   "source": [
    "mask = np.full_like(data,False)\n",
    "mask[10:,:] = True\n",
    "masking_data = np_ma.array(data,mask=mask)\n",
    "\n",
    "ifa.hotel.plot_array_heatmap_image(masking_data)"
   ]
  },
  {
   "cell_type": "code",
   "execution_count": null,
   "metadata": {},
   "outputs": [],
   "source": [
    "y_bounds = [50,250]\n",
    "x_bounds = [100,150]\n",
    "\n",
    "sub_data = ifa.meta.smeargle_extract_subarray(data,x_bounds,y_bounds)\n",
    "\n",
    "fig2, ax2 = plt.subplots(1, 1)\n",
    "ifa.hotel.plot_array_heatmap_image(sub_data,figure_axes=ax2)"
   ]
  },
  {
   "cell_type": "code",
   "execution_count": null,
   "metadata": {},
   "outputs": [],
   "source": [
    "hist_data = plt.hist(data.flatten(),bins=50,range=None,log=8)\n",
    "\n",
    "# Define the x-axis values, that is, the center of each bar.\n",
    "hist_x = (hist_data[1][0:-1] + hist_data[1][1:])/2\n",
    "hist_y = hist_data[0]\n",
    "plt.plot(hist_x,hist_y)\n",
    "\n",
    "plt.show()"
   ]
  },
  {
   "cell_type": "code",
   "execution_count": null,
   "metadata": {},
   "outputs": [],
   "source": [
    "fig2, ax2 = plt.subplots(1, 1,figsize=(15,15))\n",
    "ax2 = ifa.hotel.plot_array_histogram(data.flatten(),figure_axes=ax2,\n",
    "                                    histogram_plot_paramters={'bins':50, 'range':None,'log':False})[1]\n",
    "print(ax2)"
   ]
  },
  {
   "cell_type": "code",
   "execution_count": null,
   "metadata": {},
   "outputs": [],
   "source": [
    "fig3, ax3 = plt.subplots(3, 4,figsize=(10,6),dpi=100)\n",
    "\n",
    "ax3[:,0]\n",
    "\n",
    "# y , x\n",
    "for axesdex in ax3[:,0]:\n",
    "    ifa.hotel.plot_array_heatmap_image(sub_data,figure_axes=axesdex)\n",
    "for axesdex in ax3[:,2]:\n",
    "    ifa.hotel.plot_array_heatmap_image(sub_data,figure_axes=axesdex)\n",
    "    \n",
    "# Hist\n",
    "for axesdex in ax3[:,1]:\n",
    "    ifa.hotel.plot_array_histogram(data.flatten(),figure_axes=axesdex)\n",
    "    axesdex.set_aspect(1/(axesdex.get_data_ratio() * 2))\n",
    "for axesdex in ax3[:,3]:\n",
    "    ifa.hotel.plot_array_histogram(data.flatten(),figure_axes=axesdex)\n",
    "    axesdex.set_aspect(1/(axesdex.get_data_ratio() * 2))\n",
    "    \n",
    "fig3.tight_layout()\n",
    "fig3.subplots_adjust(right=0.9)\n",
    "plt.show(fig3)\n"
   ]
  },
  {
   "cell_type": "code",
   "execution_count": null,
   "metadata": {},
   "outputs": [],
   "source": [
    "#fig4, ax4 = plt.subplots(1, 2,figsize=(9,3.5),dpi=100)\n",
    "\n",
    "figure = ifa.hotel.plot_single_heatmap_and_histogram(data)\n",
    "    \n",
    "plt.show(figure)"
   ]
  },
  {
   "cell_type": "code",
   "execution_count": null,
   "metadata": {},
   "outputs": [],
   "source": [
    "fig5, ax5 = plt.subplots(3, 4,figsize=(12,6),dpi=200)\n",
    "\n",
    "temp_data = sub_data\n",
    "\n",
    "def double_axes(temp_data,axes_1,axes_2):\n",
    "    ifa.hotel.plot_array_heatmap_image(temp_data,figure_axes=axes_1)\n",
    "\n",
    "    ifa.hotel.plot_array_histogram(temp_data.flatten(),figure_axes=axes_2)\n",
    "    axes_2.set_aspect(1/(axes_2.get_data_ratio() * 1.5))\n",
    "    #print(axes_2.get_data_ratio())\n",
    "\n",
    "    \n",
    "for axes1dex,axes2dex in zip(ax5[:,0],ax5[:,1]):\n",
    "    double_axes(temp_data,axes1dex,axes2dex)\n",
    "    \n",
    "\n",
    "#for axes1dex,axes2dex in zip(ax5[:,2],ax5[:,3]):\n",
    "#    double_axes(temp_data,axes1dex,axes2dex)\n",
    "    \n",
    "    \n",
    "fig5.tight_layout()\n",
    "plt.show(fig5)"
   ]
  },
  {
   "cell_type": "code",
   "execution_count": null,
   "metadata": {},
   "outputs": [],
   "source": [
    "fig6, ax6 = plt.subplots(3, 6,figsize=(12,6),dpi=200)\n",
    "\n",
    "ax6[0,0] = plt.subplot2grid((3, 6), (0, 0))\n",
    "ax6[0,1] = plt.subplot2grid((3, 6), (0, 1), colspan=2)\n",
    "ax6[1,0] = plt.subplot2grid((3, 6), (1, 0))\n",
    "ax6[1,1] = plt.subplot2grid((3, 6), (1, 1), colspan=2)\n",
    "ax6[2,0] = plt.subplot2grid((3, 6), (2, 0))\n",
    "ax6[2,1] = plt.subplot2grid((3, 6), (2, 1), colspan=2)\n",
    "\n",
    "ax6[0,3] = plt.subplot2grid((3, 6), (0, 3))\n",
    "ax6[0,4] = plt.subplot2grid((3, 6), (0, 4), colspan=2)\n",
    "ax6[1,3] = plt.subplot2grid((3, 6), (1, 3))\n",
    "ax6[1,4] = plt.subplot2grid((3, 6), (1, 4), colspan=2)\n",
    "ax6[2,3] = plt.subplot2grid((3, 6), (2, 3))\n",
    "ax6[2,4] = plt.subplot2grid((3, 6), (2, 4), colspan=2)\n",
    "\n",
    "#print(ax6)\n",
    "\n",
    "lol_data = sub_data\n",
    "# y , x\n",
    "for axesdex in ax6[:,0]:\n",
    "    ifa.hotel.plot_array_heatmap_image(lol_data,figure_axes=axesdex)\n",
    "for axesdex in ax6[:,3]:\n",
    "    ifa.hotel.plot_array_heatmap_image(lol_data,figure_axes=axesdex)\n",
    "    \n",
    "# Hist\n",
    "for axesdex in ax6[:,1]:\n",
    "    ifa.hotel.plot_array_histogram(lol_data.flatten(),figure_axes=axesdex)\n",
    "    axesdex.set_aspect(1/(axesdex.get_data_ratio() * 1.5))\n",
    "for axesdex in ax6[:,4]:\n",
    "    ifa.hotel.plot_array_histogram(lol_data.flatten(),figure_axes=axesdex)\n",
    "    axesdex.set_aspect(1/(axesdex.get_data_ratio() * 1.5))\n",
    "    \n",
    "fig6.tight_layout()\n",
    "plt.show(fig6)"
   ]
  },
  {
   "cell_type": "code",
   "execution_count": null,
   "metadata": {},
   "outputs": [],
   "source": []
  },
  {
   "cell_type": "code",
   "execution_count": null,
   "metadata": {},
   "outputs": [],
   "source": []
  }
 ],
 "metadata": {
  "kernelspec": {
   "display_name": "Python 3",
   "language": "python",
   "name": "python3"
  },
  "language_info": {
   "codemirror_mode": {
    "name": "ipython",
    "version": 3
   },
   "file_extension": ".py",
   "mimetype": "text/x-python",
   "name": "python",
   "nbconvert_exporter": "python",
   "pygments_lexer": "ipython3",
   "version": "3.7.3"
  }
 },
 "nbformat": 4,
 "nbformat_minor": 2
}
