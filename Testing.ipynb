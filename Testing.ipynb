{
 "cells": [
  {
   "cell_type": "code",
   "execution_count": 1,
   "metadata": {},
   "outputs": [],
   "source": [
    "import astropy as ap\n",
    "import astropy.io.fits as ap_fits\n",
    "import astropy.modeling as ap_mod\n",
    "import copy\n",
    "import glob\n",
    "import inspect\n",
    "import matplotlib as mpl\n",
    "import matplotlib.pyplot as plt\n",
    "import numpy as np\n",
    "import numpy.ma as np_ma\n",
    "import pandas as pd\n",
    "import scipy as sp\n",
    "import scipy.optimize as sp_opt\n",
    "import scipy.stats as sp_stat\n",
    "import warnings as warn\n",
    "\n",
    "import IfA_Smeargle as ifas"
   ]
  },
  {
   "cell_type": "code",
   "execution_count": 4,
   "metadata": {
    "scrolled": true
   },
   "outputs": [
    {
     "name": "stdout",
     "output_type": "stream",
     "text": [
      "\n",
      "< Configuration Class --- SmeargleConfig > \n",
      "╓ SmeargleConfig Parameters:\n",
      "╟  BravoConfig ↴ \n",
      "< Configuration Class --- BravoConfig > \n",
      "╓ BravoConfig Parameters:\n",
      "╟  detector_name ⇀ {'name': 'SAPHIRA-MK20-M12145-03_20190927_T40K'}\n",
      "╟  same_file_size_sanitization_config ⇀ {'method': None}\n",
      "╟  number_rename_config ⇀ {'begin_garbage': 1, 'archive_data': False}\n",
      "╟  set_determine_rename_config ⇀ {'set_length': 14, 'begin_garbage': 1, 'archive_data': False}\n",
      "╟  voltpat_rename_config ⇀ {'voltage_pattern': [2.5, 4.5, 6.5, 8.5, 9.5, 10.5, 11.5, 11.5, 10.5, 9.5, 8.5, 6.5, 4.5, 2.5], 'begin_garbage': 1, 'archive_data': False}\n",
      "╟  auto_avg_slicing_config ⇀ {'reference_chunk': None, 'split_chunks': None, 'averaging_function': None}\n",
      "╟  avg_endpoints_config ⇀ {'start_chunk': None, 'end_chunk': None}\n",
      "╟  avg_endpts_persec_config ⇀ {'start_chunk': None, 'end_chunk': None, 'frame_exposure_time': None}\n",
      "╟  avg_endpts_perksec_config ⇀ {'start_chunk': None, 'end_chunk': None, 'frame_exposure_time': None}\n",
      "╙------------------------------------------\n",
      "</ Configuration Class --- BravoConfig >\n",
      "╟  EchoConfig ↴ \n",
      "< Configuration Class --- EchoConfig > \n",
      "╓ EchoConfig Parameters:\n",
      "╟  echo010_config ⇀ {'run': False}\n",
      "╟  echo120_config ⇀ {'run': False, 'x_range': None, 'y_range': None}\n",
      "╟  echo170_config ⇀ {'run': True, 'sigma_multiple': 5, 'bin_size': 5}\n",
      "╟  echo270_config ⇀ {'run': False, 'minimum_value': None}\n",
      "╟  echo271_config ⇀ {'run': False, 'maximum_value': None}\n",
      "╟  echo275_config ⇀ {'run': False, 'top_count': None, 'bottom_count': None}\n",
      "╟  echo276_config ⇀ {'run': False, 'kept_range': None}\n",
      "╟  echo277_config ⇀ {'run': False, 'sigma_limits': None}\n",
      "╟  echo380_config ⇀ {'run': False, 'pixel_list': None}\n",
      "╟  echo381_config ⇀ {'run': False, 'x_ranges': None, 'y_ranges': None}\n",
      "╟  echo382_config ⇀ {'run': False, 'column_list': None}\n",
      "╟  echo383_config ⇀ {'run': False, 'row_list': None}\n",
      "╟  echo398_config ⇀ {'run': False}\n",
      "╟  echo399_config ⇀ {'run': False}\n",
      "╙------------------------------------------\n",
      "</ Configuration Class --- EchoConfig >\n",
      "╟  OscarConfig ↴ \n",
      "< Configuration Class --- OscarConfig > \n",
      "╓ OscarConfig Parameters:\n",
      "╟  general_heatmap_config ⇀ {'plot': True, 'data_array': None, 'heatmap_plot_parameters': {}, 'colorbar_plot_paramters': {}}\n",
      "╟  general_histogram_config ⇀ {'plot': True, 'data_array': None, 'bin_width': 5, 'histogram_plot_paramters': {}}\n",
      "╙------------------------------------------\n",
      "</ Configuration Class --- OscarConfig >\n",
      "╟  YankeeConfig ↴ \n",
      "< Configuration Class --- YankeeConfig > \n",
      "╓ YankeeConfig Parameters:\n",
      "╙------------------------------------------\n",
      "</ Configuration Class --- YankeeConfig >\n",
      "╟  ZuluConfig ↴ \n",
      "< Configuration Class --- ZuluConfig > \n",
      "╓ ZuluConfig Parameters:\n",
      "╟  SA201907281826 ⇀ {'early_frame': 3, 'ref_frame': array([17, 32]), 'sub_avg_frames': array([[ 257,  272],\n",
      "       [ 513,  528],\n",
      "       [1025, 1040]]), 'frame_exposure': 5, 'early_sigma': 5}\n",
      "╙------------------------------------------\n",
      "</ Configuration Class --- ZuluConfig >\n",
      "╟  BaseConfig ↴ \n",
      "< Configuration Class --- BaseConfig > \n",
      "╓ BaseConfig Parameters:\n",
      "╙------------------------------------------\n",
      "</ Configuration Class --- BaseConfig >\n",
      "╙------------------------------------------\n",
      "</ Configuration Class --- SmeargleConfig >\n"
     ]
    }
   ],
   "source": [
    "first_run = ifas.yankee.SmeargleConfig('FirstRun.ifaspkl')\n",
    "\n",
    "first_run.BravoConfig.voltpat_rename_config['archive_data'] = False\n",
    "first_run.BravoConfig.number_rename_config['archive_data'] = False\n",
    "first_run.BravoConfig.set_determine_rename_config['archive_data'] = False\n",
    "first_run.BravoConfig.detector_name = {'name': 'SAPHIRA-MK20-M12145-03_20190927_T40K'}\n",
    "\n",
    "if (False):\n",
    "    first_run.BravoConfig.voltpat_rename_config['voltage_pattern'] =  [2.5, 2.5, 2.5, 2.5,\n",
    "                                                                 4.5, 4.5, 4.5, 4.5,\n",
    "                                                                 6.5, 6.5, 6.5, 6.5,\n",
    "                                                                 8.5, 8.5, 8.5, 8.5,\n",
    "                                                                 9.5, 9.5, 9.5, 9.5,\n",
    "                                                                 10.5, 10.5, 10.5, 10.5,\n",
    "                                                                 11.5, 11.5, 11.5, 11.5,\n",
    "                                                                 11.5, 11.5, 11.5, 11.5,\n",
    "                                                                 10.5, 10.5, 10.5, 10.5,\n",
    "                                                                 9.5, 9.5, 9.5, 9.5,\n",
    "                                                                 8.5, 8.5, 8.5, 8.5,\n",
    "                                                                 6.5, 6.5, 6.5, 6.5,\n",
    "                                                                 4.5, 4.5, 4.5, 4.5,\n",
    "                                                                 2.5, 2.5, 2.5, 2.5]\n",
    "    first_run.BravoConfig.voltpat_rename_config['begin_garbage'] = 0\n",
    "\n",
    "print(first_run)"
   ]
  },
  {
   "cell_type": "code",
   "execution_count": 3,
   "metadata": {},
   "outputs": [],
   "source": [
    "ifas.zulu.pipelines.SA201907281826_reduction_pipeline('./Data',first_run)"
   ]
  },
  {
   "cell_type": "code",
   "execution_count": null,
   "metadata": {},
   "outputs": [],
   "source": [
    "first_run.ZuluConfig.SA201907281826 = {'early_frame': 3, 'ref_frame': np.array([161,192]), 'sub_avg_frames': np.array([[221,228]]), 'frame_exposure': 5, 'early_sigma': 5}\n",
    "print(first_run)\n",
    "ifas.zulu.pipelines.SA201907281826_reduction_pipeline('./Data',first_run)"
   ]
  },
  {
   "cell_type": "code",
   "execution_count": null,
   "metadata": {},
   "outputs": [],
   "source": [
    "data\n",
    "print(np.nanmean(data.data),np.nanstd(data.data))"
   ]
  },
  {
   "cell_type": "code",
   "execution_count": null,
   "metadata": {},
   "outputs": [],
   "source": [
    "first_run.OscarConfig.general_histogram_config['histogram_plot_paramters']['range'] = [-1000,1000]\n",
    "\n",
    "figure = ifas.oscar.multi.plot_single_heatmap_and_histogram(\"./Data\\Saphria__num;14__detBias;4.5Vdown__1025-1040.fits\",first_run)\n",
    "#figure.axes[1].axvline(np.nanmean(data.data))\n",
    "plt.show(figure)"
   ]
  },
  {
   "cell_type": "code",
   "execution_count": null,
   "metadata": {},
   "outputs": [],
   "source": [
    "first_run.OscarConfig.general_histogram_config['fit_gaussian'] = True\n",
    "#first_run.OscarConfig.general_histogram_config['bin_width'] = 5\n",
    "#first_run.OscarConfig.general_histogram_config['histogram_plot_paramters']['range'] = [-250,100]\n",
    "\n",
    "__, __, data = ifas.meta.meta_faa.smeargle_open_fits_file(\"./Data/SAPHIRA-MK12145-02_20190913-40K__num;7__detBias;10.5Vup__slice;513-528.fits\")\n",
    "figure2 = ifas.oscar.multi.plot_single_heatmap_and_histogram(data,first_run)\n",
    "#figure3 = ifas.oscar.multi.plot_single_heatmap_and_histogram(data.data,first_run)\n",
    "#figure.axes[1].axvline(np.nanmean(data.data))\n",
    "plt.show(figure2)\n",
    "plt.show(figure3)\n",
    "\n",
    "# [ 72 120 136 250 294]\n",
    "#[-16074. -14058. -13386.  -8598.  -6750.]\n",
    "ifas.meta.meta_plting.smeargle_save_figure_file(figure2,\"website.png\")\n",
    "print(np.histogram(data.data,bins=10))"
   ]
  },
  {
   "cell_type": "code",
   "execution_count": null,
   "metadata": {},
   "outputs": [],
   "source": [
    "__, __, data = ifas.meta.meta_faa.smeargle_open_fits_file(\"./Data\\Saphria__num;14__detBias;4.5Vdown__257-272.fits\")\n",
    "figure2 = ifas.oscar.histograms.plot_array_histogram(data.data,bin_width=10,fit_gaussian=True)\n",
    "#figure.axes[1].axvline(np.nanmean(data.data))\n",
    "plt.show(figure2)\n",
    "\n",
    "wee, weer = ifas.meta.meta_model.smeargle_fit_histogram_gaussian_function(data.data)\n",
    "\n",
    "print(np.nanstd(data))"
   ]
  },
  {
   "cell_type": "code",
   "execution_count": null,
   "metadata": {},
   "outputs": [],
   "source": [
    "# Extract histogram data from the data.\n",
    "hist_data = np.histogram(data.data, bins=ifa.oscar.oscar_bin_width(data.data, 10))\n",
    "hist_x = (hist_data[1][0:-1] + hist_data[1][1:]) / 2 # Middle of bin.\n",
    "hist_y = hist_data[0]\n",
    "   # Filter out some of the outlier pixels, consider only 75% of the \n",
    "    # meaningful bins and the bins with a value greater than a limiting entry.\n",
    "valuecut_index = np.where(hist_y >= 11)\n",
    "cuthist_x = np.array(hist_x[valuecut_index])\n",
    "cuthist_y = np.array(hist_y[valuecut_index])\n",
    "\n",
    "    # Initial guesses...\n",
    "    # The peak of the data is a good guess for the mean value.\n",
    "guess_mean = hist_x[np.argmax(cuthist_y)]\n",
    "print(np.nanstd(cuthist_y))\n",
    "print(sp_stat.median_absolute_deviation(cuthist_y))\n",
    "print(sp_stat.variation(cuthist_y))"
   ]
  },
  {
   "cell_type": "code",
   "execution_count": null,
   "metadata": {},
   "outputs": [],
   "source": [
    "ifas.bravo.sanitize.same_file_size_sanitization('./Data')"
   ]
  },
  {
   "cell_type": "code",
   "execution_count": null,
   "metadata": {},
   "outputs": [],
   "source": [
    "glob.glob('./Data*.fits')"
   ]
  },
  {
   "cell_type": "code",
   "execution_count": null,
   "metadata": {},
   "outputs": [],
   "source": []
  },
  {
   "cell_type": "code",
   "execution_count": null,
   "metadata": {},
   "outputs": [],
   "source": [
    "fig, ax = plt.subplots(dpi=300)\n",
    "ax, data_table, data_frame = ifas.oscar.volt_plot.plotdir_dark_current_over_voltage('./Data/', figure_axes=ax)\n",
    "\n",
    "#ax.set_yscale('log')\n",
    "ax.set_ylim((-250,250))\n",
    "\n",
    "plt.show()"
   ]
  },
  {
   "cell_type": "code",
   "execution_count": null,
   "metadata": {
    "scrolled": false
   },
   "outputs": [],
   "source": [
    "data_table"
   ]
  },
  {
   "cell_type": "code",
   "execution_count": null,
   "metadata": {
    "scrolled": false
   },
   "outputs": [],
   "source": [
    "fig2, ax2 = plt.subplots(dpi=300)\n",
    "\n",
    "ax2.errorbar(data_table['voltage_set1'][0:5], data_table['value_set1'][0:5], yerr=data_table['error_set1'][0:5],\n",
    "                    fmt='.-', elinewidth=0.25, capsize=3, capthick=0.25,\n",
    "                    label=('Set ' + str(1)))\n",
    "ax2.errorbar(data_table['voltage_set2'][0:5], data_table['value_set2'][0:5], yerr=data_table['error_set2'][0:5],\n",
    "                    fmt='.-', elinewidth=0.25, capsize=3, capthick=0.25,\n",
    "                    label=('Set ' + str(2)))\n",
    "\n",
    "title=first_run.BravoConfig.detector_name['name']\n",
    "ax2.set_title(title)\n",
    "ax2.legend(loc='upper left')\n",
    "ax2.set_xticks(np.append(data_table['voltage_set1'][0:5], 0))\n",
    "ax2.set_xlabel('Detector Bias Voltage (V)')\n",
    "ax2.set_ylabel('Average Dark Current (ADU)')\n",
    "\n",
    "plt.show()\n"
   ]
  },
  {
   "cell_type": "code",
   "execution_count": null,
   "metadata": {},
   "outputs": [],
   "source": [
    "np.append(data_table['voltage_set1'][0:5], 0)"
   ]
  },
  {
   "cell_type": "code",
   "execution_count": null,
   "metadata": {},
   "outputs": [],
   "source": [
    "dataframe.query('volt == @voltage_value and voltslope == @voltage_slope')['num']"
   ]
  },
  {
   "cell_type": "code",
   "execution_count": null,
   "metadata": {},
   "outputs": [],
   "source": [
    "voltage_list = copy.deepcopy(np.sort(np.unique(file_data.loc[:,'volt'].to_numpy())))\n",
    "\n",
    "set_metadata = []\n",
    "#slope_list = list(set(dataframe.query('volt == @voltage_value')['voltslope']))\n",
    "\n",
    "for voltdex in voltage_list:\n",
    "    slope_list = list(set(file_data.query('volt == @voltdex')['voltslope']))\n",
    "    \n",
    "    for slopedex in slope_list:\n",
    "        query = file_data.query('volt == @voltdex and voltslope == @slopedex')['num']\n",
    "        filenum = np.sort(np.unique(query))\n",
    "        \n",
    "        for numdex, setdex in zip(filenum,np.arange(len(filenum))+1):\n",
    "            temp_dict = {'metavolt':voltdex,'metaslope':slopedex,'metanum':numdex,'metaset':setdex}\n",
    "            set_metadata.append(temp_dict)\n",
    "            \n",
    "set_metadata = pd.DataFrame(set_metadata)"
   ]
  },
  {
   "cell_type": "code",
   "execution_count": null,
   "metadata": {},
   "outputs": [],
   "source": [
    "set_count = np.flip(np.unique(set_metadata['metaset']))[np.flip(np.unique(set_metadata['metaset'],return_counts=True)[1]).argmax()]\n",
    "\n",
    "for setdex in (np.arange(set_count) + 1):\n",
    "    dataset_list = set_metadata.query('metaset == @setdex')\n",
    "    \n",
    "    x_axis_voltage = []\n",
    "    y_axis_data = []\n",
    "    y_axis_error = []\n",
    "    \n",
    "    for voltdex in voltage_list:\n",
    "        fits_file_numbers = list(dataset_list.query('metavolt == @voltdex')['metanum'].to_numpy())\n",
    "        voltset_data = file_data.query('num == @fits_file_numbers')\n",
    "        \n",
    "        x_axis_voltage.append(voltdex)\n",
    "        y_axis_data.append(np.nanmedian(voltset_data['g_mean']))\n",
    "        y_axis_error.append(np.nanmedian(voltset_data['g_stddev']))\n",
    "        \n",
    "    #####\n",
    "    x_axis_voltage = np.array(x_axis_voltage)\n",
    "    y_axis_data = np.array(y_axis_data)\n",
    "    y_axis_error = np.array(y_axis_error)\n",
    "    plt.errorbar(x_axis_voltage, y_axis_data, yerr=y_axis_error)\n"
   ]
  },
  {
   "cell_type": "code",
   "execution_count": null,
   "metadata": {},
   "outputs": [],
   "source": []
  },
  {
   "cell_type": "code",
   "execution_count": null,
   "metadata": {},
   "outputs": [],
   "source": [
    "import importlib\n",
    "\n",
    "complete_oscar_dict = dict(inspect.getmembers(ifas.oscar, inspect.ismodule))\n",
    "\n",
    "source_file_list = [inspect.getsourcefile(complete_oscar_dict[keydex]) for keydex in complete_oscar_dict.keys()]\n",
    "ifa_smeargle_file_list = [filedex for filedex in source_file_list if 'IfA_Smeargle' in filedex]\n",
    "oscar_file_list = [filedex for filedex in ifa_smeargle_file_list if 'oscar' in filedex]\n",
    "\n",
    "oscar_mod_name_list = [inspect.getmodulename(oscardex) for oscardex in ifa_smeargle_file_list if 'oscar' in oscardex]\n",
    "\n",
    "oscar_modspec = [importlib.util.spec_from_file_location(namedex, filedex) for namedex, filedex in zip(oscar_mod_name_list, oscar_file_list)]\n",
    "oscar_modules = [importlib.util.module_from_spec(specdex) for specdex in oscar_modspec]\n",
    "\n",
    "for specdex, moduledex in zip(specifications,oscar_modules):\n",
    "    specdex.loader.exec_module(moduledex)\n",
    "\n",
    "function_dictionaries = [dict(inspect.getmembers(moduledex,inspect.isfunction)) for moduledex in oscar_modules]\n",
    "\n",
    "oscar_plotting_functions = {}\n",
    "for dictionarydex in function_dictionaries: \n",
    "    oscar_plotting_functions = {**oscar_plotting_functions, **dictionarydex}\n",
    "for keydex, valuedex in copy.deepcopy(oscar_plotting_functions).items():\n",
    "    if ('smeargle' in keydex):\n",
    "        oscar_plotting_functions.pop(keydex, None)\n",
    "    \n",
    "print(oscar_plotting_functions)"
   ]
  },
  {
   "cell_type": "code",
   "execution_count": null,
   "metadata": {},
   "outputs": [],
   "source": [
    "data_array = ifas.zulu.IfasDataArray('./Data/SAPHIRA-MK20-M12145-03_20191001_T60K__num;2__detBias;2.5Vup__slice;1025-1040.fits', \n",
    "                                     configuration_class='FirstRun.ifaspkl')"
   ]
  },
  {
   "cell_type": "code",
   "execution_count": null,
   "metadata": {},
   "outputs": [],
   "source": [
    "print(data_array.__doc__)"
   ]
  },
  {
   "cell_type": "code",
   "execution_count": null,
   "metadata": {},
   "outputs": [],
   "source": [
    "data_array.config.EchoConfig.echo271_config['maximum_value'] = -50\n",
    "print(data_array.config)"
   ]
  },
  {
   "cell_type": "code",
   "execution_count": null,
   "metadata": {},
   "outputs": [],
   "source": [
    "data_array.echo271_maximum_cut(run=False, configuration=True)"
   ]
  },
  {
   "cell_type": "code",
   "execution_count": null,
   "metadata": {},
   "outputs": [],
   "source": []
  },
  {
   "cell_type": "code",
   "execution_count": null,
   "metadata": {},
   "outputs": [],
   "source": [
    "__, __, ifas_data = ifas.meta.meta_faa.smeargle_open_fits_file('./Data/' + \n",
    "                        'SAPHIRA-MK20-M12145-03_20190927_T40K__num;14__set;1__detBias;2.5Vdown__slice;221-228'\n",
    "                                                               +'.fits')\n",
    "__, __, shane_data = ifas.meta.meta_faa.smeargle_open_fits_file('/Users/Tripp/Downloads/190927_T40K_2hrdark_set1/' +\n",
    "                        '190927_T40K_2hrdark_2.5VdetBias_down_16avg_CDS'\n",
    "                                                                + '.fits')\n",
    "if (False):\n",
    "    magnitude = np.ma.divide(ifas_data, shane_data)\n",
    "    inv_mag = np.ma.divide(1, magnitude)\n",
    "else:\n",
    "    magnitude = (ifas_data / shane_data)\n",
    "    inv_mag = (1 / magnitude)\n",
    "\n",
    "plt.hist(inv_mag.flatten(), bins=int(inv_mag.flatten().ptp()), log=True)\n",
    "plt.xlim([-100,100])\n",
    "plt.show()\n",
    "\n",
    "plt.imshow(inv_mag)\n",
    "plt.colorbar()\n",
    "plt.show()\n",
    "\n",
    "print('Mean   ' + str(np.nanmean(inv_mag)))\n",
    "print('Median   ' + str(np.ma.median(inv_mag)))\n",
    "print('Std   ' + str(np.std(inv_mag)))\n",
    "print('Var   ' + str(np.var(inv_mag)))\n",
    "\n",
    "print('x̄' + str(round(np.nanmean(inv_mag),2)) + ', μ' + str(round(np.ma.median(inv_mag),2)) + ', σ' \n",
    "      + str(round(np.std(inv_mag),2)) + ', σ*' + str(round(np.var(inv_mag),2)))"
   ]
  },
  {
   "cell_type": "code",
   "execution_count": null,
   "metadata": {},
   "outputs": [],
   "source": [
    "ifas.meta.meta_math.smeargle_mean(ifas_data)"
   ]
  },
  {
   "cell_type": "code",
   "execution_count": null,
   "metadata": {},
   "outputs": [],
   "source": [
    "first_run.OscarConfig.general_histogram_config['histogram_plot_paramters']['range'] = [-100,100]\n",
    "\n",
    "figure = ifas.oscar.multi.plot_single_heatmap_and_histogram(shane_data,first_run)\n",
    "#figure.axes[1].axvline(np.nanmean(data.data))\n",
    "plt.show(figure)"
   ]
  },
  {
   "cell_type": "code",
   "execution_count": null,
   "metadata": {},
   "outputs": [],
   "source": [
    "__, __, ifas_data = ifas.meta.meta_faa.smeargle_open_fits_file('./Data/' + \n",
    "                        'SAPHIRA-MK20-M12145-03_20190927_T40K__num;13__set;1__detBias;4.5Vdown__slice;221-228'\n",
    "                                                               +'.fits')\n",
    "ifas_data"
   ]
  },
  {
   "cell_type": "code",
   "execution_count": null,
   "metadata": {},
   "outputs": [],
   "source": [
    "__, __, true_data = ifas.meta.meta_faa.smeargle_open_fits_file('/Users/Tripp/Desktop/RawData/MK20-M12145-03_20190927_T40K/' + \n",
    "                        '190928_203649'\n",
    "                                                               +'.fits')"
   ]
  },
  {
   "cell_type": "code",
   "execution_count": null,
   "metadata": {},
   "outputs": [],
   "source": [
    "first_chunk = true_data[161:192,:,:]\n",
    "second_chunk = true_data[221:228,:,:]\n",
    "\n",
    "first_chunk_median = np.nanmedian(first_chunk, axis=0)\n",
    "second_chunk_median = np.nanmedian(second_chunk, axis=0)\n",
    "\n",
    "diff = second_chunk_median - first_chunk_median"
   ]
  },
  {
   "cell_type": "code",
   "execution_count": 5,
   "metadata": {},
   "outputs": [
    {
     "name": "stderr",
     "output_type": "stream",
     "text": [
      "C:\\Users\\Tripp\\Desktop\\PROGRAM\\IfA_Smeargle\\zulu\\zulu_main.py:79: InputWarning: The data array file is indicated to return a blank one. Doing so as requested.\n",
      "  smeargle_warning(InputWarning,(\"The data array file is indicated to return a blank \"\n",
      "C:\\Users\\Tripp\\Desktop\\PROGRAM\\IfA_Smeargle\\zulu\\zulu_main.py:102: InputWarning: There is no configuration class provided for this array. The attribute will be None. The SmargleConfig class will be the default.\n",
      "  smeargle_warning(InputWarning,(\"There is no configuration class provided for this \"\n",
      "C:\\Users\\Tripp\\Desktop\\PROGRAM\\IfA_Smeargle\\zulu\\zulu_main.py:343: InputWarning: There is no input configuration class. A blank one will be assigned.\n",
      "  smeargle_warning(InputWarning,(\"There is no input configuration class. A blank one \"\n"
     ]
    }
   ],
   "source": [
    "test = ifas.zulu.IfasDataArray(None, blank=True)"
   ]
  },
  {
   "cell_type": "code",
   "execution_count": 6,
   "metadata": {},
   "outputs": [
    {
     "data": {
      "text/plain": [
       "['__class__',\n",
       " '__delattr__',\n",
       " '__dir__',\n",
       " '__eq__',\n",
       " '__format__',\n",
       " '__ge__',\n",
       " '__getattribute__',\n",
       " '__gt__',\n",
       " '__hash__',\n",
       " '__init__',\n",
       " '__init_subclass__',\n",
       " '__le__',\n",
       " '__lt__',\n",
       " '__ne__',\n",
       " '__new__',\n",
       " '__reduce__',\n",
       " '__reduce_ex__',\n",
       " '__repr__',\n",
       " '__setattr__',\n",
       " '__sizeof__',\n",
       " '__str__',\n",
       " '__subclasshook__',\n",
       " '_bravo_functionality',\n",
       " '_echo_functionality',\n",
       " '_oscar_functionality',\n",
       " '_yankee_functionality',\n",
       " '_zulu_determine_configuration_parameters',\n",
       " 'bravo_filename_split_by_parameter',\n",
       " 'echo010_fixing_invalids',\n",
       " 'echo120_subarray_mask',\n",
       " 'echo170_gaussian_truncation',\n",
       " 'echo270_minimum_cut',\n",
       " 'echo271_maximum_cut',\n",
       " 'echo275_pixel_truncation',\n",
       " 'echo276_percent_truncation',\n",
       " 'echo277_sigma_truncation',\n",
       " 'echo380_single_pixels',\n",
       " 'echo381_rectangle_mask',\n",
       " 'echo382_column_mask',\n",
       " 'echo383_row_mask',\n",
       " 'echo398_nothing',\n",
       " 'echo399_everything',\n",
       " 'echo_create_masked_array',\n",
       " 'echo_execution',\n",
       " 'echo_synthesize_mask_dictionary',\n",
       " 'fast_forward_configuration',\n",
       " 'get_data',\n",
       " 'median_endpoints',\n",
       " 'median_endpoints_per_kilosecond',\n",
       " 'median_endpoints_per_second',\n",
       " 'overwrite_configuration',\n",
       " 'plot_array_heatmap_image',\n",
       " 'plot_array_histogram',\n",
       " 'plot_single_heatmap_and_histogram',\n",
       " 'print_configuration',\n",
       " 'read_configuration',\n",
       " 'write_configuration']"
      ]
     },
     "execution_count": 6,
     "metadata": {},
     "output_type": "execute_result"
    }
   ],
   "source": [
    "[method_name for method_name in dir(test)\n",
    "                  if callable(getattr(test, method_name))]"
   ]
  },
  {
   "cell_type": "code",
   "execution_count": null,
   "metadata": {},
   "outputs": [],
   "source": [
    "test = ifas.zulu.IfasDataArray('./Data/191103_001938.fits', blank=False)"
   ]
  },
  {
   "cell_type": "code",
   "execution_count": null,
   "metadata": {},
   "outputs": [],
   "source": [
    "test.median_endpoints(start_chunk=[161,192], end_chunk=[221,228])"
   ]
  },
  {
   "cell_type": "code",
   "execution_count": null,
   "metadata": {},
   "outputs": [],
   "source": [
    "test.plot_array_heatmap_image()"
   ]
  },
  {
   "cell_type": "code",
   "execution_count": null,
   "metadata": {},
   "outputs": [],
   "source": [
    "test.echo170_gaussian_truncation(sigma_multiple=5,bin_size=100)"
   ]
  },
  {
   "cell_type": "code",
   "execution_count": null,
   "metadata": {},
   "outputs": [],
   "source": [
    "test.echo_synthesize_mask_dictionary()\n",
    "test.echo_create_masked_array()"
   ]
  },
  {
   "cell_type": "code",
   "execution_count": null,
   "metadata": {},
   "outputs": [],
   "source": [
    "test.plot_single_heatmap_and_histogram(bin_width=10)"
   ]
  },
  {
   "cell_type": "code",
   "execution_count": null,
   "metadata": {},
   "outputs": [],
   "source": [
    "test.get_data()"
   ]
  },
  {
   "cell_type": "code",
   "execution_count": null,
   "metadata": {},
   "outputs": [],
   "source": []
  },
  {
   "cell_type": "code",
   "execution_count": null,
   "metadata": {},
   "outputs": [],
   "source": []
  },
  {
   "cell_type": "code",
   "execution_count": null,
   "metadata": {},
   "outputs": [],
   "source": [
    "# Just a inner function to store the new naming routine. \n",
    "# Be adaptive as to which configuration class is given.\n",
    "provided_config = yankee.yankee_extract_proper_configuration_class(configuration_class,\n",
    "                                                                   yankee.BravoConfig)\n",
    "# Determine the detector's name.\n",
    "if (isinstance(provided_config.detector_name,str)):\n",
    "    detector_name = provided_config.detector_name\n",
    "elif (isinstance(provided_config.detector_name,dict)):\n",
    "    try:\n",
    "        detector_name = provided_config.detector_name['name']\n",
    "    except KeyError:\n",
    "        raise ConfigurationError(\"The detector name cannot be found in the \"\n",
    "                                 \"configuration file. It must either be a string or a \"\n",
    "                                 \"dictionary with the name value referenced by the key \"\n",
    "                                 \"<name>.\")\n",
    "else:\n",
    "    raise ConfigurationError(\"The detector name cannot be found in the configuration \"\n",
    "                             \"file. It must either be a string or a dictionary with \"\n",
    "                             \"the name value referenced by the key <name>.\")\n",
    "\n",
    "# Getting the voltage renames\n",
    "number_names = bravo.rename.number_renaming(data_directory,\n",
    "                                            **provided_config.number_rename_config)\n",
    "set_names = bravo.rename.set_determinization_renaming(data_directory,\n",
    "                                                      **provided_config.set_determine_rename_config)\n",
    "voltage_names = bravo.rename.voltage_pattern_renaming(data_directory,\n",
    "                                                      **provided_config.voltpat_rename_config)\n",
    "n_files = len(number_names)\n",
    "\n",
    "\n",
    "# Rename all of the files. The directory structure seems fine.\n",
    "final_names = []\n",
    "for numdex, setdex, detectdex, voltdex in zip(number_names,\n",
    "                                              set_names,\n",
    "                                              [detector_name for index in range(n_files)],\n",
    "                                              voltage_names):\n",
    "final_names.append(detectdex\n",
    "                   + '__' + numdex\n",
    "                   + '__' + setdex\n",
    "                   + '__' + voltdex \n",
    "                   # + '__'\n",
    "                   + '.fits')\n",
    "\n",
    "bravo.bravo_rename_parallel(None, final_names, data_directory, file_extensions='.fits')"
   ]
  }
 ],
 "metadata": {
  "kernelspec": {
   "display_name": "Python 3",
   "language": "python",
   "name": "python3"
  },
  "language_info": {
   "codemirror_mode": {
    "name": "ipython",
    "version": 3
   },
   "file_extension": ".py",
   "mimetype": "text/x-python",
   "name": "python",
   "nbconvert_exporter": "python",
   "pygments_lexer": "ipython3",
   "version": "3.7.3"
  }
 },
 "nbformat": 4,
 "nbformat_minor": 2
}
