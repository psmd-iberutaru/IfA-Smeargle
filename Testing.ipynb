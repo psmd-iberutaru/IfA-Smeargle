{
 "cells": [
  {
   "cell_type": "code",
   "execution_count": 1,
   "metadata": {},
   "outputs": [],
   "source": [
    "import astropy as ap\n",
    "import astropy.io.fits as ap_fits\n",
    "import astropy.modeling as ap_mod\n",
    "import copy\n",
    "import glob\n",
    "import inspect\n",
    "import matplotlib as mpl\n",
    "import matplotlib.pyplot as plt\n",
    "import numpy as np\n",
    "import numpy.ma as np_ma\n",
    "import scipy as sp\n",
    "import scipy.optimize as sp_opt\n",
    "import scipy.stats as sp_stat\n",
    "\n",
    "import IfA_Smeargle as ifa"
   ]
  },
  {
   "cell_type": "code",
   "execution_count": null,
   "metadata": {},
   "outputs": [],
   "source": [
    "newconfig = ifa.yankee.SmeargleConfig('test.ifaspkl')"
   ]
  },
  {
   "cell_type": "code",
   "execution_count": null,
   "metadata": {},
   "outputs": [],
   "source": [
    "newconfig.BravoConfig.detector_name"
   ]
  },
  {
   "cell_type": "code",
   "execution_count": null,
   "metadata": {},
   "outputs": [],
   "source": [
    "newconfig.BravoConfig.voltpat_rename_config['archive_data'] = False"
   ]
  },
  {
   "cell_type": "code",
   "execution_count": null,
   "metadata": {},
   "outputs": [],
   "source": [
    "newconfig.BravoConfig.voltpat_rename_config['begin_garbage'] = 1"
   ]
  },
  {
   "cell_type": "code",
   "execution_count": null,
   "metadata": {},
   "outputs": [],
   "source": [
    "print(newconfig)"
   ]
  },
  {
   "cell_type": "code",
   "execution_count": null,
   "metadata": {},
   "outputs": [],
   "source": [
    "#ifa.bravo.bravo_execution_saphria('./Data',newconfig)"
   ]
  },
  {
   "cell_type": "code",
   "execution_count": null,
   "metadata": {},
   "outputs": [],
   "source": [
    "ifa.zulu.pipelines.saphria_reduction_pipeline('./Data',newconfig)"
   ]
  },
  {
   "cell_type": "code",
   "execution_count": null,
   "metadata": {},
   "outputs": [],
   "source": [
    "wee = ifa.oscar.multi.plot_single_heatmap_and_histogram('./Data\\\\TestArray__detBias;11.5Vup,007__.fits',configuration_class=newconfig)"
   ]
  },
  {
   "cell_type": "code",
   "execution_count": null,
   "metadata": {},
   "outputs": [],
   "source": [
    "newconfig.BravoConfig.voltpat_rename_config['begin_garbage'] = 1"
   ]
  },
  {
   "cell_type": "code",
   "execution_count": null,
   "metadata": {},
   "outputs": [],
   "source": [
    "glob.glob('./Data//*', recursive=True)"
   ]
  },
  {
   "cell_type": "code",
   "execution_count": null,
   "metadata": {},
   "outputs": [],
   "source": []
  },
  {
   "cell_type": "code",
   "execution_count": null,
   "metadata": {},
   "outputs": [],
   "source": [
    "top_range, bottom_range, width = (0,100,2.5)\n",
    "\n",
    "bins = np.arange(top_range,bottom_range, width)\n",
    "bins = np.append(bins, bottom_range)\n",
    "print(bins)"
   ]
  },
  {
   "cell_type": "code",
   "execution_count": null,
   "metadata": {},
   "outputs": [],
   "source": []
  },
  {
   "cell_type": "code",
   "execution_count": null,
   "metadata": {},
   "outputs": [],
   "source": []
  },
  {
   "cell_type": "code",
   "execution_count": 2,
   "metadata": {},
   "outputs": [],
   "source": [
    "first_run = ifa.yankee.SmeargleConfig('FirstRun.ifaspkl')\n",
    "#print(first_run)\n",
    "first_run.BravoConfig.voltpat_rename_config['archive_data'] = False"
   ]
  },
  {
   "cell_type": "code",
   "execution_count": 3,
   "metadata": {},
   "outputs": [
    {
     "name": "stdout",
     "output_type": "stream",
     "text": [
      "0.0 40709.0\n",
      "0.0 1.0\n"
     ]
    },
    {
     "name": "stderr",
     "output_type": "stream",
     "text": [
      "C:\\Users\\Tripp\\Desktop\\PROGRAM\\IfA_Smeargle\\meta\\fits_and_arrays.py:140: OutputWarning: The data array provided has been detected to be a masked array. The mask is saved in the fits extension <IFASMASK>. The primary data is not affected.\n",
      "  smeargle_warning(OutputWarning,(\"The data array provided has been detected to be a \"\n",
      "C:\\Users\\Tripp\\Desktop\\PROGRAM\\IfA_Smeargle\\meta\\fits_and_arrays.py:140: OutputWarning: The data array provided has been detected to be a masked array. The mask is saved in the fits extension <IFASMASK>. The primary data is not affected.\n",
      "  smeargle_warning(OutputWarning,(\"The data array provided has been detected to be a \"\n",
      "C:\\Users\\Tripp\\Desktop\\PROGRAM\\IfA_Smeargle\\meta\\fits_and_arrays.py:140: OutputWarning: The data array provided has been detected to be a masked array. The mask is saved in the fits extension <IFASMASK>. The primary data is not affected.\n",
      "  smeargle_warning(OutputWarning,(\"The data array provided has been detected to be a \"\n"
     ]
    },
    {
     "name": "stdout",
     "output_type": "stream",
     "text": [
      "0.0 40502.0\n",
      "0.0 1.0\n"
     ]
    },
    {
     "name": "stderr",
     "output_type": "stream",
     "text": [
      "C:\\Users\\Tripp\\Desktop\\PROGRAM\\IfA_Smeargle\\meta\\fits_and_arrays.py:140: OutputWarning: The data array provided has been detected to be a masked array. The mask is saved in the fits extension <IFASMASK>. The primary data is not affected.\n",
      "  smeargle_warning(OutputWarning,(\"The data array provided has been detected to be a \"\n",
      "C:\\Users\\Tripp\\Desktop\\PROGRAM\\IfA_Smeargle\\meta\\fits_and_arrays.py:140: OutputWarning: The data array provided has been detected to be a masked array. The mask is saved in the fits extension <IFASMASK>. The primary data is not affected.\n",
      "  smeargle_warning(OutputWarning,(\"The data array provided has been detected to be a \"\n",
      "C:\\Users\\Tripp\\Desktop\\PROGRAM\\IfA_Smeargle\\meta\\fits_and_arrays.py:140: OutputWarning: The data array provided has been detected to be a masked array. The mask is saved in the fits extension <IFASMASK>. The primary data is not affected.\n",
      "  smeargle_warning(OutputWarning,(\"The data array provided has been detected to be a \"\n"
     ]
    },
    {
     "name": "stdout",
     "output_type": "stream",
     "text": [
      "2048.0 41634.0\n",
      "0.0 1.0\n"
     ]
    },
    {
     "name": "stderr",
     "output_type": "stream",
     "text": [
      "C:\\Users\\Tripp\\Desktop\\PROGRAM\\IfA_Smeargle\\meta\\fits_and_arrays.py:140: OutputWarning: The data array provided has been detected to be a masked array. The mask is saved in the fits extension <IFASMASK>. The primary data is not affected.\n",
      "  smeargle_warning(OutputWarning,(\"The data array provided has been detected to be a \"\n",
      "C:\\Users\\Tripp\\Desktop\\PROGRAM\\IfA_Smeargle\\meta\\fits_and_arrays.py:140: OutputWarning: The data array provided has been detected to be a masked array. The mask is saved in the fits extension <IFASMASK>. The primary data is not affected.\n",
      "  smeargle_warning(OutputWarning,(\"The data array provided has been detected to be a \"\n",
      "C:\\Users\\Tripp\\Desktop\\PROGRAM\\IfA_Smeargle\\meta\\fits_and_arrays.py:140: OutputWarning: The data array provided has been detected to be a masked array. The mask is saved in the fits extension <IFASMASK>. The primary data is not affected.\n",
      "  smeargle_warning(OutputWarning,(\"The data array provided has been detected to be a \"\n"
     ]
    },
    {
     "name": "stdout",
     "output_type": "stream",
     "text": [
      "8192.0 43343.0\n",
      "0.0 1.0\n"
     ]
    },
    {
     "name": "stderr",
     "output_type": "stream",
     "text": [
      "C:\\Users\\Tripp\\Desktop\\PROGRAM\\IfA_Smeargle\\meta\\fits_and_arrays.py:140: OutputWarning: The data array provided has been detected to be a masked array. The mask is saved in the fits extension <IFASMASK>. The primary data is not affected.\n",
      "  smeargle_warning(OutputWarning,(\"The data array provided has been detected to be a \"\n",
      "C:\\Users\\Tripp\\Desktop\\PROGRAM\\IfA_Smeargle\\meta\\fits_and_arrays.py:140: OutputWarning: The data array provided has been detected to be a masked array. The mask is saved in the fits extension <IFASMASK>. The primary data is not affected.\n",
      "  smeargle_warning(OutputWarning,(\"The data array provided has been detected to be a \"\n",
      "C:\\Users\\Tripp\\Desktop\\PROGRAM\\IfA_Smeargle\\meta\\fits_and_arrays.py:140: OutputWarning: The data array provided has been detected to be a masked array. The mask is saved in the fits extension <IFASMASK>. The primary data is not affected.\n",
      "  smeargle_warning(OutputWarning,(\"The data array provided has been detected to be a \"\n"
     ]
    },
    {
     "name": "stdout",
     "output_type": "stream",
     "text": [
      "8192.0 43682.0\n",
      "0.0 1.0\n"
     ]
    },
    {
     "name": "stderr",
     "output_type": "stream",
     "text": [
      "C:\\Users\\Tripp\\Desktop\\PROGRAM\\IfA_Smeargle\\meta\\fits_and_arrays.py:140: OutputWarning: The data array provided has been detected to be a masked array. The mask is saved in the fits extension <IFASMASK>. The primary data is not affected.\n",
      "  smeargle_warning(OutputWarning,(\"The data array provided has been detected to be a \"\n",
      "C:\\Users\\Tripp\\Desktop\\PROGRAM\\IfA_Smeargle\\meta\\fits_and_arrays.py:140: OutputWarning: The data array provided has been detected to be a masked array. The mask is saved in the fits extension <IFASMASK>. The primary data is not affected.\n",
      "  smeargle_warning(OutputWarning,(\"The data array provided has been detected to be a \"\n",
      "C:\\Users\\Tripp\\Desktop\\PROGRAM\\IfA_Smeargle\\meta\\fits_and_arrays.py:140: OutputWarning: The data array provided has been detected to be a masked array. The mask is saved in the fits extension <IFASMASK>. The primary data is not affected.\n",
      "  smeargle_warning(OutputWarning,(\"The data array provided has been detected to be a \"\n"
     ]
    },
    {
     "name": "stdout",
     "output_type": "stream",
     "text": [
      "8192.0 44631.0\n",
      "0.0 1.0\n"
     ]
    },
    {
     "name": "stderr",
     "output_type": "stream",
     "text": [
      "C:\\Users\\Tripp\\Desktop\\PROGRAM\\IfA_Smeargle\\meta\\fits_and_arrays.py:140: OutputWarning: The data array provided has been detected to be a masked array. The mask is saved in the fits extension <IFASMASK>. The primary data is not affected.\n",
      "  smeargle_warning(OutputWarning,(\"The data array provided has been detected to be a \"\n",
      "C:\\Users\\Tripp\\Desktop\\PROGRAM\\IfA_Smeargle\\meta\\fits_and_arrays.py:140: OutputWarning: The data array provided has been detected to be a masked array. The mask is saved in the fits extension <IFASMASK>. The primary data is not affected.\n",
      "  smeargle_warning(OutputWarning,(\"The data array provided has been detected to be a \"\n",
      "C:\\Users\\Tripp\\Desktop\\PROGRAM\\IfA_Smeargle\\meta\\fits_and_arrays.py:140: OutputWarning: The data array provided has been detected to be a masked array. The mask is saved in the fits extension <IFASMASK>. The primary data is not affected.\n",
      "  smeargle_warning(OutputWarning,(\"The data array provided has been detected to be a \"\n"
     ]
    },
    {
     "name": "stdout",
     "output_type": "stream",
     "text": [
      "8192.0 44669.0\n",
      "0.0 1.0\n"
     ]
    },
    {
     "name": "stderr",
     "output_type": "stream",
     "text": [
      "C:\\Users\\Tripp\\Desktop\\PROGRAM\\IfA_Smeargle\\meta\\fits_and_arrays.py:140: OutputWarning: The data array provided has been detected to be a masked array. The mask is saved in the fits extension <IFASMASK>. The primary data is not affected.\n",
      "  smeargle_warning(OutputWarning,(\"The data array provided has been detected to be a \"\n",
      "C:\\Users\\Tripp\\Desktop\\PROGRAM\\IfA_Smeargle\\meta\\fits_and_arrays.py:140: OutputWarning: The data array provided has been detected to be a masked array. The mask is saved in the fits extension <IFASMASK>. The primary data is not affected.\n",
      "  smeargle_warning(OutputWarning,(\"The data array provided has been detected to be a \"\n",
      "C:\\Users\\Tripp\\Desktop\\PROGRAM\\IfA_Smeargle\\meta\\fits_and_arrays.py:140: OutputWarning: The data array provided has been detected to be a masked array. The mask is saved in the fits extension <IFASMASK>. The primary data is not affected.\n",
      "  smeargle_warning(OutputWarning,(\"The data array provided has been detected to be a \"\n"
     ]
    },
    {
     "name": "stdout",
     "output_type": "stream",
     "text": [
      "8192.0 43729.0\n",
      "0.0 1.0\n"
     ]
    },
    {
     "name": "stderr",
     "output_type": "stream",
     "text": [
      "C:\\Users\\Tripp\\Desktop\\PROGRAM\\IfA_Smeargle\\meta\\fits_and_arrays.py:140: OutputWarning: The data array provided has been detected to be a masked array. The mask is saved in the fits extension <IFASMASK>. The primary data is not affected.\n",
      "  smeargle_warning(OutputWarning,(\"The data array provided has been detected to be a \"\n",
      "C:\\Users\\Tripp\\Desktop\\PROGRAM\\IfA_Smeargle\\meta\\fits_and_arrays.py:140: OutputWarning: The data array provided has been detected to be a masked array. The mask is saved in the fits extension <IFASMASK>. The primary data is not affected.\n",
      "  smeargle_warning(OutputWarning,(\"The data array provided has been detected to be a \"\n",
      "C:\\Users\\Tripp\\Desktop\\PROGRAM\\IfA_Smeargle\\meta\\fits_and_arrays.py:140: OutputWarning: The data array provided has been detected to be a masked array. The mask is saved in the fits extension <IFASMASK>. The primary data is not affected.\n",
      "  smeargle_warning(OutputWarning,(\"The data array provided has been detected to be a \"\n"
     ]
    },
    {
     "name": "stdout",
     "output_type": "stream",
     "text": [
      "8192.0 42955.0\n",
      "0.0 1.0\n"
     ]
    },
    {
     "name": "stderr",
     "output_type": "stream",
     "text": [
      "C:\\Users\\Tripp\\Desktop\\PROGRAM\\IfA_Smeargle\\meta\\fits_and_arrays.py:140: OutputWarning: The data array provided has been detected to be a masked array. The mask is saved in the fits extension <IFASMASK>. The primary data is not affected.\n",
      "  smeargle_warning(OutputWarning,(\"The data array provided has been detected to be a \"\n",
      "C:\\Users\\Tripp\\Desktop\\PROGRAM\\IfA_Smeargle\\meta\\fits_and_arrays.py:140: OutputWarning: The data array provided has been detected to be a masked array. The mask is saved in the fits extension <IFASMASK>. The primary data is not affected.\n",
      "  smeargle_warning(OutputWarning,(\"The data array provided has been detected to be a \"\n",
      "C:\\Users\\Tripp\\Desktop\\PROGRAM\\IfA_Smeargle\\meta\\fits_and_arrays.py:140: OutputWarning: The data array provided has been detected to be a masked array. The mask is saved in the fits extension <IFASMASK>. The primary data is not affected.\n",
      "  smeargle_warning(OutputWarning,(\"The data array provided has been detected to be a \"\n"
     ]
    },
    {
     "name": "stdout",
     "output_type": "stream",
     "text": [
      "2048.0 41625.0\n",
      "0.0 1.0\n"
     ]
    },
    {
     "name": "stderr",
     "output_type": "stream",
     "text": [
      "C:\\Users\\Tripp\\Desktop\\PROGRAM\\IfA_Smeargle\\meta\\fits_and_arrays.py:140: OutputWarning: The data array provided has been detected to be a masked array. The mask is saved in the fits extension <IFASMASK>. The primary data is not affected.\n",
      "  smeargle_warning(OutputWarning,(\"The data array provided has been detected to be a \"\n",
      "C:\\Users\\Tripp\\Desktop\\PROGRAM\\IfA_Smeargle\\meta\\fits_and_arrays.py:140: OutputWarning: The data array provided has been detected to be a masked array. The mask is saved in the fits extension <IFASMASK>. The primary data is not affected.\n",
      "  smeargle_warning(OutputWarning,(\"The data array provided has been detected to be a \"\n",
      "C:\\Users\\Tripp\\Desktop\\PROGRAM\\IfA_Smeargle\\meta\\fits_and_arrays.py:140: OutputWarning: The data array provided has been detected to be a masked array. The mask is saved in the fits extension <IFASMASK>. The primary data is not affected.\n",
      "  smeargle_warning(OutputWarning,(\"The data array provided has been detected to be a \"\n"
     ]
    },
    {
     "name": "stdout",
     "output_type": "stream",
     "text": [
      "8192.0 45257.0\n",
      "0.0 1.0\n"
     ]
    },
    {
     "name": "stderr",
     "output_type": "stream",
     "text": [
      "C:\\Users\\Tripp\\Desktop\\PROGRAM\\IfA_Smeargle\\meta\\fits_and_arrays.py:140: OutputWarning: The data array provided has been detected to be a masked array. The mask is saved in the fits extension <IFASMASK>. The primary data is not affected.\n",
      "  smeargle_warning(OutputWarning,(\"The data array provided has been detected to be a \"\n",
      "C:\\Users\\Tripp\\Desktop\\PROGRAM\\IfA_Smeargle\\meta\\fits_and_arrays.py:140: OutputWarning: The data array provided has been detected to be a masked array. The mask is saved in the fits extension <IFASMASK>. The primary data is not affected.\n",
      "  smeargle_warning(OutputWarning,(\"The data array provided has been detected to be a \"\n",
      "C:\\Users\\Tripp\\Desktop\\PROGRAM\\IfA_Smeargle\\meta\\fits_and_arrays.py:140: OutputWarning: The data array provided has been detected to be a masked array. The mask is saved in the fits extension <IFASMASK>. The primary data is not affected.\n",
      "  smeargle_warning(OutputWarning,(\"The data array provided has been detected to be a \"\n"
     ]
    },
    {
     "name": "stdout",
     "output_type": "stream",
     "text": [
      "0.0 40997.0\n",
      "0.0 1.0\n"
     ]
    },
    {
     "name": "stderr",
     "output_type": "stream",
     "text": [
      "C:\\Users\\Tripp\\Desktop\\PROGRAM\\IfA_Smeargle\\meta\\fits_and_arrays.py:140: OutputWarning: The data array provided has been detected to be a masked array. The mask is saved in the fits extension <IFASMASK>. The primary data is not affected.\n",
      "  smeargle_warning(OutputWarning,(\"The data array provided has been detected to be a \"\n",
      "C:\\Users\\Tripp\\Desktop\\PROGRAM\\IfA_Smeargle\\meta\\fits_and_arrays.py:140: OutputWarning: The data array provided has been detected to be a masked array. The mask is saved in the fits extension <IFASMASK>. The primary data is not affected.\n",
      "  smeargle_warning(OutputWarning,(\"The data array provided has been detected to be a \"\n",
      "C:\\Users\\Tripp\\Desktop\\PROGRAM\\IfA_Smeargle\\meta\\fits_and_arrays.py:140: OutputWarning: The data array provided has been detected to be a masked array. The mask is saved in the fits extension <IFASMASK>. The primary data is not affected.\n",
      "  smeargle_warning(OutputWarning,(\"The data array provided has been detected to be a \"\n"
     ]
    },
    {
     "name": "stdout",
     "output_type": "stream",
     "text": [
      "0.0 40746.0\n",
      "0.0 1.0\n"
     ]
    },
    {
     "name": "stderr",
     "output_type": "stream",
     "text": [
      "C:\\Users\\Tripp\\Desktop\\PROGRAM\\IfA_Smeargle\\meta\\fits_and_arrays.py:140: OutputWarning: The data array provided has been detected to be a masked array. The mask is saved in the fits extension <IFASMASK>. The primary data is not affected.\n",
      "  smeargle_warning(OutputWarning,(\"The data array provided has been detected to be a \"\n",
      "C:\\Users\\Tripp\\Desktop\\PROGRAM\\IfA_Smeargle\\meta\\fits_and_arrays.py:140: OutputWarning: The data array provided has been detected to be a masked array. The mask is saved in the fits extension <IFASMASK>. The primary data is not affected.\n",
      "  smeargle_warning(OutputWarning,(\"The data array provided has been detected to be a \"\n",
      "C:\\Users\\Tripp\\Desktop\\PROGRAM\\IfA_Smeargle\\meta\\fits_and_arrays.py:140: OutputWarning: The data array provided has been detected to be a masked array. The mask is saved in the fits extension <IFASMASK>. The primary data is not affected.\n",
      "  smeargle_warning(OutputWarning,(\"The data array provided has been detected to be a \"\n"
     ]
    },
    {
     "name": "stdout",
     "output_type": "stream",
     "text": [
      "0.0 40472.0\n",
      "0.0 1.0\n"
     ]
    },
    {
     "name": "stderr",
     "output_type": "stream",
     "text": [
      "C:\\Users\\Tripp\\Desktop\\PROGRAM\\IfA_Smeargle\\meta\\fits_and_arrays.py:140: OutputWarning: The data array provided has been detected to be a masked array. The mask is saved in the fits extension <IFASMASK>. The primary data is not affected.\n",
      "  smeargle_warning(OutputWarning,(\"The data array provided has been detected to be a \"\n",
      "C:\\Users\\Tripp\\Desktop\\PROGRAM\\IfA_Smeargle\\meta\\fits_and_arrays.py:140: OutputWarning: The data array provided has been detected to be a masked array. The mask is saved in the fits extension <IFASMASK>. The primary data is not affected.\n",
      "  smeargle_warning(OutputWarning,(\"The data array provided has been detected to be a \"\n",
      "C:\\Users\\Tripp\\Desktop\\PROGRAM\\IfA_Smeargle\\meta\\fits_and_arrays.py:140: OutputWarning: The data array provided has been detected to be a masked array. The mask is saved in the fits extension <IFASMASK>. The primary data is not affected.\n",
      "  smeargle_warning(OutputWarning,(\"The data array provided has been detected to be a \"\n"
     ]
    },
    {
     "name": "stdout",
     "output_type": "stream",
     "text": [
      "0.0 40509.0\n",
      "0.0 1.0\n"
     ]
    },
    {
     "name": "stderr",
     "output_type": "stream",
     "text": [
      "C:\\Users\\Tripp\\Desktop\\PROGRAM\\IfA_Smeargle\\meta\\fits_and_arrays.py:140: OutputWarning: The data array provided has been detected to be a masked array. The mask is saved in the fits extension <IFASMASK>. The primary data is not affected.\n",
      "  smeargle_warning(OutputWarning,(\"The data array provided has been detected to be a \"\n",
      "C:\\Users\\Tripp\\Desktop\\PROGRAM\\IfA_Smeargle\\meta\\fits_and_arrays.py:140: OutputWarning: The data array provided has been detected to be a masked array. The mask is saved in the fits extension <IFASMASK>. The primary data is not affected.\n",
      "  smeargle_warning(OutputWarning,(\"The data array provided has been detected to be a \"\n",
      "C:\\Users\\Tripp\\Desktop\\PROGRAM\\IfA_Smeargle\\meta\\fits_and_arrays.py:140: OutputWarning: The data array provided has been detected to be a masked array. The mask is saved in the fits extension <IFASMASK>. The primary data is not affected.\n",
      "  smeargle_warning(OutputWarning,(\"The data array provided has been detected to be a \"\n"
     ]
    },
    {
     "name": "stdout",
     "output_type": "stream",
     "text": [
      "0.0 40768.0\n",
      "0.0 1.0\n"
     ]
    },
    {
     "name": "stderr",
     "output_type": "stream",
     "text": [
      "C:\\Users\\Tripp\\Desktop\\PROGRAM\\IfA_Smeargle\\meta\\fits_and_arrays.py:140: OutputWarning: The data array provided has been detected to be a masked array. The mask is saved in the fits extension <IFASMASK>. The primary data is not affected.\n",
      "  smeargle_warning(OutputWarning,(\"The data array provided has been detected to be a \"\n",
      "C:\\Users\\Tripp\\Desktop\\PROGRAM\\IfA_Smeargle\\meta\\fits_and_arrays.py:140: OutputWarning: The data array provided has been detected to be a masked array. The mask is saved in the fits extension <IFASMASK>. The primary data is not affected.\n",
      "  smeargle_warning(OutputWarning,(\"The data array provided has been detected to be a \"\n",
      "C:\\Users\\Tripp\\Desktop\\PROGRAM\\IfA_Smeargle\\meta\\fits_and_arrays.py:140: OutputWarning: The data array provided has been detected to be a masked array. The mask is saved in the fits extension <IFASMASK>. The primary data is not affected.\n",
      "  smeargle_warning(OutputWarning,(\"The data array provided has been detected to be a \"\n"
     ]
    },
    {
     "name": "stdout",
     "output_type": "stream",
     "text": [
      "0.0 40696.0\n",
      "0.0 1.0\n"
     ]
    },
    {
     "name": "stderr",
     "output_type": "stream",
     "text": [
      "C:\\Users\\Tripp\\Desktop\\PROGRAM\\IfA_Smeargle\\meta\\fits_and_arrays.py:140: OutputWarning: The data array provided has been detected to be a masked array. The mask is saved in the fits extension <IFASMASK>. The primary data is not affected.\n",
      "  smeargle_warning(OutputWarning,(\"The data array provided has been detected to be a \"\n",
      "C:\\Users\\Tripp\\Desktop\\PROGRAM\\IfA_Smeargle\\meta\\fits_and_arrays.py:140: OutputWarning: The data array provided has been detected to be a masked array. The mask is saved in the fits extension <IFASMASK>. The primary data is not affected.\n",
      "  smeargle_warning(OutputWarning,(\"The data array provided has been detected to be a \"\n",
      "C:\\Users\\Tripp\\Desktop\\PROGRAM\\IfA_Smeargle\\meta\\fits_and_arrays.py:140: OutputWarning: The data array provided has been detected to be a masked array. The mask is saved in the fits extension <IFASMASK>. The primary data is not affected.\n",
      "  smeargle_warning(OutputWarning,(\"The data array provided has been detected to be a \"\n"
     ]
    },
    {
     "name": "stdout",
     "output_type": "stream",
     "text": [
      "2048.0 41839.0\n",
      "0.0 1.0\n"
     ]
    },
    {
     "name": "stderr",
     "output_type": "stream",
     "text": [
      "C:\\Users\\Tripp\\Desktop\\PROGRAM\\IfA_Smeargle\\meta\\fits_and_arrays.py:140: OutputWarning: The data array provided has been detected to be a masked array. The mask is saved in the fits extension <IFASMASK>. The primary data is not affected.\n",
      "  smeargle_warning(OutputWarning,(\"The data array provided has been detected to be a \"\n",
      "C:\\Users\\Tripp\\Desktop\\PROGRAM\\IfA_Smeargle\\meta\\fits_and_arrays.py:140: OutputWarning: The data array provided has been detected to be a masked array. The mask is saved in the fits extension <IFASMASK>. The primary data is not affected.\n",
      "  smeargle_warning(OutputWarning,(\"The data array provided has been detected to be a \"\n",
      "C:\\Users\\Tripp\\Desktop\\PROGRAM\\IfA_Smeargle\\meta\\fits_and_arrays.py:140: OutputWarning: The data array provided has been detected to be a masked array. The mask is saved in the fits extension <IFASMASK>. The primary data is not affected.\n",
      "  smeargle_warning(OutputWarning,(\"The data array provided has been detected to be a \"\n"
     ]
    },
    {
     "name": "stdout",
     "output_type": "stream",
     "text": [
      "6144.0 43361.0\n",
      "0.0 1.0\n"
     ]
    },
    {
     "name": "stderr",
     "output_type": "stream",
     "text": [
      "C:\\Users\\Tripp\\Desktop\\PROGRAM\\IfA_Smeargle\\meta\\fits_and_arrays.py:140: OutputWarning: The data array provided has been detected to be a masked array. The mask is saved in the fits extension <IFASMASK>. The primary data is not affected.\n",
      "  smeargle_warning(OutputWarning,(\"The data array provided has been detected to be a \"\n",
      "C:\\Users\\Tripp\\Desktop\\PROGRAM\\IfA_Smeargle\\meta\\fits_and_arrays.py:140: OutputWarning: The data array provided has been detected to be a masked array. The mask is saved in the fits extension <IFASMASK>. The primary data is not affected.\n",
      "  smeargle_warning(OutputWarning,(\"The data array provided has been detected to be a \"\n",
      "C:\\Users\\Tripp\\Desktop\\PROGRAM\\IfA_Smeargle\\meta\\fits_and_arrays.py:140: OutputWarning: The data array provided has been detected to be a masked array. The mask is saved in the fits extension <IFASMASK>. The primary data is not affected.\n",
      "  smeargle_warning(OutputWarning,(\"The data array provided has been detected to be a \"\n"
     ]
    },
    {
     "name": "stdout",
     "output_type": "stream",
     "text": [
      "8192.0 43671.0\n",
      "0.0 1.0\n"
     ]
    },
    {
     "name": "stderr",
     "output_type": "stream",
     "text": [
      "C:\\Users\\Tripp\\Desktop\\PROGRAM\\IfA_Smeargle\\meta\\fits_and_arrays.py:140: OutputWarning: The data array provided has been detected to be a masked array. The mask is saved in the fits extension <IFASMASK>. The primary data is not affected.\n",
      "  smeargle_warning(OutputWarning,(\"The data array provided has been detected to be a \"\n",
      "C:\\Users\\Tripp\\Desktop\\PROGRAM\\IfA_Smeargle\\meta\\fits_and_arrays.py:140: OutputWarning: The data array provided has been detected to be a masked array. The mask is saved in the fits extension <IFASMASK>. The primary data is not affected.\n",
      "  smeargle_warning(OutputWarning,(\"The data array provided has been detected to be a \"\n",
      "C:\\Users\\Tripp\\Desktop\\PROGRAM\\IfA_Smeargle\\meta\\fits_and_arrays.py:140: OutputWarning: The data array provided has been detected to be a masked array. The mask is saved in the fits extension <IFASMASK>. The primary data is not affected.\n",
      "  smeargle_warning(OutputWarning,(\"The data array provided has been detected to be a \"\n"
     ]
    },
    {
     "name": "stdout",
     "output_type": "stream",
     "text": [
      "8192.0 44625.0\n",
      "0.0 1.0\n"
     ]
    },
    {
     "name": "stderr",
     "output_type": "stream",
     "text": [
      "C:\\Users\\Tripp\\Desktop\\PROGRAM\\IfA_Smeargle\\meta\\fits_and_arrays.py:140: OutputWarning: The data array provided has been detected to be a masked array. The mask is saved in the fits extension <IFASMASK>. The primary data is not affected.\n",
      "  smeargle_warning(OutputWarning,(\"The data array provided has been detected to be a \"\n",
      "C:\\Users\\Tripp\\Desktop\\PROGRAM\\IfA_Smeargle\\meta\\fits_and_arrays.py:140: OutputWarning: The data array provided has been detected to be a masked array. The mask is saved in the fits extension <IFASMASK>. The primary data is not affected.\n",
      "  smeargle_warning(OutputWarning,(\"The data array provided has been detected to be a \"\n",
      "C:\\Users\\Tripp\\Desktop\\PROGRAM\\IfA_Smeargle\\meta\\fits_and_arrays.py:140: OutputWarning: The data array provided has been detected to be a masked array. The mask is saved in the fits extension <IFASMASK>. The primary data is not affected.\n",
      "  smeargle_warning(OutputWarning,(\"The data array provided has been detected to be a \"\n"
     ]
    },
    {
     "name": "stdout",
     "output_type": "stream",
     "text": [
      "8192.0 45166.0\n",
      "0.0 1.0\n"
     ]
    },
    {
     "name": "stderr",
     "output_type": "stream",
     "text": [
      "C:\\Users\\Tripp\\Desktop\\PROGRAM\\IfA_Smeargle\\meta\\fits_and_arrays.py:140: OutputWarning: The data array provided has been detected to be a masked array. The mask is saved in the fits extension <IFASMASK>. The primary data is not affected.\n",
      "  smeargle_warning(OutputWarning,(\"The data array provided has been detected to be a \"\n",
      "C:\\Users\\Tripp\\Desktop\\PROGRAM\\IfA_Smeargle\\meta\\fits_and_arrays.py:140: OutputWarning: The data array provided has been detected to be a masked array. The mask is saved in the fits extension <IFASMASK>. The primary data is not affected.\n",
      "  smeargle_warning(OutputWarning,(\"The data array provided has been detected to be a \"\n",
      "C:\\Users\\Tripp\\Desktop\\PROGRAM\\IfA_Smeargle\\meta\\fits_and_arrays.py:140: OutputWarning: The data array provided has been detected to be a masked array. The mask is saved in the fits extension <IFASMASK>. The primary data is not affected.\n",
      "  smeargle_warning(OutputWarning,(\"The data array provided has been detected to be a \"\n"
     ]
    },
    {
     "name": "stdout",
     "output_type": "stream",
     "text": [
      "8192.0 43781.0\n",
      "0.0 1.0\n"
     ]
    },
    {
     "name": "stderr",
     "output_type": "stream",
     "text": [
      "C:\\Users\\Tripp\\Desktop\\PROGRAM\\IfA_Smeargle\\meta\\fits_and_arrays.py:140: OutputWarning: The data array provided has been detected to be a masked array. The mask is saved in the fits extension <IFASMASK>. The primary data is not affected.\n",
      "  smeargle_warning(OutputWarning,(\"The data array provided has been detected to be a \"\n",
      "C:\\Users\\Tripp\\Desktop\\PROGRAM\\IfA_Smeargle\\meta\\fits_and_arrays.py:140: OutputWarning: The data array provided has been detected to be a masked array. The mask is saved in the fits extension <IFASMASK>. The primary data is not affected.\n",
      "  smeargle_warning(OutputWarning,(\"The data array provided has been detected to be a \"\n",
      "C:\\Users\\Tripp\\Desktop\\PROGRAM\\IfA_Smeargle\\meta\\fits_and_arrays.py:140: OutputWarning: The data array provided has been detected to be a masked array. The mask is saved in the fits extension <IFASMASK>. The primary data is not affected.\n",
      "  smeargle_warning(OutputWarning,(\"The data array provided has been detected to be a \"\n"
     ]
    },
    {
     "name": "stdout",
     "output_type": "stream",
     "text": [
      "8192.0 43468.0\n",
      "0.0 1.0\n"
     ]
    },
    {
     "name": "stderr",
     "output_type": "stream",
     "text": [
      "C:\\Users\\Tripp\\Desktop\\PROGRAM\\IfA_Smeargle\\meta\\fits_and_arrays.py:140: OutputWarning: The data array provided has been detected to be a masked array. The mask is saved in the fits extension <IFASMASK>. The primary data is not affected.\n",
      "  smeargle_warning(OutputWarning,(\"The data array provided has been detected to be a \"\n",
      "C:\\Users\\Tripp\\Desktop\\PROGRAM\\IfA_Smeargle\\meta\\fits_and_arrays.py:140: OutputWarning: The data array provided has been detected to be a masked array. The mask is saved in the fits extension <IFASMASK>. The primary data is not affected.\n",
      "  smeargle_warning(OutputWarning,(\"The data array provided has been detected to be a \"\n",
      "C:\\Users\\Tripp\\Desktop\\PROGRAM\\IfA_Smeargle\\meta\\fits_and_arrays.py:140: OutputWarning: The data array provided has been detected to be a masked array. The mask is saved in the fits extension <IFASMASK>. The primary data is not affected.\n",
      "  smeargle_warning(OutputWarning,(\"The data array provided has been detected to be a \"\n"
     ]
    },
    {
     "name": "stdout",
     "output_type": "stream",
     "text": [
      "2048.0 42425.0\n",
      "0.0 1.0\n"
     ]
    },
    {
     "name": "stderr",
     "output_type": "stream",
     "text": [
      "C:\\Users\\Tripp\\Desktop\\PROGRAM\\IfA_Smeargle\\meta\\fits_and_arrays.py:140: OutputWarning: The data array provided has been detected to be a masked array. The mask is saved in the fits extension <IFASMASK>. The primary data is not affected.\n",
      "  smeargle_warning(OutputWarning,(\"The data array provided has been detected to be a \"\n",
      "C:\\Users\\Tripp\\Desktop\\PROGRAM\\IfA_Smeargle\\meta\\fits_and_arrays.py:140: OutputWarning: The data array provided has been detected to be a masked array. The mask is saved in the fits extension <IFASMASK>. The primary data is not affected.\n",
      "  smeargle_warning(OutputWarning,(\"The data array provided has been detected to be a \"\n",
      "C:\\Users\\Tripp\\Desktop\\PROGRAM\\IfA_Smeargle\\meta\\fits_and_arrays.py:140: OutputWarning: The data array provided has been detected to be a masked array. The mask is saved in the fits extension <IFASMASK>. The primary data is not affected.\n",
      "  smeargle_warning(OutputWarning,(\"The data array provided has been detected to be a \"\n"
     ]
    },
    {
     "name": "stdout",
     "output_type": "stream",
     "text": [
      "0.0 41290.0\n",
      "0.0 1.0\n"
     ]
    },
    {
     "name": "stderr",
     "output_type": "stream",
     "text": [
      "C:\\Users\\Tripp\\Desktop\\PROGRAM\\IfA_Smeargle\\meta\\fits_and_arrays.py:140: OutputWarning: The data array provided has been detected to be a masked array. The mask is saved in the fits extension <IFASMASK>. The primary data is not affected.\n",
      "  smeargle_warning(OutputWarning,(\"The data array provided has been detected to be a \"\n",
      "C:\\Users\\Tripp\\Desktop\\PROGRAM\\IfA_Smeargle\\meta\\fits_and_arrays.py:140: OutputWarning: The data array provided has been detected to be a masked array. The mask is saved in the fits extension <IFASMASK>. The primary data is not affected.\n",
      "  smeargle_warning(OutputWarning,(\"The data array provided has been detected to be a \"\n",
      "C:\\Users\\Tripp\\Desktop\\PROGRAM\\IfA_Smeargle\\meta\\fits_and_arrays.py:140: OutputWarning: The data array provided has been detected to be a masked array. The mask is saved in the fits extension <IFASMASK>. The primary data is not affected.\n",
      "  smeargle_warning(OutputWarning,(\"The data array provided has been detected to be a \"\n"
     ]
    },
    {
     "name": "stdout",
     "output_type": "stream",
     "text": [
      "0.0 40802.0\n",
      "0.0 1.0\n"
     ]
    },
    {
     "name": "stderr",
     "output_type": "stream",
     "text": [
      "C:\\Users\\Tripp\\Desktop\\PROGRAM\\IfA_Smeargle\\meta\\fits_and_arrays.py:140: OutputWarning: The data array provided has been detected to be a masked array. The mask is saved in the fits extension <IFASMASK>. The primary data is not affected.\n",
      "  smeargle_warning(OutputWarning,(\"The data array provided has been detected to be a \"\n",
      "C:\\Users\\Tripp\\Desktop\\PROGRAM\\IfA_Smeargle\\meta\\fits_and_arrays.py:140: OutputWarning: The data array provided has been detected to be a masked array. The mask is saved in the fits extension <IFASMASK>. The primary data is not affected.\n",
      "  smeargle_warning(OutputWarning,(\"The data array provided has been detected to be a \"\n",
      "C:\\Users\\Tripp\\Desktop\\PROGRAM\\IfA_Smeargle\\meta\\fits_and_arrays.py:140: OutputWarning: The data array provided has been detected to be a masked array. The mask is saved in the fits extension <IFASMASK>. The primary data is not affected.\n",
      "  smeargle_warning(OutputWarning,(\"The data array provided has been detected to be a \"\n"
     ]
    },
    {
     "name": "stdout",
     "output_type": "stream",
     "text": [
      "0.0 40438.0\n",
      "0.0 1.0\n"
     ]
    },
    {
     "name": "stderr",
     "output_type": "stream",
     "text": [
      "C:\\Users\\Tripp\\Desktop\\PROGRAM\\IfA_Smeargle\\meta\\fits_and_arrays.py:140: OutputWarning: The data array provided has been detected to be a masked array. The mask is saved in the fits extension <IFASMASK>. The primary data is not affected.\n",
      "  smeargle_warning(OutputWarning,(\"The data array provided has been detected to be a \"\n",
      "C:\\Users\\Tripp\\Desktop\\PROGRAM\\IfA_Smeargle\\meta\\fits_and_arrays.py:140: OutputWarning: The data array provided has been detected to be a masked array. The mask is saved in the fits extension <IFASMASK>. The primary data is not affected.\n",
      "  smeargle_warning(OutputWarning,(\"The data array provided has been detected to be a \"\n",
      "C:\\Users\\Tripp\\Desktop\\PROGRAM\\IfA_Smeargle\\meta\\fits_and_arrays.py:140: OutputWarning: The data array provided has been detected to be a masked array. The mask is saved in the fits extension <IFASMASK>. The primary data is not affected.\n",
      "  smeargle_warning(OutputWarning,(\"The data array provided has been detected to be a \"\n"
     ]
    },
    {
     "name": "stdout",
     "output_type": "stream",
     "text": [
      "0.0 39989.0\n",
      "0.0 1.0\n"
     ]
    },
    {
     "name": "stderr",
     "output_type": "stream",
     "text": [
      "C:\\Users\\Tripp\\Desktop\\PROGRAM\\IfA_Smeargle\\meta\\fits_and_arrays.py:140: OutputWarning: The data array provided has been detected to be a masked array. The mask is saved in the fits extension <IFASMASK>. The primary data is not affected.\n",
      "  smeargle_warning(OutputWarning,(\"The data array provided has been detected to be a \"\n",
      "C:\\Users\\Tripp\\Desktop\\PROGRAM\\IfA_Smeargle\\meta\\fits_and_arrays.py:140: OutputWarning: The data array provided has been detected to be a masked array. The mask is saved in the fits extension <IFASMASK>. The primary data is not affected.\n",
      "  smeargle_warning(OutputWarning,(\"The data array provided has been detected to be a \"\n",
      "C:\\Users\\Tripp\\Desktop\\PROGRAM\\IfA_Smeargle\\meta\\fits_and_arrays.py:140: OutputWarning: The data array provided has been detected to be a masked array. The mask is saved in the fits extension <IFASMASK>. The primary data is not affected.\n",
      "  smeargle_warning(OutputWarning,(\"The data array provided has been detected to be a \"\n"
     ]
    },
    {
     "ename": "TerminalError",
     "evalue": "TERMINAL: A general TERMINAL error has been raised.",
     "output_type": "error",
     "traceback": [
      "\u001b[1;31m---------------------------------------------------------------------------\u001b[0m",
      "\u001b[1;31mTerminalError\u001b[0m                             Traceback (most recent call last)",
      "\u001b[1;32m<ipython-input-3-d64bb57ec8fd>\u001b[0m in \u001b[0;36m<module>\u001b[1;34m\u001b[0m\n\u001b[1;32m----> 1\u001b[1;33m \u001b[0mifa\u001b[0m\u001b[1;33m.\u001b[0m\u001b[0mzulu\u001b[0m\u001b[1;33m.\u001b[0m\u001b[0mpipelines\u001b[0m\u001b[1;33m.\u001b[0m\u001b[0mSA201907281826_reduction_pipeline\u001b[0m\u001b[1;33m(\u001b[0m\u001b[1;34m'./Data'\u001b[0m\u001b[1;33m,\u001b[0m\u001b[0mfirst_run\u001b[0m\u001b[1;33m)\u001b[0m\u001b[1;33m\u001b[0m\u001b[1;33m\u001b[0m\u001b[0m\n\u001b[0m",
      "\u001b[1;32m~\\Desktop\\PROGRAM\\IfA_Smeargle\\zulu\\detector_pipelines\\saphria_pipeline.py\u001b[0m in \u001b[0;36mSA201907281826_reduction_pipeline\u001b[1;34m(data_directory, configuration_class)\u001b[0m\n\u001b[0;32m    176\u001b[0m             \u001b[0mtemp_data\u001b[0m \u001b[1;33m=\u001b[0m \u001b[0mnp_ma\u001b[0m\u001b[1;33m.\u001b[0m\u001b[0marray\u001b[0m\u001b[1;33m(\u001b[0m\u001b[0mhdu_to_be_written\u001b[0m\u001b[1;33m[\u001b[0m\u001b[1;36m0\u001b[0m\u001b[1;33m]\u001b[0m\u001b[1;33m.\u001b[0m\u001b[0mdata\u001b[0m\u001b[1;33m,\u001b[0m \u001b[0mmask\u001b[0m\u001b[1;33m=\u001b[0m\u001b[0mearly_mask\u001b[0m\u001b[1;33m)\u001b[0m\u001b[1;33m\u001b[0m\u001b[1;33m\u001b[0m\u001b[0m\n\u001b[0;32m    177\u001b[0m             \u001b[0mmeta_faa\u001b[0m\u001b[1;33m.\u001b[0m\u001b[0msmeargle_write_fits_file\u001b[0m\u001b[1;33m(\u001b[0m\u001b[0malt_name\u001b[0m\u001b[1;33m,\u001b[0m \u001b[0mtemp_header\u001b[0m\u001b[1;33m,\u001b[0m \u001b[0mtemp_data\u001b[0m\u001b[1;33m)\u001b[0m\u001b[1;33m\u001b[0m\u001b[1;33m\u001b[0m\u001b[0m\n\u001b[1;32m--> 178\u001b[1;33m     \u001b[1;32mraise\u001b[0m \u001b[0mTerminalError\u001b[0m\u001b[1;33m\u001b[0m\u001b[1;33m\u001b[0m\u001b[0m\n\u001b[0m\u001b[0;32m    179\u001b[0m     \u001b[1;31m# Re-obtain file names, again.\u001b[0m\u001b[1;33m\u001b[0m\u001b[1;33m\u001b[0m\u001b[1;33m\u001b[0m\u001b[0m\n\u001b[0;32m    180\u001b[0m     \u001b[0mfile_names\u001b[0m \u001b[1;33m=\u001b[0m \u001b[0mglob\u001b[0m\u001b[1;33m.\u001b[0m\u001b[0mglob\u001b[0m\u001b[1;33m(\u001b[0m\u001b[0mdata_directory\u001b[0m \u001b[1;33m+\u001b[0m \u001b[1;34m'/*'\u001b[0m \u001b[1;33m+\u001b[0m \u001b[1;34m'.fits'\u001b[0m\u001b[1;33m)\u001b[0m\u001b[1;33m\u001b[0m\u001b[1;33m\u001b[0m\u001b[0m\n",
      "\u001b[1;31mTerminalError\u001b[0m: TERMINAL: A general TERMINAL error has been raised."
     ]
    }
   ],
   "source": [
    "ifa.zulu.pipelines.SA201907281826_reduction_pipeline('./Data',first_run)"
   ]
  },
  {
   "cell_type": "code",
   "execution_count": 10,
   "metadata": {},
   "outputs": [],
   "source": [
    "__, __, data = ifa.meta.meta_faa.smeargle_open_fits_file(\"./Data/Saphria__num;19__detBias;8.5Vup__1025-1040.fits\")"
   ]
  },
  {
   "cell_type": "code",
   "execution_count": 11,
   "metadata": {},
   "outputs": [
    {
     "name": "stdout",
     "output_type": "stream",
     "text": [
      "-730.506 1618.4441\n"
     ]
    }
   ],
   "source": [
    "data\n",
    "print(np.nanmean(data.data),np.nanstd(data.data))"
   ]
  },
  {
   "cell_type": "code",
   "execution_count": 4,
   "metadata": {},
   "outputs": [
    {
     "name": "stdout",
     "output_type": "stream",
     "text": [
      "0.0 0.0\n"
     ]
    },
    {
     "name": "stderr",
     "output_type": "stream",
     "text": [
      "C:\\Users\\Tripp\\Desktop\\PROGRAM\\IfA_Smeargle\\meta\\fits_and_arrays.py:65: InputWarning: The fits file contains an <IFASMASK> extension, a pixel mask created by this program. It will be applied to the data. The output data will be a Numpy Masked Array.\n",
      "  smeargle_warning(InputWarning,(\"The fits file contains an <IFASMASK> extension, \"\n"
     ]
    },
    {
     "ename": "TypeError",
     "evalue": "Improper input: N=3 must not exceed M=0",
     "output_type": "error",
     "traceback": [
      "\u001b[1;31m---------------------------------------------------------------------------\u001b[0m",
      "\u001b[1;31mTypeError\u001b[0m                                 Traceback (most recent call last)",
      "\u001b[1;32m<ipython-input-4-f3d47a337353>\u001b[0m in \u001b[0;36m<module>\u001b[1;34m\u001b[0m\n\u001b[1;32m----> 1\u001b[1;33m \u001b[0mfigure\u001b[0m \u001b[1;33m=\u001b[0m \u001b[0mifa\u001b[0m\u001b[1;33m.\u001b[0m\u001b[0moscar\u001b[0m\u001b[1;33m.\u001b[0m\u001b[0mmulti\u001b[0m\u001b[1;33m.\u001b[0m\u001b[0mplot_single_heatmap_and_histogram\u001b[0m\u001b[1;33m(\u001b[0m\u001b[1;34m\"./Data/Saphria__num;6__detBias;9.5Vup__1025-1040.fits\"\u001b[0m\u001b[1;33m,\u001b[0m\u001b[0mfirst_run\u001b[0m\u001b[1;33m)\u001b[0m\u001b[1;33m\u001b[0m\u001b[1;33m\u001b[0m\u001b[0m\n\u001b[0m\u001b[0;32m      2\u001b[0m \u001b[0mfigure\u001b[0m\u001b[1;33m.\u001b[0m\u001b[0maxes\u001b[0m\u001b[1;33m[\u001b[0m\u001b[1;36m1\u001b[0m\u001b[1;33m]\u001b[0m\u001b[1;33m.\u001b[0m\u001b[0maxvline\u001b[0m\u001b[1;33m(\u001b[0m\u001b[0mnp\u001b[0m\u001b[1;33m.\u001b[0m\u001b[0mnanmean\u001b[0m\u001b[1;33m(\u001b[0m\u001b[0mdata\u001b[0m\u001b[1;33m.\u001b[0m\u001b[0mdata\u001b[0m\u001b[1;33m)\u001b[0m\u001b[1;33m)\u001b[0m\u001b[1;33m\u001b[0m\u001b[1;33m\u001b[0m\u001b[0m\n\u001b[0;32m      3\u001b[0m \u001b[0mplt\u001b[0m\u001b[1;33m.\u001b[0m\u001b[0mshow\u001b[0m\u001b[1;33m(\u001b[0m\u001b[0mfigure\u001b[0m\u001b[1;33m)\u001b[0m\u001b[1;33m\u001b[0m\u001b[1;33m\u001b[0m\u001b[0m\n",
      "\u001b[1;32m~\\Desktop\\PROGRAM\\IfA_Smeargle\\oscar\\multi_figure.py\u001b[0m in \u001b[0;36mplot_single_heatmap_and_histogram\u001b[1;34m(data_array, configuration_class, figure_subplot_parameters)\u001b[0m\n\u001b[0;32m     68\u001b[0m                                             figure_axes=ax[0], **heatmap_config)\n\u001b[0;32m     69\u001b[0m     oscar.histograms.plot_array_histogram(data_array, \n\u001b[1;32m---> 70\u001b[1;33m                                           figure_axes=ax[1], **histogram_config)\n\u001b[0m\u001b[0;32m     71\u001b[0m \u001b[1;33m\u001b[0m\u001b[0m\n\u001b[0;32m     72\u001b[0m     \u001b[1;31m# The histogram feels squished unless the axes ratios are modified.\u001b[0m\u001b[1;33m\u001b[0m\u001b[1;33m\u001b[0m\u001b[1;33m\u001b[0m\u001b[0m\n",
      "\u001b[1;32m~\\Desktop\\PROGRAM\\IfA_Smeargle\\oscar\\histograms.py\u001b[0m in \u001b[0;36mplot_array_histogram\u001b[1;34m(data_array, figure_axes, fit_gaussian, bin_width, plot, histogram_plot_paramters)\u001b[0m\n\u001b[0;32m    116\u001b[0m         \u001b[0mgaussian_init\u001b[0m \u001b[1;33m=\u001b[0m \u001b[0map_mod\u001b[0m\u001b[1;33m.\u001b[0m\u001b[0mmodels\u001b[0m\u001b[1;33m.\u001b[0m\u001b[0mGaussian1D\u001b[0m\u001b[1;33m(\u001b[0m\u001b[0mamplitude\u001b[0m\u001b[1;33m=\u001b[0m\u001b[1;36m1.0\u001b[0m\u001b[1;33m,\u001b[0m \u001b[0mmean\u001b[0m\u001b[1;33m=\u001b[0m\u001b[1;36m0\u001b[0m\u001b[1;33m,\u001b[0m \u001b[0mstddev\u001b[0m\u001b[1;33m=\u001b[0m\u001b[1;36m1.0\u001b[0m\u001b[1;33m)\u001b[0m\u001b[1;33m\u001b[0m\u001b[1;33m\u001b[0m\u001b[0m\n\u001b[0;32m    117\u001b[0m         \u001b[0mgaussian_fit_model\u001b[0m \u001b[1;33m=\u001b[0m \u001b[0map_mod\u001b[0m\u001b[1;33m.\u001b[0m\u001b[0mfitting\u001b[0m\u001b[1;33m.\u001b[0m\u001b[0mLevMarLSQFitter\u001b[0m\u001b[1;33m(\u001b[0m\u001b[1;33m)\u001b[0m\u001b[1;33m\u001b[0m\u001b[1;33m\u001b[0m\u001b[0m\n\u001b[1;32m--> 118\u001b[1;33m         \u001b[0mgaussian_fit\u001b[0m \u001b[1;33m=\u001b[0m \u001b[0mgaussian_fit_model\u001b[0m\u001b[1;33m(\u001b[0m\u001b[0mgaussian_init\u001b[0m\u001b[1;33m,\u001b[0m \u001b[0mhist_x\u001b[0m\u001b[1;33m,\u001b[0m \u001b[0mhist_y\u001b[0m\u001b[1;33m)\u001b[0m\u001b[1;33m\u001b[0m\u001b[1;33m\u001b[0m\u001b[0m\n\u001b[0m\u001b[0;32m    119\u001b[0m         \u001b[1;31m# For better plotting resolution.\u001b[0m\u001b[1;33m\u001b[0m\u001b[1;33m\u001b[0m\u001b[1;33m\u001b[0m\u001b[0m\n\u001b[0;32m    120\u001b[0m         \u001b[0mtemp_gauss_x_axis\u001b[0m \u001b[1;33m=\u001b[0m \u001b[0mnp\u001b[0m\u001b[1;33m.\u001b[0m\u001b[0mlinspace\u001b[0m\u001b[1;33m(\u001b[0m\u001b[0mhist_x\u001b[0m\u001b[1;33m.\u001b[0m\u001b[0mmin\u001b[0m\u001b[1;33m(\u001b[0m\u001b[1;33m)\u001b[0m \u001b[1;33m-\u001b[0m \u001b[1;36m1\u001b[0m\u001b[1;33m,\u001b[0m \u001b[0mhist_x\u001b[0m\u001b[1;33m.\u001b[0m\u001b[0mmax\u001b[0m\u001b[1;33m(\u001b[0m\u001b[1;33m)\u001b[0m \u001b[1;33m+\u001b[0m \u001b[1;36m1\u001b[0m\u001b[1;33m,\u001b[0m \u001b[0mhist_x\u001b[0m\u001b[1;33m.\u001b[0m\u001b[0msize\u001b[0m \u001b[1;33m*\u001b[0m \u001b[1;36m10\u001b[0m\u001b[1;33m)\u001b[0m\u001b[1;33m\u001b[0m\u001b[1;33m\u001b[0m\u001b[0m\n",
      "\u001b[1;32m~\\.conda\\envs\\Anaconda\\lib\\site-packages\\astropy\\modeling\\fitting.py\u001b[0m in \u001b[0;36mwrapper\u001b[1;34m(self, model, x, y, z, **kwargs)\u001b[0m\n\u001b[0;32m    176\u001b[0m         \u001b[1;32melse\u001b[0m\u001b[1;33m:\u001b[0m\u001b[1;33m\u001b[0m\u001b[1;33m\u001b[0m\u001b[0m\n\u001b[0;32m    177\u001b[0m \u001b[1;33m\u001b[0m\u001b[0m\n\u001b[1;32m--> 178\u001b[1;33m             \u001b[1;32mreturn\u001b[0m \u001b[0mfunc\u001b[0m\u001b[1;33m(\u001b[0m\u001b[0mself\u001b[0m\u001b[1;33m,\u001b[0m \u001b[0mmodel\u001b[0m\u001b[1;33m,\u001b[0m \u001b[0mx\u001b[0m\u001b[1;33m,\u001b[0m \u001b[0my\u001b[0m\u001b[1;33m,\u001b[0m \u001b[0mz\u001b[0m\u001b[1;33m=\u001b[0m\u001b[0mz\u001b[0m\u001b[1;33m,\u001b[0m \u001b[1;33m**\u001b[0m\u001b[0mkwargs\u001b[0m\u001b[1;33m)\u001b[0m\u001b[1;33m\u001b[0m\u001b[1;33m\u001b[0m\u001b[0m\n\u001b[0m\u001b[0;32m    179\u001b[0m \u001b[1;33m\u001b[0m\u001b[0m\n\u001b[0;32m    180\u001b[0m     \u001b[1;32mreturn\u001b[0m \u001b[0mwrapper\u001b[0m\u001b[1;33m\u001b[0m\u001b[1;33m\u001b[0m\u001b[0m\n",
      "\u001b[1;32m~\\.conda\\envs\\Anaconda\\lib\\site-packages\\astropy\\modeling\\fitting.py\u001b[0m in \u001b[0;36m__call__\u001b[1;34m(self, model, x, y, z, weights, maxiter, acc, epsilon, estimate_jacobian)\u001b[0m\n\u001b[0;32m    885\u001b[0m             \u001b[0mself\u001b[0m\u001b[1;33m.\u001b[0m\u001b[0mobjective_function\u001b[0m\u001b[1;33m,\u001b[0m \u001b[0minit_values\u001b[0m\u001b[1;33m,\u001b[0m \u001b[0margs\u001b[0m\u001b[1;33m=\u001b[0m\u001b[0mfarg\u001b[0m\u001b[1;33m,\u001b[0m \u001b[0mDfun\u001b[0m\u001b[1;33m=\u001b[0m\u001b[0mdfunc\u001b[0m\u001b[1;33m,\u001b[0m\u001b[1;33m\u001b[0m\u001b[1;33m\u001b[0m\u001b[0m\n\u001b[0;32m    886\u001b[0m             \u001b[0mcol_deriv\u001b[0m\u001b[1;33m=\u001b[0m\u001b[0mmodel_copy\u001b[0m\u001b[1;33m.\u001b[0m\u001b[0mcol_fit_deriv\u001b[0m\u001b[1;33m,\u001b[0m \u001b[0mmaxfev\u001b[0m\u001b[1;33m=\u001b[0m\u001b[0mmaxiter\u001b[0m\u001b[1;33m,\u001b[0m \u001b[0mepsfcn\u001b[0m\u001b[1;33m=\u001b[0m\u001b[0mepsilon\u001b[0m\u001b[1;33m,\u001b[0m\u001b[1;33m\u001b[0m\u001b[1;33m\u001b[0m\u001b[0m\n\u001b[1;32m--> 887\u001b[1;33m             xtol=acc, full_output=True)\n\u001b[0m\u001b[0;32m    888\u001b[0m         \u001b[0m_fitter_to_model_params\u001b[0m\u001b[1;33m(\u001b[0m\u001b[0mmodel_copy\u001b[0m\u001b[1;33m,\u001b[0m \u001b[0mfitparams\u001b[0m\u001b[1;33m)\u001b[0m\u001b[1;33m\u001b[0m\u001b[1;33m\u001b[0m\u001b[0m\n\u001b[0;32m    889\u001b[0m         \u001b[0mself\u001b[0m\u001b[1;33m.\u001b[0m\u001b[0mfit_info\u001b[0m\u001b[1;33m.\u001b[0m\u001b[0mupdate\u001b[0m\u001b[1;33m(\u001b[0m\u001b[0mdinfo\u001b[0m\u001b[1;33m)\u001b[0m\u001b[1;33m\u001b[0m\u001b[1;33m\u001b[0m\u001b[0m\n",
      "\u001b[1;32m~\\.conda\\envs\\Anaconda\\lib\\site-packages\\scipy\\optimize\\minpack.py\u001b[0m in \u001b[0;36mleastsq\u001b[1;34m(func, x0, args, Dfun, full_output, col_deriv, ftol, xtol, gtol, maxfev, epsfcn, factor, diag)\u001b[0m\n\u001b[0;32m    385\u001b[0m     \u001b[0mm\u001b[0m \u001b[1;33m=\u001b[0m \u001b[0mshape\u001b[0m\u001b[1;33m[\u001b[0m\u001b[1;36m0\u001b[0m\u001b[1;33m]\u001b[0m\u001b[1;33m\u001b[0m\u001b[1;33m\u001b[0m\u001b[0m\n\u001b[0;32m    386\u001b[0m     \u001b[1;32mif\u001b[0m \u001b[0mn\u001b[0m \u001b[1;33m>\u001b[0m \u001b[0mm\u001b[0m\u001b[1;33m:\u001b[0m\u001b[1;33m\u001b[0m\u001b[1;33m\u001b[0m\u001b[0m\n\u001b[1;32m--> 387\u001b[1;33m         \u001b[1;32mraise\u001b[0m \u001b[0mTypeError\u001b[0m\u001b[1;33m(\u001b[0m\u001b[1;34m'Improper input: N=%s must not exceed M=%s'\u001b[0m \u001b[1;33m%\u001b[0m \u001b[1;33m(\u001b[0m\u001b[0mn\u001b[0m\u001b[1;33m,\u001b[0m \u001b[0mm\u001b[0m\u001b[1;33m)\u001b[0m\u001b[1;33m)\u001b[0m\u001b[1;33m\u001b[0m\u001b[1;33m\u001b[0m\u001b[0m\n\u001b[0m\u001b[0;32m    388\u001b[0m     \u001b[1;32mif\u001b[0m \u001b[0mepsfcn\u001b[0m \u001b[1;32mis\u001b[0m \u001b[1;32mNone\u001b[0m\u001b[1;33m:\u001b[0m\u001b[1;33m\u001b[0m\u001b[1;33m\u001b[0m\u001b[0m\n\u001b[0;32m    389\u001b[0m         \u001b[0mepsfcn\u001b[0m \u001b[1;33m=\u001b[0m \u001b[0mfinfo\u001b[0m\u001b[1;33m(\u001b[0m\u001b[0mdtype\u001b[0m\u001b[1;33m)\u001b[0m\u001b[1;33m.\u001b[0m\u001b[0meps\u001b[0m\u001b[1;33m\u001b[0m\u001b[1;33m\u001b[0m\u001b[0m\n",
      "\u001b[1;31mTypeError\u001b[0m: Improper input: N=3 must not exceed M=0"
     ]
    },
    {
     "data": {
      "image/png": "[encoded data removed]",
      "text/plain": [
       "<Figure size 900x350 with 3 Axes>"
      ]
     },
     "metadata": {
      "needs_background": "light"
     },
     "output_type": "display_data"
    }
   ],
   "source": [
    "figure = ifa.oscar.multi.plot_single_heatmap_and_histogram(\"./Data/Saphria__num;6__detBias;9.5Vup__1025-1040.fits\",first_run)\n",
    "figure.axes[1].axvline(np.nanmean(data.data))\n",
    "plt.show(figure)"
   ]
  },
  {
   "cell_type": "code",
   "execution_count": 33,
   "metadata": {},
   "outputs": [],
   "source": []
  },
  {
   "cell_type": "code",
   "execution_count": 34,
   "metadata": {},
   "outputs": [],
   "source": []
  },
  {
   "cell_type": "code",
   "execution_count": null,
   "metadata": {},
   "outputs": [],
   "source": []
  }
 ],
 "metadata": {
  "kernelspec": {
   "display_name": "Python 3",
   "language": "python",
   "name": "python3"
  },
  "language_info": {
   "codemirror_mode": {
    "name": "ipython",
    "version": 3
   },
   "file_extension": ".py",
   "mimetype": "text/x-python",
   "name": "python",
   "nbconvert_exporter": "python",
   "pygments_lexer": "ipython3",
   "version": "3.7.3"
  }
 },
 "nbformat": 4,
 "nbformat_minor": 2
}
