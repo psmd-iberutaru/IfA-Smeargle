{
 "cells": [
  {
   "cell_type": "markdown",
   "metadata": {},
   "source": [
    "# SMEARGLE CONFIGURATION\n",
    "\n",
    "This is the *recipe* and/or human-readable *configuration* file. The document structure is purposeful and should not be changed without good reason. Please note that the parameters **should** be changed as needed, that is the point of a configuration file. A untouched copy of this file should exist in the Yankee module folder. \n",
    "\n",
    "### Warning:\n",
    "**Do not modify any cells notated with the following comment < *Toto partem non mutant* > (Do not change the part by the whole.)**\n",
    "\n",
    "**Do not modify any lines within a cell below (above is still modifiable) the comment: < *Post; nihil se mutare* > (After; no change.)**\n",
    "\n",
    "**Do not modify any single line with the following comment directly above: < *Ne mutatus sum ego* > (Do not change me.)**"
   ]
  },
  {
   "cell_type": "code",
   "execution_count": 1,
   "metadata": {},
   "outputs": [],
   "source": [
    "## Toto partem non mutant | Do not modify all ##\n",
    "import astropy as ap\n",
    "import copy\n",
    "import numpy as np\n",
    "import os\n",
    "import scipy as sp\n",
    "import sys\n",
    "\n",
    "try:\n",
    "    import IfA_Smeargle as ifas\n",
    "except (ModuleNotFoundError, ValueError):\n",
    "    # Path hack, mostly likely because this Jupyter file \n",
    "    # is in the same directory of the package as is default.\n",
    "    sys.path.insert(0, os.path.abspath('..'))\n",
    "    import IfA_Smeargle as ifas"
   ]
  },
  {
   "cell_type": "markdown",
   "metadata": {},
   "source": [
    "Read a configuration file from a string file name. Please note that errors will be raised if the file name does not have a `.ifaspkl` file extension when reading and writing the files.\n",
    "\n",
    "If it does not exist, a new configuration file will be made rather than the default of overwriting the previous configuration file. Of course, if a copy is desired, then change the ``alternate_name`` variable to a valid configuration file name. Lastly, it is assumed that a configuration file should not be overwritten; if there is conflict, the process stops. Set ``overwrite`` to change this behavior. "
   ]
  },
  {
   "cell_type": "code",
   "execution_count": 2,
   "metadata": {},
   "outputs": [],
   "source": [
    "configuration_file_name = \"./../FirstRun.ifaspkl\"\n",
    "alternate_name = None\n",
    "overwrite = True"
   ]
  },
  {
   "cell_type": "code",
   "execution_count": 3,
   "metadata": {},
   "outputs": [],
   "source": [
    "## Toto partem non mutant | Do not modify all ##\n",
    "config_class = ifas.yankee.SmeargleConfig(configuration_file_name)"
   ]
  },
  {
   "cell_type": "markdown",
   "metadata": {},
   "source": [
    "# BRAVO Configuration Parameters\n",
    "\n",
    "These are the configuration parameters for the data sanitization and preprocessing done on raw image cubes or data. Please note that this is very detector dependnent and it is important to use the proper sublines for the right raw data.\n",
    "\n",
    "---"
   ]
  },
  {
   "cell_type": "markdown",
   "metadata": {},
   "source": [
    "The detector name itself. This is how the data files are distinguished between the different detectors that are used. This can either be a string, or a dictionary with the key ``name`` and a corresponding value a string that is the name that should be prefixed to each of the data files (the preferred method). "
   ]
  },
  {
   "cell_type": "code",
   "execution_count": 4,
   "metadata": {},
   "outputs": [
    {
     "name": "stdout",
     "output_type": "stream",
     "text": [
      "{'name': 'Saphria'}\n"
     ]
    }
   ],
   "source": [
    "config_class.BravoConfig.detector_name = {'name':'Saphria'}\n",
    "## Ne mutatus sum ego | Do not modify after ##\n",
    "print(config_class.BravoConfig.detector_name)"
   ]
  },
  {
   "cell_type": "markdown",
   "metadata": {},
   "source": [
    "Detector bias voltage pattern renaming: It is common to have many sets taken across some voltage variation. Defining the pattern (and assuming the pattern matches with the transitions of voltage) the files can be renamed to something more helpful."
   ]
  },
  {
   "cell_type": "code",
   "execution_count": 5,
   "metadata": {},
   "outputs": [
    {
     "name": "stdout",
     "output_type": "stream",
     "text": [
      "{'voltage_pattern': [2.5, 4.5, 6.5, 8.5, 9.5, 10.5, 11.5, 11.5, 10.5, 9.5, 8.5, 6.5, 4.5, 2.5], 'begin_garbage': 1, 'archive_data': True}\n"
     ]
    }
   ],
   "source": [
    "config_class.BravoConfig.voltpat_rename_config = {'voltage_pattern':[2.5,4.5,6.5,8.5,9.5,10.5,11.5,11.5,10.5,9.5,8.5,6.5,4.5,2.5], 'begin_garbage':1, 'archive_data':True}\n",
    "## Ne mutatus sum ego | Do not modify after ##\n",
    "print(config_class.BravoConfig.voltpat_rename_config)"
   ]
  },
  {
   "cell_type": "markdown",
   "metadata": {},
   "source": [
    "It does not serve well to use the entire array for analysis, the `start_chunk` range of frames from the beginning and the `end_chunk` range of frames from the end are combined in such a way to produce a single fits image, from the cube or other data structure, for analysis. ``frame_exposure_time`` is the number of seconds each frame is taken for.\n",
    "\n",
    "The same parameters are passed to the kilosecond version (the time conversion is handled natively, mutating the frame_exposure_time component from per second to  per kilosecond)."
   ]
  },
  {
   "cell_type": "code",
   "execution_count": 6,
   "metadata": {},
   "outputs": [
    {
     "name": "stdout",
     "output_type": "stream",
     "text": [
      "{'start_chunk': None, 'end_chunk': None, 'frame_exposure_time': None}\n",
      "{'start_chunk': None, 'end_chunk': None, 'frame_exposure_time': None}\n"
     ]
    }
   ],
   "source": [
    "config_class.BravoConfig.avg_endpts_persec_config\n",
    "\n",
    "## Ne mutatus sum ego | Do not modify after ##\n",
    "config_class.BravoConfig.avg_endpts_perksec_config = copy.deepcopy(config_class.BravoConfig.avg_endpts_persec_config)\n",
    "print(config_class.BravoConfig.avg_endpts_persec_config)\n",
    "print(config_class.BravoConfig.avg_endpts_perksec_config)"
   ]
  },
  {
   "cell_type": "markdown",
   "metadata": {},
   "source": [
    "# ECHO Configuration Parameters\n",
    "\n",
    "These are the configuration parameters for all of the ECHO filters. If the ``run`` parameter for a given dictionary configuration is not ``True``, then the filter is skipped all together regardless of the configurations of said dictionary.\n",
    "\n",
    "---"
   ]
  },
  {
   "cell_type": "markdown",
   "metadata": {},
   "source": [
    "ECHO-010 Fixing Invalids:\n",
    "A simple filter that just filters out computationally bad or prohibitive values (e.g. NaN, np.Inf) from the given data array."
   ]
  },
  {
   "cell_type": "code",
   "execution_count": 7,
   "metadata": {},
   "outputs": [
    {
     "name": "stdout",
     "output_type": "stream",
     "text": [
      "{'run': False}\n"
     ]
    }
   ],
   "source": [
    "config_class.EchoConfig.echo010_config\n",
    "## Ne mutatus sum ego | Do not modify after ##\n",
    "print(config_class.EchoConfig.echo010_config)"
   ]
  },
  {
   "cell_type": "markdown",
   "metadata": {},
   "source": [
    "ECHO-120 Subarray Mask: Define a square using the ``x_range`` and ``y_range`` values. These values are inclusive."
   ]
  },
  {
   "cell_type": "code",
   "execution_count": 8,
   "metadata": {},
   "outputs": [
    {
     "name": "stdout",
     "output_type": "stream",
     "text": [
      "{'run': False, 'x_range': None, 'y_range': None}\n"
     ]
    }
   ],
   "source": [
    "config_class.EchoConfig.echo120_config\n",
    "## Ne mutatus sum ego | Do not modify after ##\n",
    "print(config_class.EchoConfig.echo120_config)"
   ]
  },
  {
   "cell_type": "markdown",
   "metadata": {},
   "source": [
    "ECHO-170 Gaussian Truncation: Pixels outside of the range $\\left \\{ x \\in \\mathbb{R} | \\mu - k\\sigma \\leq x \\leq \\mu + k\\sigma \\right \\}$ are masked. $k$ is provided by ``sigma_multiple``. The mean and standard deviation values are provided by a Gaussian fit on a histogram. The values are binned in bin widths of ``bin_size`` when sent to the histogram prior to fitting."
   ]
  },
  {
   "cell_type": "code",
   "execution_count": 9,
   "metadata": {},
   "outputs": [
    {
     "name": "stdout",
     "output_type": "stream",
     "text": [
      "{'run': False, 'sigma_multiple': 2}\n"
     ]
    }
   ],
   "source": [
    "config_class.EchoConfig.echo170_config  = {'run': False, 'sigma_multiple': 2}\n",
    "## Ne mutatus sum ego | Do not modify after ##\n",
    "print(config_class.EchoConfig.echo170_config)"
   ]
  },
  {
   "cell_type": "markdown",
   "metadata": {},
   "source": [
    "ECHO-270 Minimum Cut: Filtering all pixels with a value strictly less than ``minimum_value``."
   ]
  },
  {
   "cell_type": "code",
   "execution_count": 10,
   "metadata": {},
   "outputs": [
    {
     "name": "stdout",
     "output_type": "stream",
     "text": [
      "{'run': False, 'minimum_value': None}\n"
     ]
    }
   ],
   "source": [
    "config_class.EchoConfig.echo270_config\n",
    "## Ne mutatus sum ego | Do not modify after ##\n",
    "print(config_class.EchoConfig.echo270_config)"
   ]
  },
  {
   "cell_type": "markdown",
   "metadata": {},
   "source": [
    "ECHO-271 Maximum Cut: Filtering all pixels with a value strictly more than ``maximum_value``"
   ]
  },
  {
   "cell_type": "code",
   "execution_count": 11,
   "metadata": {},
   "outputs": [
    {
     "name": "stdout",
     "output_type": "stream",
     "text": [
      "{'run': False, 'maximum_value': None}\n"
     ]
    }
   ],
   "source": [
    "config_class.EchoConfig.echo271_config\n",
    "## Ne mutatus sum ego | Do not modify after ##\n",
    "print(config_class.EchoConfig.echo271_config)"
   ]
  },
  {
   "cell_type": "markdown",
   "metadata": {},
   "source": [
    "ECHO 275 Pixel Truncation: Filters a hard number of highest (``top_count``) and lowest (``bottom_count``) pixels; is not dependent on the pixel values."
   ]
  },
  {
   "cell_type": "code",
   "execution_count": 12,
   "metadata": {},
   "outputs": [
    {
     "name": "stdout",
     "output_type": "stream",
     "text": [
      "{'run': False, 'top_count': None, 'bottom_count': None}\n"
     ]
    }
   ],
   "source": [
    "config_class.EchoConfig.echo275_config\n",
    "## Ne mutatus sum ego | Do not modify after ##\n",
    "print(config_class.EchoConfig.echo275_config)"
   ]
  },
  {
   "cell_type": "markdown",
   "metadata": {},
   "source": [
    "ECHO 276 Percent Truncation: Keeps only a percentage of pixels falling between a specified percent range given by ``kept_range``"
   ]
  },
  {
   "cell_type": "code",
   "execution_count": 13,
   "metadata": {},
   "outputs": [
    {
     "name": "stdout",
     "output_type": "stream",
     "text": [
      "{'run': False, 'kept_range': None}\n"
     ]
    }
   ],
   "source": [
    "config_class.EchoConfig.echo276_config\n",
    "## Ne mutatus sum ego | Do not modify after ##\n",
    "print(config_class.EchoConfig.echo276_config)"
   ]
  },
  {
   "cell_type": "markdown",
   "metadata": {},
   "source": [
    "ECHO 277 Sigma Truncation: Keeps only pixels within ``sigma_limits`` multiples of the standard deviation and the mean of the data array."
   ]
  },
  {
   "cell_type": "code",
   "execution_count": 14,
   "metadata": {},
   "outputs": [
    {
     "name": "stdout",
     "output_type": "stream",
     "text": [
      "{'run': False, 'sigma_limits': None}\n"
     ]
    }
   ],
   "source": [
    "config_class.EchoConfig.echo277_config\n",
    "## Ne mutatus sum ego | Do not modify after ##\n",
    "print(config_class.EchoConfig.echo277_config)"
   ]
  },
  {
   "cell_type": "markdown",
   "metadata": {},
   "source": [
    "ECHO 380 Single Pixels: Masks only single pixels specified by a list of coordinate pairs."
   ]
  },
  {
   "cell_type": "code",
   "execution_count": 15,
   "metadata": {},
   "outputs": [
    {
     "name": "stdout",
     "output_type": "stream",
     "text": [
      "{'run': False, 'pixel_list': None}\n"
     ]
    }
   ],
   "source": [
    "config_class.EchoConfig.echo380_config\n",
    "## Ne mutatus sum ego | Do not modify after ##\n",
    "print(config_class.EchoConfig.echo380_config)"
   ]
  },
  {
   "cell_type": "markdown",
   "metadata": {},
   "source": [
    "ECHO 381 Rectangle Mask: Masks predefined (overlapping or not) rectangles defined by pairs of ``x_ranges`` and ``y_ranges``."
   ]
  },
  {
   "cell_type": "code",
   "execution_count": 16,
   "metadata": {},
   "outputs": [
    {
     "name": "stdout",
     "output_type": "stream",
     "text": [
      "{'run': False, 'x_ranges': None, 'y_ranges': None}\n"
     ]
    }
   ],
   "source": [
    "config_class.EchoConfig.echo381_config\n",
    "## Ne mutatus sum ego | Do not modify after ##\n",
    "print(config_class.EchoConfig.echo381_config)"
   ]
  },
  {
   "cell_type": "markdown",
   "metadata": {},
   "source": [
    "ECHO 382 Column Mask: Masks columns defined by a 0-indexed index list provided by ``column_list``."
   ]
  },
  {
   "cell_type": "code",
   "execution_count": 17,
   "metadata": {},
   "outputs": [
    {
     "name": "stdout",
     "output_type": "stream",
     "text": [
      "{'run': False, 'column_list': None}\n"
     ]
    }
   ],
   "source": [
    "config_class.EchoConfig.echo382_config\n",
    "## Ne mutatus sum ego | Do not modify after ##\n",
    "print(config_class.EchoConfig.echo382_config)"
   ]
  },
  {
   "cell_type": "markdown",
   "metadata": {},
   "source": [
    "ECHO 383 Row Mask: Masks rows defined by a 0-indexed index list provided by ``row_list``."
   ]
  },
  {
   "cell_type": "code",
   "execution_count": 18,
   "metadata": {},
   "outputs": [
    {
     "name": "stdout",
     "output_type": "stream",
     "text": [
      "{'run': False, 'row_list': None}\n"
     ]
    }
   ],
   "source": [
    "config_class.EchoConfig.echo383_config\n",
    "## Ne mutatus sum ego | Do not modify after ##\n",
    "print(config_class.EchoConfig.echo383_config)"
   ]
  },
  {
   "cell_type": "markdown",
   "metadata": {},
   "source": [
    "ECHO 398 Nothing: Creats a blank mask, nothing else."
   ]
  },
  {
   "cell_type": "code",
   "execution_count": 19,
   "metadata": {},
   "outputs": [
    {
     "name": "stdout",
     "output_type": "stream",
     "text": [
      "{'run': False}\n"
     ]
    }
   ],
   "source": [
    "config_class.EchoConfig.echo398_config\n",
    "## Ne mutatus sum ego | Do not modify after ##\n",
    "print(config_class.EchoConfig.echo398_config)"
   ]
  },
  {
   "cell_type": "markdown",
   "metadata": {},
   "source": [
    "ECHO 399 Everything: Creats a full mask, nothing else."
   ]
  },
  {
   "cell_type": "code",
   "execution_count": 20,
   "metadata": {},
   "outputs": [
    {
     "name": "stdout",
     "output_type": "stream",
     "text": [
      "{'run': False}\n"
     ]
    }
   ],
   "source": [
    "config_class.EchoConfig.echo399_config\n",
    "## Ne mutatus sum ego | Do not modify after ##\n",
    "print(config_class.EchoConfig.echo399_config)"
   ]
  },
  {
   "cell_type": "markdown",
   "metadata": {},
   "source": []
  },
  {
   "cell_type": "code",
   "execution_count": null,
   "metadata": {},
   "outputs": [],
   "source": []
  },
  {
   "cell_type": "code",
   "execution_count": null,
   "metadata": {},
   "outputs": [],
   "source": []
  },
  {
   "cell_type": "markdown",
   "metadata": {},
   "source": [
    "# OSCAR Configuration Parameters\n",
    "\n",
    "Plotting heatmaps, histograms, and other plotting functions are important for visualizing the data presented. This function is mostly responcible for low-early level plots. A focus on dark-current plots is emphasizesd in this section.\n",
    "\n",
    "The functionality and inspriation for such methods comes from [Tino Well's IfA code](https://github.com/tinowells/ifa \"Github: tinowells/ifa\").\n",
    "\n",
    "The configuration dictionaries are a little bit more complex. Personalization paramters are allowed to be passed into the [Matplotlib.pyplot](https://matplotlib.org/index.html) backbone functionality. Take notice of the comments. If the parameter ``plot`` is ``False``, that plotting routene is never used. Be warned this will raise errors if multi-plots are missing some plots.\n",
    "\n",
    "As this module uses Matplotlib heavily, customization parameters meant for Matplotlib are passed  via the `mpl_*` based parameters; the dictionary themselves are passed directly.\n",
    "\n",
    "---"
   ]
  },
  {
   "cell_type": "markdown",
   "metadata": {},
   "source": [
    "Heatmap plotting functionality. Borrowing mostly from Matplotlib, this plots the array. The Matplotlib functions allow for customization. "
   ]
  },
  {
   "cell_type": "code",
   "execution_count": 21,
   "metadata": {},
   "outputs": [
    {
     "name": "stdout",
     "output_type": "stream",
     "text": [
      "{'plot': True, 'data_array': None, 'heatmap_plot_parameters': {}, 'colorbar_plot_paramters': {}}\n"
     ]
    }
   ],
   "source": [
    "heatmap_configuration = {'plot':True}\n",
    "mpl_heatmap_parameters = {}\n",
    "mpl_colorbar_parameters = {}\n",
    "\n",
    "## Post; nihil se mutare | Do not modify below ##\n",
    "config_class.OscarConfig.general_heatmap_config = {**config_class.OscarConfig.general_heatmap_config,\n",
    "                                                   **heatmap_configuration, \n",
    "                                                   'heatmap_plot_parameters':mpl_heatmap_parameters, \n",
    "                                                   'colorbar_plot_paramters':mpl_colorbar_parameters}\n",
    "\n",
    "print(config_class.OscarConfig.general_heatmap_config)"
   ]
  },
  {
   "cell_type": "markdown",
   "metadata": {},
   "source": [
    "Histogram plotting functionality. Borrowing mostly from Matplotlib, this plots pixel value histograms. Also, it atempts to fit a gaussian to the values of the histogram's bins; this gaussian may be disabled. The Y axis of the plots may also be logorithmic (this forcefully diables the gaussian because of issues with fitting.)"
   ]
  },
  {
   "cell_type": "code",
   "execution_count": 22,
   "metadata": {},
   "outputs": [
    {
     "name": "stdout",
     "output_type": "stream",
     "text": [
      "{'plot': True, 'data_array': None, 'bin_width': 10, 'histogram_plot_paramters': {}}\n"
     ]
    }
   ],
   "source": [
    "histogram_configuration = {'plot':True,'bin_width':10}\n",
    "mpl_histogram_parameters = {}\n",
    "\n",
    "## Post; nihil se mutare | Do not modify below ##\n",
    "config_class.OscarConfig.general_histogram_config = {**config_class.OscarConfig.general_histogram_config,\n",
    "                                                     **histogram_configuration,\n",
    "                                                     'histogram_plot_paramters':mpl_histogram_parameters}\n",
    "print(config_class.OscarConfig.general_histogram_config)"
   ]
  },
  {
   "cell_type": "code",
   "execution_count": null,
   "metadata": {},
   "outputs": [],
   "source": []
  },
  {
   "cell_type": "code",
   "execution_count": null,
   "metadata": {},
   "outputs": [],
   "source": []
  },
  {
   "cell_type": "markdown",
   "metadata": {},
   "source": [
    "# ZULU Configuration Parameters\n",
    "\n",
    "The ZULU line is built to mostly hold reduction methods that are more finely curtailed. This class contains the customization parameters needed. However, because of the sheer number of custom lines that are possible, none of the them will be listed here. Instead, the user of the software is expected to input it manually in the cells below.\n",
    "\n",
    "---"
   ]
  },
  {
   "cell_type": "code",
   "execution_count": 23,
   "metadata": {},
   "outputs": [],
   "source": [
    "setattr(config_class.ZuluConfig,'SA201907281826',{})\n",
    "\n",
    "config_class.ZuluConfig.SA201907281826['early_frame'] = 3\n",
    "config_class.ZuluConfig.SA201907281826['ref_frame'] = np.array([17,32], dtype=int)\n",
    "config_class.ZuluConfig.SA201907281826['sub_avg_frames'] = np.array([(257,272), (513,528), (1025,1040)])#, (2049,2064), (4097,4112)], dtype=int)\n",
    "config_class.ZuluConfig.SA201907281826['frame_exposure'] = 5\n",
    "config_class.ZuluConfig.SA201907281826['early_sigma'] = 10"
   ]
  },
  {
   "cell_type": "markdown",
   "metadata": {},
   "source": [
    "# FILE READOUT MANIPULATION\n",
    "\n",
    "This is just the way to write out the configuration file built. The changable parameters (e.g. the file  name) should have already been done at the beginning."
   ]
  },
  {
   "cell_type": "markdown",
   "metadata": {},
   "source": [
    "Parameters to be read out to file. Printing out the entire configuration class for viewing."
   ]
  },
  {
   "cell_type": "code",
   "execution_count": 24,
   "metadata": {},
   "outputs": [
    {
     "name": "stdout",
     "output_type": "stream",
     "text": [
      "\n",
      "< Configuration Class --- SmeargleConfig > \n",
      "╓ SmeargleConfig Parameters:\n",
      "╟  BravoConfig ↴ \n",
      "< Configuration Class --- BravoConfig > \n",
      "╓ BravoConfig Parameters:\n",
      "╟  detector_name ⇀ {'name': 'Saphria'}\n",
      "╟  voltpat_rename_config ⇀ {'voltage_pattern': [2.5, 4.5, 6.5, 8.5, 9.5, 10.5, 11.5, 11.5, 10.5, 9.5, 8.5, 6.5, 4.5, 2.5], 'begin_garbage': 1, 'archive_data': True}\n",
      "╟  avg_endpts_persec_config ⇀ {'start_chunk': None, 'end_chunk': None, 'frame_exposure_time': None}\n",
      "╟  avg_endpts_perksec_config ⇀ {'start_chunk': None, 'end_chunk': None, 'frame_exposure_time': None}\n",
      "╙------------------------------------------\n",
      "</ Configuration Class --- BravoConfig >\n",
      "╟  EchoConfig ↴ \n",
      "< Configuration Class --- EchoConfig > \n",
      "╓ EchoConfig Parameters:\n",
      "╟  echo010_config ⇀ {'run': False}\n",
      "╟  echo120_config ⇀ {'run': False, 'x_range': None, 'y_range': None}\n",
      "╟  echo170_config ⇀ {'run': False, 'sigma_multiple': 2}\n",
      "╟  echo270_config ⇀ {'run': False, 'minimum_value': None}\n",
      "╟  echo271_config ⇀ {'run': False, 'maximum_value': None}\n",
      "╟  echo275_config ⇀ {'run': False, 'top_count': None, 'bottom_count': None}\n",
      "╟  echo276_config ⇀ {'run': False, 'kept_range': None}\n",
      "╟  echo277_config ⇀ {'run': False, 'sigma_limits': None}\n",
      "╟  echo380_config ⇀ {'run': False, 'pixel_list': None}\n",
      "╟  echo381_config ⇀ {'run': False, 'x_ranges': None, 'y_ranges': None}\n",
      "╟  echo382_config ⇀ {'run': False, 'column_list': None}\n",
      "╟  echo383_config ⇀ {'run': False, 'row_list': None}\n",
      "╟  echo398_config ⇀ {'run': False}\n",
      "╟  echo399_config ⇀ {'run': False}\n",
      "╙------------------------------------------\n",
      "</ Configuration Class --- EchoConfig >\n",
      "╟  OscarConfig ↴ \n",
      "< Configuration Class --- OscarConfig > \n",
      "╓ OscarConfig Parameters:\n",
      "╟  general_heatmap_config ⇀ {'plot': True, 'data_array': None, 'heatmap_plot_parameters': {}, 'colorbar_plot_paramters': {}}\n",
      "╟  general_histogram_config ⇀ {'plot': True, 'data_array': None, 'bin_width': 10, 'histogram_plot_paramters': {}}\n",
      "╙------------------------------------------\n",
      "</ Configuration Class --- OscarConfig >\n",
      "╟  YankeeConfig ↴ \n",
      "< Configuration Class --- YankeeConfig > \n",
      "╓ YankeeConfig Parameters:\n",
      "╙------------------------------------------\n",
      "</ Configuration Class --- YankeeConfig >\n",
      "╟  ZuluConfig ↴ \n",
      "< Configuration Class --- ZuluConfig > \n",
      "╓ ZuluConfig Parameters:\n",
      "╟  SA201907281826 ⇀ {'early_frame': 3, 'ref_frame': array([17, 32]), 'sub_avg_frames': array([[ 257,  272],\n",
      "       [ 513,  528],\n",
      "       [1025, 1040]]), 'frame_exposure': 5, 'early_sigma': 10}\n",
      "╙------------------------------------------\n",
      "</ Configuration Class --- ZuluConfig >\n",
      "╙------------------------------------------\n",
      "</ Configuration Class --- SmeargleConfig >\n"
     ]
    }
   ],
   "source": [
    "print(config_class)"
   ]
  },
  {
   "cell_type": "markdown",
   "metadata": {},
   "source": [
    "Now, actually writing the class to an ``.ifaspkl`` file."
   ]
  },
  {
   "cell_type": "code",
   "execution_count": 25,
   "metadata": {},
   "outputs": [
    {
     "name": "stdout",
     "output_type": "stream",
     "text": [
      "It has finished. A configuration file has been written to ./../FirstRun.ifaspkl\n"
     ]
    },
    {
     "name": "stderr",
     "output_type": "stream",
     "text": [
      "C:\\Users\\Tripp\\.conda\\envs\\Anaconda\\lib\\site-packages\\ipykernel_launcher.py:7: InputWarning: The alternate name is not valid, defaulting to the normal configuration file name.\n",
      "  import sys\n",
      "C:\\Users\\Tripp\\Desktop\\PROGRAM\\IfA_Smeargle\\yankee\\yankee_functions.py:220: OverwriteWarning: There exists a file with the provided name. Overwrite is true; the previous file will be replaced as provided.\n",
      "  smeargle_warning(OverwriteWarning,(\"There exists a file with the provided name. \"\n"
     ]
    }
   ],
   "source": [
    "## Toto partem non mutant | Do not modify all ##\n",
    "final_name = 'Null'\n",
    "try:\n",
    "    final_name = alternate_name\n",
    "    config_class.write_to_file(alternate_name, overwrite=overwrite)\n",
    "except Exception:\n",
    "    ifas.meta.smeargle_warning(ifas.meta.InputWarning,(\"The alternate name is not valid, \"\n",
    "                                                       \"defaulting to the normal configuration file name.\"))\n",
    "    \n",
    "    final_name = configuration_file_name\n",
    "    config_class.write_to_file(configuration_file_name, overwrite=overwrite)\n",
    "finally:\n",
    "    print(\"It has finished. A configuration file has been written to {file_name}\".format(\n",
    "        file_name=final_name))\n",
    "        "
   ]
  }
 ],
 "metadata": {
  "kernelspec": {
   "display_name": "Python 3",
   "language": "python",
   "name": "python3"
  },
  "language_info": {
   "codemirror_mode": {
    "name": "ipython",
    "version": 3
   },
   "file_extension": ".py",
   "mimetype": "text/x-python",
   "name": "python",
   "nbconvert_exporter": "python",
   "pygments_lexer": "ipython3",
   "version": "3.7.3"
  }
 },
 "nbformat": 4,
 "nbformat_minor": 2
}
