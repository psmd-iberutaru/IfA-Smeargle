{
 "cells": [
  {
   "cell_type": "markdown",
   "metadata": {},
   "source": [
    "# SMEARGLE CONFIGURATION\n",
    "\n",
    "This is the *recipe* and/or human-readable *configuration* file. The document structure is purposeful and should not be changed without good reason. Please note that the parameters **should** be changed as needed, that is the point of a configuration file. A untouched copy of this file should exist in the Yankee module folder. \n",
    "\n",
    "### Warning:\n",
    "**Do not modify any cells notated with the following comment < *Toto partem non mutant* > (Do not change the part by the whole.)**\n",
    "\n",
    "**Do not modify any lines within a cell below (above is still modifiable) the comment: < *Post; nihil se mutare* > (After; no change.)**\n",
    "\n",
    "**Do not modify any single line with the following comment directly above: < *Ne mutatus sum ego* > (Do not change me.)**"
   ]
  },
  {
   "cell_type": "code",
   "execution_count": 1,
   "metadata": {},
   "outputs": [],
   "source": [
    "## Toto partem non mutant | Do not modify all ##\n",
    "import astropy as ap\n",
    "import numpy as np\n",
    "import os\n",
    "import scipy as sp\n",
    "import sys\n",
    "\n",
    "try:\n",
    "    import IfA_Smeargle as ifas\n",
    "except (ModuleNotFoundError, ValueError):\n",
    "    # Path hack, mostly likely because this Jupyter file \n",
    "    # is in the same directory of the package as is default.\n",
    "    sys.path.insert(0, os.path.abspath('..'))\n",
    "    import IfA_Smeargle as ifas"
   ]
  },
  {
   "cell_type": "markdown",
   "metadata": {},
   "source": [
    "Read a configuration file from a string file name. Please note that errors will be raised if the file name does not have a `.ifaspkl` file extension when reading and writing the files.\n",
    "\n",
    "If it does not exist, a new configuration file will be made rather than the default of overwriting the previous configuration file. Of course, if a copy is desired, then change the ``alternate_name`` variable to a valid configuration file name."
   ]
  },
  {
   "cell_type": "code",
   "execution_count": 2,
   "metadata": {},
   "outputs": [],
   "source": [
    "configuration_file_name = \"blew.ifaspkl\"\n",
    "alternate_name = None"
   ]
  },
  {
   "cell_type": "code",
   "execution_count": 3,
   "metadata": {},
   "outputs": [],
   "source": [
    "## Toto partem non mutant | Do not modify all ##\n",
    "config_class = ifas.yankee.SmeargleConfig(configuration_file_name)"
   ]
  },
  {
   "cell_type": "markdown",
   "metadata": {},
   "source": [
    "# BRAVO Configuration Parameters\n",
    "\n",
    "These are the configuration parameters for the data sanitization and preprocessing done on raw image cubes or data. Please note that this is very detector dependnent and it is important to use the proper sublines for the right raw data.\n",
    "\n",
    "---"
   ]
  },
  {
   "cell_type": "markdown",
   "metadata": {},
   "source": [
    "Detector bias voltage pattern renaming: It is common to have many sets taken across some voltage variation. Defining the pattern (and assuming the pattern matches with the transitions of voltage) the files can be renamed to something more helpful."
   ]
  },
  {
   "cell_type": "code",
   "execution_count": 4,
   "metadata": {},
   "outputs": [
    {
     "data": {
      "text/plain": [
       "{'data_directory': None, 'voltage_pattern': None}"
      ]
     },
     "execution_count": 4,
     "metadata": {},
     "output_type": "execute_result"
    }
   ],
   "source": [
    "config_class.BravoConfig.voltpat_rename_config"
   ]
  },
  {
   "cell_type": "markdown",
   "metadata": {},
   "source": [
    "It does not serve well to use the entire array for analysis, the `start_chunk` number of frames from the beginning and the `end_chunk` number of frames from the end are combined in such a way to produce a single fits image, from the cube or other data structure, for analysis"
   ]
  },
  {
   "cell_type": "code",
   "execution_count": 5,
   "metadata": {},
   "outputs": [
    {
     "data": {
      "text/plain": [
       "{'fits_file': None,\n",
       " 'start_chunk': None,\n",
       " 'end_chunk': None,\n",
       " 'frame_exposure_time': None}"
      ]
     },
     "execution_count": 5,
     "metadata": {},
     "output_type": "execute_result"
    }
   ],
   "source": [
    "config_class.BravoConfig.avg_endpts_config"
   ]
  },
  {
   "cell_type": "markdown",
   "metadata": {},
   "source": [
    "# ECHO Configuration Parameters\n",
    "\n",
    "These are the configuration parameters for all of the ECHO filters. If the ``run`` parameter for a given dictionary configuration is not ``True``, then the filter is skipped all together regardless of the configurations of said dictionary.\n",
    "\n",
    "---"
   ]
  },
  {
   "cell_type": "markdown",
   "metadata": {},
   "source": [
    "ECHO-010 Fixing Invalids:\n",
    "A simple filter that just filters out computationally bad or prohibitive values (e.g. NaN, np.Inf)from the given data array."
   ]
  },
  {
   "cell_type": "code",
   "execution_count": 6,
   "metadata": {},
   "outputs": [
    {
     "data": {
      "text/plain": [
       "{'run': False}"
      ]
     },
     "execution_count": 6,
     "metadata": {},
     "output_type": "execute_result"
    }
   ],
   "source": [
    "config_class.EchoConfig.echo010_config"
   ]
  },
  {
   "cell_type": "markdown",
   "metadata": {},
   "source": [
    "ECHO-120 Subarray Mask: Define a square using the ``x_range`` and ``y_range`` values. These values are inclusive."
   ]
  },
  {
   "cell_type": "code",
   "execution_count": 7,
   "metadata": {},
   "outputs": [
    {
     "data": {
      "text/plain": [
       "{'run': False, 'x_range': None, 'y_range': None}"
      ]
     },
     "execution_count": 7,
     "metadata": {},
     "output_type": "execute_result"
    }
   ],
   "source": [
    "config_class.EchoConfig.echo120_config"
   ]
  },
  {
   "cell_type": "markdown",
   "metadata": {},
   "source": [
    "ECHO-270 Minimum Cut: Filtering all pixels with a value strictly less than ``minimum_value``."
   ]
  },
  {
   "cell_type": "code",
   "execution_count": 8,
   "metadata": {},
   "outputs": [
    {
     "data": {
      "text/plain": [
       "{'run': False, 'minimum_value': None}"
      ]
     },
     "execution_count": 8,
     "metadata": {},
     "output_type": "execute_result"
    }
   ],
   "source": [
    "config_class.EchoConfig.echo270_config"
   ]
  },
  {
   "cell_type": "markdown",
   "metadata": {},
   "source": [
    "ECHO-271 Maximum Cut: Filtering all pixels with a value strictly more than ``maximum_value``"
   ]
  },
  {
   "cell_type": "code",
   "execution_count": 9,
   "metadata": {},
   "outputs": [
    {
     "data": {
      "text/plain": [
       "{'run': False, 'maximum_value': None}"
      ]
     },
     "execution_count": 9,
     "metadata": {},
     "output_type": "execute_result"
    }
   ],
   "source": [
    "config_class.EchoConfig.echo271_config"
   ]
  },
  {
   "cell_type": "markdown",
   "metadata": {},
   "source": [
    "ECHO 275 Pixel Truncation: Filters a hard number of highest (``top_count``) and lowest (``bottom_count``) pixels; is not dependent on the pixel values."
   ]
  },
  {
   "cell_type": "code",
   "execution_count": 10,
   "metadata": {},
   "outputs": [
    {
     "data": {
      "text/plain": [
       "{'run': False, 'top_count': None, 'bottom_count': None}"
      ]
     },
     "execution_count": 10,
     "metadata": {},
     "output_type": "execute_result"
    }
   ],
   "source": [
    "config_class.EchoConfig.echo275_config"
   ]
  },
  {
   "cell_type": "markdown",
   "metadata": {},
   "source": [
    "ECHO 276 Percent Truncation: Keeps only a percentage of pixels falling between a specified percent range given by ``kept_range``"
   ]
  },
  {
   "cell_type": "code",
   "execution_count": 11,
   "metadata": {},
   "outputs": [
    {
     "data": {
      "text/plain": [
       "{'run': False, 'kept_range': None}"
      ]
     },
     "execution_count": 11,
     "metadata": {},
     "output_type": "execute_result"
    }
   ],
   "source": [
    "config_class.EchoConfig.echo276_config"
   ]
  },
  {
   "cell_type": "markdown",
   "metadata": {},
   "source": [
    "ECHO 380 Single Pixels: Masks only single pixels specified by a list of coordinate pairs."
   ]
  },
  {
   "cell_type": "code",
   "execution_count": 12,
   "metadata": {},
   "outputs": [
    {
     "data": {
      "text/plain": [
       "{'run': False, 'pixel_list': None}"
      ]
     },
     "execution_count": 12,
     "metadata": {},
     "output_type": "execute_result"
    }
   ],
   "source": [
    "config_class.EchoConfig.echo380_config"
   ]
  },
  {
   "cell_type": "markdown",
   "metadata": {},
   "source": [
    "ECHO 381 Rectangle Mask: Masks predefined (overlapping or not) rectangles defined by pairs of ``x_ranges`` and ``y_ranges``."
   ]
  },
  {
   "cell_type": "code",
   "execution_count": 13,
   "metadata": {},
   "outputs": [
    {
     "data": {
      "text/plain": [
       "{'run': False, 'x_ranges': None, 'y_ranges': None}"
      ]
     },
     "execution_count": 13,
     "metadata": {},
     "output_type": "execute_result"
    }
   ],
   "source": [
    "config_class.EchoConfig.echo381_config"
   ]
  },
  {
   "cell_type": "markdown",
   "metadata": {},
   "source": [
    "ECHO 382 Column Mask: Masks columns defined by a 0-indexed index list provided by ``column_list``."
   ]
  },
  {
   "cell_type": "code",
   "execution_count": 14,
   "metadata": {},
   "outputs": [
    {
     "data": {
      "text/plain": [
       "{'run': False, 'column_list': None}"
      ]
     },
     "execution_count": 14,
     "metadata": {},
     "output_type": "execute_result"
    }
   ],
   "source": [
    "config_class.EchoConfig.echo382_config"
   ]
  },
  {
   "cell_type": "markdown",
   "metadata": {},
   "source": [
    "ECHO 383 Row Mask: Masks rows defined by a 0-indexed index list provided by ``row_list``."
   ]
  },
  {
   "cell_type": "code",
   "execution_count": 15,
   "metadata": {},
   "outputs": [
    {
     "data": {
      "text/plain": [
       "{'run': False, 'row_list': None}"
      ]
     },
     "execution_count": 15,
     "metadata": {},
     "output_type": "execute_result"
    }
   ],
   "source": [
    "config_class.EchoConfig.echo383_config"
   ]
  },
  {
   "cell_type": "markdown",
   "metadata": {},
   "source": [
    "ECHO 398 Nothing: Creats a blank mask, nothing else."
   ]
  },
  {
   "cell_type": "code",
   "execution_count": 16,
   "metadata": {},
   "outputs": [
    {
     "data": {
      "text/plain": [
       "{'run': False}"
      ]
     },
     "execution_count": 16,
     "metadata": {},
     "output_type": "execute_result"
    }
   ],
   "source": [
    "config_class.EchoConfig.echo398_config"
   ]
  },
  {
   "cell_type": "markdown",
   "metadata": {},
   "source": [
    "ECHO 399 Everything: Creats a full mask, nothing else."
   ]
  },
  {
   "cell_type": "code",
   "execution_count": 17,
   "metadata": {},
   "outputs": [
    {
     "data": {
      "text/plain": [
       "{'run': False}"
      ]
     },
     "execution_count": 17,
     "metadata": {},
     "output_type": "execute_result"
    }
   ],
   "source": [
    "config_class.EchoConfig.echo399_config"
   ]
  },
  {
   "cell_type": "code",
   "execution_count": null,
   "metadata": {},
   "outputs": [],
   "source": []
  },
  {
   "cell_type": "code",
   "execution_count": null,
   "metadata": {},
   "outputs": [],
   "source": []
  },
  {
   "cell_type": "code",
   "execution_count": null,
   "metadata": {},
   "outputs": [],
   "source": []
  },
  {
   "cell_type": "markdown",
   "metadata": {},
   "source": [
    "# HOTEL Configuration Parameters\n",
    "\n",
    "Plotting heatmaps, histograms, and other plotting functions are important for visualizing the data presented. This function is mostly responcible for low-early level plots. A focus on dark-current plots is emphasizesd in this section.\n",
    "\n",
    "The functionality and inspriation for such methods comes from [Tino Well's IfA code](https://github.com/tinowells/ifa \"Github: tinowells/ifa\").\n",
    "\n",
    "The configuration dictionaries are a little bit more complex. Personalization paramters are allowed to be passed into the [Matplotlib.pyplot](https://matplotlib.org/index.html) backbone functionality. Take notice of the comments. If the parameter ``plot`` is ``False``, that plotting routene is never used. Be warned this will raise errors if multi-plots are missing some plots.\n",
    "\n",
    "As this module uses Matplotlib heavily, customization parameters meant for Matplotlib are passed  via the `mpl_*` based parameters; the dictionary themselves are passed directly.\n",
    "\n",
    "---"
   ]
  },
  {
   "cell_type": "markdown",
   "metadata": {},
   "source": [
    "Heatmap plotting functionality. Borrowing mostly from Matplotlib, this plots the array. The Matplotlib functions allow for customization. "
   ]
  },
  {
   "cell_type": "code",
   "execution_count": 18,
   "metadata": {},
   "outputs": [],
   "source": [
    "heatmap_configuration = {}\n",
    "mpl_heatmap_parameters = {}\n",
    "mpl_colorbar_parameters = {}\n",
    "\n",
    "## Post; nihil se mutare | Do not change below ##\n",
    "config_class.HotelConfig.heatmap_config = {**heatmap_configuration, \n",
    "                                           'heatmap_plot_parameters':mpl_heatmap_parameters, \n",
    "                                           'colorbar_plot_paramters':mpl_colorbar_parameters}"
   ]
  },
  {
   "cell_type": "markdown",
   "metadata": {},
   "source": [
    "Histogram plotting functionality. Borrowing mostly from Matplotlib, this plots pixel value histograms. Also, it atempts to fit a gaussian to the values of the histogram's bins; this gaussian may be disabled. The Y axis of the plots may also be logorithmic (this forcefully diables the gaussian because of issues with fitting.)"
   ]
  },
  {
   "cell_type": "code",
   "execution_count": 19,
   "metadata": {},
   "outputs": [],
   "source": [
    "histogram_configuration = {}\n",
    "mpl_histogram_parameters = {}\n",
    "\n",
    "## Post; nihil se mutare | Do not change below ##\n",
    "config_class.HotelConfig.histogram_config = {**histogram_configuration,\n",
    "                                            'histogram_plot_paramters':mpl_histogram_parameters}"
   ]
  },
  {
   "cell_type": "code",
   "execution_count": null,
   "metadata": {},
   "outputs": [],
   "source": []
  },
  {
   "cell_type": "code",
   "execution_count": 14,
   "metadata": {},
   "outputs": [
    {
     "ename": "TerminalError",
     "evalue": "",
     "output_type": "error",
     "traceback": [
      "\u001b[1;31m---------------------------------------------------------------------------\u001b[0m",
      "\u001b[1;31mTerminalError\u001b[0m                             Traceback (most recent call last)",
      "\u001b[1;32m<ipython-input-14-c9c81974701e>\u001b[0m in \u001b[0;36m<module>\u001b[1;34m\u001b[0m\n\u001b[1;32m----> 1\u001b[1;33m \u001b[1;32mraise\u001b[0m \u001b[0mifas\u001b[0m\u001b[1;33m.\u001b[0m\u001b[0mmeta\u001b[0m\u001b[1;33m.\u001b[0m\u001b[0mTerminalError\u001b[0m\u001b[1;33m\u001b[0m\u001b[1;33m\u001b[0m\u001b[0m\n\u001b[0m",
      "\u001b[1;31mTerminalError\u001b[0m: "
     ]
    }
   ],
   "source": []
  },
  {
   "cell_type": "code",
   "execution_count": null,
   "metadata": {},
   "outputs": [],
   "source": []
  },
  {
   "cell_type": "code",
   "execution_count": null,
   "metadata": {},
   "outputs": [],
   "source": []
  },
  {
   "cell_type": "markdown",
   "metadata": {},
   "source": [
    "# FILE READOUT MANIPULATION\n",
    "\n",
    "This is just the way to write out the configuration file built. The changable parameters (e.g. the file  name) should have already been done at the beginning."
   ]
  },
  {
   "cell_type": "code",
   "execution_count": 5,
   "metadata": {},
   "outputs": [
    {
     "name": "stdout",
     "output_type": "stream",
     "text": [
      "It has finished. A configuration file has been written to blew.ifaspkl\n"
     ]
    },
    {
     "name": "stderr",
     "output_type": "stream",
     "text": [
      "C:\\Users\\Tripp\\.conda\\envs\\Anaconda\\lib\\site-packages\\ipykernel_launcher.py:7: InputWarning: The alternate name is not valid, defaulting to the normal configuration file name.\n",
      "  import sys\n"
     ]
    }
   ],
   "source": [
    "## Toto partem non mutant | Do not modify all ##\n",
    "final_name = 'Null'\n",
    "try:\n",
    "    final_name = alternate_name\n",
    "    config_class.write_to_file(alternate_name)\n",
    "except Exception:\n",
    "    ifas.meta.smeargle_warning(ifas.meta.InputWarning,(\"The alternate name is not valid, \"\n",
    "                                                       \"defaulting to the normal configuration file name.\"))\n",
    "    \n",
    "    final_name = configuration_file_name\n",
    "    config_class.write_to_file(configuration_file_name)\n",
    "finally:\n",
    "    print(\"It has finished. A configuration file has been written to {file_name}\".format(\n",
    "        file_name=final_name))\n",
    "        "
   ]
  },
  {
   "cell_type": "code",
   "execution_count": null,
   "metadata": {},
   "outputs": [],
   "source": []
  }
 ],
 "metadata": {
  "kernelspec": {
   "display_name": "Python 3",
   "language": "python",
   "name": "python3"
  },
  "language_info": {
   "codemirror_mode": {
    "name": "ipython",
    "version": 3
   },
   "file_extension": ".py",
   "mimetype": "text/x-python",
   "name": "python",
   "nbconvert_exporter": "python",
   "pygments_lexer": "ipython3",
   "version": "3.7.3"
  }
 },
 "nbformat": 4,
 "nbformat_minor": 2
}
